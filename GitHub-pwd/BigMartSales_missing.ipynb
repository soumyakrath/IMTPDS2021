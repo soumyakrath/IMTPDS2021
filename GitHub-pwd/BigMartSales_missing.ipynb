{
  "nbformat": 4,
  "nbformat_minor": 0,
  "metadata": {
    "colab": {
      "name": "BigMartSales_missing.ipynb",
      "provenance": [],
      "collapsed_sections": [],
      "authorship_tag": "ABX9TyPnAw4kHjNARkm0Cr0VlyyC",
      "include_colab_link": true
    },
    "kernelspec": {
      "name": "ir",
      "display_name": "R"
    },
    "language_info": {
      "name": "R"
    }
  },
  "cells": [
    {
      "cell_type": "markdown",
      "metadata": {
        "id": "view-in-github",
        "colab_type": "text"
      },
      "source": [
        "<a href=\"https://colab.research.google.com/github/soumyakrath/IMTPDS2021/blob/main/GitHub-pwd/BigMartSales_missing.ipynb\" target=\"_parent\"><img src=\"https://colab.research.google.com/assets/colab-badge.svg\" alt=\"Open In Colab\"/></a>"
      ]
    },
    {
      "cell_type": "code",
      "metadata": {
        "id": "GfhQyZZ6u1SK"
      },
      "source": [
        "library(tidyverse)"
      ],
      "execution_count": 4,
      "outputs": []
    },
    {
      "cell_type": "code",
      "metadata": {
        "id": "T1QCrrh8vQ_y"
      },
      "source": [
        "options(warn=-1)"
      ],
      "execution_count": 5,
      "outputs": []
    },
    {
      "cell_type": "code",
      "metadata": {
        "id": "8LTB3J-nvXdx",
        "colab": {
          "base_uri": "https://localhost:8080/"
        },
        "outputId": "61970b0d-73a5-41a7-9afd-05fc0aff505d"
      },
      "source": [
        "install.packages(\"factoextra\")"
      ],
      "execution_count": null,
      "outputs": [
        {
          "metadata": {
            "tags": null
          },
          "name": "stderr",
          "output_type": "stream",
          "text": [
            "Installing package into ‘/usr/local/lib/R/site-library’\n",
            "(as ‘lib’ is unspecified)\n",
            "\n",
            "also installing the dependencies ‘matrixStats’, ‘RcppArmadillo’, ‘numDeriv’, ‘SparseM’, ‘MatrixModels’, ‘conquer’, ‘sp’, ‘openxlsx’, ‘minqa’, ‘nloptr’, ‘RcppEigen’, ‘lazyeval’, ‘later’, ‘carData’, ‘pbkrtest’, ‘quantreg’, ‘maptools’, ‘rio’, ‘lme4’, ‘htmlwidgets’, ‘crosstalk’, ‘promises’, ‘corrplot’, ‘viridis’, ‘car’, ‘DT’, ‘ellipse’, ‘flashClust’, ‘leaps’, ‘scatterplot3d’, ‘ggsci’, ‘cowplot’, ‘ggsignif’, ‘gridExtra’, ‘polynom’, ‘rstatix’, ‘plyr’, ‘abind’, ‘dendextend’, ‘FactoMineR’, ‘ggpubr’, ‘reshape2’, ‘ggrepel’\n",
            "\n",
            "\n"
          ]
        }
      ]
    },
    {
      "cell_type": "code",
      "metadata": {
        "id": "kaKyC56VvYFA"
      },
      "source": [
        "martdata<-read.csv('https://raw.githubusercontent.com/soumyakrath/IMTPDS2021/main/GitHub-pwd/BigMartSales_train.csv', sep=',',head= TRUE)"
      ],
      "execution_count": 6,
      "outputs": []
    },
    {
      "cell_type": "code",
      "metadata": {
        "id": "Hh2kN8dkvkzs"
      },
      "source": [
        "data(martdata)"
      ],
      "execution_count": 7,
      "outputs": []
    },
    {
      "cell_type": "code",
      "metadata": {
        "colab": {
          "base_uri": "https://localhost:8080/",
          "height": 34
        },
        "id": "N91BiuaivnNi",
        "outputId": "63d189e1-07e4-4c2d-f89b-eb10417f2aee"
      },
      "source": [
        "dim(martdata)"
      ],
      "execution_count": 8,
      "outputs": [
        {
          "output_type": "display_data",
          "data": {
            "text/plain": [
              "[1] 8523   12"
            ],
            "text/latex": "\\begin{enumerate*}\n\\item 8523\n\\item 12\n\\end{enumerate*}\n",
            "text/markdown": "1. 8523\n2. 12\n\n\n",
            "text/html": [
              "<style>\n",
              ".list-inline {list-style: none; margin:0; padding: 0}\n",
              ".list-inline>li {display: inline-block}\n",
              ".list-inline>li:not(:last-child)::after {content: \"\\00b7\"; padding: 0 .5ex}\n",
              "</style>\n",
              "<ol class=list-inline><li>8523</li><li>12</li></ol>\n"
            ]
          },
          "metadata": {}
        }
      ]
    },
    {
      "cell_type": "code",
      "metadata": {
        "colab": {
          "base_uri": "https://localhost:8080/"
        },
        "id": "PzSbh0yuvxeW",
        "outputId": "932203e7-a2f5-4540-b764-253d2911e267"
      },
      "source": [
        "str(martdata)"
      ],
      "execution_count": 9,
      "outputs": [
        {
          "output_type": "stream",
          "name": "stdout",
          "text": [
            "'data.frame':\t8523 obs. of  12 variables:\n",
            " $ Item_Identifier          : chr  \"FDA15\" \"DRC01\" \"FDN15\" \"FDX07\" ...\n",
            " $ Item_Weight              : num  9.3 5.92 17.5 19.2 8.93 ...\n",
            " $ Item_Fat_Content         : chr  \"Low Fat\" \"Regular\" \"Low Fat\" \"Regular\" ...\n",
            " $ Item_Visibility          : num  0.016 0.0193 0.0168 0 0 ...\n",
            " $ Item_Type                : chr  \"Dairy\" \"Soft Drinks\" \"Meat\" \"Fruits and Vegetables\" ...\n",
            " $ Item_MRP                 : num  249.8 48.3 141.6 182.1 53.9 ...\n",
            " $ Outlet_Identifier        : chr  \"OUT049\" \"OUT018\" \"OUT049\" \"OUT010\" ...\n",
            " $ Outlet_Establishment_Year: int  1999 2009 1999 1998 1987 2009 1987 1985 2002 2007 ...\n",
            " $ Outlet_Size              : chr  \"Medium\" \"Medium\" \"Medium\" \"\" ...\n",
            " $ Outlet_Location_Type     : chr  \"Tier 1\" \"Tier 3\" \"Tier 1\" \"Tier 3\" ...\n",
            " $ Outlet_Type              : chr  \"Supermarket Type1\" \"Supermarket Type2\" \"Supermarket Type1\" \"Grocery Store\" ...\n",
            " $ Item_Outlet_Sales        : num  3735 443 2097 732 995 ...\n"
          ]
        }
      ]
    },
    {
      "cell_type": "code",
      "metadata": {
        "colab": {
          "base_uri": "https://localhost:8080/",
          "height": 561
        },
        "id": "lzgQNNvGxBrs",
        "outputId": "b59da54f-291c-4c9d-9f84-857ae5ab0f51"
      },
      "source": [
        "summary(martdata)"
      ],
      "execution_count": 10,
      "outputs": [
        {
          "output_type": "display_data",
          "data": {
            "text/plain": [
              " Item_Identifier     Item_Weight     Item_Fat_Content   Item_Visibility  \n",
              " Length:8523        Min.   : 4.555   Length:8523        Min.   :0.00000  \n",
              " Class :character   1st Qu.: 8.774   Class :character   1st Qu.:0.02699  \n",
              " Mode  :character   Median :12.600   Mode  :character   Median :0.05393  \n",
              "                    Mean   :12.858                      Mean   :0.06613  \n",
              "                    3rd Qu.:16.850                      3rd Qu.:0.09459  \n",
              "                    Max.   :21.350                      Max.   :0.32839  \n",
              "                    NA's   :1463                                         \n",
              "  Item_Type            Item_MRP      Outlet_Identifier \n",
              " Length:8523        Min.   : 31.29   Length:8523       \n",
              " Class :character   1st Qu.: 93.83   Class :character  \n",
              " Mode  :character   Median :143.01   Mode  :character  \n",
              "                    Mean   :140.99                     \n",
              "                    3rd Qu.:185.64                     \n",
              "                    Max.   :266.89                     \n",
              "                                                       \n",
              " Outlet_Establishment_Year Outlet_Size        Outlet_Location_Type\n",
              " Min.   :1985              Length:8523        Length:8523         \n",
              " 1st Qu.:1987              Class :character   Class :character    \n",
              " Median :1999              Mode  :character   Mode  :character    \n",
              " Mean   :1998                                                     \n",
              " 3rd Qu.:2004                                                     \n",
              " Max.   :2009                                                     \n",
              "                                                                  \n",
              " Outlet_Type        Item_Outlet_Sales \n",
              " Length:8523        Min.   :   33.29  \n",
              " Class :character   1st Qu.:  834.25  \n",
              " Mode  :character   Median : 1794.33  \n",
              "                    Mean   : 2181.29  \n",
              "                    3rd Qu.: 3101.30  \n",
              "                    Max.   :13086.97  \n",
              "                                      "
            ]
          },
          "metadata": {}
        }
      ]
    },
    {
      "cell_type": "code",
      "metadata": {
        "colab": {
          "base_uri": "https://localhost:8080/",
          "height": 357
        },
        "id": "1aCj_x_txPy7",
        "outputId": "a27e4d16-6c54-49ad-8e61-5d38355776d7"
      },
      "source": [
        "head(martdata,5)"
      ],
      "execution_count": 12,
      "outputs": [
        {
          "output_type": "display_data",
          "data": {
            "text/plain": [
              "  Item_Identifier Item_Weight Item_Fat_Content Item_Visibility\n",
              "1 FDA15            9.30       Low Fat          0.01604730     \n",
              "2 DRC01            5.92       Regular          0.01927822     \n",
              "3 FDN15           17.50       Low Fat          0.01676007     \n",
              "4 FDX07           19.20       Regular          0.00000000     \n",
              "5 NCD19            8.93       Low Fat          0.00000000     \n",
              "  Item_Type             Item_MRP Outlet_Identifier Outlet_Establishment_Year\n",
              "1 Dairy                 249.8092 OUT049            1999                     \n",
              "2 Soft Drinks            48.2692 OUT018            2009                     \n",
              "3 Meat                  141.6180 OUT049            1999                     \n",
              "4 Fruits and Vegetables 182.0950 OUT010            1998                     \n",
              "5 Household              53.8614 OUT013            1987                     \n",
              "  Outlet_Size Outlet_Location_Type Outlet_Type       Item_Outlet_Sales\n",
              "1 Medium      Tier 1               Supermarket Type1 3735.1380        \n",
              "2 Medium      Tier 3               Supermarket Type2  443.4228        \n",
              "3 Medium      Tier 1               Supermarket Type1 2097.2700        \n",
              "4             Tier 3               Grocery Store      732.3800        \n",
              "5 High        Tier 3               Supermarket Type1  994.7052        "
            ],
            "text/latex": "A data.frame: 5 × 12\n\\begin{tabular}{r|llllllllllll}\n  & Item\\_Identifier & Item\\_Weight & Item\\_Fat\\_Content & Item\\_Visibility & Item\\_Type & Item\\_MRP & Outlet\\_Identifier & Outlet\\_Establishment\\_Year & Outlet\\_Size & Outlet\\_Location\\_Type & Outlet\\_Type & Item\\_Outlet\\_Sales\\\\\n  & <chr> & <dbl> & <chr> & <dbl> & <chr> & <dbl> & <chr> & <int> & <chr> & <chr> & <chr> & <dbl>\\\\\n\\hline\n\t1 & FDA15 &  9.30 & Low Fat & 0.01604730 & Dairy                 & 249.8092 & OUT049 & 1999 & Medium & Tier 1 & Supermarket Type1 & 3735.1380\\\\\n\t2 & DRC01 &  5.92 & Regular & 0.01927822 & Soft Drinks           &  48.2692 & OUT018 & 2009 & Medium & Tier 3 & Supermarket Type2 &  443.4228\\\\\n\t3 & FDN15 & 17.50 & Low Fat & 0.01676007 & Meat                  & 141.6180 & OUT049 & 1999 & Medium & Tier 1 & Supermarket Type1 & 2097.2700\\\\\n\t4 & FDX07 & 19.20 & Regular & 0.00000000 & Fruits and Vegetables & 182.0950 & OUT010 & 1998 &        & Tier 3 & Grocery Store     &  732.3800\\\\\n\t5 & NCD19 &  8.93 & Low Fat & 0.00000000 & Household             &  53.8614 & OUT013 & 1987 & High   & Tier 3 & Supermarket Type1 &  994.7052\\\\\n\\end{tabular}\n",
            "text/markdown": "\nA data.frame: 5 × 12\n\n| <!--/--> | Item_Identifier &lt;chr&gt; | Item_Weight &lt;dbl&gt; | Item_Fat_Content &lt;chr&gt; | Item_Visibility &lt;dbl&gt; | Item_Type &lt;chr&gt; | Item_MRP &lt;dbl&gt; | Outlet_Identifier &lt;chr&gt; | Outlet_Establishment_Year &lt;int&gt; | Outlet_Size &lt;chr&gt; | Outlet_Location_Type &lt;chr&gt; | Outlet_Type &lt;chr&gt; | Item_Outlet_Sales &lt;dbl&gt; |\n|---|---|---|---|---|---|---|---|---|---|---|---|---|\n| 1 | FDA15 |  9.30 | Low Fat | 0.01604730 | Dairy                 | 249.8092 | OUT049 | 1999 | Medium | Tier 1 | Supermarket Type1 | 3735.1380 |\n| 2 | DRC01 |  5.92 | Regular | 0.01927822 | Soft Drinks           |  48.2692 | OUT018 | 2009 | Medium | Tier 3 | Supermarket Type2 |  443.4228 |\n| 3 | FDN15 | 17.50 | Low Fat | 0.01676007 | Meat                  | 141.6180 | OUT049 | 1999 | Medium | Tier 1 | Supermarket Type1 | 2097.2700 |\n| 4 | FDX07 | 19.20 | Regular | 0.00000000 | Fruits and Vegetables | 182.0950 | OUT010 | 1998 | <!----> | Tier 3 | Grocery Store     |  732.3800 |\n| 5 | NCD19 |  8.93 | Low Fat | 0.00000000 | Household             |  53.8614 | OUT013 | 1987 | High   | Tier 3 | Supermarket Type1 |  994.7052 |\n\n",
            "text/html": [
              "<table class=\"dataframe\">\n",
              "<caption>A data.frame: 5 × 12</caption>\n",
              "<thead>\n",
              "\t<tr><th></th><th scope=col>Item_Identifier</th><th scope=col>Item_Weight</th><th scope=col>Item_Fat_Content</th><th scope=col>Item_Visibility</th><th scope=col>Item_Type</th><th scope=col>Item_MRP</th><th scope=col>Outlet_Identifier</th><th scope=col>Outlet_Establishment_Year</th><th scope=col>Outlet_Size</th><th scope=col>Outlet_Location_Type</th><th scope=col>Outlet_Type</th><th scope=col>Item_Outlet_Sales</th></tr>\n",
              "\t<tr><th></th><th scope=col>&lt;chr&gt;</th><th scope=col>&lt;dbl&gt;</th><th scope=col>&lt;chr&gt;</th><th scope=col>&lt;dbl&gt;</th><th scope=col>&lt;chr&gt;</th><th scope=col>&lt;dbl&gt;</th><th scope=col>&lt;chr&gt;</th><th scope=col>&lt;int&gt;</th><th scope=col>&lt;chr&gt;</th><th scope=col>&lt;chr&gt;</th><th scope=col>&lt;chr&gt;</th><th scope=col>&lt;dbl&gt;</th></tr>\n",
              "</thead>\n",
              "<tbody>\n",
              "\t<tr><th scope=row>1</th><td>FDA15</td><td> 9.30</td><td>Low Fat</td><td>0.01604730</td><td>Dairy                </td><td>249.8092</td><td>OUT049</td><td>1999</td><td>Medium</td><td>Tier 1</td><td>Supermarket Type1</td><td>3735.1380</td></tr>\n",
              "\t<tr><th scope=row>2</th><td>DRC01</td><td> 5.92</td><td>Regular</td><td>0.01927822</td><td>Soft Drinks          </td><td> 48.2692</td><td>OUT018</td><td>2009</td><td>Medium</td><td>Tier 3</td><td>Supermarket Type2</td><td> 443.4228</td></tr>\n",
              "\t<tr><th scope=row>3</th><td>FDN15</td><td>17.50</td><td>Low Fat</td><td>0.01676007</td><td>Meat                 </td><td>141.6180</td><td>OUT049</td><td>1999</td><td>Medium</td><td>Tier 1</td><td>Supermarket Type1</td><td>2097.2700</td></tr>\n",
              "\t<tr><th scope=row>4</th><td>FDX07</td><td>19.20</td><td>Regular</td><td>0.00000000</td><td>Fruits and Vegetables</td><td>182.0950</td><td>OUT010</td><td>1998</td><td>      </td><td>Tier 3</td><td>Grocery Store    </td><td> 732.3800</td></tr>\n",
              "\t<tr><th scope=row>5</th><td>NCD19</td><td> 8.93</td><td>Low Fat</td><td>0.00000000</td><td>Household            </td><td> 53.8614</td><td>OUT013</td><td>1987</td><td>High  </td><td>Tier 3</td><td>Supermarket Type1</td><td> 994.7052</td></tr>\n",
              "</tbody>\n",
              "</table>\n"
            ]
          },
          "metadata": {}
        }
      ]
    },
    {
      "cell_type": "code",
      "metadata": {
        "colab": {
          "base_uri": "https://localhost:8080/",
          "height": 405
        },
        "id": "9h_w_Yt4xazi",
        "outputId": "d780d4b6-7f4b-4586-a049-ff6f388a4aa3"
      },
      "source": [
        "tail(martdata)"
      ],
      "execution_count": 13,
      "outputs": [
        {
          "output_type": "display_data",
          "data": {
            "text/plain": [
              "     Item_Identifier Item_Weight Item_Fat_Content Item_Visibility\n",
              "8518 FDF53           20.750      reg              0.08360656     \n",
              "8519 FDF22            6.865      Low Fat          0.05678339     \n",
              "8520 FDS36            8.380      Regular          0.04698243     \n",
              "8521 NCJ29           10.600      Low Fat          0.03518627     \n",
              "8522 FDN46            7.210      Regular          0.14522065     \n",
              "8523 DRG01           14.800      Low Fat          0.04487828     \n",
              "     Item_Type          Item_MRP Outlet_Identifier Outlet_Establishment_Year\n",
              "8518 Frozen Foods       178.8318 OUT046            1997                     \n",
              "8519 Snack Foods        214.5218 OUT013            1987                     \n",
              "8520 Baking Goods       108.1570 OUT045            2002                     \n",
              "8521 Health and Hygiene  85.1224 OUT035            2004                     \n",
              "8522 Snack Foods        103.1332 OUT018            2009                     \n",
              "8523 Soft Drinks         75.4670 OUT046            1997                     \n",
              "     Outlet_Size Outlet_Location_Type Outlet_Type       Item_Outlet_Sales\n",
              "8518 Small       Tier 1               Supermarket Type1 3608.636         \n",
              "8519 High        Tier 3               Supermarket Type1 2778.383         \n",
              "8520             Tier 2               Supermarket Type1  549.285         \n",
              "8521 Small       Tier 2               Supermarket Type1 1193.114         \n",
              "8522 Medium      Tier 3               Supermarket Type2 1845.598         \n",
              "8523 Small       Tier 1               Supermarket Type1  765.670         "
            ],
            "text/latex": "A data.frame: 6 × 12\n\\begin{tabular}{r|llllllllllll}\n  & Item\\_Identifier & Item\\_Weight & Item\\_Fat\\_Content & Item\\_Visibility & Item\\_Type & Item\\_MRP & Outlet\\_Identifier & Outlet\\_Establishment\\_Year & Outlet\\_Size & Outlet\\_Location\\_Type & Outlet\\_Type & Item\\_Outlet\\_Sales\\\\\n  & <chr> & <dbl> & <chr> & <dbl> & <chr> & <dbl> & <chr> & <int> & <chr> & <chr> & <chr> & <dbl>\\\\\n\\hline\n\t8518 & FDF53 & 20.750 & reg     & 0.08360656 & Frozen Foods       & 178.8318 & OUT046 & 1997 & Small  & Tier 1 & Supermarket Type1 & 3608.636\\\\\n\t8519 & FDF22 &  6.865 & Low Fat & 0.05678339 & Snack Foods        & 214.5218 & OUT013 & 1987 & High   & Tier 3 & Supermarket Type1 & 2778.383\\\\\n\t8520 & FDS36 &  8.380 & Regular & 0.04698243 & Baking Goods       & 108.1570 & OUT045 & 2002 &        & Tier 2 & Supermarket Type1 &  549.285\\\\\n\t8521 & NCJ29 & 10.600 & Low Fat & 0.03518627 & Health and Hygiene &  85.1224 & OUT035 & 2004 & Small  & Tier 2 & Supermarket Type1 & 1193.114\\\\\n\t8522 & FDN46 &  7.210 & Regular & 0.14522065 & Snack Foods        & 103.1332 & OUT018 & 2009 & Medium & Tier 3 & Supermarket Type2 & 1845.598\\\\\n\t8523 & DRG01 & 14.800 & Low Fat & 0.04487828 & Soft Drinks        &  75.4670 & OUT046 & 1997 & Small  & Tier 1 & Supermarket Type1 &  765.670\\\\\n\\end{tabular}\n",
            "text/markdown": "\nA data.frame: 6 × 12\n\n| <!--/--> | Item_Identifier &lt;chr&gt; | Item_Weight &lt;dbl&gt; | Item_Fat_Content &lt;chr&gt; | Item_Visibility &lt;dbl&gt; | Item_Type &lt;chr&gt; | Item_MRP &lt;dbl&gt; | Outlet_Identifier &lt;chr&gt; | Outlet_Establishment_Year &lt;int&gt; | Outlet_Size &lt;chr&gt; | Outlet_Location_Type &lt;chr&gt; | Outlet_Type &lt;chr&gt; | Item_Outlet_Sales &lt;dbl&gt; |\n|---|---|---|---|---|---|---|---|---|---|---|---|---|\n| 8518 | FDF53 | 20.750 | reg     | 0.08360656 | Frozen Foods       | 178.8318 | OUT046 | 1997 | Small  | Tier 1 | Supermarket Type1 | 3608.636 |\n| 8519 | FDF22 |  6.865 | Low Fat | 0.05678339 | Snack Foods        | 214.5218 | OUT013 | 1987 | High   | Tier 3 | Supermarket Type1 | 2778.383 |\n| 8520 | FDS36 |  8.380 | Regular | 0.04698243 | Baking Goods       | 108.1570 | OUT045 | 2002 | <!----> | Tier 2 | Supermarket Type1 |  549.285 |\n| 8521 | NCJ29 | 10.600 | Low Fat | 0.03518627 | Health and Hygiene |  85.1224 | OUT035 | 2004 | Small  | Tier 2 | Supermarket Type1 | 1193.114 |\n| 8522 | FDN46 |  7.210 | Regular | 0.14522065 | Snack Foods        | 103.1332 | OUT018 | 2009 | Medium | Tier 3 | Supermarket Type2 | 1845.598 |\n| 8523 | DRG01 | 14.800 | Low Fat | 0.04487828 | Soft Drinks        |  75.4670 | OUT046 | 1997 | Small  | Tier 1 | Supermarket Type1 |  765.670 |\n\n",
            "text/html": [
              "<table class=\"dataframe\">\n",
              "<caption>A data.frame: 6 × 12</caption>\n",
              "<thead>\n",
              "\t<tr><th></th><th scope=col>Item_Identifier</th><th scope=col>Item_Weight</th><th scope=col>Item_Fat_Content</th><th scope=col>Item_Visibility</th><th scope=col>Item_Type</th><th scope=col>Item_MRP</th><th scope=col>Outlet_Identifier</th><th scope=col>Outlet_Establishment_Year</th><th scope=col>Outlet_Size</th><th scope=col>Outlet_Location_Type</th><th scope=col>Outlet_Type</th><th scope=col>Item_Outlet_Sales</th></tr>\n",
              "\t<tr><th></th><th scope=col>&lt;chr&gt;</th><th scope=col>&lt;dbl&gt;</th><th scope=col>&lt;chr&gt;</th><th scope=col>&lt;dbl&gt;</th><th scope=col>&lt;chr&gt;</th><th scope=col>&lt;dbl&gt;</th><th scope=col>&lt;chr&gt;</th><th scope=col>&lt;int&gt;</th><th scope=col>&lt;chr&gt;</th><th scope=col>&lt;chr&gt;</th><th scope=col>&lt;chr&gt;</th><th scope=col>&lt;dbl&gt;</th></tr>\n",
              "</thead>\n",
              "<tbody>\n",
              "\t<tr><th scope=row>8518</th><td>FDF53</td><td>20.750</td><td>reg    </td><td>0.08360656</td><td>Frozen Foods      </td><td>178.8318</td><td>OUT046</td><td>1997</td><td>Small </td><td>Tier 1</td><td>Supermarket Type1</td><td>3608.636</td></tr>\n",
              "\t<tr><th scope=row>8519</th><td>FDF22</td><td> 6.865</td><td>Low Fat</td><td>0.05678339</td><td>Snack Foods       </td><td>214.5218</td><td>OUT013</td><td>1987</td><td>High  </td><td>Tier 3</td><td>Supermarket Type1</td><td>2778.383</td></tr>\n",
              "\t<tr><th scope=row>8520</th><td>FDS36</td><td> 8.380</td><td>Regular</td><td>0.04698243</td><td>Baking Goods      </td><td>108.1570</td><td>OUT045</td><td>2002</td><td>      </td><td>Tier 2</td><td>Supermarket Type1</td><td> 549.285</td></tr>\n",
              "\t<tr><th scope=row>8521</th><td>NCJ29</td><td>10.600</td><td>Low Fat</td><td>0.03518627</td><td>Health and Hygiene</td><td> 85.1224</td><td>OUT035</td><td>2004</td><td>Small </td><td>Tier 2</td><td>Supermarket Type1</td><td>1193.114</td></tr>\n",
              "\t<tr><th scope=row>8522</th><td>FDN46</td><td> 7.210</td><td>Regular</td><td>0.14522065</td><td>Snack Foods       </td><td>103.1332</td><td>OUT018</td><td>2009</td><td>Medium</td><td>Tier 3</td><td>Supermarket Type2</td><td>1845.598</td></tr>\n",
              "\t<tr><th scope=row>8523</th><td>DRG01</td><td>14.800</td><td>Low Fat</td><td>0.04487828</td><td>Soft Drinks       </td><td> 75.4670</td><td>OUT046</td><td>1997</td><td>Small </td><td>Tier 1</td><td>Supermarket Type1</td><td> 765.670</td></tr>\n",
              "</tbody>\n",
              "</table>\n"
            ]
          },
          "metadata": {}
        }
      ]
    },
    {
      "cell_type": "code",
      "metadata": {
        "colab": {
          "base_uri": "https://localhost:8080/",
          "height": 51
        },
        "id": "gLLQuzZsxktG",
        "outputId": "ca3471f6-3702-40d2-87e7-5cc6680b3f95"
      },
      "source": [
        "names(martdata)"
      ],
      "execution_count": 14,
      "outputs": [
        {
          "output_type": "display_data",
          "data": {
            "text/plain": [
              " [1] \"Item_Identifier\"           \"Item_Weight\"              \n",
              " [3] \"Item_Fat_Content\"          \"Item_Visibility\"          \n",
              " [5] \"Item_Type\"                 \"Item_MRP\"                 \n",
              " [7] \"Outlet_Identifier\"         \"Outlet_Establishment_Year\"\n",
              " [9] \"Outlet_Size\"               \"Outlet_Location_Type\"     \n",
              "[11] \"Outlet_Type\"               \"Item_Outlet_Sales\"        "
            ],
            "text/latex": "\\begin{enumerate*}\n\\item 'Item\\_Identifier'\n\\item 'Item\\_Weight'\n\\item 'Item\\_Fat\\_Content'\n\\item 'Item\\_Visibility'\n\\item 'Item\\_Type'\n\\item 'Item\\_MRP'\n\\item 'Outlet\\_Identifier'\n\\item 'Outlet\\_Establishment\\_Year'\n\\item 'Outlet\\_Size'\n\\item 'Outlet\\_Location\\_Type'\n\\item 'Outlet\\_Type'\n\\item 'Item\\_Outlet\\_Sales'\n\\end{enumerate*}\n",
            "text/markdown": "1. 'Item_Identifier'\n2. 'Item_Weight'\n3. 'Item_Fat_Content'\n4. 'Item_Visibility'\n5. 'Item_Type'\n6. 'Item_MRP'\n7. 'Outlet_Identifier'\n8. 'Outlet_Establishment_Year'\n9. 'Outlet_Size'\n10. 'Outlet_Location_Type'\n11. 'Outlet_Type'\n12. 'Item_Outlet_Sales'\n\n\n",
            "text/html": [
              "<style>\n",
              ".list-inline {list-style: none; margin:0; padding: 0}\n",
              ".list-inline>li {display: inline-block}\n",
              ".list-inline>li:not(:last-child)::after {content: \"\\00b7\"; padding: 0 .5ex}\n",
              "</style>\n",
              "<ol class=list-inline><li>'Item_Identifier'</li><li>'Item_Weight'</li><li>'Item_Fat_Content'</li><li>'Item_Visibility'</li><li>'Item_Type'</li><li>'Item_MRP'</li><li>'Outlet_Identifier'</li><li>'Outlet_Establishment_Year'</li><li>'Outlet_Size'</li><li>'Outlet_Location_Type'</li><li>'Outlet_Type'</li><li>'Item_Outlet_Sales'</li></ol>\n"
            ]
          },
          "metadata": {}
        }
      ]
    },
    {
      "cell_type": "code",
      "metadata": {
        "colab": {
          "base_uri": "https://localhost:8080/",
          "height": 34
        },
        "id": "dn7mEG74xvXw",
        "outputId": "b7d07fd7-eea4-4475-f3f6-dae1f3b1c997"
      },
      "source": [
        "unique(martdata$Item_Fat_Content)"
      ],
      "execution_count": 15,
      "outputs": [
        {
          "output_type": "display_data",
          "data": {
            "text/plain": [
              "[1] \"Low Fat\" \"Regular\" \"low fat\" \"LF\"      \"reg\"    "
            ],
            "text/latex": "\\begin{enumerate*}\n\\item 'Low Fat'\n\\item 'Regular'\n\\item 'low fat'\n\\item 'LF'\n\\item 'reg'\n\\end{enumerate*}\n",
            "text/markdown": "1. 'Low Fat'\n2. 'Regular'\n3. 'low fat'\n4. 'LF'\n5. 'reg'\n\n\n",
            "text/html": [
              "<style>\n",
              ".list-inline {list-style: none; margin:0; padding: 0}\n",
              ".list-inline>li {display: inline-block}\n",
              ".list-inline>li:not(:last-child)::after {content: \"\\00b7\"; padding: 0 .5ex}\n",
              "</style>\n",
              "<ol class=list-inline><li>'Low Fat'</li><li>'Regular'</li><li>'low fat'</li><li>'LF'</li><li>'reg'</li></ol>\n"
            ]
          },
          "metadata": {}
        }
      ]
    },
    {
      "cell_type": "code",
      "metadata": {
        "colab": {
          "base_uri": "https://localhost:8080/",
          "height": 51
        },
        "id": "THJN8YZbx60Q",
        "outputId": "dc69e1f1-7223-44e5-c524-44a35a1c175b"
      },
      "source": [
        "unique(martdata$Item_Type)"
      ],
      "execution_count": 16,
      "outputs": [
        {
          "output_type": "display_data",
          "data": {
            "text/plain": [
              " [1] \"Dairy\"                 \"Soft Drinks\"           \"Meat\"                 \n",
              " [4] \"Fruits and Vegetables\" \"Household\"             \"Baking Goods\"         \n",
              " [7] \"Snack Foods\"           \"Frozen Foods\"          \"Breakfast\"            \n",
              "[10] \"Health and Hygiene\"    \"Hard Drinks\"           \"Canned\"               \n",
              "[13] \"Breads\"                \"Starchy Foods\"         \"Others\"               \n",
              "[16] \"Seafood\"              "
            ],
            "text/latex": "\\begin{enumerate*}\n\\item 'Dairy'\n\\item 'Soft Drinks'\n\\item 'Meat'\n\\item 'Fruits and Vegetables'\n\\item 'Household'\n\\item 'Baking Goods'\n\\item 'Snack Foods'\n\\item 'Frozen Foods'\n\\item 'Breakfast'\n\\item 'Health and Hygiene'\n\\item 'Hard Drinks'\n\\item 'Canned'\n\\item 'Breads'\n\\item 'Starchy Foods'\n\\item 'Others'\n\\item 'Seafood'\n\\end{enumerate*}\n",
            "text/markdown": "1. 'Dairy'\n2. 'Soft Drinks'\n3. 'Meat'\n4. 'Fruits and Vegetables'\n5. 'Household'\n6. 'Baking Goods'\n7. 'Snack Foods'\n8. 'Frozen Foods'\n9. 'Breakfast'\n10. 'Health and Hygiene'\n11. 'Hard Drinks'\n12. 'Canned'\n13. 'Breads'\n14. 'Starchy Foods'\n15. 'Others'\n16. 'Seafood'\n\n\n",
            "text/html": [
              "<style>\n",
              ".list-inline {list-style: none; margin:0; padding: 0}\n",
              ".list-inline>li {display: inline-block}\n",
              ".list-inline>li:not(:last-child)::after {content: \"\\00b7\"; padding: 0 .5ex}\n",
              "</style>\n",
              "<ol class=list-inline><li>'Dairy'</li><li>'Soft Drinks'</li><li>'Meat'</li><li>'Fruits and Vegetables'</li><li>'Household'</li><li>'Baking Goods'</li><li>'Snack Foods'</li><li>'Frozen Foods'</li><li>'Breakfast'</li><li>'Health and Hygiene'</li><li>'Hard Drinks'</li><li>'Canned'</li><li>'Breads'</li><li>'Starchy Foods'</li><li>'Others'</li><li>'Seafood'</li></ol>\n"
            ]
          },
          "metadata": {}
        }
      ]
    },
    {
      "cell_type": "code",
      "metadata": {
        "colab": {
          "base_uri": "https://localhost:8080/",
          "height": 34
        },
        "id": "p10H3cdnyGga",
        "outputId": "67b49ce0-50de-4f99-da8d-2d2c94c880fa"
      },
      "source": [
        "unique(martdata$Outlet_Size)"
      ],
      "execution_count": 17,
      "outputs": [
        {
          "output_type": "display_data",
          "data": {
            "text/plain": [
              "[1] \"Medium\" \"\"       \"High\"   \"Small\" "
            ],
            "text/latex": "\\begin{enumerate*}\n\\item 'Medium'\n\\item ''\n\\item 'High'\n\\item 'Small'\n\\end{enumerate*}\n",
            "text/markdown": "1. 'Medium'\n2. ''\n3. 'High'\n4. 'Small'\n\n\n",
            "text/html": [
              "<style>\n",
              ".list-inline {list-style: none; margin:0; padding: 0}\n",
              ".list-inline>li {display: inline-block}\n",
              ".list-inline>li:not(:last-child)::after {content: \"\\00b7\"; padding: 0 .5ex}\n",
              "</style>\n",
              "<ol class=list-inline><li>'Medium'</li><li>''</li><li>'High'</li><li>'Small'</li></ol>\n"
            ]
          },
          "metadata": {}
        }
      ]
    },
    {
      "cell_type": "code",
      "metadata": {
        "colab": {
          "base_uri": "https://localhost:8080/",
          "height": 34
        },
        "id": "o-coP4PJyRAS",
        "outputId": "1737e4ff-4ce8-43f6-8569-b579213904f1"
      },
      "source": [
        "unique(martdata$Outlet_Location_Type)"
      ],
      "execution_count": 18,
      "outputs": [
        {
          "output_type": "display_data",
          "data": {
            "text/plain": [
              "[1] \"Tier 1\" \"Tier 3\" \"Tier 2\""
            ],
            "text/latex": "\\begin{enumerate*}\n\\item 'Tier 1'\n\\item 'Tier 3'\n\\item 'Tier 2'\n\\end{enumerate*}\n",
            "text/markdown": "1. 'Tier 1'\n2. 'Tier 3'\n3. 'Tier 2'\n\n\n",
            "text/html": [
              "<style>\n",
              ".list-inline {list-style: none; margin:0; padding: 0}\n",
              ".list-inline>li {display: inline-block}\n",
              ".list-inline>li:not(:last-child)::after {content: \"\\00b7\"; padding: 0 .5ex}\n",
              "</style>\n",
              "<ol class=list-inline><li>'Tier 1'</li><li>'Tier 3'</li><li>'Tier 2'</li></ol>\n"
            ]
          },
          "metadata": {}
        }
      ]
    },
    {
      "cell_type": "code",
      "metadata": {
        "colab": {
          "base_uri": "https://localhost:8080/",
          "height": 34
        },
        "id": "3gJKptOLyVGs",
        "outputId": "37d1db73-2ec0-4015-b87f-3d1c055426bf"
      },
      "source": [
        "unique(martdata$Outlet_Type)"
      ],
      "execution_count": 19,
      "outputs": [
        {
          "output_type": "display_data",
          "data": {
            "text/plain": [
              "[1] \"Supermarket Type1\" \"Supermarket Type2\" \"Grocery Store\"    \n",
              "[4] \"Supermarket Type3\""
            ],
            "text/latex": "\\begin{enumerate*}\n\\item 'Supermarket Type1'\n\\item 'Supermarket Type2'\n\\item 'Grocery Store'\n\\item 'Supermarket Type3'\n\\end{enumerate*}\n",
            "text/markdown": "1. 'Supermarket Type1'\n2. 'Supermarket Type2'\n3. 'Grocery Store'\n4. 'Supermarket Type3'\n\n\n",
            "text/html": [
              "<style>\n",
              ".list-inline {list-style: none; margin:0; padding: 0}\n",
              ".list-inline>li {display: inline-block}\n",
              ".list-inline>li:not(:last-child)::after {content: \"\\00b7\"; padding: 0 .5ex}\n",
              "</style>\n",
              "<ol class=list-inline><li>'Supermarket Type1'</li><li>'Supermarket Type2'</li><li>'Grocery Store'</li><li>'Supermarket Type3'</li></ol>\n"
            ]
          },
          "metadata": {}
        }
      ]
    },
    {
      "cell_type": "code",
      "metadata": {
        "colab": {
          "base_uri": "https://localhost:8080/",
          "height": 68
        },
        "id": "ZJ9SuilMym9n",
        "outputId": "b5df2787-3eb3-4db8-fc0a-46732d4b76ff"
      },
      "source": [
        "table(martdata$Item_Fat_Content)"
      ],
      "execution_count": 20,
      "outputs": [
        {
          "output_type": "display_data",
          "data": {
            "text/plain": [
              "\n",
              "     LF low fat Low Fat     reg Regular \n",
              "    316     112    5089     117    2889 "
            ]
          },
          "metadata": {}
        }
      ]
    },
    {
      "cell_type": "code",
      "metadata": {
        "colab": {
          "base_uri": "https://localhost:8080/",
          "height": 238
        },
        "id": "vZjJcHuHzKnX",
        "outputId": "5dca6d7b-dab1-412d-8686-829019323388"
      },
      "source": [
        "table(martdata$Item_Type)"
      ],
      "execution_count": 21,
      "outputs": [
        {
          "output_type": "display_data",
          "data": {
            "text/plain": [
              "\n",
              "         Baking Goods                Breads             Breakfast \n",
              "                  648                   251                   110 \n",
              "               Canned                 Dairy          Frozen Foods \n",
              "                  649                   682                   856 \n",
              "Fruits and Vegetables           Hard Drinks    Health and Hygiene \n",
              "                 1232                   214                   520 \n",
              "            Household                  Meat                Others \n",
              "                  910                   425                   169 \n",
              "              Seafood           Snack Foods           Soft Drinks \n",
              "                   64                  1200                   445 \n",
              "        Starchy Foods \n",
              "                  148 "
            ]
          },
          "metadata": {}
        }
      ]
    },
    {
      "cell_type": "code",
      "metadata": {
        "colab": {
          "base_uri": "https://localhost:8080/",
          "height": 68
        },
        "id": "VenK7wZ3zQZT",
        "outputId": "54a6842b-57c2-4401-89c4-119922a98403"
      },
      "source": [
        "table(martdata$Outlet_Size)"
      ],
      "execution_count": 22,
      "outputs": [
        {
          "output_type": "display_data",
          "data": {
            "text/plain": [
              "\n",
              "         High Medium  Small \n",
              "  2410    932   2793   2388 "
            ]
          },
          "metadata": {}
        }
      ]
    },
    {
      "cell_type": "code",
      "metadata": {
        "colab": {
          "base_uri": "https://localhost:8080/",
          "height": 68
        },
        "id": "J_IC9vwNzVGO",
        "outputId": "c83ae4fe-600a-4018-8cdd-871237ed8fbe"
      },
      "source": [
        "table(martdata$Outlet_Location_Type)"
      ],
      "execution_count": 23,
      "outputs": [
        {
          "output_type": "display_data",
          "data": {
            "text/plain": [
              "\n",
              "Tier 1 Tier 2 Tier 3 \n",
              "  2388   2785   3350 "
            ]
          },
          "metadata": {}
        }
      ]
    },
    {
      "cell_type": "code",
      "metadata": {
        "colab": {
          "base_uri": "https://localhost:8080/",
          "height": 68
        },
        "id": "_omJ80xlzZOm",
        "outputId": "096210db-53eb-462b-d955-5805549a66cd"
      },
      "source": [
        "table(martdata$Outlet_Type)"
      ],
      "execution_count": 24,
      "outputs": [
        {
          "output_type": "display_data",
          "data": {
            "text/plain": [
              "\n",
              "    Grocery Store Supermarket Type1 Supermarket Type2 Supermarket Type3 \n",
              "             1083              5577               928               935 "
            ]
          },
          "metadata": {}
        }
      ]
    },
    {
      "cell_type": "code",
      "metadata": {
        "colab": {
          "base_uri": "https://localhost:8080/",
          "height": 34
        },
        "id": "kH-EXCX2zrsc",
        "outputId": "a4d2efd8-e33a-4204-931f-f7c2887f9d4b"
      },
      "source": [
        "sum(is.na(martdata$Item_Weight))"
      ],
      "execution_count": 25,
      "outputs": [
        {
          "output_type": "display_data",
          "data": {
            "text/plain": [
              "[1] 1463"
            ],
            "text/latex": "1463",
            "text/markdown": "1463",
            "text/html": [
              "1463"
            ]
          },
          "metadata": {}
        }
      ]
    },
    {
      "cell_type": "code",
      "metadata": {
        "colab": {
          "base_uri": "https://localhost:8080/",
          "height": 34
        },
        "id": "4dL1SLsV0BMC",
        "outputId": "d2a2fb11-05ef-4053-f288-de3ae39d96be"
      },
      "source": [
        "sum(is.na(martdata$Outlet_Size))"
      ],
      "execution_count": 26,
      "outputs": [
        {
          "output_type": "display_data",
          "data": {
            "text/plain": [
              "[1] 0"
            ],
            "text/latex": "0",
            "text/markdown": "0",
            "text/html": [
              "0"
            ]
          },
          "metadata": {}
        }
      ]
    },
    {
      "cell_type": "code",
      "metadata": {
        "id": "V8DM1x2p0LSe"
      },
      "source": [
        "martdata[martdata == \"\"] <- NA"
      ],
      "execution_count": 27,
      "outputs": []
    },
    {
      "cell_type": "code",
      "metadata": {
        "colab": {
          "base_uri": "https://localhost:8080/",
          "height": 34
        },
        "id": "OCJFOQo30MGG",
        "outputId": "d95d00be-0dfe-450f-de72-a62c00ff6156"
      },
      "source": [
        "sum(is.na(martdata$Outlet_Size))"
      ],
      "execution_count": 28,
      "outputs": [
        {
          "output_type": "display_data",
          "data": {
            "text/plain": [
              "[1] 2410"
            ],
            "text/latex": "2410",
            "text/markdown": "2410",
            "text/html": [
              "2410"
            ]
          },
          "metadata": {}
        }
      ]
    },
    {
      "cell_type": "code",
      "metadata": {
        "colab": {
          "base_uri": "https://localhost:8080/",
          "height": 68
        },
        "id": "jufPRd4PUp21",
        "outputId": "9e4a211b-b003-47cc-8c84-ca5ba2d21f18"
      },
      "source": [
        "table(martdata$Outlet_Size)"
      ],
      "execution_count": 29,
      "outputs": [
        {
          "output_type": "display_data",
          "data": {
            "text/plain": [
              "\n",
              "  High Medium  Small \n",
              "   932   2793   2388 "
            ]
          },
          "metadata": {}
        }
      ]
    },
    {
      "cell_type": "code",
      "metadata": {
        "id": "KQe9M2kT0q2u"
      },
      "source": [
        "write.csv(martdata,file=\"BigMart_updated.csv\")"
      ],
      "execution_count": 30,
      "outputs": []
    },
    {
      "cell_type": "code",
      "metadata": {
        "colab": {
          "base_uri": "https://localhost:8080/",
          "height": 34
        },
        "id": "ryFbst-fWItD",
        "outputId": "2ebf82c0-2598-460d-b661-838c9b0b51fc"
      },
      "source": [
        "sum(is.na(martdata))"
      ],
      "execution_count": 31,
      "outputs": [
        {
          "output_type": "display_data",
          "data": {
            "text/plain": [
              "[1] 3873"
            ],
            "text/latex": "3873",
            "text/markdown": "3873",
            "text/html": [
              "3873"
            ]
          },
          "metadata": {}
        }
      ]
    },
    {
      "cell_type": "code",
      "metadata": {
        "colab": {
          "base_uri": "https://localhost:8080/",
          "height": 51
        },
        "id": "OsvI44h3WQfP",
        "outputId": "e85b9511-99bb-4f7f-c2c3-d4d32425aa98"
      },
      "source": [
        "#missing data percentage of total\n",
        "p<-function(x) {sum(is.na(x)/length(x)*100)}\n",
        "apply(martdata,2,p)"
      ],
      "execution_count": 32,
      "outputs": [
        {
          "output_type": "display_data",
          "data": {
            "text/plain": [
              "          Item_Identifier               Item_Weight          Item_Fat_Content \n",
              "                  0.00000                  17.16532                   0.00000 \n",
              "          Item_Visibility                 Item_Type                  Item_MRP \n",
              "                  0.00000                   0.00000                   0.00000 \n",
              "        Outlet_Identifier Outlet_Establishment_Year               Outlet_Size \n",
              "                  0.00000                   0.00000                  28.27643 \n",
              "     Outlet_Location_Type               Outlet_Type         Item_Outlet_Sales \n",
              "                  0.00000                   0.00000                   0.00000 "
            ],
            "text/latex": "\\begin{description*}\n\\item[Item\\textbackslash{}\\_Identifier] 0\n\\item[Item\\textbackslash{}\\_Weight] 17.1653173765106\n\\item[Item\\textbackslash{}\\_Fat\\textbackslash{}\\_Content] 0\n\\item[Item\\textbackslash{}\\_Visibility] 0\n\\item[Item\\textbackslash{}\\_Type] 0\n\\item[Item\\textbackslash{}\\_MRP] 0\n\\item[Outlet\\textbackslash{}\\_Identifier] 0\n\\item[Outlet\\textbackslash{}\\_Establishment\\textbackslash{}\\_Year] 0\n\\item[Outlet\\textbackslash{}\\_Size] 28.2764284876217\n\\item[Outlet\\textbackslash{}\\_Location\\textbackslash{}\\_Type] 0\n\\item[Outlet\\textbackslash{}\\_Type] 0\n\\item[Item\\textbackslash{}\\_Outlet\\textbackslash{}\\_Sales] 0\n\\end{description*}\n",
            "text/markdown": "Item_Identifier\n:   0Item_Weight\n:   17.1653173765106Item_Fat_Content\n:   0Item_Visibility\n:   0Item_Type\n:   0Item_MRP\n:   0Outlet_Identifier\n:   0Outlet_Establishment_Year\n:   0Outlet_Size\n:   28.2764284876217Outlet_Location_Type\n:   0Outlet_Type\n:   0Item_Outlet_Sales\n:   0\n\n",
            "text/html": [
              "<style>\n",
              ".dl-inline {width: auto; margin:0; padding: 0}\n",
              ".dl-inline>dt, .dl-inline>dd {float: none; width: auto; display: inline-block}\n",
              ".dl-inline>dt::after {content: \":\\0020\"; padding-right: .5ex}\n",
              ".dl-inline>dt:not(:first-of-type) {padding-left: .5ex}\n",
              "</style><dl class=dl-inline><dt>Item_Identifier</dt><dd>0</dd><dt>Item_Weight</dt><dd>17.1653173765106</dd><dt>Item_Fat_Content</dt><dd>0</dd><dt>Item_Visibility</dt><dd>0</dd><dt>Item_Type</dt><dd>0</dd><dt>Item_MRP</dt><dd>0</dd><dt>Outlet_Identifier</dt><dd>0</dd><dt>Outlet_Establishment_Year</dt><dd>0</dd><dt>Outlet_Size</dt><dd>28.2764284876217</dd><dt>Outlet_Location_Type</dt><dd>0</dd><dt>Outlet_Type</dt><dd>0</dd><dt>Item_Outlet_Sales</dt><dd>0</dd></dl>\n"
            ]
          },
          "metadata": {}
        }
      ]
    },
    {
      "cell_type": "code",
      "metadata": {
        "colab": {
          "base_uri": "https://localhost:8080/"
        },
        "id": "H_a0PgmWWkuW",
        "outputId": "a44baf9c-6696-437f-9685-286d475944fb"
      },
      "source": [
        "# MICE(multiple imputation by chained equation) \n",
        "install.packages(\"mice\")"
      ],
      "execution_count": 34,
      "outputs": [
        {
          "output_type": "stream",
          "name": "stderr",
          "text": [
            "Installing package into ‘/usr/local/lib/R/site-library’\n",
            "(as ‘lib’ is unspecified)\n",
            "\n"
          ]
        }
      ]
    },
    {
      "cell_type": "code",
      "metadata": {
        "colab": {
          "base_uri": "https://localhost:8080/"
        },
        "id": "JMXYIeIPWtOq",
        "outputId": "cd748411-e8a6-4dcc-92b0-c81125dee7b4"
      },
      "source": [
        "library(mice)"
      ],
      "execution_count": 35,
      "outputs": [
        {
          "output_type": "stream",
          "name": "stderr",
          "text": [
            "\n",
            "Attaching package: ‘mice’\n",
            "\n",
            "\n",
            "The following object is masked from ‘package:stats’:\n",
            "\n",
            "    filter\n",
            "\n",
            "\n",
            "The following objects are masked from ‘package:base’:\n",
            "\n",
            "    cbind, rbind\n",
            "\n",
            "\n"
          ]
        }
      ]
    },
    {
      "cell_type": "code",
      "metadata": {
        "colab": {
          "base_uri": "https://localhost:8080/",
          "height": 630
        },
        "id": "Hq0GV0swWfat",
        "outputId": "61e16421-df5a-49f1-b938-f52724a9c8d3"
      },
      "source": [
        "md.pattern(martdata)"
      ],
      "execution_count": 37,
      "outputs": [
        {
          "output_type": "display_data",
          "data": {
            "text/plain": [
              "     Item_Identifier Item_Fat_Content Item_Visibility Item_Type Item_MRP\n",
              "4650 1               1                1               1         1       \n",
              "2410 1               1                1               1         1       \n",
              "1463 1               1                1               1         1       \n",
              "     0               0                0               0         0       \n",
              "     Outlet_Identifier Outlet_Establishment_Year Outlet_Location_Type\n",
              "4650 1                 1                         1                   \n",
              "2410 1                 1                         1                   \n",
              "1463 1                 1                         1                   \n",
              "     0                 0                         0                   \n",
              "     Outlet_Type Item_Outlet_Sales Item_Weight Outlet_Size     \n",
              "4650 1           1                    1           1           0\n",
              "2410 1           1                    1           0           1\n",
              "1463 1           1                    0           1           1\n",
              "     0           0                 1463        2410        3873"
            ],
            "text/latex": "A matrix: 4 × 13 of type dbl\n\\begin{tabular}{r|lllllllllllll}\n  & Item\\_Identifier & Item\\_Fat\\_Content & Item\\_Visibility & Item\\_Type & Item\\_MRP & Outlet\\_Identifier & Outlet\\_Establishment\\_Year & Outlet\\_Location\\_Type & Outlet\\_Type & Item\\_Outlet\\_Sales & Item\\_Weight & Outlet\\_Size & \\\\\n\\hline\n\t4650 & 1 & 1 & 1 & 1 & 1 & 1 & 1 & 1 & 1 & 1 &    1 &    1 &    0\\\\\n\t2410 & 1 & 1 & 1 & 1 & 1 & 1 & 1 & 1 & 1 & 1 &    1 &    0 &    1\\\\\n\t1463 & 1 & 1 & 1 & 1 & 1 & 1 & 1 & 1 & 1 & 1 &    0 &    1 &    1\\\\\n\t & 0 & 0 & 0 & 0 & 0 & 0 & 0 & 0 & 0 & 0 & 1463 & 2410 & 3873\\\\\n\\end{tabular}\n",
            "text/markdown": "\nA matrix: 4 × 13 of type dbl\n\n| <!--/--> | Item_Identifier | Item_Fat_Content | Item_Visibility | Item_Type | Item_MRP | Outlet_Identifier | Outlet_Establishment_Year | Outlet_Location_Type | Outlet_Type | Item_Outlet_Sales | Item_Weight | Outlet_Size | <!----> |\n|---|---|---|---|---|---|---|---|---|---|---|---|---|---|\n| 4650 | 1 | 1 | 1 | 1 | 1 | 1 | 1 | 1 | 1 | 1 |    1 |    1 |    0 |\n| 2410 | 1 | 1 | 1 | 1 | 1 | 1 | 1 | 1 | 1 | 1 |    1 |    0 |    1 |\n| 1463 | 1 | 1 | 1 | 1 | 1 | 1 | 1 | 1 | 1 | 1 |    0 |    1 |    1 |\n| <!----> | 0 | 0 | 0 | 0 | 0 | 0 | 0 | 0 | 0 | 0 | 1463 | 2410 | 3873 |\n\n",
            "text/html": [
              "<table class=\"dataframe\">\n",
              "<caption>A matrix: 4 × 13 of type dbl</caption>\n",
              "<thead>\n",
              "\t<tr><th></th><th scope=col>Item_Identifier</th><th scope=col>Item_Fat_Content</th><th scope=col>Item_Visibility</th><th scope=col>Item_Type</th><th scope=col>Item_MRP</th><th scope=col>Outlet_Identifier</th><th scope=col>Outlet_Establishment_Year</th><th scope=col>Outlet_Location_Type</th><th scope=col>Outlet_Type</th><th scope=col>Item_Outlet_Sales</th><th scope=col>Item_Weight</th><th scope=col>Outlet_Size</th><th scope=col></th></tr>\n",
              "</thead>\n",
              "<tbody>\n",
              "\t<tr><th scope=row>4650</th><td>1</td><td>1</td><td>1</td><td>1</td><td>1</td><td>1</td><td>1</td><td>1</td><td>1</td><td>1</td><td>   1</td><td>   1</td><td>   0</td></tr>\n",
              "\t<tr><th scope=row>2410</th><td>1</td><td>1</td><td>1</td><td>1</td><td>1</td><td>1</td><td>1</td><td>1</td><td>1</td><td>1</td><td>   1</td><td>   0</td><td>   1</td></tr>\n",
              "\t<tr><th scope=row>1463</th><td>1</td><td>1</td><td>1</td><td>1</td><td>1</td><td>1</td><td>1</td><td>1</td><td>1</td><td>1</td><td>   0</td><td>   1</td><td>   1</td></tr>\n",
              "\t<tr><th scope=row></th><td>0</td><td>0</td><td>0</td><td>0</td><td>0</td><td>0</td><td>0</td><td>0</td><td>0</td><td>0</td><td>1463</td><td>2410</td><td>3873</td></tr>\n",
              "</tbody>\n",
              "</table>\n"
            ]
          },
          "metadata": {}
        },
        {
          "output_type": "display_data",
          "data": {
            "image/png": "[encoded data removed]",
            "text/plain": [
              "plot without title"
            ]
          },
          "metadata": {
            "image/png": {
              "width": 420,
              "height": 420
            }
          }
        }
      ]
    },
    {
      "cell_type": "code",
      "metadata": {
        "colab": {
          "base_uri": "https://localhost:8080/",
          "height": 1000
        },
        "id": "Q7HYGWRfXNz2",
        "outputId": "e96b33e1-3a28-4067-cab9-adbfb4866ffb"
      },
      "source": [
        "md.pairs(martdata)"
      ],
      "execution_count": 39,
      "outputs": [
        {
          "output_type": "display_data",
          "data": {
            "text/plain": [
              "$rr\n",
              "                          Item_Identifier Item_Weight Item_Fat_Content\n",
              "Item_Identifier                      8523        7060             8523\n",
              "Item_Weight                          7060        7060             7060\n",
              "Item_Fat_Content                     8523        7060             8523\n",
              "Item_Visibility                      8523        7060             8523\n",
              "Item_Type                            8523        7060             8523\n",
              "Item_MRP                             8523        7060             8523\n",
              "Outlet_Identifier                    8523        7060             8523\n",
              "Outlet_Establishment_Year            8523        7060             8523\n",
              "Outlet_Size                          6113        4650             6113\n",
              "Outlet_Location_Type                 8523        7060             8523\n",
              "Outlet_Type                          8523        7060             8523\n",
              "Item_Outlet_Sales                    8523        7060             8523\n",
              "                          Item_Visibility Item_Type Item_MRP Outlet_Identifier\n",
              "Item_Identifier                      8523      8523     8523              8523\n",
              "Item_Weight                          7060      7060     7060              7060\n",
              "Item_Fat_Content                     8523      8523     8523              8523\n",
              "Item_Visibility                      8523      8523     8523              8523\n",
              "Item_Type                            8523      8523     8523              8523\n",
              "Item_MRP                             8523      8523     8523              8523\n",
              "Outlet_Identifier                    8523      8523     8523              8523\n",
              "Outlet_Establishment_Year            8523      8523     8523              8523\n",
              "Outlet_Size                          6113      6113     6113              6113\n",
              "Outlet_Location_Type                 8523      8523     8523              8523\n",
              "Outlet_Type                          8523      8523     8523              8523\n",
              "Item_Outlet_Sales                    8523      8523     8523              8523\n",
              "                          Outlet_Establishment_Year Outlet_Size\n",
              "Item_Identifier                                8523        6113\n",
              "Item_Weight                                    7060        4650\n",
              "Item_Fat_Content                               8523        6113\n",
              "Item_Visibility                                8523        6113\n",
              "Item_Type                                      8523        6113\n",
              "Item_MRP                                       8523        6113\n",
              "Outlet_Identifier                              8523        6113\n",
              "Outlet_Establishment_Year                      8523        6113\n",
              "Outlet_Size                                    6113        6113\n",
              "Outlet_Location_Type                           8523        6113\n",
              "Outlet_Type                                    8523        6113\n",
              "Item_Outlet_Sales                              8523        6113\n",
              "                          Outlet_Location_Type Outlet_Type Item_Outlet_Sales\n",
              "Item_Identifier                           8523        8523              8523\n",
              "Item_Weight                               7060        7060              7060\n",
              "Item_Fat_Content                          8523        8523              8523\n",
              "Item_Visibility                           8523        8523              8523\n",
              "Item_Type                                 8523        8523              8523\n",
              "Item_MRP                                  8523        8523              8523\n",
              "Outlet_Identifier                         8523        8523              8523\n",
              "Outlet_Establishment_Year                 8523        8523              8523\n",
              "Outlet_Size                               6113        6113              6113\n",
              "Outlet_Location_Type                      8523        8523              8523\n",
              "Outlet_Type                               8523        8523              8523\n",
              "Item_Outlet_Sales                         8523        8523              8523\n",
              "\n",
              "$rm\n",
              "                          Item_Identifier Item_Weight Item_Fat_Content\n",
              "Item_Identifier                         0        1463                0\n",
              "Item_Weight                             0           0                0\n",
              "Item_Fat_Content                        0        1463                0\n",
              "Item_Visibility                         0        1463                0\n",
              "Item_Type                               0        1463                0\n",
              "Item_MRP                                0        1463                0\n",
              "Outlet_Identifier                       0        1463                0\n",
              "Outlet_Establishment_Year               0        1463                0\n",
              "Outlet_Size                             0        1463                0\n",
              "Outlet_Location_Type                    0        1463                0\n",
              "Outlet_Type                             0        1463                0\n",
              "Item_Outlet_Sales                       0        1463                0\n",
              "                          Item_Visibility Item_Type Item_MRP Outlet_Identifier\n",
              "Item_Identifier                         0         0        0                 0\n",
              "Item_Weight                             0         0        0                 0\n",
              "Item_Fat_Content                        0         0        0                 0\n",
              "Item_Visibility                         0         0        0                 0\n",
              "Item_Type                               0         0        0                 0\n",
              "Item_MRP                                0         0        0                 0\n",
              "Outlet_Identifier                       0         0        0                 0\n",
              "Outlet_Establishment_Year               0         0        0                 0\n",
              "Outlet_Size                             0         0        0                 0\n",
              "Outlet_Location_Type                    0         0        0                 0\n",
              "Outlet_Type                             0         0        0                 0\n",
              "Item_Outlet_Sales                       0         0        0                 0\n",
              "                          Outlet_Establishment_Year Outlet_Size\n",
              "Item_Identifier                                   0        2410\n",
              "Item_Weight                                       0        2410\n",
              "Item_Fat_Content                                  0        2410\n",
              "Item_Visibility                                   0        2410\n",
              "Item_Type                                         0        2410\n",
              "Item_MRP                                          0        2410\n",
              "Outlet_Identifier                                 0        2410\n",
              "Outlet_Establishment_Year                         0        2410\n",
              "Outlet_Size                                       0           0\n",
              "Outlet_Location_Type                              0        2410\n",
              "Outlet_Type                                       0        2410\n",
              "Item_Outlet_Sales                                 0        2410\n",
              "                          Outlet_Location_Type Outlet_Type Item_Outlet_Sales\n",
              "Item_Identifier                              0           0                 0\n",
              "Item_Weight                                  0           0                 0\n",
              "Item_Fat_Content                             0           0                 0\n",
              "Item_Visibility                              0           0                 0\n",
              "Item_Type                                    0           0                 0\n",
              "Item_MRP                                     0           0                 0\n",
              "Outlet_Identifier                            0           0                 0\n",
              "Outlet_Establishment_Year                    0           0                 0\n",
              "Outlet_Size                                  0           0                 0\n",
              "Outlet_Location_Type                         0           0                 0\n",
              "Outlet_Type                                  0           0                 0\n",
              "Item_Outlet_Sales                            0           0                 0\n",
              "\n",
              "$mr\n",
              "                          Item_Identifier Item_Weight Item_Fat_Content\n",
              "Item_Identifier                         0           0                0\n",
              "Item_Weight                          1463           0             1463\n",
              "Item_Fat_Content                        0           0                0\n",
              "Item_Visibility                         0           0                0\n",
              "Item_Type                               0           0                0\n",
              "Item_MRP                                0           0                0\n",
              "Outlet_Identifier                       0           0                0\n",
              "Outlet_Establishment_Year               0           0                0\n",
              "Outlet_Size                          2410        2410             2410\n",
              "Outlet_Location_Type                    0           0                0\n",
              "Outlet_Type                             0           0                0\n",
              "Item_Outlet_Sales                       0           0                0\n",
              "                          Item_Visibility Item_Type Item_MRP Outlet_Identifier\n",
              "Item_Identifier                         0         0        0                 0\n",
              "Item_Weight                          1463      1463     1463              1463\n",
              "Item_Fat_Content                        0         0        0                 0\n",
              "Item_Visibility                         0         0        0                 0\n",
              "Item_Type                               0         0        0                 0\n",
              "Item_MRP                                0         0        0                 0\n",
              "Outlet_Identifier                       0         0        0                 0\n",
              "Outlet_Establishment_Year               0         0        0                 0\n",
              "Outlet_Size                          2410      2410     2410              2410\n",
              "Outlet_Location_Type                    0         0        0                 0\n",
              "Outlet_Type                             0         0        0                 0\n",
              "Item_Outlet_Sales                       0         0        0                 0\n",
              "                          Outlet_Establishment_Year Outlet_Size\n",
              "Item_Identifier                                   0           0\n",
              "Item_Weight                                    1463        1463\n",
              "Item_Fat_Content                                  0           0\n",
              "Item_Visibility                                   0           0\n",
              "Item_Type                                         0           0\n",
              "Item_MRP                                          0           0\n",
              "Outlet_Identifier                                 0           0\n",
              "Outlet_Establishment_Year                         0           0\n",
              "Outlet_Size                                    2410           0\n",
              "Outlet_Location_Type                              0           0\n",
              "Outlet_Type                                       0           0\n",
              "Item_Outlet_Sales                                 0           0\n",
              "                          Outlet_Location_Type Outlet_Type Item_Outlet_Sales\n",
              "Item_Identifier                              0           0                 0\n",
              "Item_Weight                               1463        1463              1463\n",
              "Item_Fat_Content                             0           0                 0\n",
              "Item_Visibility                              0           0                 0\n",
              "Item_Type                                    0           0                 0\n",
              "Item_MRP                                     0           0                 0\n",
              "Outlet_Identifier                            0           0                 0\n",
              "Outlet_Establishment_Year                    0           0                 0\n",
              "Outlet_Size                               2410        2410              2410\n",
              "Outlet_Location_Type                         0           0                 0\n",
              "Outlet_Type                                  0           0                 0\n",
              "Item_Outlet_Sales                            0           0                 0\n",
              "\n",
              "$mm\n",
              "                          Item_Identifier Item_Weight Item_Fat_Content\n",
              "Item_Identifier                         0           0                0\n",
              "Item_Weight                             0        1463                0\n",
              "Item_Fat_Content                        0           0                0\n",
              "Item_Visibility                         0           0                0\n",
              "Item_Type                               0           0                0\n",
              "Item_MRP                                0           0                0\n",
              "Outlet_Identifier                       0           0                0\n",
              "Outlet_Establishment_Year               0           0                0\n",
              "Outlet_Size                             0           0                0\n",
              "Outlet_Location_Type                    0           0                0\n",
              "Outlet_Type                             0           0                0\n",
              "Item_Outlet_Sales                       0           0                0\n",
              "                          Item_Visibility Item_Type Item_MRP Outlet_Identifier\n",
              "Item_Identifier                         0         0        0                 0\n",
              "Item_Weight                             0         0        0                 0\n",
              "Item_Fat_Content                        0         0        0                 0\n",
              "Item_Visibility                         0         0        0                 0\n",
              "Item_Type                               0         0        0                 0\n",
              "Item_MRP                                0         0        0                 0\n",
              "Outlet_Identifier                       0         0        0                 0\n",
              "Outlet_Establishment_Year               0         0        0                 0\n",
              "Outlet_Size                             0         0        0                 0\n",
              "Outlet_Location_Type                    0         0        0                 0\n",
              "Outlet_Type                             0         0        0                 0\n",
              "Item_Outlet_Sales                       0         0        0                 0\n",
              "                          Outlet_Establishment_Year Outlet_Size\n",
              "Item_Identifier                                   0           0\n",
              "Item_Weight                                       0           0\n",
              "Item_Fat_Content                                  0           0\n",
              "Item_Visibility                                   0           0\n",
              "Item_Type                                         0           0\n",
              "Item_MRP                                          0           0\n",
              "Outlet_Identifier                                 0           0\n",
              "Outlet_Establishment_Year                         0           0\n",
              "Outlet_Size                                       0        2410\n",
              "Outlet_Location_Type                              0           0\n",
              "Outlet_Type                                       0           0\n",
              "Item_Outlet_Sales                                 0           0\n",
              "                          Outlet_Location_Type Outlet_Type Item_Outlet_Sales\n",
              "Item_Identifier                              0           0                 0\n",
              "Item_Weight                                  0           0                 0\n",
              "Item_Fat_Content                             0           0                 0\n",
              "Item_Visibility                              0           0                 0\n",
              "Item_Type                                    0           0                 0\n",
              "Item_MRP                                     0           0                 0\n",
              "Outlet_Identifier                            0           0                 0\n",
              "Outlet_Establishment_Year                    0           0                 0\n",
              "Outlet_Size                                  0           0                 0\n",
              "Outlet_Location_Type                         0           0                 0\n",
              "Outlet_Type                                  0           0                 0\n",
              "Item_Outlet_Sales                            0           0                 0\n"
            ],
            "text/latex": "\\begin{description}\n\\item[\\$rr] A matrix: 12 × 12 of type dbl\n\\begin{tabular}{r|llllllllllll}\n  & Item\\_Identifier & Item\\_Weight & Item\\_Fat\\_Content & Item\\_Visibility & Item\\_Type & Item\\_MRP & Outlet\\_Identifier & Outlet\\_Establishment\\_Year & Outlet\\_Size & Outlet\\_Location\\_Type & Outlet\\_Type & Item\\_Outlet\\_Sales\\\\\n\\hline\n\tItem\\_Identifier & 8523 & 7060 & 8523 & 8523 & 8523 & 8523 & 8523 & 8523 & 6113 & 8523 & 8523 & 8523\\\\\n\tItem\\_Weight & 7060 & 7060 & 7060 & 7060 & 7060 & 7060 & 7060 & 7060 & 4650 & 7060 & 7060 & 7060\\\\\n\tItem\\_Fat\\_Content & 8523 & 7060 & 8523 & 8523 & 8523 & 8523 & 8523 & 8523 & 6113 & 8523 & 8523 & 8523\\\\\n\tItem\\_Visibility & 8523 & 7060 & 8523 & 8523 & 8523 & 8523 & 8523 & 8523 & 6113 & 8523 & 8523 & 8523\\\\\n\tItem\\_Type & 8523 & 7060 & 8523 & 8523 & 8523 & 8523 & 8523 & 8523 & 6113 & 8523 & 8523 & 8523\\\\\n\tItem\\_MRP & 8523 & 7060 & 8523 & 8523 & 8523 & 8523 & 8523 & 8523 & 6113 & 8523 & 8523 & 8523\\\\\n\tOutlet\\_Identifier & 8523 & 7060 & 8523 & 8523 & 8523 & 8523 & 8523 & 8523 & 6113 & 8523 & 8523 & 8523\\\\\n\tOutlet\\_Establishment\\_Year & 8523 & 7060 & 8523 & 8523 & 8523 & 8523 & 8523 & 8523 & 6113 & 8523 & 8523 & 8523\\\\\n\tOutlet\\_Size & 6113 & 4650 & 6113 & 6113 & 6113 & 6113 & 6113 & 6113 & 6113 & 6113 & 6113 & 6113\\\\\n\tOutlet\\_Location\\_Type & 8523 & 7060 & 8523 & 8523 & 8523 & 8523 & 8523 & 8523 & 6113 & 8523 & 8523 & 8523\\\\\n\tOutlet\\_Type & 8523 & 7060 & 8523 & 8523 & 8523 & 8523 & 8523 & 8523 & 6113 & 8523 & 8523 & 8523\\\\\n\tItem\\_Outlet\\_Sales & 8523 & 7060 & 8523 & 8523 & 8523 & 8523 & 8523 & 8523 & 6113 & 8523 & 8523 & 8523\\\\\n\\end{tabular}\n\n\\item[\\$rm] A matrix: 12 × 12 of type dbl\n\\begin{tabular}{r|llllllllllll}\n  & Item\\_Identifier & Item\\_Weight & Item\\_Fat\\_Content & Item\\_Visibility & Item\\_Type & Item\\_MRP & Outlet\\_Identifier & Outlet\\_Establishment\\_Year & Outlet\\_Size & Outlet\\_Location\\_Type & Outlet\\_Type & Item\\_Outlet\\_Sales\\\\\n\\hline\n\tItem\\_Identifier & 0 & 1463 & 0 & 0 & 0 & 0 & 0 & 0 & 2410 & 0 & 0 & 0\\\\\n\tItem\\_Weight & 0 &    0 & 0 & 0 & 0 & 0 & 0 & 0 & 2410 & 0 & 0 & 0\\\\\n\tItem\\_Fat\\_Content & 0 & 1463 & 0 & 0 & 0 & 0 & 0 & 0 & 2410 & 0 & 0 & 0\\\\\n\tItem\\_Visibility & 0 & 1463 & 0 & 0 & 0 & 0 & 0 & 0 & 2410 & 0 & 0 & 0\\\\\n\tItem\\_Type & 0 & 1463 & 0 & 0 & 0 & 0 & 0 & 0 & 2410 & 0 & 0 & 0\\\\\n\tItem\\_MRP & 0 & 1463 & 0 & 0 & 0 & 0 & 0 & 0 & 2410 & 0 & 0 & 0\\\\\n\tOutlet\\_Identifier & 0 & 1463 & 0 & 0 & 0 & 0 & 0 & 0 & 2410 & 0 & 0 & 0\\\\\n\tOutlet\\_Establishment\\_Year & 0 & 1463 & 0 & 0 & 0 & 0 & 0 & 0 & 2410 & 0 & 0 & 0\\\\\n\tOutlet\\_Size & 0 & 1463 & 0 & 0 & 0 & 0 & 0 & 0 &    0 & 0 & 0 & 0\\\\\n\tOutlet\\_Location\\_Type & 0 & 1463 & 0 & 0 & 0 & 0 & 0 & 0 & 2410 & 0 & 0 & 0\\\\\n\tOutlet\\_Type & 0 & 1463 & 0 & 0 & 0 & 0 & 0 & 0 & 2410 & 0 & 0 & 0\\\\\n\tItem\\_Outlet\\_Sales & 0 & 1463 & 0 & 0 & 0 & 0 & 0 & 0 & 2410 & 0 & 0 & 0\\\\\n\\end{tabular}\n\n\\item[\\$mr] A matrix: 12 × 12 of type dbl\n\\begin{tabular}{r|llllllllllll}\n  & Item\\_Identifier & Item\\_Weight & Item\\_Fat\\_Content & Item\\_Visibility & Item\\_Type & Item\\_MRP & Outlet\\_Identifier & Outlet\\_Establishment\\_Year & Outlet\\_Size & Outlet\\_Location\\_Type & Outlet\\_Type & Item\\_Outlet\\_Sales\\\\\n\\hline\n\tItem\\_Identifier &    0 &    0 &    0 &    0 &    0 &    0 &    0 &    0 &    0 &    0 &    0 &    0\\\\\n\tItem\\_Weight & 1463 &    0 & 1463 & 1463 & 1463 & 1463 & 1463 & 1463 & 1463 & 1463 & 1463 & 1463\\\\\n\tItem\\_Fat\\_Content &    0 &    0 &    0 &    0 &    0 &    0 &    0 &    0 &    0 &    0 &    0 &    0\\\\\n\tItem\\_Visibility &    0 &    0 &    0 &    0 &    0 &    0 &    0 &    0 &    0 &    0 &    0 &    0\\\\\n\tItem\\_Type &    0 &    0 &    0 &    0 &    0 &    0 &    0 &    0 &    0 &    0 &    0 &    0\\\\\n\tItem\\_MRP &    0 &    0 &    0 &    0 &    0 &    0 &    0 &    0 &    0 &    0 &    0 &    0\\\\\n\tOutlet\\_Identifier &    0 &    0 &    0 &    0 &    0 &    0 &    0 &    0 &    0 &    0 &    0 &    0\\\\\n\tOutlet\\_Establishment\\_Year &    0 &    0 &    0 &    0 &    0 &    0 &    0 &    0 &    0 &    0 &    0 &    0\\\\\n\tOutlet\\_Size & 2410 & 2410 & 2410 & 2410 & 2410 & 2410 & 2410 & 2410 &    0 & 2410 & 2410 & 2410\\\\\n\tOutlet\\_Location\\_Type &    0 &    0 &    0 &    0 &    0 &    0 &    0 &    0 &    0 &    0 &    0 &    0\\\\\n\tOutlet\\_Type &    0 &    0 &    0 &    0 &    0 &    0 &    0 &    0 &    0 &    0 &    0 &    0\\\\\n\tItem\\_Outlet\\_Sales &    0 &    0 &    0 &    0 &    0 &    0 &    0 &    0 &    0 &    0 &    0 &    0\\\\\n\\end{tabular}\n\n\\item[\\$mm] A matrix: 12 × 12 of type dbl\n\\begin{tabular}{r|llllllllllll}\n  & Item\\_Identifier & Item\\_Weight & Item\\_Fat\\_Content & Item\\_Visibility & Item\\_Type & Item\\_MRP & Outlet\\_Identifier & Outlet\\_Establishment\\_Year & Outlet\\_Size & Outlet\\_Location\\_Type & Outlet\\_Type & Item\\_Outlet\\_Sales\\\\\n\\hline\n\tItem\\_Identifier & 0 &    0 & 0 & 0 & 0 & 0 & 0 & 0 &    0 & 0 & 0 & 0\\\\\n\tItem\\_Weight & 0 & 1463 & 0 & 0 & 0 & 0 & 0 & 0 &    0 & 0 & 0 & 0\\\\\n\tItem\\_Fat\\_Content & 0 &    0 & 0 & 0 & 0 & 0 & 0 & 0 &    0 & 0 & 0 & 0\\\\\n\tItem\\_Visibility & 0 &    0 & 0 & 0 & 0 & 0 & 0 & 0 &    0 & 0 & 0 & 0\\\\\n\tItem\\_Type & 0 &    0 & 0 & 0 & 0 & 0 & 0 & 0 &    0 & 0 & 0 & 0\\\\\n\tItem\\_MRP & 0 &    0 & 0 & 0 & 0 & 0 & 0 & 0 &    0 & 0 & 0 & 0\\\\\n\tOutlet\\_Identifier & 0 &    0 & 0 & 0 & 0 & 0 & 0 & 0 &    0 & 0 & 0 & 0\\\\\n\tOutlet\\_Establishment\\_Year & 0 &    0 & 0 & 0 & 0 & 0 & 0 & 0 &    0 & 0 & 0 & 0\\\\\n\tOutlet\\_Size & 0 &    0 & 0 & 0 & 0 & 0 & 0 & 0 & 2410 & 0 & 0 & 0\\\\\n\tOutlet\\_Location\\_Type & 0 &    0 & 0 & 0 & 0 & 0 & 0 & 0 &    0 & 0 & 0 & 0\\\\\n\tOutlet\\_Type & 0 &    0 & 0 & 0 & 0 & 0 & 0 & 0 &    0 & 0 & 0 & 0\\\\\n\tItem\\_Outlet\\_Sales & 0 &    0 & 0 & 0 & 0 & 0 & 0 & 0 &    0 & 0 & 0 & 0\\\\\n\\end{tabular}\n\n\\end{description}\n",
            "text/markdown": "$rr\n:   \nA matrix: 12 × 12 of type dbl\n\n| <!--/--> | Item_Identifier | Item_Weight | Item_Fat_Content | Item_Visibility | Item_Type | Item_MRP | Outlet_Identifier | Outlet_Establishment_Year | Outlet_Size | Outlet_Location_Type | Outlet_Type | Item_Outlet_Sales |\n|---|---|---|---|---|---|---|---|---|---|---|---|---|\n| Item_Identifier | 8523 | 7060 | 8523 | 8523 | 8523 | 8523 | 8523 | 8523 | 6113 | 8523 | 8523 | 8523 |\n| Item_Weight | 7060 | 7060 | 7060 | 7060 | 7060 | 7060 | 7060 | 7060 | 4650 | 7060 | 7060 | 7060 |\n| Item_Fat_Content | 8523 | 7060 | 8523 | 8523 | 8523 | 8523 | 8523 | 8523 | 6113 | 8523 | 8523 | 8523 |\n| Item_Visibility | 8523 | 7060 | 8523 | 8523 | 8523 | 8523 | 8523 | 8523 | 6113 | 8523 | 8523 | 8523 |\n| Item_Type | 8523 | 7060 | 8523 | 8523 | 8523 | 8523 | 8523 | 8523 | 6113 | 8523 | 8523 | 8523 |\n| Item_MRP | 8523 | 7060 | 8523 | 8523 | 8523 | 8523 | 8523 | 8523 | 6113 | 8523 | 8523 | 8523 |\n| Outlet_Identifier | 8523 | 7060 | 8523 | 8523 | 8523 | 8523 | 8523 | 8523 | 6113 | 8523 | 8523 | 8523 |\n| Outlet_Establishment_Year | 8523 | 7060 | 8523 | 8523 | 8523 | 8523 | 8523 | 8523 | 6113 | 8523 | 8523 | 8523 |\n| Outlet_Size | 6113 | 4650 | 6113 | 6113 | 6113 | 6113 | 6113 | 6113 | 6113 | 6113 | 6113 | 6113 |\n| Outlet_Location_Type | 8523 | 7060 | 8523 | 8523 | 8523 | 8523 | 8523 | 8523 | 6113 | 8523 | 8523 | 8523 |\n| Outlet_Type | 8523 | 7060 | 8523 | 8523 | 8523 | 8523 | 8523 | 8523 | 6113 | 8523 | 8523 | 8523 |\n| Item_Outlet_Sales | 8523 | 7060 | 8523 | 8523 | 8523 | 8523 | 8523 | 8523 | 6113 | 8523 | 8523 | 8523 |\n\n\n$rm\n:   \nA matrix: 12 × 12 of type dbl\n\n| <!--/--> | Item_Identifier | Item_Weight | Item_Fat_Content | Item_Visibility | Item_Type | Item_MRP | Outlet_Identifier | Outlet_Establishment_Year | Outlet_Size | Outlet_Location_Type | Outlet_Type | Item_Outlet_Sales |\n|---|---|---|---|---|---|---|---|---|---|---|---|---|\n| Item_Identifier | 0 | 1463 | 0 | 0 | 0 | 0 | 0 | 0 | 2410 | 0 | 0 | 0 |\n| Item_Weight | 0 |    0 | 0 | 0 | 0 | 0 | 0 | 0 | 2410 | 0 | 0 | 0 |\n| Item_Fat_Content | 0 | 1463 | 0 | 0 | 0 | 0 | 0 | 0 | 2410 | 0 | 0 | 0 |\n| Item_Visibility | 0 | 1463 | 0 | 0 | 0 | 0 | 0 | 0 | 2410 | 0 | 0 | 0 |\n| Item_Type | 0 | 1463 | 0 | 0 | 0 | 0 | 0 | 0 | 2410 | 0 | 0 | 0 |\n| Item_MRP | 0 | 1463 | 0 | 0 | 0 | 0 | 0 | 0 | 2410 | 0 | 0 | 0 |\n| Outlet_Identifier | 0 | 1463 | 0 | 0 | 0 | 0 | 0 | 0 | 2410 | 0 | 0 | 0 |\n| Outlet_Establishment_Year | 0 | 1463 | 0 | 0 | 0 | 0 | 0 | 0 | 2410 | 0 | 0 | 0 |\n| Outlet_Size | 0 | 1463 | 0 | 0 | 0 | 0 | 0 | 0 |    0 | 0 | 0 | 0 |\n| Outlet_Location_Type | 0 | 1463 | 0 | 0 | 0 | 0 | 0 | 0 | 2410 | 0 | 0 | 0 |\n| Outlet_Type | 0 | 1463 | 0 | 0 | 0 | 0 | 0 | 0 | 2410 | 0 | 0 | 0 |\n| Item_Outlet_Sales | 0 | 1463 | 0 | 0 | 0 | 0 | 0 | 0 | 2410 | 0 | 0 | 0 |\n\n\n$mr\n:   \nA matrix: 12 × 12 of type dbl\n\n| <!--/--> | Item_Identifier | Item_Weight | Item_Fat_Content | Item_Visibility | Item_Type | Item_MRP | Outlet_Identifier | Outlet_Establishment_Year | Outlet_Size | Outlet_Location_Type | Outlet_Type | Item_Outlet_Sales |\n|---|---|---|---|---|---|---|---|---|---|---|---|---|\n| Item_Identifier |    0 |    0 |    0 |    0 |    0 |    0 |    0 |    0 |    0 |    0 |    0 |    0 |\n| Item_Weight | 1463 |    0 | 1463 | 1463 | 1463 | 1463 | 1463 | 1463 | 1463 | 1463 | 1463 | 1463 |\n| Item_Fat_Content |    0 |    0 |    0 |    0 |    0 |    0 |    0 |    0 |    0 |    0 |    0 |    0 |\n| Item_Visibility |    0 |    0 |    0 |    0 |    0 |    0 |    0 |    0 |    0 |    0 |    0 |    0 |\n| Item_Type |    0 |    0 |    0 |    0 |    0 |    0 |    0 |    0 |    0 |    0 |    0 |    0 |\n| Item_MRP |    0 |    0 |    0 |    0 |    0 |    0 |    0 |    0 |    0 |    0 |    0 |    0 |\n| Outlet_Identifier |    0 |    0 |    0 |    0 |    0 |    0 |    0 |    0 |    0 |    0 |    0 |    0 |\n| Outlet_Establishment_Year |    0 |    0 |    0 |    0 |    0 |    0 |    0 |    0 |    0 |    0 |    0 |    0 |\n| Outlet_Size | 2410 | 2410 | 2410 | 2410 | 2410 | 2410 | 2410 | 2410 |    0 | 2410 | 2410 | 2410 |\n| Outlet_Location_Type |    0 |    0 |    0 |    0 |    0 |    0 |    0 |    0 |    0 |    0 |    0 |    0 |\n| Outlet_Type |    0 |    0 |    0 |    0 |    0 |    0 |    0 |    0 |    0 |    0 |    0 |    0 |\n| Item_Outlet_Sales |    0 |    0 |    0 |    0 |    0 |    0 |    0 |    0 |    0 |    0 |    0 |    0 |\n\n\n$mm\n:   \nA matrix: 12 × 12 of type dbl\n\n| <!--/--> | Item_Identifier | Item_Weight | Item_Fat_Content | Item_Visibility | Item_Type | Item_MRP | Outlet_Identifier | Outlet_Establishment_Year | Outlet_Size | Outlet_Location_Type | Outlet_Type | Item_Outlet_Sales |\n|---|---|---|---|---|---|---|---|---|---|---|---|---|\n| Item_Identifier | 0 |    0 | 0 | 0 | 0 | 0 | 0 | 0 |    0 | 0 | 0 | 0 |\n| Item_Weight | 0 | 1463 | 0 | 0 | 0 | 0 | 0 | 0 |    0 | 0 | 0 | 0 |\n| Item_Fat_Content | 0 |    0 | 0 | 0 | 0 | 0 | 0 | 0 |    0 | 0 | 0 | 0 |\n| Item_Visibility | 0 |    0 | 0 | 0 | 0 | 0 | 0 | 0 |    0 | 0 | 0 | 0 |\n| Item_Type | 0 |    0 | 0 | 0 | 0 | 0 | 0 | 0 |    0 | 0 | 0 | 0 |\n| Item_MRP | 0 |    0 | 0 | 0 | 0 | 0 | 0 | 0 |    0 | 0 | 0 | 0 |\n| Outlet_Identifier | 0 |    0 | 0 | 0 | 0 | 0 | 0 | 0 |    0 | 0 | 0 | 0 |\n| Outlet_Establishment_Year | 0 |    0 | 0 | 0 | 0 | 0 | 0 | 0 |    0 | 0 | 0 | 0 |\n| Outlet_Size | 0 |    0 | 0 | 0 | 0 | 0 | 0 | 0 | 2410 | 0 | 0 | 0 |\n| Outlet_Location_Type | 0 |    0 | 0 | 0 | 0 | 0 | 0 | 0 |    0 | 0 | 0 | 0 |\n| Outlet_Type | 0 |    0 | 0 | 0 | 0 | 0 | 0 | 0 |    0 | 0 | 0 | 0 |\n| Item_Outlet_Sales | 0 |    0 | 0 | 0 | 0 | 0 | 0 | 0 |    0 | 0 | 0 | 0 |\n\n\n\n\n",
            "text/html": [
              "<dl>\n",
              "\t<dt>$rr</dt>\n",
              "\t\t<dd><table class=\"dataframe\">\n",
              "<caption>A matrix: 12 × 12 of type dbl</caption>\n",
              "<thead>\n",
              "\t<tr><th></th><th scope=col>Item_Identifier</th><th scope=col>Item_Weight</th><th scope=col>Item_Fat_Content</th><th scope=col>Item_Visibility</th><th scope=col>Item_Type</th><th scope=col>Item_MRP</th><th scope=col>Outlet_Identifier</th><th scope=col>Outlet_Establishment_Year</th><th scope=col>Outlet_Size</th><th scope=col>Outlet_Location_Type</th><th scope=col>Outlet_Type</th><th scope=col>Item_Outlet_Sales</th></tr>\n",
              "</thead>\n",
              "<tbody>\n",
              "\t<tr><th scope=row>Item_Identifier</th><td>8523</td><td>7060</td><td>8523</td><td>8523</td><td>8523</td><td>8523</td><td>8523</td><td>8523</td><td>6113</td><td>8523</td><td>8523</td><td>8523</td></tr>\n",
              "\t<tr><th scope=row>Item_Weight</th><td>7060</td><td>7060</td><td>7060</td><td>7060</td><td>7060</td><td>7060</td><td>7060</td><td>7060</td><td>4650</td><td>7060</td><td>7060</td><td>7060</td></tr>\n",
              "\t<tr><th scope=row>Item_Fat_Content</th><td>8523</td><td>7060</td><td>8523</td><td>8523</td><td>8523</td><td>8523</td><td>8523</td><td>8523</td><td>6113</td><td>8523</td><td>8523</td><td>8523</td></tr>\n",
              "\t<tr><th scope=row>Item_Visibility</th><td>8523</td><td>7060</td><td>8523</td><td>8523</td><td>8523</td><td>8523</td><td>8523</td><td>8523</td><td>6113</td><td>8523</td><td>8523</td><td>8523</td></tr>\n",
              "\t<tr><th scope=row>Item_Type</th><td>8523</td><td>7060</td><td>8523</td><td>8523</td><td>8523</td><td>8523</td><td>8523</td><td>8523</td><td>6113</td><td>8523</td><td>8523</td><td>8523</td></tr>\n",
              "\t<tr><th scope=row>Item_MRP</th><td>8523</td><td>7060</td><td>8523</td><td>8523</td><td>8523</td><td>8523</td><td>8523</td><td>8523</td><td>6113</td><td>8523</td><td>8523</td><td>8523</td></tr>\n",
              "\t<tr><th scope=row>Outlet_Identifier</th><td>8523</td><td>7060</td><td>8523</td><td>8523</td><td>8523</td><td>8523</td><td>8523</td><td>8523</td><td>6113</td><td>8523</td><td>8523</td><td>8523</td></tr>\n",
              "\t<tr><th scope=row>Outlet_Establishment_Year</th><td>8523</td><td>7060</td><td>8523</td><td>8523</td><td>8523</td><td>8523</td><td>8523</td><td>8523</td><td>6113</td><td>8523</td><td>8523</td><td>8523</td></tr>\n",
              "\t<tr><th scope=row>Outlet_Size</th><td>6113</td><td>4650</td><td>6113</td><td>6113</td><td>6113</td><td>6113</td><td>6113</td><td>6113</td><td>6113</td><td>6113</td><td>6113</td><td>6113</td></tr>\n",
              "\t<tr><th scope=row>Outlet_Location_Type</th><td>8523</td><td>7060</td><td>8523</td><td>8523</td><td>8523</td><td>8523</td><td>8523</td><td>8523</td><td>6113</td><td>8523</td><td>8523</td><td>8523</td></tr>\n",
              "\t<tr><th scope=row>Outlet_Type</th><td>8523</td><td>7060</td><td>8523</td><td>8523</td><td>8523</td><td>8523</td><td>8523</td><td>8523</td><td>6113</td><td>8523</td><td>8523</td><td>8523</td></tr>\n",
              "\t<tr><th scope=row>Item_Outlet_Sales</th><td>8523</td><td>7060</td><td>8523</td><td>8523</td><td>8523</td><td>8523</td><td>8523</td><td>8523</td><td>6113</td><td>8523</td><td>8523</td><td>8523</td></tr>\n",
              "</tbody>\n",
              "</table>\n",
              "</dd>\n",
              "\t<dt>$rm</dt>\n",
              "\t\t<dd><table class=\"dataframe\">\n",
              "<caption>A matrix: 12 × 12 of type dbl</caption>\n",
              "<thead>\n",
              "\t<tr><th></th><th scope=col>Item_Identifier</th><th scope=col>Item_Weight</th><th scope=col>Item_Fat_Content</th><th scope=col>Item_Visibility</th><th scope=col>Item_Type</th><th scope=col>Item_MRP</th><th scope=col>Outlet_Identifier</th><th scope=col>Outlet_Establishment_Year</th><th scope=col>Outlet_Size</th><th scope=col>Outlet_Location_Type</th><th scope=col>Outlet_Type</th><th scope=col>Item_Outlet_Sales</th></tr>\n",
              "</thead>\n",
              "<tbody>\n",
              "\t<tr><th scope=row>Item_Identifier</th><td>0</td><td>1463</td><td>0</td><td>0</td><td>0</td><td>0</td><td>0</td><td>0</td><td>2410</td><td>0</td><td>0</td><td>0</td></tr>\n",
              "\t<tr><th scope=row>Item_Weight</th><td>0</td><td>   0</td><td>0</td><td>0</td><td>0</td><td>0</td><td>0</td><td>0</td><td>2410</td><td>0</td><td>0</td><td>0</td></tr>\n",
              "\t<tr><th scope=row>Item_Fat_Content</th><td>0</td><td>1463</td><td>0</td><td>0</td><td>0</td><td>0</td><td>0</td><td>0</td><td>2410</td><td>0</td><td>0</td><td>0</td></tr>\n",
              "\t<tr><th scope=row>Item_Visibility</th><td>0</td><td>1463</td><td>0</td><td>0</td><td>0</td><td>0</td><td>0</td><td>0</td><td>2410</td><td>0</td><td>0</td><td>0</td></tr>\n",
              "\t<tr><th scope=row>Item_Type</th><td>0</td><td>1463</td><td>0</td><td>0</td><td>0</td><td>0</td><td>0</td><td>0</td><td>2410</td><td>0</td><td>0</td><td>0</td></tr>\n",
              "\t<tr><th scope=row>Item_MRP</th><td>0</td><td>1463</td><td>0</td><td>0</td><td>0</td><td>0</td><td>0</td><td>0</td><td>2410</td><td>0</td><td>0</td><td>0</td></tr>\n",
              "\t<tr><th scope=row>Outlet_Identifier</th><td>0</td><td>1463</td><td>0</td><td>0</td><td>0</td><td>0</td><td>0</td><td>0</td><td>2410</td><td>0</td><td>0</td><td>0</td></tr>\n",
              "\t<tr><th scope=row>Outlet_Establishment_Year</th><td>0</td><td>1463</td><td>0</td><td>0</td><td>0</td><td>0</td><td>0</td><td>0</td><td>2410</td><td>0</td><td>0</td><td>0</td></tr>\n",
              "\t<tr><th scope=row>Outlet_Size</th><td>0</td><td>1463</td><td>0</td><td>0</td><td>0</td><td>0</td><td>0</td><td>0</td><td>   0</td><td>0</td><td>0</td><td>0</td></tr>\n",
              "\t<tr><th scope=row>Outlet_Location_Type</th><td>0</td><td>1463</td><td>0</td><td>0</td><td>0</td><td>0</td><td>0</td><td>0</td><td>2410</td><td>0</td><td>0</td><td>0</td></tr>\n",
              "\t<tr><th scope=row>Outlet_Type</th><td>0</td><td>1463</td><td>0</td><td>0</td><td>0</td><td>0</td><td>0</td><td>0</td><td>2410</td><td>0</td><td>0</td><td>0</td></tr>\n",
              "\t<tr><th scope=row>Item_Outlet_Sales</th><td>0</td><td>1463</td><td>0</td><td>0</td><td>0</td><td>0</td><td>0</td><td>0</td><td>2410</td><td>0</td><td>0</td><td>0</td></tr>\n",
              "</tbody>\n",
              "</table>\n",
              "</dd>\n",
              "\t<dt>$mr</dt>\n",
              "\t\t<dd><table class=\"dataframe\">\n",
              "<caption>A matrix: 12 × 12 of type dbl</caption>\n",
              "<thead>\n",
              "\t<tr><th></th><th scope=col>Item_Identifier</th><th scope=col>Item_Weight</th><th scope=col>Item_Fat_Content</th><th scope=col>Item_Visibility</th><th scope=col>Item_Type</th><th scope=col>Item_MRP</th><th scope=col>Outlet_Identifier</th><th scope=col>Outlet_Establishment_Year</th><th scope=col>Outlet_Size</th><th scope=col>Outlet_Location_Type</th><th scope=col>Outlet_Type</th><th scope=col>Item_Outlet_Sales</th></tr>\n",
              "</thead>\n",
              "<tbody>\n",
              "\t<tr><th scope=row>Item_Identifier</th><td>   0</td><td>   0</td><td>   0</td><td>   0</td><td>   0</td><td>   0</td><td>   0</td><td>   0</td><td>   0</td><td>   0</td><td>   0</td><td>   0</td></tr>\n",
              "\t<tr><th scope=row>Item_Weight</th><td>1463</td><td>   0</td><td>1463</td><td>1463</td><td>1463</td><td>1463</td><td>1463</td><td>1463</td><td>1463</td><td>1463</td><td>1463</td><td>1463</td></tr>\n",
              "\t<tr><th scope=row>Item_Fat_Content</th><td>   0</td><td>   0</td><td>   0</td><td>   0</td><td>   0</td><td>   0</td><td>   0</td><td>   0</td><td>   0</td><td>   0</td><td>   0</td><td>   0</td></tr>\n",
              "\t<tr><th scope=row>Item_Visibility</th><td>   0</td><td>   0</td><td>   0</td><td>   0</td><td>   0</td><td>   0</td><td>   0</td><td>   0</td><td>   0</td><td>   0</td><td>   0</td><td>   0</td></tr>\n",
              "\t<tr><th scope=row>Item_Type</th><td>   0</td><td>   0</td><td>   0</td><td>   0</td><td>   0</td><td>   0</td><td>   0</td><td>   0</td><td>   0</td><td>   0</td><td>   0</td><td>   0</td></tr>\n",
              "\t<tr><th scope=row>Item_MRP</th><td>   0</td><td>   0</td><td>   0</td><td>   0</td><td>   0</td><td>   0</td><td>   0</td><td>   0</td><td>   0</td><td>   0</td><td>   0</td><td>   0</td></tr>\n",
              "\t<tr><th scope=row>Outlet_Identifier</th><td>   0</td><td>   0</td><td>   0</td><td>   0</td><td>   0</td><td>   0</td><td>   0</td><td>   0</td><td>   0</td><td>   0</td><td>   0</td><td>   0</td></tr>\n",
              "\t<tr><th scope=row>Outlet_Establishment_Year</th><td>   0</td><td>   0</td><td>   0</td><td>   0</td><td>   0</td><td>   0</td><td>   0</td><td>   0</td><td>   0</td><td>   0</td><td>   0</td><td>   0</td></tr>\n",
              "\t<tr><th scope=row>Outlet_Size</th><td>2410</td><td>2410</td><td>2410</td><td>2410</td><td>2410</td><td>2410</td><td>2410</td><td>2410</td><td>   0</td><td>2410</td><td>2410</td><td>2410</td></tr>\n",
              "\t<tr><th scope=row>Outlet_Location_Type</th><td>   0</td><td>   0</td><td>   0</td><td>   0</td><td>   0</td><td>   0</td><td>   0</td><td>   0</td><td>   0</td><td>   0</td><td>   0</td><td>   0</td></tr>\n",
              "\t<tr><th scope=row>Outlet_Type</th><td>   0</td><td>   0</td><td>   0</td><td>   0</td><td>   0</td><td>   0</td><td>   0</td><td>   0</td><td>   0</td><td>   0</td><td>   0</td><td>   0</td></tr>\n",
              "\t<tr><th scope=row>Item_Outlet_Sales</th><td>   0</td><td>   0</td><td>   0</td><td>   0</td><td>   0</td><td>   0</td><td>   0</td><td>   0</td><td>   0</td><td>   0</td><td>   0</td><td>   0</td></tr>\n",
              "</tbody>\n",
              "</table>\n",
              "</dd>\n",
              "\t<dt>$mm</dt>\n",
              "\t\t<dd><table class=\"dataframe\">\n",
              "<caption>A matrix: 12 × 12 of type dbl</caption>\n",
              "<thead>\n",
              "\t<tr><th></th><th scope=col>Item_Identifier</th><th scope=col>Item_Weight</th><th scope=col>Item_Fat_Content</th><th scope=col>Item_Visibility</th><th scope=col>Item_Type</th><th scope=col>Item_MRP</th><th scope=col>Outlet_Identifier</th><th scope=col>Outlet_Establishment_Year</th><th scope=col>Outlet_Size</th><th scope=col>Outlet_Location_Type</th><th scope=col>Outlet_Type</th><th scope=col>Item_Outlet_Sales</th></tr>\n",
              "</thead>\n",
              "<tbody>\n",
              "\t<tr><th scope=row>Item_Identifier</th><td>0</td><td>   0</td><td>0</td><td>0</td><td>0</td><td>0</td><td>0</td><td>0</td><td>   0</td><td>0</td><td>0</td><td>0</td></tr>\n",
              "\t<tr><th scope=row>Item_Weight</th><td>0</td><td>1463</td><td>0</td><td>0</td><td>0</td><td>0</td><td>0</td><td>0</td><td>   0</td><td>0</td><td>0</td><td>0</td></tr>\n",
              "\t<tr><th scope=row>Item_Fat_Content</th><td>0</td><td>   0</td><td>0</td><td>0</td><td>0</td><td>0</td><td>0</td><td>0</td><td>   0</td><td>0</td><td>0</td><td>0</td></tr>\n",
              "\t<tr><th scope=row>Item_Visibility</th><td>0</td><td>   0</td><td>0</td><td>0</td><td>0</td><td>0</td><td>0</td><td>0</td><td>   0</td><td>0</td><td>0</td><td>0</td></tr>\n",
              "\t<tr><th scope=row>Item_Type</th><td>0</td><td>   0</td><td>0</td><td>0</td><td>0</td><td>0</td><td>0</td><td>0</td><td>   0</td><td>0</td><td>0</td><td>0</td></tr>\n",
              "\t<tr><th scope=row>Item_MRP</th><td>0</td><td>   0</td><td>0</td><td>0</td><td>0</td><td>0</td><td>0</td><td>0</td><td>   0</td><td>0</td><td>0</td><td>0</td></tr>\n",
              "\t<tr><th scope=row>Outlet_Identifier</th><td>0</td><td>   0</td><td>0</td><td>0</td><td>0</td><td>0</td><td>0</td><td>0</td><td>   0</td><td>0</td><td>0</td><td>0</td></tr>\n",
              "\t<tr><th scope=row>Outlet_Establishment_Year</th><td>0</td><td>   0</td><td>0</td><td>0</td><td>0</td><td>0</td><td>0</td><td>0</td><td>   0</td><td>0</td><td>0</td><td>0</td></tr>\n",
              "\t<tr><th scope=row>Outlet_Size</th><td>0</td><td>   0</td><td>0</td><td>0</td><td>0</td><td>0</td><td>0</td><td>0</td><td>2410</td><td>0</td><td>0</td><td>0</td></tr>\n",
              "\t<tr><th scope=row>Outlet_Location_Type</th><td>0</td><td>   0</td><td>0</td><td>0</td><td>0</td><td>0</td><td>0</td><td>0</td><td>   0</td><td>0</td><td>0</td><td>0</td></tr>\n",
              "\t<tr><th scope=row>Outlet_Type</th><td>0</td><td>   0</td><td>0</td><td>0</td><td>0</td><td>0</td><td>0</td><td>0</td><td>   0</td><td>0</td><td>0</td><td>0</td></tr>\n",
              "\t<tr><th scope=row>Item_Outlet_Sales</th><td>0</td><td>   0</td><td>0</td><td>0</td><td>0</td><td>0</td><td>0</td><td>0</td><td>   0</td><td>0</td><td>0</td><td>0</td></tr>\n",
              "</tbody>\n",
              "</table>\n",
              "</dd>\n",
              "</dl>\n"
            ]
          },
          "metadata": {}
        }
      ]
    },
    {
      "cell_type": "code",
      "metadata": {
        "colab": {
          "base_uri": "https://localhost:8080/"
        },
        "id": "UOa5XQQVZlLs",
        "outputId": "5b134366-e59a-4fc0-e172-81c4ea36a76f"
      },
      "source": [
        "#Predictive Mean Matching (PMM)\n",
        "impute <- mice(martdata[,1:12], m=3, seed = 123)\n",
        "print(impute)"
      ],
      "execution_count": 46,
      "outputs": [
        {
          "output_type": "stream",
          "name": "stdout",
          "text": [
            "\n",
            " iter imp variable\n",
            "  1   1  Item_Weight\n",
            "  1   2  Item_Weight\n",
            "  1   3  Item_Weight\n",
            "  2   1  Item_Weight\n",
            "  2   2  Item_Weight\n",
            "  2   3  Item_Weight\n",
            "  3   1  Item_Weight\n",
            "  3   2  Item_Weight\n",
            "  3   3  Item_Weight\n",
            "  4   1  Item_Weight\n",
            "  4   2  Item_Weight\n",
            "  4   3  Item_Weight\n",
            "  5   1  Item_Weight\n",
            "  5   2  Item_Weight\n",
            "  5   3  Item_Weight\n",
            "Class: mids\n",
            "Number of multiple imputations:  3 \n",
            "Imputation methods:\n",
            "          Item_Identifier               Item_Weight          Item_Fat_Content \n",
            "                       \"\"                     \"pmm\"                        \"\" \n",
            "          Item_Visibility                 Item_Type                  Item_MRP \n",
            "                       \"\"                        \"\"                        \"\" \n",
            "        Outlet_Identifier Outlet_Establishment_Year               Outlet_Size \n",
            "                       \"\"                        \"\"                        \"\" \n",
            "     Outlet_Location_Type               Outlet_Type         Item_Outlet_Sales \n",
            "                       \"\"                        \"\"                        \"\" \n",
            "PredictorMatrix:\n",
            "                 Item_Identifier Item_Weight Item_Fat_Content Item_Visibility\n",
            "Item_Identifier                0           1                0               1\n",
            "Item_Weight                    0           0                0               1\n",
            "Item_Fat_Content               0           1                0               1\n",
            "Item_Visibility                0           1                0               0\n",
            "Item_Type                      0           1                0               1\n",
            "Item_MRP                       0           1                0               1\n",
            "                 Item_Type Item_MRP Outlet_Identifier Outlet_Establishment_Year\n",
            "Item_Identifier          0        1                 0                         1\n",
            "Item_Weight              0        1                 0                         1\n",
            "Item_Fat_Content         0        1                 0                         1\n",
            "Item_Visibility          0        1                 0                         1\n",
            "Item_Type                0        1                 0                         1\n",
            "Item_MRP                 0        0                 0                         1\n",
            "                 Outlet_Size Outlet_Location_Type Outlet_Type Item_Outlet_Sales\n",
            "Item_Identifier            0                    0           0                 1\n",
            "Item_Weight                0                    0           0                 1\n",
            "Item_Fat_Content           0                    0           0                 1\n",
            "Item_Visibility            0                    0           0                 1\n",
            "Item_Type                  0                    0           0                 1\n",
            "Item_MRP                   0                    0           0                 1\n",
            "Number of logged events:  7 \n",
            "  it im dep     meth                  out\n",
            "1  0  0     constant      Item_Identifier\n",
            "2  0  0     constant     Item_Fat_Content\n",
            "3  0  0     constant            Item_Type\n",
            "4  0  0     constant    Outlet_Identifier\n",
            "5  0  0     constant          Outlet_Size\n",
            "6  0  0     constant Outlet_Location_Type\n"
          ]
        }
      ]
    },
    {
      "cell_type": "code",
      "metadata": {
        "colab": {
          "base_uri": "https://localhost:8080/",
          "height": 1000
        },
        "id": "4BTQ8jG5bRM0",
        "outputId": "d55cedb2-d87f-4a36-cb31-ea3e121af7d6"
      },
      "source": [
        "impute$imp$Item_Weight"
      ],
      "execution_count": 47,
      "outputs": [
        {
          "output_type": "display_data",
          "data": {
            "text/plain": [
              "     1      2      3     \n",
              "8    11.650 19.000 17.600\n",
              "19    7.930 14.350 11.300\n",
              "22    8.600  6.480 14.500\n",
              "24    7.390 17.350  4.920\n",
              "30   14.700 14.000 14.500\n",
              "37    8.380 19.850  8.270\n",
              "39    6.110 17.600 12.650\n",
              "40    9.895 13.100 20.700\n",
              "50   15.100 17.850  5.905\n",
              "60    8.000 14.850 10.500\n",
              "63   20.200 11.500  6.135\n",
              "64    6.360 12.300 10.000\n",
              "65   17.500 20.350  5.785\n",
              "78    7.070 10.300  6.380\n",
              "84   10.695  8.310  8.945\n",
              "85    6.780 17.600 12.150\n",
              "88   20.750 16.750  6.785\n",
              "96   17.500 11.500 15.850\n",
              "99    8.760 18.250  6.785\n",
              "102  16.000 18.500 11.650\n",
              "109   6.300  6.110  9.895\n",
              "113   9.300 19.700 13.800\n",
              "114   6.320  6.865 16.000\n",
              "131  16.750 18.250 16.750\n",
              "133  15.500 19.750 11.395\n",
              "137  15.350 19.750 15.700\n",
              "154  15.600 10.195 11.500\n",
              "162   9.395  7.075 20.350\n",
              "169  11.800 16.350 11.600\n",
              "179   7.155  8.695 12.600\n",
              "⋮    ⋮      ⋮      ⋮     \n",
              "8350 16.750 10.195 12.150\n",
              "8352 10.000  8.960 15.200\n",
              "8354  7.935 10.695  7.365\n",
              "8357 20.750 17.600 19.000\n",
              "8359  9.500 20.850  7.575\n",
              "8363 19.600 19.600 10.300\n",
              "8368  7.350 12.100  8.000\n",
              "8373  7.720 18.850 19.850\n",
              "8374  7.760  8.300  8.710\n",
              "8376 17.500  7.655 19.850\n",
              "8384 11.500 15.350 10.195\n",
              "8391 20.200  5.460 18.250\n",
              "8405 19.850 18.850  9.600\n",
              "8406 13.100 10.500  9.695\n",
              "8423 13.150  7.785 12.600\n",
              "8436 19.850 17.700 16.700\n",
              "8443  7.855  8.895  8.760\n",
              "8445 12.600 20.500 14.000\n",
              "8450  7.935 19.350 12.150\n",
              "8455  7.500 17.350  9.285\n",
              "8459  7.935 15.000 18.750\n",
              "8464 15.000  7.390  9.695\n",
              "8470 17.500 16.750  9.300\n",
              "8473 17.500  5.780  7.365\n",
              "8481  7.035  6.550 18.250\n",
              "8486  8.300 20.850  9.695\n",
              "8488  7.260  5.305 19.500\n",
              "8489 10.395 11.800  7.855\n",
              "8491 15.600  6.650 13.850\n",
              "8505 12.350 12.600 16.500"
            ],
            "text/latex": "A data.frame: 1463 × 3\n\\begin{tabular}{r|lll}\n  & 1 & 2 & 3\\\\\n  & <dbl> & <dbl> & <dbl>\\\\\n\\hline\n\t8 & 11.650 & 19.000 & 17.600\\\\\n\t19 &  7.930 & 14.350 & 11.300\\\\\n\t22 &  8.600 &  6.480 & 14.500\\\\\n\t24 &  7.390 & 17.350 &  4.920\\\\\n\t30 & 14.700 & 14.000 & 14.500\\\\\n\t37 &  8.380 & 19.850 &  8.270\\\\\n\t39 &  6.110 & 17.600 & 12.650\\\\\n\t40 &  9.895 & 13.100 & 20.700\\\\\n\t50 & 15.100 & 17.850 &  5.905\\\\\n\t60 &  8.000 & 14.850 & 10.500\\\\\n\t63 & 20.200 & 11.500 &  6.135\\\\\n\t64 &  6.360 & 12.300 & 10.000\\\\\n\t65 & 17.500 & 20.350 &  5.785\\\\\n\t78 &  7.070 & 10.300 &  6.380\\\\\n\t84 & 10.695 &  8.310 &  8.945\\\\\n\t85 &  6.780 & 17.600 & 12.150\\\\\n\t88 & 20.750 & 16.750 &  6.785\\\\\n\t96 & 17.500 & 11.500 & 15.850\\\\\n\t99 &  8.760 & 18.250 &  6.785\\\\\n\t102 & 16.000 & 18.500 & 11.650\\\\\n\t109 &  6.300 &  6.110 &  9.895\\\\\n\t113 &  9.300 & 19.700 & 13.800\\\\\n\t114 &  6.320 &  6.865 & 16.000\\\\\n\t131 & 16.750 & 18.250 & 16.750\\\\\n\t133 & 15.500 & 19.750 & 11.395\\\\\n\t137 & 15.350 & 19.750 & 15.700\\\\\n\t154 & 15.600 & 10.195 & 11.500\\\\\n\t162 &  9.395 &  7.075 & 20.350\\\\\n\t169 & 11.800 & 16.350 & 11.600\\\\\n\t179 &  7.155 &  8.695 & 12.600\\\\\n\t⋮ & ⋮ & ⋮ & ⋮\\\\\n\t8350 & 16.750 & 10.195 & 12.150\\\\\n\t8352 & 10.000 &  8.960 & 15.200\\\\\n\t8354 &  7.935 & 10.695 &  7.365\\\\\n\t8357 & 20.750 & 17.600 & 19.000\\\\\n\t8359 &  9.500 & 20.850 &  7.575\\\\\n\t8363 & 19.600 & 19.600 & 10.300\\\\\n\t8368 &  7.350 & 12.100 &  8.000\\\\\n\t8373 &  7.720 & 18.850 & 19.850\\\\\n\t8374 &  7.760 &  8.300 &  8.710\\\\\n\t8376 & 17.500 &  7.655 & 19.850\\\\\n\t8384 & 11.500 & 15.350 & 10.195\\\\\n\t8391 & 20.200 &  5.460 & 18.250\\\\\n\t8405 & 19.850 & 18.850 &  9.600\\\\\n\t8406 & 13.100 & 10.500 &  9.695\\\\\n\t8423 & 13.150 &  7.785 & 12.600\\\\\n\t8436 & 19.850 & 17.700 & 16.700\\\\\n\t8443 &  7.855 &  8.895 &  8.760\\\\\n\t8445 & 12.600 & 20.500 & 14.000\\\\\n\t8450 &  7.935 & 19.350 & 12.150\\\\\n\t8455 &  7.500 & 17.350 &  9.285\\\\\n\t8459 &  7.935 & 15.000 & 18.750\\\\\n\t8464 & 15.000 &  7.390 &  9.695\\\\\n\t8470 & 17.500 & 16.750 &  9.300\\\\\n\t8473 & 17.500 &  5.780 &  7.365\\\\\n\t8481 &  7.035 &  6.550 & 18.250\\\\\n\t8486 &  8.300 & 20.850 &  9.695\\\\\n\t8488 &  7.260 &  5.305 & 19.500\\\\\n\t8489 & 10.395 & 11.800 &  7.855\\\\\n\t8491 & 15.600 &  6.650 & 13.850\\\\\n\t8505 & 12.350 & 12.600 & 16.500\\\\\n\\end{tabular}\n",
            "text/markdown": "\nA data.frame: 1463 × 3\n\n| <!--/--> | 1 &lt;dbl&gt; | 2 &lt;dbl&gt; | 3 &lt;dbl&gt; |\n|---|---|---|---|\n| 8 | 11.650 | 19.000 | 17.600 |\n| 19 |  7.930 | 14.350 | 11.300 |\n| 22 |  8.600 |  6.480 | 14.500 |\n| 24 |  7.390 | 17.350 |  4.920 |\n| 30 | 14.700 | 14.000 | 14.500 |\n| 37 |  8.380 | 19.850 |  8.270 |\n| 39 |  6.110 | 17.600 | 12.650 |\n| 40 |  9.895 | 13.100 | 20.700 |\n| 50 | 15.100 | 17.850 |  5.905 |\n| 60 |  8.000 | 14.850 | 10.500 |\n| 63 | 20.200 | 11.500 |  6.135 |\n| 64 |  6.360 | 12.300 | 10.000 |\n| 65 | 17.500 | 20.350 |  5.785 |\n| 78 |  7.070 | 10.300 |  6.380 |\n| 84 | 10.695 |  8.310 |  8.945 |\n| 85 |  6.780 | 17.600 | 12.150 |\n| 88 | 20.750 | 16.750 |  6.785 |\n| 96 | 17.500 | 11.500 | 15.850 |\n| 99 |  8.760 | 18.250 |  6.785 |\n| 102 | 16.000 | 18.500 | 11.650 |\n| 109 |  6.300 |  6.110 |  9.895 |\n| 113 |  9.300 | 19.700 | 13.800 |\n| 114 |  6.320 |  6.865 | 16.000 |\n| 131 | 16.750 | 18.250 | 16.750 |\n| 133 | 15.500 | 19.750 | 11.395 |\n| 137 | 15.350 | 19.750 | 15.700 |\n| 154 | 15.600 | 10.195 | 11.500 |\n| 162 |  9.395 |  7.075 | 20.350 |\n| 169 | 11.800 | 16.350 | 11.600 |\n| 179 |  7.155 |  8.695 | 12.600 |\n| ⋮ | ⋮ | ⋮ | ⋮ |\n| 8350 | 16.750 | 10.195 | 12.150 |\n| 8352 | 10.000 |  8.960 | 15.200 |\n| 8354 |  7.935 | 10.695 |  7.365 |\n| 8357 | 20.750 | 17.600 | 19.000 |\n| 8359 |  9.500 | 20.850 |  7.575 |\n| 8363 | 19.600 | 19.600 | 10.300 |\n| 8368 |  7.350 | 12.100 |  8.000 |\n| 8373 |  7.720 | 18.850 | 19.850 |\n| 8374 |  7.760 |  8.300 |  8.710 |\n| 8376 | 17.500 |  7.655 | 19.850 |\n| 8384 | 11.500 | 15.350 | 10.195 |\n| 8391 | 20.200 |  5.460 | 18.250 |\n| 8405 | 19.850 | 18.850 |  9.600 |\n| 8406 | 13.100 | 10.500 |  9.695 |\n| 8423 | 13.150 |  7.785 | 12.600 |\n| 8436 | 19.850 | 17.700 | 16.700 |\n| 8443 |  7.855 |  8.895 |  8.760 |\n| 8445 | 12.600 | 20.500 | 14.000 |\n| 8450 |  7.935 | 19.350 | 12.150 |\n| 8455 |  7.500 | 17.350 |  9.285 |\n| 8459 |  7.935 | 15.000 | 18.750 |\n| 8464 | 15.000 |  7.390 |  9.695 |\n| 8470 | 17.500 | 16.750 |  9.300 |\n| 8473 | 17.500 |  5.780 |  7.365 |\n| 8481 |  7.035 |  6.550 | 18.250 |\n| 8486 |  8.300 | 20.850 |  9.695 |\n| 8488 |  7.260 |  5.305 | 19.500 |\n| 8489 | 10.395 | 11.800 |  7.855 |\n| 8491 | 15.600 |  6.650 | 13.850 |\n| 8505 | 12.350 | 12.600 | 16.500 |\n\n",
            "text/html": [
              "<table class=\"dataframe\">\n",
              "<caption>A data.frame: 1463 × 3</caption>\n",
              "<thead>\n",
              "\t<tr><th></th><th scope=col>1</th><th scope=col>2</th><th scope=col>3</th></tr>\n",
              "\t<tr><th></th><th scope=col>&lt;dbl&gt;</th><th scope=col>&lt;dbl&gt;</th><th scope=col>&lt;dbl&gt;</th></tr>\n",
              "</thead>\n",
              "<tbody>\n",
              "\t<tr><th scope=row>8</th><td>11.650</td><td>19.000</td><td>17.600</td></tr>\n",
              "\t<tr><th scope=row>19</th><td> 7.930</td><td>14.350</td><td>11.300</td></tr>\n",
              "\t<tr><th scope=row>22</th><td> 8.600</td><td> 6.480</td><td>14.500</td></tr>\n",
              "\t<tr><th scope=row>24</th><td> 7.390</td><td>17.350</td><td> 4.920</td></tr>\n",
              "\t<tr><th scope=row>30</th><td>14.700</td><td>14.000</td><td>14.500</td></tr>\n",
              "\t<tr><th scope=row>37</th><td> 8.380</td><td>19.850</td><td> 8.270</td></tr>\n",
              "\t<tr><th scope=row>39</th><td> 6.110</td><td>17.600</td><td>12.650</td></tr>\n",
              "\t<tr><th scope=row>40</th><td> 9.895</td><td>13.100</td><td>20.700</td></tr>\n",
              "\t<tr><th scope=row>50</th><td>15.100</td><td>17.850</td><td> 5.905</td></tr>\n",
              "\t<tr><th scope=row>60</th><td> 8.000</td><td>14.850</td><td>10.500</td></tr>\n",
              "\t<tr><th scope=row>63</th><td>20.200</td><td>11.500</td><td> 6.135</td></tr>\n",
              "\t<tr><th scope=row>64</th><td> 6.360</td><td>12.300</td><td>10.000</td></tr>\n",
              "\t<tr><th scope=row>65</th><td>17.500</td><td>20.350</td><td> 5.785</td></tr>\n",
              "\t<tr><th scope=row>78</th><td> 7.070</td><td>10.300</td><td> 6.380</td></tr>\n",
              "\t<tr><th scope=row>84</th><td>10.695</td><td> 8.310</td><td> 8.945</td></tr>\n",
              "\t<tr><th scope=row>85</th><td> 6.780</td><td>17.600</td><td>12.150</td></tr>\n",
              "\t<tr><th scope=row>88</th><td>20.750</td><td>16.750</td><td> 6.785</td></tr>\n",
              "\t<tr><th scope=row>96</th><td>17.500</td><td>11.500</td><td>15.850</td></tr>\n",
              "\t<tr><th scope=row>99</th><td> 8.760</td><td>18.250</td><td> 6.785</td></tr>\n",
              "\t<tr><th scope=row>102</th><td>16.000</td><td>18.500</td><td>11.650</td></tr>\n",
              "\t<tr><th scope=row>109</th><td> 6.300</td><td> 6.110</td><td> 9.895</td></tr>\n",
              "\t<tr><th scope=row>113</th><td> 9.300</td><td>19.700</td><td>13.800</td></tr>\n",
              "\t<tr><th scope=row>114</th><td> 6.320</td><td> 6.865</td><td>16.000</td></tr>\n",
              "\t<tr><th scope=row>131</th><td>16.750</td><td>18.250</td><td>16.750</td></tr>\n",
              "\t<tr><th scope=row>133</th><td>15.500</td><td>19.750</td><td>11.395</td></tr>\n",
              "\t<tr><th scope=row>137</th><td>15.350</td><td>19.750</td><td>15.700</td></tr>\n",
              "\t<tr><th scope=row>154</th><td>15.600</td><td>10.195</td><td>11.500</td></tr>\n",
              "\t<tr><th scope=row>162</th><td> 9.395</td><td> 7.075</td><td>20.350</td></tr>\n",
              "\t<tr><th scope=row>169</th><td>11.800</td><td>16.350</td><td>11.600</td></tr>\n",
              "\t<tr><th scope=row>179</th><td> 7.155</td><td> 8.695</td><td>12.600</td></tr>\n",
              "\t<tr><th scope=row>⋮</th><td>⋮</td><td>⋮</td><td>⋮</td></tr>\n",
              "\t<tr><th scope=row>8350</th><td>16.750</td><td>10.195</td><td>12.150</td></tr>\n",
              "\t<tr><th scope=row>8352</th><td>10.000</td><td> 8.960</td><td>15.200</td></tr>\n",
              "\t<tr><th scope=row>8354</th><td> 7.935</td><td>10.695</td><td> 7.365</td></tr>\n",
              "\t<tr><th scope=row>8357</th><td>20.750</td><td>17.600</td><td>19.000</td></tr>\n",
              "\t<tr><th scope=row>8359</th><td> 9.500</td><td>20.850</td><td> 7.575</td></tr>\n",
              "\t<tr><th scope=row>8363</th><td>19.600</td><td>19.600</td><td>10.300</td></tr>\n",
              "\t<tr><th scope=row>8368</th><td> 7.350</td><td>12.100</td><td> 8.000</td></tr>\n",
              "\t<tr><th scope=row>8373</th><td> 7.720</td><td>18.850</td><td>19.850</td></tr>\n",
              "\t<tr><th scope=row>8374</th><td> 7.760</td><td> 8.300</td><td> 8.710</td></tr>\n",
              "\t<tr><th scope=row>8376</th><td>17.500</td><td> 7.655</td><td>19.850</td></tr>\n",
              "\t<tr><th scope=row>8384</th><td>11.500</td><td>15.350</td><td>10.195</td></tr>\n",
              "\t<tr><th scope=row>8391</th><td>20.200</td><td> 5.460</td><td>18.250</td></tr>\n",
              "\t<tr><th scope=row>8405</th><td>19.850</td><td>18.850</td><td> 9.600</td></tr>\n",
              "\t<tr><th scope=row>8406</th><td>13.100</td><td>10.500</td><td> 9.695</td></tr>\n",
              "\t<tr><th scope=row>8423</th><td>13.150</td><td> 7.785</td><td>12.600</td></tr>\n",
              "\t<tr><th scope=row>8436</th><td>19.850</td><td>17.700</td><td>16.700</td></tr>\n",
              "\t<tr><th scope=row>8443</th><td> 7.855</td><td> 8.895</td><td> 8.760</td></tr>\n",
              "\t<tr><th scope=row>8445</th><td>12.600</td><td>20.500</td><td>14.000</td></tr>\n",
              "\t<tr><th scope=row>8450</th><td> 7.935</td><td>19.350</td><td>12.150</td></tr>\n",
              "\t<tr><th scope=row>8455</th><td> 7.500</td><td>17.350</td><td> 9.285</td></tr>\n",
              "\t<tr><th scope=row>8459</th><td> 7.935</td><td>15.000</td><td>18.750</td></tr>\n",
              "\t<tr><th scope=row>8464</th><td>15.000</td><td> 7.390</td><td> 9.695</td></tr>\n",
              "\t<tr><th scope=row>8470</th><td>17.500</td><td>16.750</td><td> 9.300</td></tr>\n",
              "\t<tr><th scope=row>8473</th><td>17.500</td><td> 5.780</td><td> 7.365</td></tr>\n",
              "\t<tr><th scope=row>8481</th><td> 7.035</td><td> 6.550</td><td>18.250</td></tr>\n",
              "\t<tr><th scope=row>8486</th><td> 8.300</td><td>20.850</td><td> 9.695</td></tr>\n",
              "\t<tr><th scope=row>8488</th><td> 7.260</td><td> 5.305</td><td>19.500</td></tr>\n",
              "\t<tr><th scope=row>8489</th><td>10.395</td><td>11.800</td><td> 7.855</td></tr>\n",
              "\t<tr><th scope=row>8491</th><td>15.600</td><td> 6.650</td><td>13.850</td></tr>\n",
              "\t<tr><th scope=row>8505</th><td>12.350</td><td>12.600</td><td>16.500</td></tr>\n",
              "</tbody>\n",
              "</table>\n"
            ]
          },
          "metadata": {}
        }
      ]
    },
    {
      "cell_type": "code",
      "metadata": {
        "colab": {
          "base_uri": "https://localhost:8080/",
          "height": 165
        },
        "id": "UcXFm6SVbd8b",
        "outputId": "86ea42c3-c2a1-4bf5-e52a-d120b5c6308b"
      },
      "source": [
        "martdata[179,]"
      ],
      "execution_count": 48,
      "outputs": [
        {
          "output_type": "display_data",
          "data": {
            "text/plain": [
              "    Item_Identifier Item_Weight Item_Fat_Content Item_Visibility Item_Type  \n",
              "179 DRY23           NA          Regular          0.1910137       Soft Drinks\n",
              "    Item_MRP Outlet_Identifier Outlet_Establishment_Year Outlet_Size\n",
              "179 42.1112  OUT019            1985                      Small      \n",
              "    Outlet_Location_Type Outlet_Type   Item_Outlet_Sales\n",
              "179 Tier 1               Grocery Store 42.6112          "
            ],
            "text/latex": "A data.frame: 1 × 12\n\\begin{tabular}{r|llllllllllll}\n  & Item\\_Identifier & Item\\_Weight & Item\\_Fat\\_Content & Item\\_Visibility & Item\\_Type & Item\\_MRP & Outlet\\_Identifier & Outlet\\_Establishment\\_Year & Outlet\\_Size & Outlet\\_Location\\_Type & Outlet\\_Type & Item\\_Outlet\\_Sales\\\\\n  & <chr> & <dbl> & <chr> & <dbl> & <chr> & <dbl> & <chr> & <int> & <chr> & <chr> & <chr> & <dbl>\\\\\n\\hline\n\t179 & DRY23 & NA & Regular & 0.1910137 & Soft Drinks & 42.1112 & OUT019 & 1985 & Small & Tier 1 & Grocery Store & 42.6112\\\\\n\\end{tabular}\n",
            "text/markdown": "\nA data.frame: 1 × 12\n\n| <!--/--> | Item_Identifier &lt;chr&gt; | Item_Weight &lt;dbl&gt; | Item_Fat_Content &lt;chr&gt; | Item_Visibility &lt;dbl&gt; | Item_Type &lt;chr&gt; | Item_MRP &lt;dbl&gt; | Outlet_Identifier &lt;chr&gt; | Outlet_Establishment_Year &lt;int&gt; | Outlet_Size &lt;chr&gt; | Outlet_Location_Type &lt;chr&gt; | Outlet_Type &lt;chr&gt; | Item_Outlet_Sales &lt;dbl&gt; |\n|---|---|---|---|---|---|---|---|---|---|---|---|---|\n| 179 | DRY23 | NA | Regular | 0.1910137 | Soft Drinks | 42.1112 | OUT019 | 1985 | Small | Tier 1 | Grocery Store | 42.6112 |\n\n",
            "text/html": [
              "<table class=\"dataframe\">\n",
              "<caption>A data.frame: 1 × 12</caption>\n",
              "<thead>\n",
              "\t<tr><th></th><th scope=col>Item_Identifier</th><th scope=col>Item_Weight</th><th scope=col>Item_Fat_Content</th><th scope=col>Item_Visibility</th><th scope=col>Item_Type</th><th scope=col>Item_MRP</th><th scope=col>Outlet_Identifier</th><th scope=col>Outlet_Establishment_Year</th><th scope=col>Outlet_Size</th><th scope=col>Outlet_Location_Type</th><th scope=col>Outlet_Type</th><th scope=col>Item_Outlet_Sales</th></tr>\n",
              "\t<tr><th></th><th scope=col>&lt;chr&gt;</th><th scope=col>&lt;dbl&gt;</th><th scope=col>&lt;chr&gt;</th><th scope=col>&lt;dbl&gt;</th><th scope=col>&lt;chr&gt;</th><th scope=col>&lt;dbl&gt;</th><th scope=col>&lt;chr&gt;</th><th scope=col>&lt;int&gt;</th><th scope=col>&lt;chr&gt;</th><th scope=col>&lt;chr&gt;</th><th scope=col>&lt;chr&gt;</th><th scope=col>&lt;dbl&gt;</th></tr>\n",
              "</thead>\n",
              "<tbody>\n",
              "\t<tr><th scope=row>179</th><td>DRY23</td><td>NA</td><td>Regular</td><td>0.1910137</td><td>Soft Drinks</td><td>42.1112</td><td>OUT019</td><td>1985</td><td>Small</td><td>Tier 1</td><td>Grocery Store</td><td>42.6112</td></tr>\n",
              "</tbody>\n",
              "</table>\n"
            ]
          },
          "metadata": {}
        }
      ]
    },
    {
      "cell_type": "code",
      "metadata": {
        "colab": {
          "base_uri": "https://localhost:8080/",
          "height": 165
        },
        "id": "K8k_YOvYcAKA",
        "outputId": "af1cfce9-e920-4bfe-a762-7e1f42f69828"
      },
      "source": [
        "martdata[8350,]"
      ],
      "execution_count": 49,
      "outputs": [
        {
          "output_type": "display_data",
          "data": {
            "text/plain": [
              "     Item_Identifier Item_Weight Item_Fat_Content Item_Visibility Item_Type\n",
              "8350 FDN15           NA          Low Fat          0.01665302      Meat     \n",
              "     Item_MRP Outlet_Identifier Outlet_Establishment_Year Outlet_Size\n",
              "8350 139.518  OUT027            1985                      Medium     \n",
              "     Outlet_Location_Type Outlet_Type       Item_Outlet_Sales\n",
              "8350 Tier 3               Supermarket Type3 2936.178         "
            ],
            "text/latex": "A data.frame: 1 × 12\n\\begin{tabular}{r|llllllllllll}\n  & Item\\_Identifier & Item\\_Weight & Item\\_Fat\\_Content & Item\\_Visibility & Item\\_Type & Item\\_MRP & Outlet\\_Identifier & Outlet\\_Establishment\\_Year & Outlet\\_Size & Outlet\\_Location\\_Type & Outlet\\_Type & Item\\_Outlet\\_Sales\\\\\n  & <chr> & <dbl> & <chr> & <dbl> & <chr> & <dbl> & <chr> & <int> & <chr> & <chr> & <chr> & <dbl>\\\\\n\\hline\n\t8350 & FDN15 & NA & Low Fat & 0.01665302 & Meat & 139.518 & OUT027 & 1985 & Medium & Tier 3 & Supermarket Type3 & 2936.178\\\\\n\\end{tabular}\n",
            "text/markdown": "\nA data.frame: 1 × 12\n\n| <!--/--> | Item_Identifier &lt;chr&gt; | Item_Weight &lt;dbl&gt; | Item_Fat_Content &lt;chr&gt; | Item_Visibility &lt;dbl&gt; | Item_Type &lt;chr&gt; | Item_MRP &lt;dbl&gt; | Outlet_Identifier &lt;chr&gt; | Outlet_Establishment_Year &lt;int&gt; | Outlet_Size &lt;chr&gt; | Outlet_Location_Type &lt;chr&gt; | Outlet_Type &lt;chr&gt; | Item_Outlet_Sales &lt;dbl&gt; |\n|---|---|---|---|---|---|---|---|---|---|---|---|---|\n| 8350 | FDN15 | NA | Low Fat | 0.01665302 | Meat | 139.518 | OUT027 | 1985 | Medium | Tier 3 | Supermarket Type3 | 2936.178 |\n\n",
            "text/html": [
              "<table class=\"dataframe\">\n",
              "<caption>A data.frame: 1 × 12</caption>\n",
              "<thead>\n",
              "\t<tr><th></th><th scope=col>Item_Identifier</th><th scope=col>Item_Weight</th><th scope=col>Item_Fat_Content</th><th scope=col>Item_Visibility</th><th scope=col>Item_Type</th><th scope=col>Item_MRP</th><th scope=col>Outlet_Identifier</th><th scope=col>Outlet_Establishment_Year</th><th scope=col>Outlet_Size</th><th scope=col>Outlet_Location_Type</th><th scope=col>Outlet_Type</th><th scope=col>Item_Outlet_Sales</th></tr>\n",
              "\t<tr><th></th><th scope=col>&lt;chr&gt;</th><th scope=col>&lt;dbl&gt;</th><th scope=col>&lt;chr&gt;</th><th scope=col>&lt;dbl&gt;</th><th scope=col>&lt;chr&gt;</th><th scope=col>&lt;dbl&gt;</th><th scope=col>&lt;chr&gt;</th><th scope=col>&lt;int&gt;</th><th scope=col>&lt;chr&gt;</th><th scope=col>&lt;chr&gt;</th><th scope=col>&lt;chr&gt;</th><th scope=col>&lt;dbl&gt;</th></tr>\n",
              "</thead>\n",
              "<tbody>\n",
              "\t<tr><th scope=row>8350</th><td>FDN15</td><td>NA</td><td>Low Fat</td><td>0.01665302</td><td>Meat</td><td>139.518</td><td>OUT027</td><td>1985</td><td>Medium</td><td>Tier 3</td><td>Supermarket Type3</td><td>2936.178</td></tr>\n",
              "</tbody>\n",
              "</table>\n"
            ]
          },
          "metadata": {}
        }
      ]
    },
    {
      "cell_type": "code",
      "metadata": {
        "colab": {
          "base_uri": "https://localhost:8080/",
          "height": 51
        },
        "id": "x2T3Asd0cV_g",
        "outputId": "bc58afac-62ba-4fa7-e367-3b93cb356ded"
      },
      "source": [
        "summary(martdata$Item_Weight)"
      ],
      "execution_count": 50,
      "outputs": [
        {
          "output_type": "display_data",
          "data": {
            "text/plain": [
              "   Min. 1st Qu.  Median    Mean 3rd Qu.    Max.    NA's \n",
              "  4.555   8.774  12.600  12.858  16.850  21.350    1463 "
            ]
          },
          "metadata": {}
        }
      ]
    },
    {
      "cell_type": "code",
      "metadata": {
        "id": "9fSluBmzc9Zk"
      },
      "source": [
        "# Complete data\n",
        "newMART <- complete(impute, 1)"
      ],
      "execution_count": 51,
      "outputs": []
    },
    {
      "cell_type": "code",
      "metadata": {
        "colab": {
          "base_uri": "https://localhost:8080/",
          "height": 405
        },
        "id": "w7ZlYrUcdDw1",
        "outputId": "a6a8b149-0bf1-4d47-856e-539deafc48bf"
      },
      "source": [
        "head(newMART)"
      ],
      "execution_count": 53,
      "outputs": [
        {
          "output_type": "display_data",
          "data": {
            "text/plain": [
              "  Item_Identifier Item_Weight Item_Fat_Content Item_Visibility\n",
              "1 FDA15            9.300      Low Fat          0.01604730     \n",
              "2 DRC01            5.920      Regular          0.01927822     \n",
              "3 FDN15           17.500      Low Fat          0.01676007     \n",
              "4 FDX07           19.200      Regular          0.00000000     \n",
              "5 NCD19            8.930      Low Fat          0.00000000     \n",
              "6 FDP36           10.395      Regular          0.00000000     \n",
              "  Item_Type             Item_MRP Outlet_Identifier Outlet_Establishment_Year\n",
              "1 Dairy                 249.8092 OUT049            1999                     \n",
              "2 Soft Drinks            48.2692 OUT018            2009                     \n",
              "3 Meat                  141.6180 OUT049            1999                     \n",
              "4 Fruits and Vegetables 182.0950 OUT010            1998                     \n",
              "5 Household              53.8614 OUT013            1987                     \n",
              "6 Baking Goods           51.4008 OUT018            2009                     \n",
              "  Outlet_Size Outlet_Location_Type Outlet_Type       Item_Outlet_Sales\n",
              "1 Medium      Tier 1               Supermarket Type1 3735.1380        \n",
              "2 Medium      Tier 3               Supermarket Type2  443.4228        \n",
              "3 Medium      Tier 1               Supermarket Type1 2097.2700        \n",
              "4 NA          Tier 3               Grocery Store      732.3800        \n",
              "5 High        Tier 3               Supermarket Type1  994.7052        \n",
              "6 Medium      Tier 3               Supermarket Type2  556.6088        "
            ],
            "text/latex": "A data.frame: 6 × 12\n\\begin{tabular}{r|llllllllllll}\n  & Item\\_Identifier & Item\\_Weight & Item\\_Fat\\_Content & Item\\_Visibility & Item\\_Type & Item\\_MRP & Outlet\\_Identifier & Outlet\\_Establishment\\_Year & Outlet\\_Size & Outlet\\_Location\\_Type & Outlet\\_Type & Item\\_Outlet\\_Sales\\\\\n  & <chr> & <dbl> & <chr> & <dbl> & <chr> & <dbl> & <chr> & <int> & <chr> & <chr> & <chr> & <dbl>\\\\\n\\hline\n\t1 & FDA15 &  9.300 & Low Fat & 0.01604730 & Dairy                 & 249.8092 & OUT049 & 1999 & Medium & Tier 1 & Supermarket Type1 & 3735.1380\\\\\n\t2 & DRC01 &  5.920 & Regular & 0.01927822 & Soft Drinks           &  48.2692 & OUT018 & 2009 & Medium & Tier 3 & Supermarket Type2 &  443.4228\\\\\n\t3 & FDN15 & 17.500 & Low Fat & 0.01676007 & Meat                  & 141.6180 & OUT049 & 1999 & Medium & Tier 1 & Supermarket Type1 & 2097.2700\\\\\n\t4 & FDX07 & 19.200 & Regular & 0.00000000 & Fruits and Vegetables & 182.0950 & OUT010 & 1998 & NA     & Tier 3 & Grocery Store     &  732.3800\\\\\n\t5 & NCD19 &  8.930 & Low Fat & 0.00000000 & Household             &  53.8614 & OUT013 & 1987 & High   & Tier 3 & Supermarket Type1 &  994.7052\\\\\n\t6 & FDP36 & 10.395 & Regular & 0.00000000 & Baking Goods          &  51.4008 & OUT018 & 2009 & Medium & Tier 3 & Supermarket Type2 &  556.6088\\\\\n\\end{tabular}\n",
            "text/markdown": "\nA data.frame: 6 × 12\n\n| <!--/--> | Item_Identifier &lt;chr&gt; | Item_Weight &lt;dbl&gt; | Item_Fat_Content &lt;chr&gt; | Item_Visibility &lt;dbl&gt; | Item_Type &lt;chr&gt; | Item_MRP &lt;dbl&gt; | Outlet_Identifier &lt;chr&gt; | Outlet_Establishment_Year &lt;int&gt; | Outlet_Size &lt;chr&gt; | Outlet_Location_Type &lt;chr&gt; | Outlet_Type &lt;chr&gt; | Item_Outlet_Sales &lt;dbl&gt; |\n|---|---|---|---|---|---|---|---|---|---|---|---|---|\n| 1 | FDA15 |  9.300 | Low Fat | 0.01604730 | Dairy                 | 249.8092 | OUT049 | 1999 | Medium | Tier 1 | Supermarket Type1 | 3735.1380 |\n| 2 | DRC01 |  5.920 | Regular | 0.01927822 | Soft Drinks           |  48.2692 | OUT018 | 2009 | Medium | Tier 3 | Supermarket Type2 |  443.4228 |\n| 3 | FDN15 | 17.500 | Low Fat | 0.01676007 | Meat                  | 141.6180 | OUT049 | 1999 | Medium | Tier 1 | Supermarket Type1 | 2097.2700 |\n| 4 | FDX07 | 19.200 | Regular | 0.00000000 | Fruits and Vegetables | 182.0950 | OUT010 | 1998 | NA     | Tier 3 | Grocery Store     |  732.3800 |\n| 5 | NCD19 |  8.930 | Low Fat | 0.00000000 | Household             |  53.8614 | OUT013 | 1987 | High   | Tier 3 | Supermarket Type1 |  994.7052 |\n| 6 | FDP36 | 10.395 | Regular | 0.00000000 | Baking Goods          |  51.4008 | OUT018 | 2009 | Medium | Tier 3 | Supermarket Type2 |  556.6088 |\n\n",
            "text/html": [
              "<table class=\"dataframe\">\n",
              "<caption>A data.frame: 6 × 12</caption>\n",
              "<thead>\n",
              "\t<tr><th></th><th scope=col>Item_Identifier</th><th scope=col>Item_Weight</th><th scope=col>Item_Fat_Content</th><th scope=col>Item_Visibility</th><th scope=col>Item_Type</th><th scope=col>Item_MRP</th><th scope=col>Outlet_Identifier</th><th scope=col>Outlet_Establishment_Year</th><th scope=col>Outlet_Size</th><th scope=col>Outlet_Location_Type</th><th scope=col>Outlet_Type</th><th scope=col>Item_Outlet_Sales</th></tr>\n",
              "\t<tr><th></th><th scope=col>&lt;chr&gt;</th><th scope=col>&lt;dbl&gt;</th><th scope=col>&lt;chr&gt;</th><th scope=col>&lt;dbl&gt;</th><th scope=col>&lt;chr&gt;</th><th scope=col>&lt;dbl&gt;</th><th scope=col>&lt;chr&gt;</th><th scope=col>&lt;int&gt;</th><th scope=col>&lt;chr&gt;</th><th scope=col>&lt;chr&gt;</th><th scope=col>&lt;chr&gt;</th><th scope=col>&lt;dbl&gt;</th></tr>\n",
              "</thead>\n",
              "<tbody>\n",
              "\t<tr><th scope=row>1</th><td>FDA15</td><td> 9.300</td><td>Low Fat</td><td>0.01604730</td><td>Dairy                </td><td>249.8092</td><td>OUT049</td><td>1999</td><td>Medium</td><td>Tier 1</td><td>Supermarket Type1</td><td>3735.1380</td></tr>\n",
              "\t<tr><th scope=row>2</th><td>DRC01</td><td> 5.920</td><td>Regular</td><td>0.01927822</td><td>Soft Drinks          </td><td> 48.2692</td><td>OUT018</td><td>2009</td><td>Medium</td><td>Tier 3</td><td>Supermarket Type2</td><td> 443.4228</td></tr>\n",
              "\t<tr><th scope=row>3</th><td>FDN15</td><td>17.500</td><td>Low Fat</td><td>0.01676007</td><td>Meat                 </td><td>141.6180</td><td>OUT049</td><td>1999</td><td>Medium</td><td>Tier 1</td><td>Supermarket Type1</td><td>2097.2700</td></tr>\n",
              "\t<tr><th scope=row>4</th><td>FDX07</td><td>19.200</td><td>Regular</td><td>0.00000000</td><td>Fruits and Vegetables</td><td>182.0950</td><td>OUT010</td><td>1998</td><td>NA    </td><td>Tier 3</td><td>Grocery Store    </td><td> 732.3800</td></tr>\n",
              "\t<tr><th scope=row>5</th><td>NCD19</td><td> 8.930</td><td>Low Fat</td><td>0.00000000</td><td>Household            </td><td> 53.8614</td><td>OUT013</td><td>1987</td><td>High  </td><td>Tier 3</td><td>Supermarket Type1</td><td> 994.7052</td></tr>\n",
              "\t<tr><th scope=row>6</th><td>FDP36</td><td>10.395</td><td>Regular</td><td>0.00000000</td><td>Baking Goods         </td><td> 51.4008</td><td>OUT018</td><td>2009</td><td>Medium</td><td>Tier 3</td><td>Supermarket Type2</td><td> 556.6088</td></tr>\n",
              "</tbody>\n",
              "</table>\n"
            ]
          },
          "metadata": {}
        }
      ]
    },
    {
      "cell_type": "code",
      "metadata": {
        "colab": {
          "base_uri": "https://localhost:8080/",
          "height": 165
        },
        "id": "E-3QHIUJdNds",
        "outputId": "8cc168e0-4f62-4315-dc90-434a1a9fb821"
      },
      "source": [
        "newMART[179,]"
      ],
      "execution_count": 54,
      "outputs": [
        {
          "output_type": "display_data",
          "data": {
            "text/plain": [
              "    Item_Identifier Item_Weight Item_Fat_Content Item_Visibility Item_Type  \n",
              "179 DRY23           7.155       Regular          0.1910137       Soft Drinks\n",
              "    Item_MRP Outlet_Identifier Outlet_Establishment_Year Outlet_Size\n",
              "179 42.1112  OUT019            1985                      Small      \n",
              "    Outlet_Location_Type Outlet_Type   Item_Outlet_Sales\n",
              "179 Tier 1               Grocery Store 42.6112          "
            ],
            "text/latex": "A data.frame: 1 × 12\n\\begin{tabular}{r|llllllllllll}\n  & Item\\_Identifier & Item\\_Weight & Item\\_Fat\\_Content & Item\\_Visibility & Item\\_Type & Item\\_MRP & Outlet\\_Identifier & Outlet\\_Establishment\\_Year & Outlet\\_Size & Outlet\\_Location\\_Type & Outlet\\_Type & Item\\_Outlet\\_Sales\\\\\n  & <chr> & <dbl> & <chr> & <dbl> & <chr> & <dbl> & <chr> & <int> & <chr> & <chr> & <chr> & <dbl>\\\\\n\\hline\n\t179 & DRY23 & 7.155 & Regular & 0.1910137 & Soft Drinks & 42.1112 & OUT019 & 1985 & Small & Tier 1 & Grocery Store & 42.6112\\\\\n\\end{tabular}\n",
            "text/markdown": "\nA data.frame: 1 × 12\n\n| <!--/--> | Item_Identifier &lt;chr&gt; | Item_Weight &lt;dbl&gt; | Item_Fat_Content &lt;chr&gt; | Item_Visibility &lt;dbl&gt; | Item_Type &lt;chr&gt; | Item_MRP &lt;dbl&gt; | Outlet_Identifier &lt;chr&gt; | Outlet_Establishment_Year &lt;int&gt; | Outlet_Size &lt;chr&gt; | Outlet_Location_Type &lt;chr&gt; | Outlet_Type &lt;chr&gt; | Item_Outlet_Sales &lt;dbl&gt; |\n|---|---|---|---|---|---|---|---|---|---|---|---|---|\n| 179 | DRY23 | 7.155 | Regular | 0.1910137 | Soft Drinks | 42.1112 | OUT019 | 1985 | Small | Tier 1 | Grocery Store | 42.6112 |\n\n",
            "text/html": [
              "<table class=\"dataframe\">\n",
              "<caption>A data.frame: 1 × 12</caption>\n",
              "<thead>\n",
              "\t<tr><th></th><th scope=col>Item_Identifier</th><th scope=col>Item_Weight</th><th scope=col>Item_Fat_Content</th><th scope=col>Item_Visibility</th><th scope=col>Item_Type</th><th scope=col>Item_MRP</th><th scope=col>Outlet_Identifier</th><th scope=col>Outlet_Establishment_Year</th><th scope=col>Outlet_Size</th><th scope=col>Outlet_Location_Type</th><th scope=col>Outlet_Type</th><th scope=col>Item_Outlet_Sales</th></tr>\n",
              "\t<tr><th></th><th scope=col>&lt;chr&gt;</th><th scope=col>&lt;dbl&gt;</th><th scope=col>&lt;chr&gt;</th><th scope=col>&lt;dbl&gt;</th><th scope=col>&lt;chr&gt;</th><th scope=col>&lt;dbl&gt;</th><th scope=col>&lt;chr&gt;</th><th scope=col>&lt;int&gt;</th><th scope=col>&lt;chr&gt;</th><th scope=col>&lt;chr&gt;</th><th scope=col>&lt;chr&gt;</th><th scope=col>&lt;dbl&gt;</th></tr>\n",
              "</thead>\n",
              "<tbody>\n",
              "\t<tr><th scope=row>179</th><td>DRY23</td><td>7.155</td><td>Regular</td><td>0.1910137</td><td>Soft Drinks</td><td>42.1112</td><td>OUT019</td><td>1985</td><td>Small</td><td>Tier 1</td><td>Grocery Store</td><td>42.6112</td></tr>\n",
              "</tbody>\n",
              "</table>\n"
            ]
          },
          "metadata": {}
        }
      ]
    },
    {
      "cell_type": "code",
      "metadata": {
        "colab": {
          "base_uri": "https://localhost:8080/",
          "height": 34
        },
        "id": "xDaTCNA9jnGu",
        "outputId": "5157f807-555c-4b8a-cee3-9821d8dc8c4e"
      },
      "source": [
        "sum(is.na(newMART$Item_Weight))"
      ],
      "execution_count": 69,
      "outputs": [
        {
          "output_type": "display_data",
          "data": {
            "text/plain": [
              "[1] 0"
            ],
            "text/latex": "0",
            "text/markdown": "0",
            "text/html": [
              "0"
            ]
          },
          "metadata": {}
        }
      ]
    },
    {
      "cell_type": "code",
      "metadata": {
        "colab": {
          "base_uri": "https://localhost:8080/",
          "height": 493
        },
        "id": "W4xGNwp5dXZl",
        "outputId": "bece7033-e9f5-4d20-d064-9ec2017232a6"
      },
      "source": [
        "summary(newMART)"
      ],
      "execution_count": 56,
      "outputs": [
        {
          "output_type": "display_data",
          "data": {
            "text/plain": [
              " Item_Identifier     Item_Weight     Item_Fat_Content   Item_Visibility  \n",
              " Length:8523        Min.   : 4.555   Length:8523        Min.   :0.00000  \n",
              " Class :character   1st Qu.: 8.695   Class :character   1st Qu.:0.02699  \n",
              " Mode  :character   Median :12.600   Mode  :character   Median :0.05393  \n",
              "                    Mean   :12.844                      Mean   :0.06613  \n",
              "                    3rd Qu.:16.850                      3rd Qu.:0.09459  \n",
              "                    Max.   :21.350                      Max.   :0.32839  \n",
              "  Item_Type            Item_MRP      Outlet_Identifier \n",
              " Length:8523        Min.   : 31.29   Length:8523       \n",
              " Class :character   1st Qu.: 93.83   Class :character  \n",
              " Mode  :character   Median :143.01   Mode  :character  \n",
              "                    Mean   :140.99                     \n",
              "                    3rd Qu.:185.64                     \n",
              "                    Max.   :266.89                     \n",
              " Outlet_Establishment_Year Outlet_Size        Outlet_Location_Type\n",
              " Min.   :1985              Length:8523        Length:8523         \n",
              " 1st Qu.:1987              Class :character   Class :character    \n",
              " Median :1999              Mode  :character   Mode  :character    \n",
              " Mean   :1998                                                     \n",
              " 3rd Qu.:2004                                                     \n",
              " Max.   :2009                                                     \n",
              " Outlet_Type        Item_Outlet_Sales \n",
              " Length:8523        Min.   :   33.29  \n",
              " Class :character   1st Qu.:  834.25  \n",
              " Mode  :character   Median : 1794.33  \n",
              "                    Mean   : 2181.29  \n",
              "                    3rd Qu.: 3101.30  \n",
              "                    Max.   :13086.97  "
            ]
          },
          "metadata": {}
        }
      ]
    },
    {
      "cell_type": "code",
      "metadata": {
        "colab": {
          "base_uri": "https://localhost:8080/",
          "height": 34
        },
        "id": "Sv3SiyZpdjQv",
        "outputId": "23e75fc0-08f4-4a37-bce3-7145bc68380e"
      },
      "source": [
        "dim(newMART)"
      ],
      "execution_count": 57,
      "outputs": [
        {
          "output_type": "display_data",
          "data": {
            "text/plain": [
              "[1] 8523   12"
            ],
            "text/latex": "\\begin{enumerate*}\n\\item 8523\n\\item 12\n\\end{enumerate*}\n",
            "text/markdown": "1. 8523\n2. 12\n\n\n",
            "text/html": [
              "<style>\n",
              ".list-inline {list-style: none; margin:0; padding: 0}\n",
              ".list-inline>li {display: inline-block}\n",
              ".list-inline>li:not(:last-child)::after {content: \"\\00b7\"; padding: 0 .5ex}\n",
              "</style>\n",
              "<ol class=list-inline><li>8523</li><li>12</li></ol>\n"
            ]
          },
          "metadata": {}
        }
      ]
    },
    {
      "cell_type": "code",
      "metadata": {
        "colab": {
          "base_uri": "https://localhost:8080/",
          "height": 68
        },
        "id": "53MNq1H3gTcr",
        "outputId": "93d03021-3a94-42fb-c11a-b2db802327f6"
      },
      "source": [
        "table(newMART$Outlet_Size)"
      ],
      "execution_count": 59,
      "outputs": [
        {
          "output_type": "display_data",
          "data": {
            "text/plain": [
              "\n",
              "  High Medium  Small \n",
              "   932   2793   2388 "
            ]
          },
          "metadata": {}
        }
      ]
    },
    {
      "cell_type": "code",
      "metadata": {
        "colab": {
          "base_uri": "https://localhost:8080/",
          "height": 34
        },
        "id": "7MXfbt17ggP-",
        "outputId": "1c7b0ce8-64b5-41c1-b6a2-2ca679863c2c"
      },
      "source": [
        "sum(is.na(newMART$Outlet_Size))"
      ],
      "execution_count": 60,
      "outputs": [
        {
          "output_type": "display_data",
          "data": {
            "text/plain": [
              "[1] 2410"
            ],
            "text/latex": "2410",
            "text/markdown": "2410",
            "text/html": [
              "2410"
            ]
          },
          "metadata": {}
        }
      ]
    },
    {
      "cell_type": "code",
      "metadata": {
        "colab": {
          "base_uri": "https://localhost:8080/",
          "height": 34
        },
        "id": "oJjBDBmOiAam",
        "outputId": "83677589-4960-465e-a3bd-93dfc6b0da4a"
      },
      "source": [
        "val <- unique(newMART$Outlet_Size[!is.na(newMART$Outlet_Size)])                 # Values in Outlet_Size\n",
        "val\n"
      ],
      "execution_count": 62,
      "outputs": [
        {
          "output_type": "display_data",
          "data": {
            "text/plain": [
              "[1] \"Medium\" \"High\"   \"Small\" "
            ],
            "text/latex": "\\begin{enumerate*}\n\\item 'Medium'\n\\item 'High'\n\\item 'Small'\n\\end{enumerate*}\n",
            "text/markdown": "1. 'Medium'\n2. 'High'\n3. 'Small'\n\n\n",
            "text/html": [
              "<style>\n",
              ".list-inline {list-style: none; margin:0; padding: 0}\n",
              ".list-inline>li {display: inline-block}\n",
              ".list-inline>li:not(:last-child)::after {content: \"\\00b7\"; padding: 0 .5ex}\n",
              "</style>\n",
              "<ol class=list-inline><li>'Medium'</li><li>'High'</li><li>'Small'</li></ol>\n"
            ]
          },
          "metadata": {}
        }
      ]
    },
    {
      "cell_type": "code",
      "metadata": {
        "colab": {
          "base_uri": "https://localhost:8080/",
          "height": 34
        },
        "id": "EjCIBH3HiCQk",
        "outputId": "a2dd8dd0-2128-4c6e-a79c-dd5e84b96a1c"
      },
      "source": [
        "my_mode <- val[which.max(tabulate(match(newMART$Outlet_Size, val)))]   # Mode of Outlet_Size\n",
        "my_mode"
      ],
      "execution_count": 64,
      "outputs": [
        {
          "output_type": "display_data",
          "data": {
            "text/plain": [
              "[1] \"Medium\""
            ],
            "text/latex": "'Medium'",
            "text/markdown": "'Medium'",
            "text/html": [
              "'Medium'"
            ]
          },
          "metadata": {}
        }
      ]
    },
    {
      "cell_type": "code",
      "metadata": {
        "id": "VZBdd8ijibsl"
      },
      "source": [
        "newMART$Outlet_Size[is.na(newMART$Outlet_Size)] <- my_mode                     # Impute by mode"
      ],
      "execution_count": 65,
      "outputs": []
    },
    {
      "cell_type": "code",
      "metadata": {
        "colab": {
          "base_uri": "https://localhost:8080/",
          "height": 34
        },
        "id": "_3yzirIIjHYl",
        "outputId": "a74dd8cc-41b7-40ec-ceb4-c76d435724d4"
      },
      "source": [
        "sum(is.na(newMART$Outlet_Size))"
      ],
      "execution_count": 66,
      "outputs": [
        {
          "output_type": "display_data",
          "data": {
            "text/plain": [
              "[1] 0"
            ],
            "text/latex": "0",
            "text/markdown": "0",
            "text/html": [
              "0"
            ]
          },
          "metadata": {}
        }
      ]
    },
    {
      "cell_type": "code",
      "metadata": {
        "colab": {
          "base_uri": "https://localhost:8080/",
          "height": 68
        },
        "id": "0hfiid4njPli",
        "outputId": "ef51ea75-c0a6-47f4-8ed7-182bbcf85f0b"
      },
      "source": [
        "table(newMART$Outlet_Size)"
      ],
      "execution_count": 67,
      "outputs": [
        {
          "output_type": "display_data",
          "data": {
            "text/plain": [
              "\n",
              "  High Medium  Small \n",
              "   932   5203   2388 "
            ]
          },
          "metadata": {}
        }
      ]
    },
    {
      "cell_type": "code",
      "metadata": {
        "id": "RMbthaxYj2d6"
      },
      "source": [
        "write.csv(newMART,file=\"New_BigMart_updated.csv\")"
      ],
      "execution_count": 70,
      "outputs": []
    }
  ]
}