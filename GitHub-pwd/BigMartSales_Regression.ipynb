{
  "nbformat": 4,
  "nbformat_minor": 0,
  "metadata": {
    "colab": {
      "name": "BigMartSales_Regression.ipynb",
      "provenance": [],
      "collapsed_sections": [],
      "authorship_tag": "ABX9TyMWXjqyt8ulDpd1JdIPJb/l",
      "include_colab_link": true
    },
    "kernelspec": {
      "name": "ir",
      "display_name": "R"
    },
    "language_info": {
      "name": "R"
    }
  },
  "cells": [
    {
      "cell_type": "markdown",
      "metadata": {
        "id": "view-in-github",
        "colab_type": "text"
      },
      "source": [
        "<a href=\"https://colab.research.google.com/github/soumyakrath/IMTPDS2021/blob/main/GitHub-pwd/BigMartSales_Regression.ipynb\" target=\"_parent\"><img src=\"https://colab.research.google.com/assets/colab-badge.svg\" alt=\"Open In Colab\"/></a>"
      ]
    },
    {
      "cell_type": "code",
      "metadata": {
        "colab": {
          "base_uri": "https://localhost:8080/"
        },
        "id": "noGjzzfApbGA",
        "outputId": "bebe5f90-965c-44e6-f844-bd9f32885703"
      },
      "source": [
        "library(tidyverse)"
      ],
      "execution_count": 1,
      "outputs": [
        {
          "output_type": "stream",
          "name": "stderr",
          "text": [
            "Warning message in system(\"timedatectl\", intern = TRUE):\n",
            "“running command 'timedatectl' had status 1”\n",
            "── \u001b[1mAttaching packages\u001b[22m ─────────────────────────────────────── tidyverse 1.3.1 ──\n",
            "\n",
            "\u001b[32m✔\u001b[39m \u001b[34mggplot2\u001b[39m 3.3.5     \u001b[32m✔\u001b[39m \u001b[34mpurrr  \u001b[39m 0.3.4\n",
            "\u001b[32m✔\u001b[39m \u001b[34mtibble \u001b[39m 3.1.5     \u001b[32m✔\u001b[39m \u001b[34mdplyr  \u001b[39m 1.0.7\n",
            "\u001b[32m✔\u001b[39m \u001b[34mtidyr  \u001b[39m 1.1.4     \u001b[32m✔\u001b[39m \u001b[34mstringr\u001b[39m 1.4.0\n",
            "\u001b[32m✔\u001b[39m \u001b[34mreadr  \u001b[39m 2.0.2     \u001b[32m✔\u001b[39m \u001b[34mforcats\u001b[39m 0.5.1\n",
            "\n",
            "── \u001b[1mConflicts\u001b[22m ────────────────────────────────────────── tidyverse_conflicts() ──\n",
            "\u001b[31m✖\u001b[39m \u001b[34mdplyr\u001b[39m::\u001b[32mfilter()\u001b[39m masks \u001b[34mstats\u001b[39m::filter()\n",
            "\u001b[31m✖\u001b[39m \u001b[34mdplyr\u001b[39m::\u001b[32mlag()\u001b[39m    masks \u001b[34mstats\u001b[39m::lag()\n",
            "\n"
          ]
        }
      ]
    },
    {
      "cell_type": "code",
      "metadata": {
        "id": "19cuERSapxyf"
      },
      "source": [
        "options(warn=-1)"
      ],
      "execution_count": 2,
      "outputs": []
    },
    {
      "cell_type": "code",
      "metadata": {
        "id": "WW3dvBYEp0XT"
      },
      "source": [
        "bigmart<-read.csv('https://raw.githubusercontent.com/soumyakrath/IMTPDS2021/main/GitHub-pwd/New_BigMart_updated.csv', sep=',',head= TRUE)"
      ],
      "execution_count": 3,
      "outputs": []
    },
    {
      "cell_type": "code",
      "metadata": {
        "id": "KQBHVUKap_Pq"
      },
      "source": [
        "data(bigmart)"
      ],
      "execution_count": 4,
      "outputs": []
    },
    {
      "cell_type": "code",
      "metadata": {
        "colab": {
          "base_uri": "https://localhost:8080/",
          "height": 34
        },
        "id": "hUNFHWdVqDh0",
        "outputId": "030be08b-f1af-4c4f-88c5-fc1a07d33c4c"
      },
      "source": [
        "dim(bigmart)"
      ],
      "execution_count": 5,
      "outputs": [
        {
          "output_type": "display_data",
          "data": {
            "text/plain": [
              "[1] 8523   13"
            ],
            "text/latex": "\\begin{enumerate*}\n\\item 8523\n\\item 13\n\\end{enumerate*}\n",
            "text/markdown": "1. 8523\n2. 13\n\n\n",
            "text/html": [
              "<style>\n",
              ".list-inline {list-style: none; margin:0; padding: 0}\n",
              ".list-inline>li {display: inline-block}\n",
              ".list-inline>li:not(:last-child)::after {content: \"\\00b7\"; padding: 0 .5ex}\n",
              "</style>\n",
              "<ol class=list-inline><li>8523</li><li>13</li></ol>\n"
            ]
          },
          "metadata": {}
        }
      ]
    },
    {
      "cell_type": "code",
      "metadata": {
        "colab": {
          "base_uri": "https://localhost:8080/",
          "height": 261
        },
        "id": "OIEU-b5nqgzF",
        "outputId": "efc19caa-9b87-4343-c4ee-ce9fb1052c4b"
      },
      "source": [
        "head(bigmart,3)"
      ],
      "execution_count": 10,
      "outputs": [
        {
          "output_type": "display_data",
          "data": {
            "text/plain": [
              "  X Item_Identifier Item_Weight Item_Fat_Content Item_Visibility Item_Type  \n",
              "1 1 FDA15            9.30       Low Fat          0.01604730      Dairy      \n",
              "2 2 DRC01            5.92       Regular          0.01927822      Soft Drinks\n",
              "3 3 FDN15           17.50       Low Fat          0.01676007      Meat       \n",
              "  Item_MRP Outlet_Identifier Outlet_Establishment_Year Outlet_Size\n",
              "1 249.8092 OUT049            1999                      Medium     \n",
              "2  48.2692 OUT018            2009                      Medium     \n",
              "3 141.6180 OUT049            1999                      Medium     \n",
              "  Outlet_Location_Type Outlet_Type       Item_Outlet_Sales\n",
              "1 Tier 1               Supermarket Type1 3735.1380        \n",
              "2 Tier 3               Supermarket Type2  443.4228        \n",
              "3 Tier 1               Supermarket Type1 2097.2700        "
            ],
            "text/latex": "A data.frame: 3 × 13\n\\begin{tabular}{r|lllllllllllll}\n  & X & Item\\_Identifier & Item\\_Weight & Item\\_Fat\\_Content & Item\\_Visibility & Item\\_Type & Item\\_MRP & Outlet\\_Identifier & Outlet\\_Establishment\\_Year & Outlet\\_Size & Outlet\\_Location\\_Type & Outlet\\_Type & Item\\_Outlet\\_Sales\\\\\n  & <int> & <chr> & <dbl> & <chr> & <dbl> & <chr> & <dbl> & <chr> & <int> & <chr> & <chr> & <chr> & <dbl>\\\\\n\\hline\n\t1 & 1 & FDA15 &  9.30 & Low Fat & 0.01604730 & Dairy       & 249.8092 & OUT049 & 1999 & Medium & Tier 1 & Supermarket Type1 & 3735.1380\\\\\n\t2 & 2 & DRC01 &  5.92 & Regular & 0.01927822 & Soft Drinks &  48.2692 & OUT018 & 2009 & Medium & Tier 3 & Supermarket Type2 &  443.4228\\\\\n\t3 & 3 & FDN15 & 17.50 & Low Fat & 0.01676007 & Meat        & 141.6180 & OUT049 & 1999 & Medium & Tier 1 & Supermarket Type1 & 2097.2700\\\\\n\\end{tabular}\n",
            "text/markdown": "\nA data.frame: 3 × 13\n\n| <!--/--> | X &lt;int&gt; | Item_Identifier &lt;chr&gt; | Item_Weight &lt;dbl&gt; | Item_Fat_Content &lt;chr&gt; | Item_Visibility &lt;dbl&gt; | Item_Type &lt;chr&gt; | Item_MRP &lt;dbl&gt; | Outlet_Identifier &lt;chr&gt; | Outlet_Establishment_Year &lt;int&gt; | Outlet_Size &lt;chr&gt; | Outlet_Location_Type &lt;chr&gt; | Outlet_Type &lt;chr&gt; | Item_Outlet_Sales &lt;dbl&gt; |\n|---|---|---|---|---|---|---|---|---|---|---|---|---|---|\n| 1 | 1 | FDA15 |  9.30 | Low Fat | 0.01604730 | Dairy       | 249.8092 | OUT049 | 1999 | Medium | Tier 1 | Supermarket Type1 | 3735.1380 |\n| 2 | 2 | DRC01 |  5.92 | Regular | 0.01927822 | Soft Drinks |  48.2692 | OUT018 | 2009 | Medium | Tier 3 | Supermarket Type2 |  443.4228 |\n| 3 | 3 | FDN15 | 17.50 | Low Fat | 0.01676007 | Meat        | 141.6180 | OUT049 | 1999 | Medium | Tier 1 | Supermarket Type1 | 2097.2700 |\n\n",
            "text/html": [
              "<table class=\"dataframe\">\n",
              "<caption>A data.frame: 3 × 13</caption>\n",
              "<thead>\n",
              "\t<tr><th></th><th scope=col>X</th><th scope=col>Item_Identifier</th><th scope=col>Item_Weight</th><th scope=col>Item_Fat_Content</th><th scope=col>Item_Visibility</th><th scope=col>Item_Type</th><th scope=col>Item_MRP</th><th scope=col>Outlet_Identifier</th><th scope=col>Outlet_Establishment_Year</th><th scope=col>Outlet_Size</th><th scope=col>Outlet_Location_Type</th><th scope=col>Outlet_Type</th><th scope=col>Item_Outlet_Sales</th></tr>\n",
              "\t<tr><th></th><th scope=col>&lt;int&gt;</th><th scope=col>&lt;chr&gt;</th><th scope=col>&lt;dbl&gt;</th><th scope=col>&lt;chr&gt;</th><th scope=col>&lt;dbl&gt;</th><th scope=col>&lt;chr&gt;</th><th scope=col>&lt;dbl&gt;</th><th scope=col>&lt;chr&gt;</th><th scope=col>&lt;int&gt;</th><th scope=col>&lt;chr&gt;</th><th scope=col>&lt;chr&gt;</th><th scope=col>&lt;chr&gt;</th><th scope=col>&lt;dbl&gt;</th></tr>\n",
              "</thead>\n",
              "<tbody>\n",
              "\t<tr><th scope=row>1</th><td>1</td><td>FDA15</td><td> 9.30</td><td>Low Fat</td><td>0.01604730</td><td>Dairy      </td><td>249.8092</td><td>OUT049</td><td>1999</td><td>Medium</td><td>Tier 1</td><td>Supermarket Type1</td><td>3735.1380</td></tr>\n",
              "\t<tr><th scope=row>2</th><td>2</td><td>DRC01</td><td> 5.92</td><td>Regular</td><td>0.01927822</td><td>Soft Drinks</td><td> 48.2692</td><td>OUT018</td><td>2009</td><td>Medium</td><td>Tier 3</td><td>Supermarket Type2</td><td> 443.4228</td></tr>\n",
              "\t<tr><th scope=row>3</th><td>3</td><td>FDN15</td><td>17.50</td><td>Low Fat</td><td>0.01676007</td><td>Meat       </td><td>141.6180</td><td>OUT049</td><td>1999</td><td>Medium</td><td>Tier 1</td><td>Supermarket Type1</td><td>2097.2700</td></tr>\n",
              "</tbody>\n",
              "</table>\n"
            ]
          },
          "metadata": {}
        }
      ]
    },
    {
      "cell_type": "code",
      "metadata": {
        "id": "UjHz37XAqWgJ"
      },
      "source": [
        "martsale = subset(bigmart, select = -c(1) )"
      ],
      "execution_count": 124,
      "outputs": []
    },
    {
      "cell_type": "code",
      "metadata": {
        "colab": {
          "base_uri": "https://localhost:8080/",
          "height": 34
        },
        "id": "-P0-OiwcqdHy",
        "outputId": "eaa83327-6fff-4606-e45f-d1fddbc590b5"
      },
      "source": [
        "dim(martsale)"
      ],
      "execution_count": 13,
      "outputs": [
        {
          "output_type": "display_data",
          "data": {
            "text/plain": [
              "[1] 8523   12"
            ],
            "text/latex": "\\begin{enumerate*}\n\\item 8523\n\\item 12\n\\end{enumerate*}\n",
            "text/markdown": "1. 8523\n2. 12\n\n\n",
            "text/html": [
              "<style>\n",
              ".list-inline {list-style: none; margin:0; padding: 0}\n",
              ".list-inline>li {display: inline-block}\n",
              ".list-inline>li:not(:last-child)::after {content: \"\\00b7\"; padding: 0 .5ex}\n",
              "</style>\n",
              "<ol class=list-inline><li>8523</li><li>12</li></ol>\n"
            ]
          },
          "metadata": {}
        }
      ]
    },
    {
      "cell_type": "code",
      "metadata": {
        "colab": {
          "base_uri": "https://localhost:8080/",
          "height": 261
        },
        "id": "_eYKVpPYqztU",
        "outputId": "dfae8e12-c09a-4fc4-b540-94ce16800b97"
      },
      "source": [
        "head(martsale,3)"
      ],
      "execution_count": 14,
      "outputs": [
        {
          "output_type": "display_data",
          "data": {
            "text/plain": [
              "  Item_Identifier Item_Weight Item_Fat_Content Item_Visibility Item_Type  \n",
              "1 FDA15            9.30       Low Fat          0.01604730      Dairy      \n",
              "2 DRC01            5.92       Regular          0.01927822      Soft Drinks\n",
              "3 FDN15           17.50       Low Fat          0.01676007      Meat       \n",
              "  Item_MRP Outlet_Identifier Outlet_Establishment_Year Outlet_Size\n",
              "1 249.8092 OUT049            1999                      Medium     \n",
              "2  48.2692 OUT018            2009                      Medium     \n",
              "3 141.6180 OUT049            1999                      Medium     \n",
              "  Outlet_Location_Type Outlet_Type       Item_Outlet_Sales\n",
              "1 Tier 1               Supermarket Type1 3735.1380        \n",
              "2 Tier 3               Supermarket Type2  443.4228        \n",
              "3 Tier 1               Supermarket Type1 2097.2700        "
            ],
            "text/latex": "A data.frame: 3 × 12\n\\begin{tabular}{r|llllllllllll}\n  & Item\\_Identifier & Item\\_Weight & Item\\_Fat\\_Content & Item\\_Visibility & Item\\_Type & Item\\_MRP & Outlet\\_Identifier & Outlet\\_Establishment\\_Year & Outlet\\_Size & Outlet\\_Location\\_Type & Outlet\\_Type & Item\\_Outlet\\_Sales\\\\\n  & <chr> & <dbl> & <chr> & <dbl> & <chr> & <dbl> & <chr> & <int> & <chr> & <chr> & <chr> & <dbl>\\\\\n\\hline\n\t1 & FDA15 &  9.30 & Low Fat & 0.01604730 & Dairy       & 249.8092 & OUT049 & 1999 & Medium & Tier 1 & Supermarket Type1 & 3735.1380\\\\\n\t2 & DRC01 &  5.92 & Regular & 0.01927822 & Soft Drinks &  48.2692 & OUT018 & 2009 & Medium & Tier 3 & Supermarket Type2 &  443.4228\\\\\n\t3 & FDN15 & 17.50 & Low Fat & 0.01676007 & Meat        & 141.6180 & OUT049 & 1999 & Medium & Tier 1 & Supermarket Type1 & 2097.2700\\\\\n\\end{tabular}\n",
            "text/markdown": "\nA data.frame: 3 × 12\n\n| <!--/--> | Item_Identifier &lt;chr&gt; | Item_Weight &lt;dbl&gt; | Item_Fat_Content &lt;chr&gt; | Item_Visibility &lt;dbl&gt; | Item_Type &lt;chr&gt; | Item_MRP &lt;dbl&gt; | Outlet_Identifier &lt;chr&gt; | Outlet_Establishment_Year &lt;int&gt; | Outlet_Size &lt;chr&gt; | Outlet_Location_Type &lt;chr&gt; | Outlet_Type &lt;chr&gt; | Item_Outlet_Sales &lt;dbl&gt; |\n|---|---|---|---|---|---|---|---|---|---|---|---|---|\n| 1 | FDA15 |  9.30 | Low Fat | 0.01604730 | Dairy       | 249.8092 | OUT049 | 1999 | Medium | Tier 1 | Supermarket Type1 | 3735.1380 |\n| 2 | DRC01 |  5.92 | Regular | 0.01927822 | Soft Drinks |  48.2692 | OUT018 | 2009 | Medium | Tier 3 | Supermarket Type2 |  443.4228 |\n| 3 | FDN15 | 17.50 | Low Fat | 0.01676007 | Meat        | 141.6180 | OUT049 | 1999 | Medium | Tier 1 | Supermarket Type1 | 2097.2700 |\n\n",
            "text/html": [
              "<table class=\"dataframe\">\n",
              "<caption>A data.frame: 3 × 12</caption>\n",
              "<thead>\n",
              "\t<tr><th></th><th scope=col>Item_Identifier</th><th scope=col>Item_Weight</th><th scope=col>Item_Fat_Content</th><th scope=col>Item_Visibility</th><th scope=col>Item_Type</th><th scope=col>Item_MRP</th><th scope=col>Outlet_Identifier</th><th scope=col>Outlet_Establishment_Year</th><th scope=col>Outlet_Size</th><th scope=col>Outlet_Location_Type</th><th scope=col>Outlet_Type</th><th scope=col>Item_Outlet_Sales</th></tr>\n",
              "\t<tr><th></th><th scope=col>&lt;chr&gt;</th><th scope=col>&lt;dbl&gt;</th><th scope=col>&lt;chr&gt;</th><th scope=col>&lt;dbl&gt;</th><th scope=col>&lt;chr&gt;</th><th scope=col>&lt;dbl&gt;</th><th scope=col>&lt;chr&gt;</th><th scope=col>&lt;int&gt;</th><th scope=col>&lt;chr&gt;</th><th scope=col>&lt;chr&gt;</th><th scope=col>&lt;chr&gt;</th><th scope=col>&lt;dbl&gt;</th></tr>\n",
              "</thead>\n",
              "<tbody>\n",
              "\t<tr><th scope=row>1</th><td>FDA15</td><td> 9.30</td><td>Low Fat</td><td>0.01604730</td><td>Dairy      </td><td>249.8092</td><td>OUT049</td><td>1999</td><td>Medium</td><td>Tier 1</td><td>Supermarket Type1</td><td>3735.1380</td></tr>\n",
              "\t<tr><th scope=row>2</th><td>DRC01</td><td> 5.92</td><td>Regular</td><td>0.01927822</td><td>Soft Drinks</td><td> 48.2692</td><td>OUT018</td><td>2009</td><td>Medium</td><td>Tier 3</td><td>Supermarket Type2</td><td> 443.4228</td></tr>\n",
              "\t<tr><th scope=row>3</th><td>FDN15</td><td>17.50</td><td>Low Fat</td><td>0.01676007</td><td>Meat       </td><td>141.6180</td><td>OUT049</td><td>1999</td><td>Medium</td><td>Tier 1</td><td>Supermarket Type1</td><td>2097.2700</td></tr>\n",
              "</tbody>\n",
              "</table>\n"
            ]
          },
          "metadata": {}
        }
      ]
    },
    {
      "cell_type": "code",
      "metadata": {
        "colab": {
          "base_uri": "https://localhost:8080/"
        },
        "id": "7MISrTBOrBMw",
        "outputId": "af23aa05-1c7c-4535-fc34-2bbbbba79258"
      },
      "source": [
        "str(martsale)"
      ],
      "execution_count": 15,
      "outputs": [
        {
          "output_type": "stream",
          "name": "stdout",
          "text": [
            "'data.frame':\t8523 obs. of  12 variables:\n",
            " $ Item_Identifier          : chr  \"FDA15\" \"DRC01\" \"FDN15\" \"FDX07\" ...\n",
            " $ Item_Weight              : num  9.3 5.92 17.5 19.2 8.93 ...\n",
            " $ Item_Fat_Content         : chr  \"Low Fat\" \"Regular\" \"Low Fat\" \"Regular\" ...\n",
            " $ Item_Visibility          : num  0.016 0.0193 0.0168 0 0 ...\n",
            " $ Item_Type                : chr  \"Dairy\" \"Soft Drinks\" \"Meat\" \"Fruits and Vegetables\" ...\n",
            " $ Item_MRP                 : num  249.8 48.3 141.6 182.1 53.9 ...\n",
            " $ Outlet_Identifier        : chr  \"OUT049\" \"OUT018\" \"OUT049\" \"OUT010\" ...\n",
            " $ Outlet_Establishment_Year: int  1999 2009 1999 1998 1987 2009 1987 1985 2002 2007 ...\n",
            " $ Outlet_Size              : chr  \"Medium\" \"Medium\" \"Medium\" \"Medium\" ...\n",
            " $ Outlet_Location_Type     : chr  \"Tier 1\" \"Tier 3\" \"Tier 1\" \"Tier 3\" ...\n",
            " $ Outlet_Type              : chr  \"Supermarket Type1\" \"Supermarket Type2\" \"Supermarket Type1\" \"Grocery Store\" ...\n",
            " $ Item_Outlet_Sales        : num  3735 443 2097 732 995 ...\n"
          ]
        }
      ]
    },
    {
      "cell_type": "code",
      "metadata": {
        "colab": {
          "base_uri": "https://localhost:8080/",
          "height": 493
        },
        "id": "Y1KvCtblrZ0x",
        "outputId": "2f28e71e-c6f3-4636-b8b1-155a4e82386d"
      },
      "source": [
        "summary(martsale)"
      ],
      "execution_count": 16,
      "outputs": [
        {
          "output_type": "display_data",
          "data": {
            "text/plain": [
              " Item_Identifier     Item_Weight     Item_Fat_Content   Item_Visibility  \n",
              " Length:8523        Min.   : 4.555   Length:8523        Min.   :0.00000  \n",
              " Class :character   1st Qu.: 8.695   Class :character   1st Qu.:0.02699  \n",
              " Mode  :character   Median :12.600   Mode  :character   Median :0.05393  \n",
              "                    Mean   :12.844                      Mean   :0.06613  \n",
              "                    3rd Qu.:16.850                      3rd Qu.:0.09459  \n",
              "                    Max.   :21.350                      Max.   :0.32839  \n",
              "  Item_Type            Item_MRP      Outlet_Identifier \n",
              " Length:8523        Min.   : 31.29   Length:8523       \n",
              " Class :character   1st Qu.: 93.83   Class :character  \n",
              " Mode  :character   Median :143.01   Mode  :character  \n",
              "                    Mean   :140.99                     \n",
              "                    3rd Qu.:185.64                     \n",
              "                    Max.   :266.89                     \n",
              " Outlet_Establishment_Year Outlet_Size        Outlet_Location_Type\n",
              " Min.   :1985              Length:8523        Length:8523         \n",
              " 1st Qu.:1987              Class :character   Class :character    \n",
              " Median :1999              Mode  :character   Mode  :character    \n",
              " Mean   :1998                                                     \n",
              " 3rd Qu.:2004                                                     \n",
              " Max.   :2009                                                     \n",
              " Outlet_Type        Item_Outlet_Sales \n",
              " Length:8523        Min.   :   33.29  \n",
              " Class :character   1st Qu.:  834.25  \n",
              " Mode  :character   Median : 1794.33  \n",
              "                    Mean   : 2181.29  \n",
              "                    3rd Qu.: 3101.30  \n",
              "                    Max.   :13086.97  "
            ]
          },
          "metadata": {}
        }
      ]
    },
    {
      "cell_type": "code",
      "metadata": {
        "colab": {
          "base_uri": "https://localhost:8080/",
          "height": 51
        },
        "id": "vgVbzOynrrxz",
        "outputId": "b5538888-6f71-4772-8dc8-bea691e4990a"
      },
      "source": [
        "names(martsale)"
      ],
      "execution_count": 18,
      "outputs": [
        {
          "output_type": "display_data",
          "data": {
            "text/plain": [
              " [1] \"Item_Identifier\"           \"Item_Weight\"              \n",
              " [3] \"Item_Fat_Content\"          \"Item_Visibility\"          \n",
              " [5] \"Item_Type\"                 \"Item_MRP\"                 \n",
              " [7] \"Outlet_Identifier\"         \"Outlet_Establishment_Year\"\n",
              " [9] \"Outlet_Size\"               \"Outlet_Location_Type\"     \n",
              "[11] \"Outlet_Type\"               \"Item_Outlet_Sales\"        "
            ],
            "text/latex": "\\begin{enumerate*}\n\\item 'Item\\_Identifier'\n\\item 'Item\\_Weight'\n\\item 'Item\\_Fat\\_Content'\n\\item 'Item\\_Visibility'\n\\item 'Item\\_Type'\n\\item 'Item\\_MRP'\n\\item 'Outlet\\_Identifier'\n\\item 'Outlet\\_Establishment\\_Year'\n\\item 'Outlet\\_Size'\n\\item 'Outlet\\_Location\\_Type'\n\\item 'Outlet\\_Type'\n\\item 'Item\\_Outlet\\_Sales'\n\\end{enumerate*}\n",
            "text/markdown": "1. 'Item_Identifier'\n2. 'Item_Weight'\n3. 'Item_Fat_Content'\n4. 'Item_Visibility'\n5. 'Item_Type'\n6. 'Item_MRP'\n7. 'Outlet_Identifier'\n8. 'Outlet_Establishment_Year'\n9. 'Outlet_Size'\n10. 'Outlet_Location_Type'\n11. 'Outlet_Type'\n12. 'Item_Outlet_Sales'\n\n\n",
            "text/html": [
              "<style>\n",
              ".list-inline {list-style: none; margin:0; padding: 0}\n",
              ".list-inline>li {display: inline-block}\n",
              ".list-inline>li:not(:last-child)::after {content: \"\\00b7\"; padding: 0 .5ex}\n",
              "</style>\n",
              "<ol class=list-inline><li>'Item_Identifier'</li><li>'Item_Weight'</li><li>'Item_Fat_Content'</li><li>'Item_Visibility'</li><li>'Item_Type'</li><li>'Item_MRP'</li><li>'Outlet_Identifier'</li><li>'Outlet_Establishment_Year'</li><li>'Outlet_Size'</li><li>'Outlet_Location_Type'</li><li>'Outlet_Type'</li><li>'Item_Outlet_Sales'</li></ol>\n"
            ]
          },
          "metadata": {}
        }
      ]
    },
    {
      "cell_type": "code",
      "metadata": {
        "colab": {
          "base_uri": "https://localhost:8080/",
          "height": 34
        },
        "id": "yPZHeh73rtOE",
        "outputId": "5d27f4ea-438f-4d32-cd9b-0e865ddb550f"
      },
      "source": [
        "unique(martsale$Item_Fat_Content)"
      ],
      "execution_count": 19,
      "outputs": [
        {
          "output_type": "display_data",
          "data": {
            "text/plain": [
              "[1] \"Low Fat\" \"Regular\" \"low fat\" \"LF\"      \"reg\"    "
            ],
            "text/latex": "\\begin{enumerate*}\n\\item 'Low Fat'\n\\item 'Regular'\n\\item 'low fat'\n\\item 'LF'\n\\item 'reg'\n\\end{enumerate*}\n",
            "text/markdown": "1. 'Low Fat'\n2. 'Regular'\n3. 'low fat'\n4. 'LF'\n5. 'reg'\n\n\n",
            "text/html": [
              "<style>\n",
              ".list-inline {list-style: none; margin:0; padding: 0}\n",
              ".list-inline>li {display: inline-block}\n",
              ".list-inline>li:not(:last-child)::after {content: \"\\00b7\"; padding: 0 .5ex}\n",
              "</style>\n",
              "<ol class=list-inline><li>'Low Fat'</li><li>'Regular'</li><li>'low fat'</li><li>'LF'</li><li>'reg'</li></ol>\n"
            ]
          },
          "metadata": {}
        }
      ]
    },
    {
      "cell_type": "code",
      "metadata": {
        "id": "90pQQvm_9Z7w"
      },
      "source": [
        "martsale$Item_Fat_Content[martsale$Item_Fat_Content == \"Low Fat\"] <- \"LowFat\""
      ],
      "execution_count": 125,
      "outputs": []
    },
    {
      "cell_type": "code",
      "metadata": {
        "id": "NJKu7vPo10r2"
      },
      "source": [
        "martsale$Item_Fat_Content[martsale$Item_Fat_Content == \"low fat\"] <- \"LowFat\""
      ],
      "execution_count": 126,
      "outputs": []
    },
    {
      "cell_type": "code",
      "metadata": {
        "id": "BkGU7eSG2cBi"
      },
      "source": [
        "martsale$Item_Fat_Content[martsale$Item_Fat_Content == \"LF\"] <- \"LowFat\""
      ],
      "execution_count": 127,
      "outputs": []
    },
    {
      "cell_type": "code",
      "metadata": {
        "id": "erIuDVHX2fIT"
      },
      "source": [
        "martsale$Item_Fat_Content[martsale$Item_Fat_Content == \"reg\"] <- \"Regular\""
      ],
      "execution_count": 128,
      "outputs": []
    },
    {
      "cell_type": "code",
      "metadata": {
        "colab": {
          "base_uri": "https://localhost:8080/",
          "height": 34
        },
        "id": "hVSDTpJF1-04",
        "outputId": "c0af403d-6235-4aef-f24a-cbd7883af2c3"
      },
      "source": [
        "unique(martsale$Item_Fat_Content)"
      ],
      "execution_count": 85,
      "outputs": [
        {
          "output_type": "display_data",
          "data": {
            "text/plain": [
              "[1] \"LowFat\"  \"Regular\""
            ],
            "text/latex": "\\begin{enumerate*}\n\\item 'LowFat'\n\\item 'Regular'\n\\end{enumerate*}\n",
            "text/markdown": "1. 'LowFat'\n2. 'Regular'\n\n\n",
            "text/html": [
              "<style>\n",
              ".list-inline {list-style: none; margin:0; padding: 0}\n",
              ".list-inline>li {display: inline-block}\n",
              ".list-inline>li:not(:last-child)::after {content: \"\\00b7\"; padding: 0 .5ex}\n",
              "</style>\n",
              "<ol class=list-inline><li>'LowFat'</li><li>'Regular'</li></ol>\n"
            ]
          },
          "metadata": {}
        }
      ]
    },
    {
      "cell_type": "code",
      "metadata": {
        "colab": {
          "base_uri": "https://localhost:8080/",
          "height": 68
        },
        "id": "ufyAeagn2kD6",
        "outputId": "35c92671-65a0-4b0d-89e1-292c3ade19db"
      },
      "source": [
        "table(martsale$Item_Fat_Content)"
      ],
      "execution_count": 86,
      "outputs": [
        {
          "output_type": "display_data",
          "data": {
            "text/plain": [
              "\n",
              " LowFat Regular \n",
              "   5517    3006 "
            ]
          },
          "metadata": {}
        }
      ]
    },
    {
      "cell_type": "code",
      "metadata": {
        "colab": {
          "base_uri": "https://localhost:8080/",
          "height": 51
        },
        "id": "QWQH9jQ9ruvy",
        "outputId": "3c696d67-906c-4352-d5e9-b948f7fdf60f"
      },
      "source": [
        "unique(martsale$Item_Type)"
      ],
      "execution_count": 20,
      "outputs": [
        {
          "output_type": "display_data",
          "data": {
            "text/plain": [
              " [1] \"Dairy\"                 \"Soft Drinks\"           \"Meat\"                 \n",
              " [4] \"Fruits and Vegetables\" \"Household\"             \"Baking Goods\"         \n",
              " [7] \"Snack Foods\"           \"Frozen Foods\"          \"Breakfast\"            \n",
              "[10] \"Health and Hygiene\"    \"Hard Drinks\"           \"Canned\"               \n",
              "[13] \"Breads\"                \"Starchy Foods\"         \"Others\"               \n",
              "[16] \"Seafood\"              "
            ],
            "text/latex": "\\begin{enumerate*}\n\\item 'Dairy'\n\\item 'Soft Drinks'\n\\item 'Meat'\n\\item 'Fruits and Vegetables'\n\\item 'Household'\n\\item 'Baking Goods'\n\\item 'Snack Foods'\n\\item 'Frozen Foods'\n\\item 'Breakfast'\n\\item 'Health and Hygiene'\n\\item 'Hard Drinks'\n\\item 'Canned'\n\\item 'Breads'\n\\item 'Starchy Foods'\n\\item 'Others'\n\\item 'Seafood'\n\\end{enumerate*}\n",
            "text/markdown": "1. 'Dairy'\n2. 'Soft Drinks'\n3. 'Meat'\n4. 'Fruits and Vegetables'\n5. 'Household'\n6. 'Baking Goods'\n7. 'Snack Foods'\n8. 'Frozen Foods'\n9. 'Breakfast'\n10. 'Health and Hygiene'\n11. 'Hard Drinks'\n12. 'Canned'\n13. 'Breads'\n14. 'Starchy Foods'\n15. 'Others'\n16. 'Seafood'\n\n\n",
            "text/html": [
              "<style>\n",
              ".list-inline {list-style: none; margin:0; padding: 0}\n",
              ".list-inline>li {display: inline-block}\n",
              ".list-inline>li:not(:last-child)::after {content: \"\\00b7\"; padding: 0 .5ex}\n",
              "</style>\n",
              "<ol class=list-inline><li>'Dairy'</li><li>'Soft Drinks'</li><li>'Meat'</li><li>'Fruits and Vegetables'</li><li>'Household'</li><li>'Baking Goods'</li><li>'Snack Foods'</li><li>'Frozen Foods'</li><li>'Breakfast'</li><li>'Health and Hygiene'</li><li>'Hard Drinks'</li><li>'Canned'</li><li>'Breads'</li><li>'Starchy Foods'</li><li>'Others'</li><li>'Seafood'</li></ol>\n"
            ]
          },
          "metadata": {}
        }
      ]
    },
    {
      "cell_type": "code",
      "metadata": {
        "id": "9bmhbO5l9q1V"
      },
      "source": [
        "martsale$Item_Type[martsale$Item_Type == \"Soft Drinks\"] <- \"SoftDrinks\""
      ],
      "execution_count": 129,
      "outputs": []
    },
    {
      "cell_type": "code",
      "metadata": {
        "id": "yLr9Q0Bg9rKT"
      },
      "source": [
        "martsale$Item_Type[martsale$Item_Type == \"Fruits and Vegetables\"] <- \"Fruits_Vegetables\""
      ],
      "execution_count": 130,
      "outputs": []
    },
    {
      "cell_type": "code",
      "metadata": {
        "id": "8NHcUOmx9rYo"
      },
      "source": [
        "martsale$Item_Type[martsale$Item_Type == \"Baking Goods\"] <- \"BakingGoods\""
      ],
      "execution_count": 131,
      "outputs": []
    },
    {
      "cell_type": "code",
      "metadata": {
        "id": "0lpbQ8f69rn3"
      },
      "source": [
        "martsale$Item_Type[martsale$Item_Type == \"Snack Foods\"] <- \"SnackFoods\""
      ],
      "execution_count": 132,
      "outputs": []
    },
    {
      "cell_type": "code",
      "metadata": {
        "id": "Sp_c0lh49r3u"
      },
      "source": [
        "martsale$Item_Type[martsale$Item_Type == \"Frozen Foods\"] <- \"FrozenFoods\""
      ],
      "execution_count": 133,
      "outputs": []
    },
    {
      "cell_type": "code",
      "metadata": {
        "id": "Bt37zkxN9tbu"
      },
      "source": [
        "martsale$Item_Type[martsale$Item_Type == \"Health and Hygiene\"] <- \"Health_Hygiene\""
      ],
      "execution_count": 134,
      "outputs": []
    },
    {
      "cell_type": "code",
      "metadata": {
        "id": "0NsVpRPF9tqi"
      },
      "source": [
        "martsale$Item_Type[martsale$Item_Type == \"Hard Drinks\"] <- \"HardDrinks\""
      ],
      "execution_count": 135,
      "outputs": []
    },
    {
      "cell_type": "code",
      "metadata": {
        "id": "bmn62y8y-bBA"
      },
      "source": [
        "martsale$Item_Type[martsale$Item_Type == \"Starchy Foods\"] <- \"StarchyFoods\""
      ],
      "execution_count": 136,
      "outputs": []
    },
    {
      "cell_type": "code",
      "metadata": {
        "colab": {
          "base_uri": "https://localhost:8080/",
          "height": 51
        },
        "id": "6tqd-2g6-mKh",
        "outputId": "5c3d3617-ccdd-4fe6-a758-47385b4a69f8"
      },
      "source": [
        "unique(martsale$Item_Type)"
      ],
      "execution_count": 106,
      "outputs": [
        {
          "output_type": "display_data",
          "data": {
            "text/plain": [
              " [1] \"Dairy\"             \"SoftDrinks\"        \"Meat\"             \n",
              " [4] \"Fruits&Vegetables\" \"Household\"         \"BakingGoods\"      \n",
              " [7] \"SnackFoods\"        \"FrozenFoods\"       \"Breakfast\"        \n",
              "[10] \"Health&Hygiene\"    \"HardDrinks\"        \"Canned\"           \n",
              "[13] \"Breads\"            \"StarchyFoods\"      \"Others\"           \n",
              "[16] \"Seafood\"          "
            ],
            "text/latex": "\\begin{enumerate*}\n\\item 'Dairy'\n\\item 'SoftDrinks'\n\\item 'Meat'\n\\item 'Fruits\\&Vegetables'\n\\item 'Household'\n\\item 'BakingGoods'\n\\item 'SnackFoods'\n\\item 'FrozenFoods'\n\\item 'Breakfast'\n\\item 'Health\\&Hygiene'\n\\item 'HardDrinks'\n\\item 'Canned'\n\\item 'Breads'\n\\item 'StarchyFoods'\n\\item 'Others'\n\\item 'Seafood'\n\\end{enumerate*}\n",
            "text/markdown": "1. 'Dairy'\n2. 'SoftDrinks'\n3. 'Meat'\n4. 'Fruits&amp;Vegetables'\n5. 'Household'\n6. 'BakingGoods'\n7. 'SnackFoods'\n8. 'FrozenFoods'\n9. 'Breakfast'\n10. 'Health&amp;Hygiene'\n11. 'HardDrinks'\n12. 'Canned'\n13. 'Breads'\n14. 'StarchyFoods'\n15. 'Others'\n16. 'Seafood'\n\n\n",
            "text/html": [
              "<style>\n",
              ".list-inline {list-style: none; margin:0; padding: 0}\n",
              ".list-inline>li {display: inline-block}\n",
              ".list-inline>li:not(:last-child)::after {content: \"\\00b7\"; padding: 0 .5ex}\n",
              "</style>\n",
              "<ol class=list-inline><li>'Dairy'</li><li>'SoftDrinks'</li><li>'Meat'</li><li>'Fruits&amp;Vegetables'</li><li>'Household'</li><li>'BakingGoods'</li><li>'SnackFoods'</li><li>'FrozenFoods'</li><li>'Breakfast'</li><li>'Health&amp;Hygiene'</li><li>'HardDrinks'</li><li>'Canned'</li><li>'Breads'</li><li>'StarchyFoods'</li><li>'Others'</li><li>'Seafood'</li></ol>\n"
            ]
          },
          "metadata": {}
        }
      ]
    },
    {
      "cell_type": "code",
      "metadata": {
        "colab": {
          "base_uri": "https://localhost:8080/",
          "height": 34
        },
        "id": "OyJ5VMJXrwZH",
        "outputId": "d83d283b-3598-41df-913f-78d3a9bffd23"
      },
      "source": [
        "unique(martsale$Outlet_Size)"
      ],
      "execution_count": 21,
      "outputs": [
        {
          "output_type": "display_data",
          "data": {
            "text/plain": [
              "[1] \"Medium\" \"High\"   \"Small\" "
            ],
            "text/latex": "\\begin{enumerate*}\n\\item 'Medium'\n\\item 'High'\n\\item 'Small'\n\\end{enumerate*}\n",
            "text/markdown": "1. 'Medium'\n2. 'High'\n3. 'Small'\n\n\n",
            "text/html": [
              "<style>\n",
              ".list-inline {list-style: none; margin:0; padding: 0}\n",
              ".list-inline>li {display: inline-block}\n",
              ".list-inline>li:not(:last-child)::after {content: \"\\00b7\"; padding: 0 .5ex}\n",
              "</style>\n",
              "<ol class=list-inline><li>'Medium'</li><li>'High'</li><li>'Small'</li></ol>\n"
            ]
          },
          "metadata": {}
        }
      ]
    },
    {
      "cell_type": "code",
      "metadata": {
        "colab": {
          "base_uri": "https://localhost:8080/",
          "height": 34
        },
        "id": "nOKIQ_fTr2DO",
        "outputId": "1161e020-2a30-4d1c-d600-38554538e265"
      },
      "source": [
        "unique(martsale$Outlet_Location_Type)"
      ],
      "execution_count": 22,
      "outputs": [
        {
          "output_type": "display_data",
          "data": {
            "text/plain": [
              "[1] \"Tier 1\" \"Tier 3\" \"Tier 2\""
            ],
            "text/latex": "\\begin{enumerate*}\n\\item 'Tier 1'\n\\item 'Tier 3'\n\\item 'Tier 2'\n\\end{enumerate*}\n",
            "text/markdown": "1. 'Tier 1'\n2. 'Tier 3'\n3. 'Tier 2'\n\n\n",
            "text/html": [
              "<style>\n",
              ".list-inline {list-style: none; margin:0; padding: 0}\n",
              ".list-inline>li {display: inline-block}\n",
              ".list-inline>li:not(:last-child)::after {content: \"\\00b7\"; padding: 0 .5ex}\n",
              "</style>\n",
              "<ol class=list-inline><li>'Tier 1'</li><li>'Tier 3'</li><li>'Tier 2'</li></ol>\n"
            ]
          },
          "metadata": {}
        }
      ]
    },
    {
      "cell_type": "code",
      "metadata": {
        "id": "EekwCvnN-1O6"
      },
      "source": [
        "martsale$Outlet_Location_Type[martsale$Outlet_Location_Type == \"Tier 1\"] <- \"Tier1\""
      ],
      "execution_count": 137,
      "outputs": []
    },
    {
      "cell_type": "code",
      "metadata": {
        "id": "2x4LzJR4-19m"
      },
      "source": [
        "martsale$Outlet_Location_Type[martsale$Outlet_Location_Type == \"Tier 2\"] <- \"Tier2\""
      ],
      "execution_count": 138,
      "outputs": []
    },
    {
      "cell_type": "code",
      "metadata": {
        "id": "X7vMmTa1-2I2"
      },
      "source": [
        "martsale$Outlet_Location_Type[martsale$Outlet_Location_Type == \"Tier 3\"] <- \"Tier3\""
      ],
      "execution_count": 139,
      "outputs": []
    },
    {
      "cell_type": "code",
      "metadata": {
        "colab": {
          "base_uri": "https://localhost:8080/",
          "height": 34
        },
        "id": "SS75FRr6_CW7",
        "outputId": "f7d08a8c-e5d0-4754-f454-18206e04dc93"
      },
      "source": [
        "unique(martsale$Outlet_Location_Type)"
      ],
      "execution_count": 110,
      "outputs": [
        {
          "output_type": "display_data",
          "data": {
            "text/plain": [
              "[1] \"Tier1\" \"Tier3\" \"Tier2\""
            ],
            "text/latex": "\\begin{enumerate*}\n\\item 'Tier1'\n\\item 'Tier3'\n\\item 'Tier2'\n\\end{enumerate*}\n",
            "text/markdown": "1. 'Tier1'\n2. 'Tier3'\n3. 'Tier2'\n\n\n",
            "text/html": [
              "<style>\n",
              ".list-inline {list-style: none; margin:0; padding: 0}\n",
              ".list-inline>li {display: inline-block}\n",
              ".list-inline>li:not(:last-child)::after {content: \"\\00b7\"; padding: 0 .5ex}\n",
              "</style>\n",
              "<ol class=list-inline><li>'Tier1'</li><li>'Tier3'</li><li>'Tier2'</li></ol>\n"
            ]
          },
          "metadata": {}
        }
      ]
    },
    {
      "cell_type": "code",
      "metadata": {
        "colab": {
          "base_uri": "https://localhost:8080/",
          "height": 34
        },
        "id": "5i-008ncr3U4",
        "outputId": "de2e1c64-b098-465e-8805-77d6e75b8a3f"
      },
      "source": [
        "unique(martsale$Outlet_Type)"
      ],
      "execution_count": 23,
      "outputs": [
        {
          "output_type": "display_data",
          "data": {
            "text/plain": [
              "[1] \"Supermarket Type1\" \"Supermarket Type2\" \"Grocery Store\"    \n",
              "[4] \"Supermarket Type3\""
            ],
            "text/latex": "\\begin{enumerate*}\n\\item 'Supermarket Type1'\n\\item 'Supermarket Type2'\n\\item 'Grocery Store'\n\\item 'Supermarket Type3'\n\\end{enumerate*}\n",
            "text/markdown": "1. 'Supermarket Type1'\n2. 'Supermarket Type2'\n3. 'Grocery Store'\n4. 'Supermarket Type3'\n\n\n",
            "text/html": [
              "<style>\n",
              ".list-inline {list-style: none; margin:0; padding: 0}\n",
              ".list-inline>li {display: inline-block}\n",
              ".list-inline>li:not(:last-child)::after {content: \"\\00b7\"; padding: 0 .5ex}\n",
              "</style>\n",
              "<ol class=list-inline><li>'Supermarket Type1'</li><li>'Supermarket Type2'</li><li>'Grocery Store'</li><li>'Supermarket Type3'</li></ol>\n"
            ]
          },
          "metadata": {}
        }
      ]
    },
    {
      "cell_type": "code",
      "metadata": {
        "id": "0XMgSK43_FPY"
      },
      "source": [
        "martsale$Outlet_Type[martsale$Outlet_Type == \"Supermarket Type1\"] <- \"SupermarketType1\""
      ],
      "execution_count": 140,
      "outputs": []
    },
    {
      "cell_type": "code",
      "metadata": {
        "id": "gS6KYg4i_Fxl"
      },
      "source": [
        "martsale$Outlet_Type[martsale$Outlet_Type == \"Supermarket Type2\"] <- \"SupermarketType2\""
      ],
      "execution_count": 141,
      "outputs": []
    },
    {
      "cell_type": "code",
      "metadata": {
        "id": "bv3-MPev_F--"
      },
      "source": [
        "martsale$Outlet_Type[martsale$Outlet_Type == \"Supermarket Type3\"] <- \"SupermarketType3\""
      ],
      "execution_count": 142,
      "outputs": []
    },
    {
      "cell_type": "code",
      "metadata": {
        "id": "jgpy7IJh_GJT"
      },
      "source": [
        "martsale$Outlet_Type[martsale$Outlet_Type == \"Grocery Store\"] <- \"GroceryStore\""
      ],
      "execution_count": 143,
      "outputs": []
    },
    {
      "cell_type": "code",
      "metadata": {
        "colab": {
          "base_uri": "https://localhost:8080/",
          "height": 34
        },
        "id": "NxITC2TE_WJn",
        "outputId": "864c5dca-714d-4441-a020-b1d0edbdda3c"
      },
      "source": [
        "unique(martsale$Outlet_Type)"
      ],
      "execution_count": 115,
      "outputs": [
        {
          "output_type": "display_data",
          "data": {
            "text/plain": [
              "[1] \"SupermarketType1\" \"SupermarketType2\" \"GroceryStore\"     \"SupermarketType3\""
            ],
            "text/latex": "\\begin{enumerate*}\n\\item 'SupermarketType1'\n\\item 'SupermarketType2'\n\\item 'GroceryStore'\n\\item 'SupermarketType3'\n\\end{enumerate*}\n",
            "text/markdown": "1. 'SupermarketType1'\n2. 'SupermarketType2'\n3. 'GroceryStore'\n4. 'SupermarketType3'\n\n\n",
            "text/html": [
              "<style>\n",
              ".list-inline {list-style: none; margin:0; padding: 0}\n",
              ".list-inline>li {display: inline-block}\n",
              ".list-inline>li:not(:last-child)::after {content: \"\\00b7\"; padding: 0 .5ex}\n",
              "</style>\n",
              "<ol class=list-inline><li>'SupermarketType1'</li><li>'SupermarketType2'</li><li>'GroceryStore'</li><li>'SupermarketType3'</li></ol>\n"
            ]
          },
          "metadata": {}
        }
      ]
    },
    {
      "cell_type": "code",
      "metadata": {
        "colab": {
          "base_uri": "https://localhost:8080/",
          "height": 68
        },
        "id": "3oPUox4PtESB",
        "outputId": "0c9cf296-62af-41b8-d701-8b6d21f5ff37"
      },
      "source": [
        "table(martsale$Outlet_Establishment_Year)"
      ],
      "execution_count": 24,
      "outputs": [
        {
          "output_type": "display_data",
          "data": {
            "text/plain": [
              "\n",
              "1985 1987 1997 1998 1999 2002 2004 2007 2009 \n",
              "1463  932  930  555  930  929  930  926  928 "
            ]
          },
          "metadata": {}
        }
      ]
    },
    {
      "cell_type": "code",
      "metadata": {
        "colab": {
          "base_uri": "https://localhost:8080/",
          "height": 159
        },
        "id": "tQuc5UCduSW0",
        "outputId": "06f57404-7f82-4197-c528-7c4475a10f6f"
      },
      "source": [
        "cor(martsale[, c(2,4,6)])"
      ],
      "execution_count": 32,
      "outputs": [
        {
          "output_type": "display_data",
          "data": {
            "text/plain": [
              "                Item_Weight Item_Visibility Item_MRP    \n",
              "Item_Weight      1.00000000 -0.022502012     0.020450948\n",
              "Item_Visibility -0.02250201  1.000000000    -0.001314848\n",
              "Item_MRP         0.02045095 -0.001314848     1.000000000"
            ],
            "text/latex": "A matrix: 3 × 3 of type dbl\n\\begin{tabular}{r|lll}\n  & Item\\_Weight & Item\\_Visibility & Item\\_MRP\\\\\n\\hline\n\tItem\\_Weight &  1.00000000 & -0.022502012 &  0.020450948\\\\\n\tItem\\_Visibility & -0.02250201 &  1.000000000 & -0.001314848\\\\\n\tItem\\_MRP &  0.02045095 & -0.001314848 &  1.000000000\\\\\n\\end{tabular}\n",
            "text/markdown": "\nA matrix: 3 × 3 of type dbl\n\n| <!--/--> | Item_Weight | Item_Visibility | Item_MRP |\n|---|---|---|---|\n| Item_Weight |  1.00000000 | -0.022502012 |  0.020450948 |\n| Item_Visibility | -0.02250201 |  1.000000000 | -0.001314848 |\n| Item_MRP |  0.02045095 | -0.001314848 |  1.000000000 |\n\n",
            "text/html": [
              "<table class=\"dataframe\">\n",
              "<caption>A matrix: 3 × 3 of type dbl</caption>\n",
              "<thead>\n",
              "\t<tr><th></th><th scope=col>Item_Weight</th><th scope=col>Item_Visibility</th><th scope=col>Item_MRP</th></tr>\n",
              "</thead>\n",
              "<tbody>\n",
              "\t<tr><th scope=row>Item_Weight</th><td> 1.00000000</td><td>-0.022502012</td><td> 0.020450948</td></tr>\n",
              "\t<tr><th scope=row>Item_Visibility</th><td>-0.02250201</td><td> 1.000000000</td><td>-0.001314848</td></tr>\n",
              "\t<tr><th scope=row>Item_MRP</th><td> 0.02045095</td><td>-0.001314848</td><td> 1.000000000</td></tr>\n",
              "</tbody>\n",
              "</table>\n"
            ]
          },
          "metadata": {}
        }
      ]
    },
    {
      "cell_type": "code",
      "metadata": {
        "colab": {
          "base_uri": "https://localhost:8080/"
        },
        "id": "RYKStIKUzRCV",
        "outputId": "b0f0a263-29b9-4223-c005-ec310040a22f"
      },
      "source": [
        "install.packages('fastDummies')"
      ],
      "execution_count": 35,
      "outputs": [
        {
          "output_type": "stream",
          "name": "stderr",
          "text": [
            "Installing package into ‘/usr/local/lib/R/site-library’\n",
            "(as ‘lib’ is unspecified)\n",
            "\n"
          ]
        }
      ]
    },
    {
      "cell_type": "code",
      "metadata": {
        "id": "3BO0VePxzdlE"
      },
      "source": [
        "library('fastDummies')"
      ],
      "execution_count": 37,
      "outputs": []
    },
    {
      "cell_type": "code",
      "metadata": {
        "id": "QozoFhJpzjqh"
      },
      "source": [
        "martsale <- dummy_cols(martsale, select_columns = c('Item_Fat_Content','Item_Type','Outlet_Size','Outlet_Location_Type','Outlet_Type'),\n",
        "             remove_selected_columns = TRUE)"
      ],
      "execution_count": 144,
      "outputs": []
    },
    {
      "cell_type": "code",
      "metadata": {
        "colab": {
          "base_uri": "https://localhost:8080/",
          "height": 210
        },
        "id": "aLP_zXqIzv8u",
        "outputId": "71c2a206-c4e6-40fa-e2c3-41a999c764bf"
      },
      "source": [
        "head(martsale,3)"
      ],
      "execution_count": 145,
      "outputs": [
        {
          "output_type": "display_data",
          "data": {
            "text/plain": [
              "  Item_Identifier Item_Weight Item_Visibility Item_MRP Outlet_Identifier\n",
              "1 FDA15            9.30       0.01604730      249.8092 OUT049           \n",
              "2 DRC01            5.92       0.01927822       48.2692 OUT018           \n",
              "3 FDN15           17.50       0.01676007      141.6180 OUT049           \n",
              "  Outlet_Establishment_Year Item_Outlet_Sales Item_Fat_Content_LowFat\n",
              "1 1999                      3735.1380         1                      \n",
              "2 2009                       443.4228         0                      \n",
              "3 1999                      2097.2700         1                      \n",
              "  Item_Fat_Content_Regular Item_Type_BakingGoods ⋯ Outlet_Size_High\n",
              "1 0                        0                     ⋯ 0               \n",
              "2 1                        0                     ⋯ 0               \n",
              "3 0                        0                     ⋯ 0               \n",
              "  Outlet_Size_Medium Outlet_Size_Small Outlet_Location_Type_Tier1\n",
              "1 1                  0                 1                         \n",
              "2 1                  0                 0                         \n",
              "3 1                  0                 1                         \n",
              "  Outlet_Location_Type_Tier2 Outlet_Location_Type_Tier3\n",
              "1 0                          0                         \n",
              "2 0                          1                         \n",
              "3 0                          0                         \n",
              "  Outlet_Type_GroceryStore Outlet_Type_SupermarketType1\n",
              "1 0                        1                           \n",
              "2 0                        0                           \n",
              "3 0                        1                           \n",
              "  Outlet_Type_SupermarketType2 Outlet_Type_SupermarketType3\n",
              "1 0                            0                           \n",
              "2 1                            0                           \n",
              "3 0                            0                           "
            ],
            "text/latex": "A data.frame: 3 × 35\n\\begin{tabular}{r|lllllllllllllllllllll}\n  & Item\\_Identifier & Item\\_Weight & Item\\_Visibility & Item\\_MRP & Outlet\\_Identifier & Outlet\\_Establishment\\_Year & Item\\_Outlet\\_Sales & Item\\_Fat\\_Content\\_LowFat & Item\\_Fat\\_Content\\_Regular & Item\\_Type\\_BakingGoods & ⋯ & Outlet\\_Size\\_High & Outlet\\_Size\\_Medium & Outlet\\_Size\\_Small & Outlet\\_Location\\_Type\\_Tier1 & Outlet\\_Location\\_Type\\_Tier2 & Outlet\\_Location\\_Type\\_Tier3 & Outlet\\_Type\\_GroceryStore & Outlet\\_Type\\_SupermarketType1 & Outlet\\_Type\\_SupermarketType2 & Outlet\\_Type\\_SupermarketType3\\\\\n  & <chr> & <dbl> & <dbl> & <dbl> & <chr> & <int> & <dbl> & <int> & <int> & <int> & ⋯ & <int> & <int> & <int> & <int> & <int> & <int> & <int> & <int> & <int> & <int>\\\\\n\\hline\n\t1 & FDA15 &  9.30 & 0.01604730 & 249.8092 & OUT049 & 1999 & 3735.1380 & 1 & 0 & 0 & ⋯ & 0 & 1 & 0 & 1 & 0 & 0 & 0 & 1 & 0 & 0\\\\\n\t2 & DRC01 &  5.92 & 0.01927822 &  48.2692 & OUT018 & 2009 &  443.4228 & 0 & 1 & 0 & ⋯ & 0 & 1 & 0 & 0 & 0 & 1 & 0 & 0 & 1 & 0\\\\\n\t3 & FDN15 & 17.50 & 0.01676007 & 141.6180 & OUT049 & 1999 & 2097.2700 & 1 & 0 & 0 & ⋯ & 0 & 1 & 0 & 1 & 0 & 0 & 0 & 1 & 0 & 0\\\\\n\\end{tabular}\n",
            "text/markdown": "\nA data.frame: 3 × 35\n\n| <!--/--> | Item_Identifier &lt;chr&gt; | Item_Weight &lt;dbl&gt; | Item_Visibility &lt;dbl&gt; | Item_MRP &lt;dbl&gt; | Outlet_Identifier &lt;chr&gt; | Outlet_Establishment_Year &lt;int&gt; | Item_Outlet_Sales &lt;dbl&gt; | Item_Fat_Content_LowFat &lt;int&gt; | Item_Fat_Content_Regular &lt;int&gt; | Item_Type_BakingGoods &lt;int&gt; | ⋯ ⋯ | Outlet_Size_High &lt;int&gt; | Outlet_Size_Medium &lt;int&gt; | Outlet_Size_Small &lt;int&gt; | Outlet_Location_Type_Tier1 &lt;int&gt; | Outlet_Location_Type_Tier2 &lt;int&gt; | Outlet_Location_Type_Tier3 &lt;int&gt; | Outlet_Type_GroceryStore &lt;int&gt; | Outlet_Type_SupermarketType1 &lt;int&gt; | Outlet_Type_SupermarketType2 &lt;int&gt; | Outlet_Type_SupermarketType3 &lt;int&gt; |\n|---|---|---|---|---|---|---|---|---|---|---|---|---|---|---|---|---|---|---|---|---|---|\n| 1 | FDA15 |  9.30 | 0.01604730 | 249.8092 | OUT049 | 1999 | 3735.1380 | 1 | 0 | 0 | ⋯ | 0 | 1 | 0 | 1 | 0 | 0 | 0 | 1 | 0 | 0 |\n| 2 | DRC01 |  5.92 | 0.01927822 |  48.2692 | OUT018 | 2009 |  443.4228 | 0 | 1 | 0 | ⋯ | 0 | 1 | 0 | 0 | 0 | 1 | 0 | 0 | 1 | 0 |\n| 3 | FDN15 | 17.50 | 0.01676007 | 141.6180 | OUT049 | 1999 | 2097.2700 | 1 | 0 | 0 | ⋯ | 0 | 1 | 0 | 1 | 0 | 0 | 0 | 1 | 0 | 0 |\n\n",
            "text/html": [
              "<table class=\"dataframe\">\n",
              "<caption>A data.frame: 3 × 35</caption>\n",
              "<thead>\n",
              "\t<tr><th></th><th scope=col>Item_Identifier</th><th scope=col>Item_Weight</th><th scope=col>Item_Visibility</th><th scope=col>Item_MRP</th><th scope=col>Outlet_Identifier</th><th scope=col>Outlet_Establishment_Year</th><th scope=col>Item_Outlet_Sales</th><th scope=col>Item_Fat_Content_LowFat</th><th scope=col>Item_Fat_Content_Regular</th><th scope=col>Item_Type_BakingGoods</th><th scope=col>⋯</th><th scope=col>Outlet_Size_High</th><th scope=col>Outlet_Size_Medium</th><th scope=col>Outlet_Size_Small</th><th scope=col>Outlet_Location_Type_Tier1</th><th scope=col>Outlet_Location_Type_Tier2</th><th scope=col>Outlet_Location_Type_Tier3</th><th scope=col>Outlet_Type_GroceryStore</th><th scope=col>Outlet_Type_SupermarketType1</th><th scope=col>Outlet_Type_SupermarketType2</th><th scope=col>Outlet_Type_SupermarketType3</th></tr>\n",
              "\t<tr><th></th><th scope=col>&lt;chr&gt;</th><th scope=col>&lt;dbl&gt;</th><th scope=col>&lt;dbl&gt;</th><th scope=col>&lt;dbl&gt;</th><th scope=col>&lt;chr&gt;</th><th scope=col>&lt;int&gt;</th><th scope=col>&lt;dbl&gt;</th><th scope=col>&lt;int&gt;</th><th scope=col>&lt;int&gt;</th><th scope=col>&lt;int&gt;</th><th scope=col>⋯</th><th scope=col>&lt;int&gt;</th><th scope=col>&lt;int&gt;</th><th scope=col>&lt;int&gt;</th><th scope=col>&lt;int&gt;</th><th scope=col>&lt;int&gt;</th><th scope=col>&lt;int&gt;</th><th scope=col>&lt;int&gt;</th><th scope=col>&lt;int&gt;</th><th scope=col>&lt;int&gt;</th><th scope=col>&lt;int&gt;</th></tr>\n",
              "</thead>\n",
              "<tbody>\n",
              "\t<tr><th scope=row>1</th><td>FDA15</td><td> 9.30</td><td>0.01604730</td><td>249.8092</td><td>OUT049</td><td>1999</td><td>3735.1380</td><td>1</td><td>0</td><td>0</td><td>⋯</td><td>0</td><td>1</td><td>0</td><td>1</td><td>0</td><td>0</td><td>0</td><td>1</td><td>0</td><td>0</td></tr>\n",
              "\t<tr><th scope=row>2</th><td>DRC01</td><td> 5.92</td><td>0.01927822</td><td> 48.2692</td><td>OUT018</td><td>2009</td><td> 443.4228</td><td>0</td><td>1</td><td>0</td><td>⋯</td><td>0</td><td>1</td><td>0</td><td>0</td><td>0</td><td>1</td><td>0</td><td>0</td><td>1</td><td>0</td></tr>\n",
              "\t<tr><th scope=row>3</th><td>FDN15</td><td>17.50</td><td>0.01676007</td><td>141.6180</td><td>OUT049</td><td>1999</td><td>2097.2700</td><td>1</td><td>0</td><td>0</td><td>⋯</td><td>0</td><td>1</td><td>0</td><td>1</td><td>0</td><td>0</td><td>0</td><td>1</td><td>0</td><td>0</td></tr>\n",
              "</tbody>\n",
              "</table>\n"
            ]
          },
          "metadata": {}
        }
      ]
    },
    {
      "cell_type": "code",
      "metadata": {
        "id": "ZDmTgCR44GSp"
      },
      "source": [
        "martcorr = subset(martsale, select = -c(1,5,6,7) )"
      ],
      "execution_count": 147,
      "outputs": []
    },
    {
      "cell_type": "code",
      "metadata": {
        "colab": {
          "base_uri": "https://localhost:8080/",
          "height": 210
        },
        "id": "OGvBA-gr4iNR",
        "outputId": "6bf95f92-3573-4375-f296-8e9f961e3473"
      },
      "source": [
        "head(martcorr,3)"
      ],
      "execution_count": 119,
      "outputs": [
        {
          "output_type": "display_data",
          "data": {
            "text/plain": [
              "  Item_Weight Item_Visibility Item_MRP Item_Fat_Content_LowFat\n",
              "1  9.30       0.01604730      249.8092 1                      \n",
              "2  5.92       0.01927822       48.2692 0                      \n",
              "3 17.50       0.01676007      141.6180 1                      \n",
              "  Item_Fat_Content_Regular Item_Type_BakingGoods Item_Type_Breads\n",
              "1 0                        0                     0               \n",
              "2 1                        0                     0               \n",
              "3 0                        0                     0               \n",
              "  Item_Type_Breakfast Item_Type_Canned Item_Type_Dairy ⋯ Outlet_Size_High\n",
              "1 0                   0                1               ⋯ 0               \n",
              "2 0                   0                0               ⋯ 0               \n",
              "3 0                   0                0               ⋯ 0               \n",
              "  Outlet_Size_Medium Outlet_Size_Small Outlet_Location_Type_Tier1\n",
              "1 1                  0                 1                         \n",
              "2 1                  0                 0                         \n",
              "3 1                  0                 1                         \n",
              "  Outlet_Location_Type_Tier2 Outlet_Location_Type_Tier3\n",
              "1 0                          0                         \n",
              "2 0                          1                         \n",
              "3 0                          0                         \n",
              "  Outlet_Type_GroceryStore Outlet_Type_SupermarketType1\n",
              "1 0                        1                           \n",
              "2 0                        0                           \n",
              "3 0                        1                           \n",
              "  Outlet_Type_SupermarketType2 Outlet_Type_SupermarketType3\n",
              "1 0                            0                           \n",
              "2 1                            0                           \n",
              "3 0                            0                           "
            ],
            "text/latex": "A data.frame: 3 × 31\n\\begin{tabular}{r|lllllllllllllllllllll}\n  & Item\\_Weight & Item\\_Visibility & Item\\_MRP & Item\\_Fat\\_Content\\_LowFat & Item\\_Fat\\_Content\\_Regular & Item\\_Type\\_BakingGoods & Item\\_Type\\_Breads & Item\\_Type\\_Breakfast & Item\\_Type\\_Canned & Item\\_Type\\_Dairy & ⋯ & Outlet\\_Size\\_High & Outlet\\_Size\\_Medium & Outlet\\_Size\\_Small & Outlet\\_Location\\_Type\\_Tier1 & Outlet\\_Location\\_Type\\_Tier2 & Outlet\\_Location\\_Type\\_Tier3 & Outlet\\_Type\\_GroceryStore & Outlet\\_Type\\_SupermarketType1 & Outlet\\_Type\\_SupermarketType2 & Outlet\\_Type\\_SupermarketType3\\\\\n  & <dbl> & <dbl> & <dbl> & <int> & <int> & <int> & <int> & <int> & <int> & <int> & ⋯ & <int> & <int> & <int> & <int> & <int> & <int> & <int> & <int> & <int> & <int>\\\\\n\\hline\n\t1 &  9.30 & 0.01604730 & 249.8092 & 1 & 0 & 0 & 0 & 0 & 0 & 1 & ⋯ & 0 & 1 & 0 & 1 & 0 & 0 & 0 & 1 & 0 & 0\\\\\n\t2 &  5.92 & 0.01927822 &  48.2692 & 0 & 1 & 0 & 0 & 0 & 0 & 0 & ⋯ & 0 & 1 & 0 & 0 & 0 & 1 & 0 & 0 & 1 & 0\\\\\n\t3 & 17.50 & 0.01676007 & 141.6180 & 1 & 0 & 0 & 0 & 0 & 0 & 0 & ⋯ & 0 & 1 & 0 & 1 & 0 & 0 & 0 & 1 & 0 & 0\\\\\n\\end{tabular}\n",
            "text/markdown": "\nA data.frame: 3 × 31\n\n| <!--/--> | Item_Weight &lt;dbl&gt; | Item_Visibility &lt;dbl&gt; | Item_MRP &lt;dbl&gt; | Item_Fat_Content_LowFat &lt;int&gt; | Item_Fat_Content_Regular &lt;int&gt; | Item_Type_BakingGoods &lt;int&gt; | Item_Type_Breads &lt;int&gt; | Item_Type_Breakfast &lt;int&gt; | Item_Type_Canned &lt;int&gt; | Item_Type_Dairy &lt;int&gt; | ⋯ ⋯ | Outlet_Size_High &lt;int&gt; | Outlet_Size_Medium &lt;int&gt; | Outlet_Size_Small &lt;int&gt; | Outlet_Location_Type_Tier1 &lt;int&gt; | Outlet_Location_Type_Tier2 &lt;int&gt; | Outlet_Location_Type_Tier3 &lt;int&gt; | Outlet_Type_GroceryStore &lt;int&gt; | Outlet_Type_SupermarketType1 &lt;int&gt; | Outlet_Type_SupermarketType2 &lt;int&gt; | Outlet_Type_SupermarketType3 &lt;int&gt; |\n|---|---|---|---|---|---|---|---|---|---|---|---|---|---|---|---|---|---|---|---|---|---|\n| 1 |  9.30 | 0.01604730 | 249.8092 | 1 | 0 | 0 | 0 | 0 | 0 | 1 | ⋯ | 0 | 1 | 0 | 1 | 0 | 0 | 0 | 1 | 0 | 0 |\n| 2 |  5.92 | 0.01927822 |  48.2692 | 0 | 1 | 0 | 0 | 0 | 0 | 0 | ⋯ | 0 | 1 | 0 | 0 | 0 | 1 | 0 | 0 | 1 | 0 |\n| 3 | 17.50 | 0.01676007 | 141.6180 | 1 | 0 | 0 | 0 | 0 | 0 | 0 | ⋯ | 0 | 1 | 0 | 1 | 0 | 0 | 0 | 1 | 0 | 0 |\n\n",
            "text/html": [
              "<table class=\"dataframe\">\n",
              "<caption>A data.frame: 3 × 31</caption>\n",
              "<thead>\n",
              "\t<tr><th></th><th scope=col>Item_Weight</th><th scope=col>Item_Visibility</th><th scope=col>Item_MRP</th><th scope=col>Item_Fat_Content_LowFat</th><th scope=col>Item_Fat_Content_Regular</th><th scope=col>Item_Type_BakingGoods</th><th scope=col>Item_Type_Breads</th><th scope=col>Item_Type_Breakfast</th><th scope=col>Item_Type_Canned</th><th scope=col>Item_Type_Dairy</th><th scope=col>⋯</th><th scope=col>Outlet_Size_High</th><th scope=col>Outlet_Size_Medium</th><th scope=col>Outlet_Size_Small</th><th scope=col>Outlet_Location_Type_Tier1</th><th scope=col>Outlet_Location_Type_Tier2</th><th scope=col>Outlet_Location_Type_Tier3</th><th scope=col>Outlet_Type_GroceryStore</th><th scope=col>Outlet_Type_SupermarketType1</th><th scope=col>Outlet_Type_SupermarketType2</th><th scope=col>Outlet_Type_SupermarketType3</th></tr>\n",
              "\t<tr><th></th><th scope=col>&lt;dbl&gt;</th><th scope=col>&lt;dbl&gt;</th><th scope=col>&lt;dbl&gt;</th><th scope=col>&lt;int&gt;</th><th scope=col>&lt;int&gt;</th><th scope=col>&lt;int&gt;</th><th scope=col>&lt;int&gt;</th><th scope=col>&lt;int&gt;</th><th scope=col>&lt;int&gt;</th><th scope=col>&lt;int&gt;</th><th scope=col>⋯</th><th scope=col>&lt;int&gt;</th><th scope=col>&lt;int&gt;</th><th scope=col>&lt;int&gt;</th><th scope=col>&lt;int&gt;</th><th scope=col>&lt;int&gt;</th><th scope=col>&lt;int&gt;</th><th scope=col>&lt;int&gt;</th><th scope=col>&lt;int&gt;</th><th scope=col>&lt;int&gt;</th><th scope=col>&lt;int&gt;</th></tr>\n",
              "</thead>\n",
              "<tbody>\n",
              "\t<tr><th scope=row>1</th><td> 9.30</td><td>0.01604730</td><td>249.8092</td><td>1</td><td>0</td><td>0</td><td>0</td><td>0</td><td>0</td><td>1</td><td>⋯</td><td>0</td><td>1</td><td>0</td><td>1</td><td>0</td><td>0</td><td>0</td><td>1</td><td>0</td><td>0</td></tr>\n",
              "\t<tr><th scope=row>2</th><td> 5.92</td><td>0.01927822</td><td> 48.2692</td><td>0</td><td>1</td><td>0</td><td>0</td><td>0</td><td>0</td><td>0</td><td>⋯</td><td>0</td><td>1</td><td>0</td><td>0</td><td>0</td><td>1</td><td>0</td><td>0</td><td>1</td><td>0</td></tr>\n",
              "\t<tr><th scope=row>3</th><td>17.50</td><td>0.01676007</td><td>141.6180</td><td>1</td><td>0</td><td>0</td><td>0</td><td>0</td><td>0</td><td>0</td><td>⋯</td><td>0</td><td>1</td><td>0</td><td>1</td><td>0</td><td>0</td><td>0</td><td>1</td><td>0</td><td>0</td></tr>\n",
              "</tbody>\n",
              "</table>\n"
            ]
          },
          "metadata": {}
        }
      ]
    },
    {
      "cell_type": "code",
      "metadata": {
        "colab": {
          "base_uri": "https://localhost:8080/",
          "height": 34
        },
        "id": "k95KyWap4xT1",
        "outputId": "d1dd5cd0-fc18-4b07-bbb0-b18ff40ae838"
      },
      "source": [
        "dim(martcorr)"
      ],
      "execution_count": 120,
      "outputs": [
        {
          "output_type": "display_data",
          "data": {
            "text/plain": [
              "[1] 8523   31"
            ],
            "text/latex": "\\begin{enumerate*}\n\\item 8523\n\\item 31\n\\end{enumerate*}\n",
            "text/markdown": "1. 8523\n2. 31\n\n\n",
            "text/html": [
              "<style>\n",
              ".list-inline {list-style: none; margin:0; padding: 0}\n",
              ".list-inline>li {display: inline-block}\n",
              ".list-inline>li:not(:last-child)::after {content: \"\\00b7\"; padding: 0 .5ex}\n",
              "</style>\n",
              "<ol class=list-inline><li>8523</li><li>31</li></ol>\n"
            ]
          },
          "metadata": {}
        }
      ]
    },
    {
      "cell_type": "code",
      "metadata": {
        "colab": {
          "base_uri": "https://localhost:8080/",
          "height": 1000
        },
        "id": "QrLu9yF35ATS",
        "outputId": "1e769130-fe6f-44cb-ce9d-ba0dac1771b6"
      },
      "source": [
        "cor(martcorr[, 1:31])"
      ],
      "execution_count": 121,
      "outputs": [
        {
          "output_type": "display_data",
          "data": {
            "text/plain": [
              "                             Item_Weight   Item_Visibility Item_MRP     \n",
              "Item_Weight                   1.0000000000 -0.0225020119    0.0204509483\n",
              "Item_Visibility              -0.0225020119  1.0000000000   -0.0013148480\n",
              "Item_MRP                      0.0204509483 -0.0013148480    1.0000000000\n",
              "Item_Fat_Content_LowFat       0.0161127046 -0.0473143585   -0.0060628994\n",
              "Item_Fat_Content_Regular     -0.0161127046  0.0473143585    0.0060628994\n",
              "Item_Type_BakingGoods        -0.0356576224  0.0168865084   -0.0673106273\n",
              "Item_Type_Breads             -0.0503780247  0.0004155035   -0.0001122104\n",
              "Item_Type_Breakfast          -0.0017851015  0.0434181363    0.0014604974\n",
              "Item_Type_Canned             -0.0292111202  0.0111137121   -0.0056659157\n",
              "Item_Type_Dairy               0.0302125218  0.0359838803    0.0355509268\n",
              "Item_Type_FrozenFoods         0.0034759069 -0.0031525336   -0.0133577368\n",
              "Item_Type_Fruits&Vegetables   0.0407180694  0.0189692272    0.0236881038\n",
              "Item_Type_HardDrinks         -0.0412702518 -0.0036998251   -0.0100892608\n",
              "Item_Type_Health&Hygiene      0.0213776978 -0.0539305498   -0.0416459095\n",
              "Item_Type_Household           0.0314626794 -0.0322297038    0.0468148003\n",
              "Item_Type_Meat               -0.0062482770 -0.0170867442   -0.0040863258\n",
              "Item_Type_Others              0.0165083195 -0.0162397380   -0.0185953325\n",
              "Item_Type_Seafood            -0.0092135546  0.0149099373    0.0011858154\n",
              "Item_Type_SnackFoods          0.0079253282  0.0056348451    0.0338174142\n",
              "Item_Type_SoftDrinks         -0.0519225023 -0.0098249850   -0.0358076318\n",
              "Item_Type_StarchyFoods        0.0201213689  0.0036883710    0.0146129693\n",
              "Outlet_Size_High              0.0121950380 -0.0419369097    0.0024375785\n",
              "Outlet_Size_Medium           -0.0080031382 -0.0316423019   -0.0105784776\n",
              "Outlet_Size_Small             0.0002157005  0.0635016023    0.0097927692\n",
              "Outlet_Location_Type_Tier1    0.0048236087  0.0613458869   -0.0012290862\n",
              "Outlet_Location_Type_Tier2   -0.0113749710 -0.0687866372    0.0019513073\n",
              "Outlet_Location_Type_Tier3    0.0064880966  0.0096498121   -0.0007437168\n",
              "Outlet_Type_GroceryStore      0.0026735990  0.2863996145   -0.0042771353\n",
              "Outlet_Type_SupermarketType1  0.0014911152 -0.1442485582    0.0048854837\n",
              "Outlet_Type_SupermarketType2  0.0021725280 -0.0346708627    0.0038499211\n",
              "Outlet_Type_SupermarketType3 -0.0072837333 -0.0511444571   -0.0067136994\n",
              "                             Item_Fat_Content_LowFat Item_Fat_Content_Regular\n",
              "Item_Weight                   0.0161127046           -0.0161127046           \n",
              "Item_Visibility              -0.0473143585            0.0473143585           \n",
              "Item_MRP                     -0.0060628994            0.0060628994           \n",
              "Item_Fat_Content_LowFat       1.0000000000           -1.0000000000           \n",
              "Item_Fat_Content_Regular     -1.0000000000            1.0000000000           \n",
              "Item_Type_BakingGoods        -0.0838044124            0.0838044124           \n",
              "Item_Type_Breads             -0.0326427885            0.0326427885           \n",
              "Item_Type_Breakfast          -0.0657107355            0.0657107355           \n",
              "Item_Type_Canned             -0.0732345931            0.0732345931           \n",
              "Item_Type_Dairy              -0.0212355087            0.0212355087           \n",
              "Item_Type_FrozenFoods        -0.0850407180            0.0850407180           \n",
              "Item_Type_Fruits&Vegetables  -0.1169545814            0.1169545814           \n",
              "Item_Type_HardDrinks          0.1184610297           -0.1184610297           \n",
              "Item_Type_Health&Hygiene      0.1881560813           -0.1881560813           \n",
              "Item_Type_Household           0.2552030012           -0.2552030012           \n",
              "Item_Type_Meat               -0.1185738712            0.1185738712           \n",
              "Item_Type_Others              0.1049878671           -0.1049878671           \n",
              "Item_Type_Seafood            -0.0125942379            0.0125942379           \n",
              "Item_Type_SnackFoods         -0.0598476516            0.0598476516           \n",
              "Item_Type_SoftDrinks          0.0948749709           -0.0948749709           \n",
              "Item_Type_StarchyFoods       -0.0259447118            0.0259447118           \n",
              "Outlet_Size_High              0.0021320419           -0.0021320419           \n",
              "Outlet_Size_Medium           -0.0034946053            0.0034946053           \n",
              "Outlet_Size_Small             0.0023130394           -0.0023130394           \n",
              "Outlet_Location_Type_Tier1   -0.0031548795            0.0031548795           \n",
              "Outlet_Location_Type_Tier2    0.0032717388           -0.0032717388           \n",
              "Outlet_Location_Type_Tier3   -0.0002410231            0.0002410231           \n",
              "Outlet_Type_GroceryStore      0.0029242966           -0.0029242966           \n",
              "Outlet_Type_SupermarketType1 -0.0005332351            0.0005332351           \n",
              "Outlet_Type_SupermarketType2 -0.0021294095            0.0021294095           \n",
              "Outlet_Type_SupermarketType3 -0.0001825365            0.0001825365           \n",
              "                             Item_Type_BakingGoods Item_Type_Breads\n",
              "Item_Weight                  -0.0356576224         -0.0503780247   \n",
              "Item_Visibility               0.0168865084          0.0004155035   \n",
              "Item_MRP                     -0.0673106273         -0.0001122104   \n",
              "Item_Fat_Content_LowFat      -0.0838044124         -0.0326427885   \n",
              "Item_Fat_Content_Regular      0.0838044124          0.0326427885   \n",
              "Item_Type_BakingGoods         1.0000000000         -0.0499682132   \n",
              "Item_Type_Breads             -0.0499682132          1.0000000000   \n",
              "Item_Type_Breakfast          -0.0328007006         -0.0199183104   \n",
              "Item_Type_Canned             -0.0823544109         -0.0500099294   \n",
              "Item_Type_Dairy              -0.0845996726         -0.0513733703   \n",
              "Item_Type_FrozenFoods        -0.0958487321         -0.0582043909   \n",
              "Item_Type_Fruits&Vegetables  -0.1179163497         -0.0716050088   \n",
              "Item_Type_HardDrinks         -0.0460356976         -0.0279552966   \n",
              "Item_Type_Health&Hygiene     -0.0731202193         -0.0444024426   \n",
              "Item_Type_Household          -0.0991756380         -0.0602246631   \n",
              "Item_Type_Meat               -0.0657154976         -0.0399059061   \n",
              "Item_Type_Others             -0.0407998286         -0.0247758016   \n",
              "Item_Type_Seafood            -0.0249512723         -0.0151517248   \n",
              "Item_Type_SnackFoods         -0.1161203477         -0.0705143820   \n",
              "Item_Type_SoftDrinks         -0.0673271611         -0.0408845930   \n",
              "Item_Type_StarchyFoods       -0.0381329735         -0.0231563469   \n",
              "Outlet_Size_High              0.0030361696         -0.0054419214   \n",
              "Outlet_Size_Medium           -0.0068826901          0.0025233870   \n",
              "Outlet_Size_Small             0.0053637117          0.0010416539   \n",
              "Outlet_Location_Type_Tier1    0.0033922640         -0.0051397327   \n",
              "Outlet_Location_Type_Tier2   -0.0007006356          0.0029334224   \n",
              "Outlet_Location_Type_Tier3   -0.0024462280          0.0019088408   \n",
              "Outlet_Type_GroceryStore      0.0035355517          0.0023045419   \n",
              "Outlet_Type_SupermarketType1  0.0018459019         -0.0061888997   \n",
              "Outlet_Type_SupermarketType2 -0.0036316770         -0.0007337742   \n",
              "Outlet_Type_SupermarketType3 -0.0029571062          0.0076934731   \n",
              "                             Item_Type_Breakfast Item_Type_Canned\n",
              "Item_Weight                  -1.785101e-03       -0.029211120    \n",
              "Item_Visibility               4.341814e-02        0.011113712    \n",
              "Item_MRP                      1.460497e-03       -0.005665916    \n",
              "Item_Fat_Content_LowFat      -6.571074e-02       -0.073234593    \n",
              "Item_Fat_Content_Regular      6.571074e-02        0.073234593    \n",
              "Item_Type_BakingGoods        -3.280070e-02       -0.082354411    \n",
              "Item_Type_Breads             -1.991831e-02       -0.050009929    \n",
              "Item_Type_Breakfast           1.000000e+00       -0.032828084    \n",
              "Item_Type_Canned             -3.282808e-02        1.000000000    \n",
              "Item_Type_Dairy              -3.372309e-02       -0.084670301    \n",
              "Item_Type_FrozenFoods        -3.820719e-02       -0.095928752    \n",
              "Item_Type_Fruits&Vegetables  -4.700377e-02       -0.118014793    \n",
              "Item_Type_HardDrinks         -1.835073e-02       -0.046074131    \n",
              "Item_Type_Health&Hygiene     -2.914715e-02       -0.073181264    \n",
              "Item_Type_Household          -3.953336e-02       -0.099258435    \n",
              "Item_Type_Meat               -2.619549e-02       -0.065770360    \n",
              "Item_Type_Others             -1.626361e-02       -0.040833891    \n",
              "Item_Type_Seafood            -9.946067e-03       -0.024972103    \n",
              "Item_Type_SnackFoods         -4.628785e-02       -0.116217291    \n",
              "Item_Type_SoftDrinks         -2.683793e-02       -0.067383370    \n",
              "Item_Type_StarchyFoods       -1.520055e-02       -0.038164809    \n",
              "Outlet_Size_High              3.235554e-03       -0.008460769    \n",
              "Outlet_Size_Medium           -3.223927e-04       -0.001081591    \n",
              "Outlet_Size_Small            -1.898370e-03        0.007053984    \n",
              "Outlet_Location_Type_Tier1    5.045754e-03       -0.004766336    \n",
              "Outlet_Location_Type_Tier2   -8.740888e-03        0.009366296    \n",
              "Outlet_Location_Type_Tier3    3.754378e-03       -0.004611859    \n",
              "Outlet_Type_GroceryStore      1.567625e-02       -0.012574427    \n",
              "Outlet_Type_SupermarketType1 -8.695370e-03        0.001235952    \n",
              "Outlet_Type_SupermarketType2  7.674435e-05        0.010417774    \n",
              "Outlet_Type_SupermarketType3 -3.550234e-03        0.001136135    \n",
              "                             Item_Type_Dairy ⋯ Outlet_Size_High\n",
              "Item_Weight                   0.030212522    ⋯  0.0121950380   \n",
              "Item_Visibility               0.035983880    ⋯ -0.0419369097   \n",
              "Item_MRP                      0.035550927    ⋯  0.0024375785   \n",
              "Item_Fat_Content_LowFat      -0.021235509    ⋯  0.0021320419   \n",
              "Item_Fat_Content_Regular      0.021235509    ⋯ -0.0021320419   \n",
              "Item_Type_BakingGoods        -0.084599673    ⋯  0.0030361696   \n",
              "Item_Type_Breads             -0.051373370    ⋯ -0.0054419214   \n",
              "Item_Type_Breakfast          -0.033723090    ⋯  0.0032355539   \n",
              "Item_Type_Canned             -0.084670301    ⋯ -0.0084607691   \n",
              "Item_Type_Dairy               1.000000000    ⋯  0.0075137543   \n",
              "Item_Type_FrozenFoods        -0.098544096    ⋯ -0.0020070215   \n",
              "Item_Type_Fruits&Vegetables  -0.121232278    ⋯  0.0077826847   \n",
              "Item_Type_HardDrinks         -0.047330268    ⋯ -0.0009639630   \n",
              "Item_Type_Health&Hygiene     -0.075176434    ⋯  0.0064988083   \n",
              "Item_Type_Household          -0.101964558    ⋯  0.0042492894   \n",
              "Item_Type_Meat               -0.067563484    ⋯ -0.0094553151   \n",
              "Item_Type_Others             -0.041947161    ⋯ -0.0066889345   \n",
              "Item_Type_Seafood            -0.025652928    ⋯ -0.0087033048   \n",
              "Item_Type_SnackFoods         -0.119385770    ⋯ -0.0067249349   \n",
              "Item_Type_SoftDrinks         -0.069220470    ⋯  0.0005724762   \n",
              "Item_Type_StarchyFoods       -0.039205312    ⋯  0.0081049179   \n",
              "Outlet_Size_High              0.007513754    ⋯  1.0000000000   \n",
              "Outlet_Size_Medium           -0.010940872    ⋯ -0.4386481798   \n",
              "Outlet_Size_Small             0.006658755    ⋯ -0.2186091513   \n",
              "Outlet_Location_Type_Tier1    0.013399194    ⋯ -0.2186091513   \n",
              "Outlet_Location_Type_Tier2   -0.008161631    ⋯ -0.2441129327   \n",
              "Outlet_Location_Type_Tier3   -0.004482490    ⋯  0.4354189199   \n",
              "Outlet_Type_GroceryStore      0.006933112    ⋯ -0.1336860899   \n",
              "Outlet_Type_SupermarketType1  0.003396440    ⋯  0.2546680773   \n",
              "Outlet_Type_SupermarketType2 -0.001745651    ⋯ -0.1224809537   \n",
              "Outlet_Type_SupermarketType3 -0.010817226    ⋯ -0.1229987236   \n",
              "                             Outlet_Size_Medium Outlet_Size_Small\n",
              "Item_Weight                  -0.0080031382       2.157005e-04    \n",
              "Item_Visibility              -0.0316423019       6.350160e-02    \n",
              "Item_MRP                     -0.0105784776       9.792769e-03    \n",
              "Item_Fat_Content_LowFat      -0.0034946053       2.313039e-03    \n",
              "Item_Fat_Content_Regular      0.0034946053      -2.313039e-03    \n",
              "Item_Type_BakingGoods        -0.0068826901       5.363712e-03    \n",
              "Item_Type_Breads              0.0025233870       1.041654e-03    \n",
              "Item_Type_Breakfast          -0.0003223927      -1.898370e-03    \n",
              "Item_Type_Canned             -0.0010815913       7.053984e-03    \n",
              "Item_Type_Dairy              -0.0109408718       6.658755e-03    \n",
              "Item_Type_FrozenFoods        -0.0060505573       7.964737e-03    \n",
              "Item_Type_Fruits&Vegetables   0.0067780057      -1.276825e-02    \n",
              "Item_Type_HardDrinks          0.0159326641      -1.663068e-02    \n",
              "Item_Type_Health&Hygiene      0.0055868908      -1.058268e-02    \n",
              "Item_Type_Household          -0.0043036990       1.720286e-03    \n",
              "Item_Type_Meat                0.0061371315      -9.336965e-05    \n",
              "Item_Type_Others             -0.0089204948       1.433461e-02    \n",
              "Item_Type_Seafood            -0.0001945680       6.259348e-03    \n",
              "Item_Type_SnackFoods          0.0051474856      -9.161465e-04    \n",
              "Item_Type_SoftDrinks         -0.0017925058       1.548576e-03    \n",
              "Item_Type_StarchyFoods        0.0011992107      -6.934414e-03    \n",
              "Outlet_Size_High             -0.4386481798      -2.186092e-01    \n",
              "Outlet_Size_Medium            1.0000000000      -7.810301e-01    \n",
              "Outlet_Size_Small            -0.7810300593       1.000000e+00    \n",
              "Outlet_Location_Type_Tier1   -0.2827711908       4.589635e-01    \n",
              "Outlet_Location_Type_Tier2    0.0794369550       8.338130e-02    \n",
              "Outlet_Location_Type_Tier3    0.1837136234      -5.020663e-01    \n",
              "Outlet_Type_GroceryStore     -0.0766747292       1.761583e-01    \n",
              "Outlet_Type_SupermarketType1 -0.3134502707       1.633881e-01    \n",
              "Outlet_Type_SupermarketType2  0.2792236680      -2.180821e-01    \n",
              "Outlet_Type_SupermarketType3  0.2804040443      -2.190040e-01    \n",
              "                             Outlet_Location_Type_Tier1\n",
              "Item_Weight                   0.004823609              \n",
              "Item_Visibility               0.061345887              \n",
              "Item_MRP                     -0.001229086              \n",
              "Item_Fat_Content_LowFat      -0.003154879              \n",
              "Item_Fat_Content_Regular      0.003154879              \n",
              "Item_Type_BakingGoods         0.003392264              \n",
              "Item_Type_Breads             -0.005139733              \n",
              "Item_Type_Breakfast           0.005045754              \n",
              "Item_Type_Canned             -0.004766336              \n",
              "Item_Type_Dairy               0.013399194              \n",
              "Item_Type_FrozenFoods         0.008833934              \n",
              "Item_Type_Fruits&Vegetables  -0.006081550              \n",
              "Item_Type_HardDrinks         -0.003271589              \n",
              "Item_Type_Health&Hygiene     -0.008399600              \n",
              "Item_Type_Household          -0.004201702              \n",
              "Item_Type_Meat                0.004707774              \n",
              "Item_Type_Others              0.016208646              \n",
              "Item_Type_Seafood             0.003233002              \n",
              "Item_Type_SnackFoods         -0.001667307              \n",
              "Item_Type_SoftDrinks         -0.005498149              \n",
              "Item_Type_StarchyFoods       -0.010934550              \n",
              "Outlet_Size_High             -0.218609151              \n",
              "Outlet_Size_Medium           -0.282771191              \n",
              "Outlet_Size_Small             0.458963522              \n",
              "Outlet_Location_Type_Tier1    1.000000000              \n",
              "Outlet_Location_Type_Tier2   -0.434652524              \n",
              "Outlet_Location_Type_Tier3   -0.502066266              \n",
              "Outlet_Type_GroceryStore      0.176158327              \n",
              "Outlet_Type_SupermarketType1  0.163388083              \n",
              "Outlet_Type_SupermarketType2 -0.218082078              \n",
              "Outlet_Type_SupermarketType3 -0.219003987              \n",
              "                             Outlet_Location_Type_Tier2\n",
              "Item_Weight                  -0.0113749710             \n",
              "Item_Visibility              -0.0687866372             \n",
              "Item_MRP                      0.0019513073             \n",
              "Item_Fat_Content_LowFat       0.0032717388             \n",
              "Item_Fat_Content_Regular     -0.0032717388             \n",
              "Item_Type_BakingGoods        -0.0007006356             \n",
              "Item_Type_Breads              0.0029334224             \n",
              "Item_Type_Breakfast          -0.0087408876             \n",
              "Item_Type_Canned              0.0093662956             \n",
              "Item_Type_Dairy              -0.0081616308             \n",
              "Item_Type_FrozenFoods        -0.0005900789             \n",
              "Item_Type_Fruits&Vegetables  -0.0025409474             \n",
              "Item_Type_HardDrinks          0.0033140884             \n",
              "Item_Type_Health&Hygiene     -0.0040934680             \n",
              "Item_Type_Household          -0.0010969570             \n",
              "Item_Type_Meat               -0.0159450148             \n",
              "Item_Type_Others             -0.0057830825             \n",
              "Item_Type_Seafood             0.0031502856             \n",
              "Item_Type_SnackFoods          0.0063899844             \n",
              "Item_Type_SoftDrinks          0.0130337864             \n",
              "Item_Type_StarchyFoods        0.0088840203             \n",
              "Outlet_Size_High             -0.2441129327             \n",
              "Outlet_Size_Medium            0.0794369550             \n",
              "Outlet_Size_Small             0.0833813045             \n",
              "Outlet_Location_Type_Tier1   -0.4346525236             \n",
              "Outlet_Location_Type_Tier2    1.0000000000             \n",
              "Outlet_Location_Type_Tier3   -0.5606392409             \n",
              "Outlet_Type_GroceryStore     -0.2658031285             \n",
              "Outlet_Type_SupermarketType1  0.5063471581             \n",
              "Outlet_Type_SupermarketType2 -0.2435243691             \n",
              "Outlet_Type_SupermarketType3 -0.2445538319             \n",
              "                             Outlet_Location_Type_Tier3\n",
              "Item_Weight                   0.0064880966             \n",
              "Item_Visibility               0.0096498121             \n",
              "Item_MRP                     -0.0007437168             \n",
              "Item_Fat_Content_LowFat      -0.0002410231             \n",
              "Item_Fat_Content_Regular      0.0002410231             \n",
              "Item_Type_BakingGoods        -0.0024462280             \n",
              "Item_Type_Breads              0.0019088408             \n",
              "Item_Type_Breakfast           0.0037543781             \n",
              "Item_Type_Canned             -0.0046118591             \n",
              "Item_Type_Dairy              -0.0044824898             \n",
              "Item_Type_FrozenFoods        -0.0075557680             \n",
              "Item_Type_Fruits&Vegetables   0.0080317438             \n",
              "Item_Type_HardDrinks         -0.0001743815             \n",
              "Item_Type_Health&Hygiene      0.0116539479             \n",
              "Item_Type_Household           0.0049166676             \n",
              "Item_Type_Meat                0.0109831368             \n",
              "Item_Type_Others             -0.0093497357             \n",
              "Item_Type_Seafood            -0.0059977679             \n",
              "Item_Type_SnackFoods         -0.0046031781             \n",
              "Item_Type_SoftDrinks         -0.0074608186             \n",
              "Item_Type_StarchyFoods        0.0015226609             \n",
              "Outlet_Size_High              0.4354189199             \n",
              "Outlet_Size_Medium            0.1837136234             \n",
              "Outlet_Size_Small            -0.5020662661             \n",
              "Outlet_Location_Type_Tier1   -0.5020662661             \n",
              "Outlet_Location_Type_Tier2   -0.5606392409             \n",
              "Outlet_Location_Type_Tier3    1.0000000000             \n",
              "Outlet_Type_GroceryStore      0.0932764434             \n",
              "Outlet_Type_SupermarketType1 -0.6364646571             \n",
              "Outlet_Type_SupermarketType2  0.4343691117             \n",
              "Outlet_Type_SupermarketType3  0.4362053421             \n",
              "                             Outlet_Type_GroceryStore\n",
              "Item_Weight                   0.002673599            \n",
              "Item_Visibility               0.286399614            \n",
              "Item_MRP                     -0.004277135            \n",
              "Item_Fat_Content_LowFat       0.002924297            \n",
              "Item_Fat_Content_Regular     -0.002924297            \n",
              "Item_Type_BakingGoods         0.003535552            \n",
              "Item_Type_Breads              0.002304542            \n",
              "Item_Type_Breakfast           0.015676255            \n",
              "Item_Type_Canned             -0.012574427            \n",
              "Item_Type_Dairy               0.006933112            \n",
              "Item_Type_FrozenFoods        -0.006762844            \n",
              "Item_Type_Fruits&Vegetables  -0.004556005            \n",
              "Item_Type_HardDrinks         -0.007188637            \n",
              "Item_Type_Health&Hygiene      0.001360983            \n",
              "Item_Type_Household           0.003842276            \n",
              "Item_Type_Meat                0.019415543            \n",
              "Item_Type_Others              0.013962857            \n",
              "Item_Type_Seafood             0.007621462            \n",
              "Item_Type_SnackFoods         -0.006564982            \n",
              "Item_Type_SoftDrinks         -0.004030760            \n",
              "Item_Type_StarchyFoods       -0.015658480            \n",
              "Outlet_Size_High             -0.133686090            \n",
              "Outlet_Size_Medium           -0.076674729            \n",
              "Outlet_Size_Small             0.176158327            \n",
              "Outlet_Location_Type_Tier1    0.176158327            \n",
              "Outlet_Location_Type_Tier2   -0.265803129            \n",
              "Outlet_Location_Type_Tier3    0.093276443            \n",
              "Outlet_Type_GroceryStore      1.000000000            \n",
              "Outlet_Type_SupermarketType1 -0.524942471            \n",
              "Outlet_Type_SupermarketType2 -0.133363769            \n",
              "Outlet_Type_SupermarketType3 -0.133927544            \n",
              "                             Outlet_Type_SupermarketType1\n",
              "Item_Weight                   0.0014911152               \n",
              "Item_Visibility              -0.1442485582               \n",
              "Item_MRP                      0.0048854837               \n",
              "Item_Fat_Content_LowFat      -0.0005332351               \n",
              "Item_Fat_Content_Regular      0.0005332351               \n",
              "Item_Type_BakingGoods         0.0018459019               \n",
              "Item_Type_Breads             -0.0061888997               \n",
              "Item_Type_Breakfast          -0.0086953702               \n",
              "Item_Type_Canned              0.0012359516               \n",
              "Item_Type_Dairy               0.0033964395               \n",
              "Item_Type_FrozenFoods         0.0097499635               \n",
              "Item_Type_Fruits&Vegetables  -0.0008107306               \n",
              "Item_Type_HardDrinks          0.0078365919               \n",
              "Item_Type_Health&Hygiene     -0.0054221609               \n",
              "Item_Type_Household           0.0012335978               \n",
              "Item_Type_Meat               -0.0239124160               \n",
              "Item_Type_Others             -0.0063435500               \n",
              "Item_Type_Seafood            -0.0053674855               \n",
              "Item_Type_SnackFoods         -0.0001535481               \n",
              "Item_Type_SoftDrinks          0.0097767310               \n",
              "Item_Type_StarchyFoods        0.0135164112               \n",
              "Outlet_Size_High              0.2546680773               \n",
              "Outlet_Size_Medium           -0.3134502707               \n",
              "Outlet_Size_Small             0.1633880834               \n",
              "Outlet_Location_Type_Tier1    0.1633880834               \n",
              "Outlet_Location_Type_Tier2    0.5063471581               \n",
              "Outlet_Location_Type_Tier3   -0.6364646571               \n",
              "Outlet_Type_GroceryStore     -0.5249424714               \n",
              "Outlet_Type_SupermarketType1  1.0000000000               \n",
              "Outlet_Type_SupermarketType2 -0.4809434894               \n",
              "Outlet_Type_SupermarketType3 -0.4829766060               \n",
              "                             Outlet_Type_SupermarketType2\n",
              "Item_Weight                   2.172528e-03               \n",
              "Item_Visibility              -3.467086e-02               \n",
              "Item_MRP                      3.849921e-03               \n",
              "Item_Fat_Content_LowFat      -2.129410e-03               \n",
              "Item_Fat_Content_Regular      2.129410e-03               \n",
              "Item_Type_BakingGoods        -3.631677e-03               \n",
              "Item_Type_Breads             -7.337742e-04               \n",
              "Item_Type_Breakfast           7.674435e-05               \n",
              "Item_Type_Canned              1.041777e-02               \n",
              "Item_Type_Dairy              -1.745651e-03               \n",
              "Item_Type_FrozenFoods        -1.507374e-03               \n",
              "Item_Type_Fruits&Vegetables   9.185889e-04               \n",
              "Item_Type_HardDrinks         -3.131524e-03               \n",
              "Item_Type_Health&Hygiene      2.173993e-03               \n",
              "Item_Type_Household          -4.979438e-03               \n",
              "Item_Type_Meat               -4.755166e-04               \n",
              "Item_Type_Others              4.320198e-03               \n",
              "Item_Type_Seafood             1.377098e-04               \n",
              "Item_Type_SnackFoods          1.453119e-03               \n",
              "Item_Type_SoftDrinks         -4.152580e-03               \n",
              "Item_Type_StarchyFoods        2.553367e-03               \n",
              "Outlet_Size_High             -1.224810e-01               \n",
              "Outlet_Size_Medium            2.792237e-01               \n",
              "Outlet_Size_Small            -2.180821e-01               \n",
              "Outlet_Location_Type_Tier1   -2.180821e-01               \n",
              "Outlet_Location_Type_Tier2   -2.435244e-01               \n",
              "Outlet_Location_Type_Tier3    4.343691e-01               \n",
              "Outlet_Type_GroceryStore     -1.333638e-01               \n",
              "Outlet_Type_SupermarketType1 -4.809435e-01               \n",
              "Outlet_Type_SupermarketType2  1.000000e+00               \n",
              "Outlet_Type_SupermarketType3 -1.227022e-01               \n",
              "                             Outlet_Type_SupermarketType3\n",
              "Item_Weight                  -7.283733e-03               \n",
              "Item_Visibility              -5.114446e-02               \n",
              "Item_MRP                     -6.713699e-03               \n",
              "Item_Fat_Content_LowFat      -1.825365e-04               \n",
              "Item_Fat_Content_Regular      1.825365e-04               \n",
              "Item_Type_BakingGoods        -2.957106e-03               \n",
              "Item_Type_Breads              7.693473e-03               \n",
              "Item_Type_Breakfast          -3.550234e-03               \n",
              "Item_Type_Canned              1.136135e-03               \n",
              "Item_Type_Dairy              -1.081723e-02               \n",
              "Item_Type_FrozenFoods        -6.127626e-03               \n",
              "Item_Type_Fruits&Vegetables   5.173467e-03               \n",
              "Item_Type_HardDrinks         -1.143358e-03               \n",
              "Item_Type_Health&Hygiene      4.634023e-03               \n",
              "Item_Type_Household          -1.008871e-03               \n",
              "Item_Type_Meat                1.617203e-02               \n",
              "Item_Type_Others             -9.532685e-03               \n",
              "Item_Type_Seafood            -9.133433e-05               \n",
              "Item_Type_SnackFoods          5.781569e-03               \n",
              "Item_Type_SoftDrinks         -6.443416e-03               \n",
              "Item_Type_StarchyFoods       -6.426649e-03               \n",
              "Outlet_Size_High             -1.229987e-01               \n",
              "Outlet_Size_Medium            2.804040e-01               \n",
              "Outlet_Size_Small            -2.190040e-01               \n",
              "Outlet_Location_Type_Tier1   -2.190040e-01               \n",
              "Outlet_Location_Type_Tier2   -2.445538e-01               \n",
              "Outlet_Location_Type_Tier3    4.362053e-01               \n",
              "Outlet_Type_GroceryStore     -1.339275e-01               \n",
              "Outlet_Type_SupermarketType1 -4.829766e-01               \n",
              "Outlet_Type_SupermarketType2 -1.227022e-01               \n",
              "Outlet_Type_SupermarketType3  1.000000e+00               "
            ],
            "text/latex": "A matrix: 31 × 31 of type dbl\n\\begin{tabular}{r|lllllllllllllllllllll}\n  & Item\\_Weight & Item\\_Visibility & Item\\_MRP & Item\\_Fat\\_Content\\_LowFat & Item\\_Fat\\_Content\\_Regular & Item\\_Type\\_BakingGoods & Item\\_Type\\_Breads & Item\\_Type\\_Breakfast & Item\\_Type\\_Canned & Item\\_Type\\_Dairy & ⋯ & Outlet\\_Size\\_High & Outlet\\_Size\\_Medium & Outlet\\_Size\\_Small & Outlet\\_Location\\_Type\\_Tier1 & Outlet\\_Location\\_Type\\_Tier2 & Outlet\\_Location\\_Type\\_Tier3 & Outlet\\_Type\\_GroceryStore & Outlet\\_Type\\_SupermarketType1 & Outlet\\_Type\\_SupermarketType2 & Outlet\\_Type\\_SupermarketType3\\\\\n\\hline\n\tItem\\_Weight &  1.0000000000 & -0.0225020119 &  0.0204509483 &  0.0161127046 & -0.0161127046 & -0.0356576224 & -0.0503780247 & -1.785101e-03 & -0.029211120 &  0.030212522 & ⋯ &  0.0121950380 & -0.0080031382 &  2.157005e-04 &  0.004823609 & -0.0113749710 &  0.0064880966 &  0.002673599 &  0.0014911152 &  2.172528e-03 & -7.283733e-03\\\\\n\tItem\\_Visibility & -0.0225020119 &  1.0000000000 & -0.0013148480 & -0.0473143585 &  0.0473143585 &  0.0168865084 &  0.0004155035 &  4.341814e-02 &  0.011113712 &  0.035983880 & ⋯ & -0.0419369097 & -0.0316423019 &  6.350160e-02 &  0.061345887 & -0.0687866372 &  0.0096498121 &  0.286399614 & -0.1442485582 & -3.467086e-02 & -5.114446e-02\\\\\n\tItem\\_MRP &  0.0204509483 & -0.0013148480 &  1.0000000000 & -0.0060628994 &  0.0060628994 & -0.0673106273 & -0.0001122104 &  1.460497e-03 & -0.005665916 &  0.035550927 & ⋯ &  0.0024375785 & -0.0105784776 &  9.792769e-03 & -0.001229086 &  0.0019513073 & -0.0007437168 & -0.004277135 &  0.0048854837 &  3.849921e-03 & -6.713699e-03\\\\\n\tItem\\_Fat\\_Content\\_LowFat &  0.0161127046 & -0.0473143585 & -0.0060628994 &  1.0000000000 & -1.0000000000 & -0.0838044124 & -0.0326427885 & -6.571074e-02 & -0.073234593 & -0.021235509 & ⋯ &  0.0021320419 & -0.0034946053 &  2.313039e-03 & -0.003154879 &  0.0032717388 & -0.0002410231 &  0.002924297 & -0.0005332351 & -2.129410e-03 & -1.825365e-04\\\\\n\tItem\\_Fat\\_Content\\_Regular & -0.0161127046 &  0.0473143585 &  0.0060628994 & -1.0000000000 &  1.0000000000 &  0.0838044124 &  0.0326427885 &  6.571074e-02 &  0.073234593 &  0.021235509 & ⋯ & -0.0021320419 &  0.0034946053 & -2.313039e-03 &  0.003154879 & -0.0032717388 &  0.0002410231 & -0.002924297 &  0.0005332351 &  2.129410e-03 &  1.825365e-04\\\\\n\tItem\\_Type\\_BakingGoods & -0.0356576224 &  0.0168865084 & -0.0673106273 & -0.0838044124 &  0.0838044124 &  1.0000000000 & -0.0499682132 & -3.280070e-02 & -0.082354411 & -0.084599673 & ⋯ &  0.0030361696 & -0.0068826901 &  5.363712e-03 &  0.003392264 & -0.0007006356 & -0.0024462280 &  0.003535552 &  0.0018459019 & -3.631677e-03 & -2.957106e-03\\\\\n\tItem\\_Type\\_Breads & -0.0503780247 &  0.0004155035 & -0.0001122104 & -0.0326427885 &  0.0326427885 & -0.0499682132 &  1.0000000000 & -1.991831e-02 & -0.050009929 & -0.051373370 & ⋯ & -0.0054419214 &  0.0025233870 &  1.041654e-03 & -0.005139733 &  0.0029334224 &  0.0019088408 &  0.002304542 & -0.0061888997 & -7.337742e-04 &  7.693473e-03\\\\\n\tItem\\_Type\\_Breakfast & -0.0017851015 &  0.0434181363 &  0.0014604974 & -0.0657107355 &  0.0657107355 & -0.0328007006 & -0.0199183104 &  1.000000e+00 & -0.032828084 & -0.033723090 & ⋯ &  0.0032355539 & -0.0003223927 & -1.898370e-03 &  0.005045754 & -0.0087408876 &  0.0037543781 &  0.015676255 & -0.0086953702 &  7.674435e-05 & -3.550234e-03\\\\\n\tItem\\_Type\\_Canned & -0.0292111202 &  0.0111137121 & -0.0056659157 & -0.0732345931 &  0.0732345931 & -0.0823544109 & -0.0500099294 & -3.282808e-02 &  1.000000000 & -0.084670301 & ⋯ & -0.0084607691 & -0.0010815913 &  7.053984e-03 & -0.004766336 &  0.0093662956 & -0.0046118591 & -0.012574427 &  0.0012359516 &  1.041777e-02 &  1.136135e-03\\\\\n\tItem\\_Type\\_Dairy &  0.0302125218 &  0.0359838803 &  0.0355509268 & -0.0212355087 &  0.0212355087 & -0.0845996726 & -0.0513733703 & -3.372309e-02 & -0.084670301 &  1.000000000 & ⋯ &  0.0075137543 & -0.0109408718 &  6.658755e-03 &  0.013399194 & -0.0081616308 & -0.0044824898 &  0.006933112 &  0.0033964395 & -1.745651e-03 & -1.081723e-02\\\\\n\tItem\\_Type\\_FrozenFoods &  0.0034759069 & -0.0031525336 & -0.0133577368 & -0.0850407180 &  0.0850407180 & -0.0958487321 & -0.0582043909 & -3.820719e-02 & -0.095928752 & -0.098544096 & ⋯ & -0.0020070215 & -0.0060505573 &  7.964737e-03 &  0.008833934 & -0.0005900789 & -0.0075557680 & -0.006762844 &  0.0097499635 & -1.507374e-03 & -6.127626e-03\\\\\n\tItem\\_Type\\_Fruits\\&Vegetables &  0.0407180694 &  0.0189692272 &  0.0236881038 & -0.1169545814 &  0.1169545814 & -0.1179163497 & -0.0716050088 & -4.700377e-02 & -0.118014793 & -0.121232278 & ⋯ &  0.0077826847 &  0.0067780057 & -1.276825e-02 & -0.006081550 & -0.0025409474 &  0.0080317438 & -0.004556005 & -0.0008107306 &  9.185889e-04 &  5.173467e-03\\\\\n\tItem\\_Type\\_HardDrinks & -0.0412702518 & -0.0036998251 & -0.0100892608 &  0.1184610297 & -0.1184610297 & -0.0460356976 & -0.0279552966 & -1.835073e-02 & -0.046074131 & -0.047330268 & ⋯ & -0.0009639630 &  0.0159326641 & -1.663068e-02 & -0.003271589 &  0.0033140884 & -0.0001743815 & -0.007188637 &  0.0078365919 & -3.131524e-03 & -1.143358e-03\\\\\n\tItem\\_Type\\_Health\\&Hygiene &  0.0213776978 & -0.0539305498 & -0.0416459095 &  0.1881560813 & -0.1881560813 & -0.0731202193 & -0.0444024426 & -2.914715e-02 & -0.073181264 & -0.075176434 & ⋯ &  0.0064988083 &  0.0055868908 & -1.058268e-02 & -0.008399600 & -0.0040934680 &  0.0116539479 &  0.001360983 & -0.0054221609 &  2.173993e-03 &  4.634023e-03\\\\\n\tItem\\_Type\\_Household &  0.0314626794 & -0.0322297038 &  0.0468148003 &  0.2552030012 & -0.2552030012 & -0.0991756380 & -0.0602246631 & -3.953336e-02 & -0.099258435 & -0.101964558 & ⋯ &  0.0042492894 & -0.0043036990 &  1.720286e-03 & -0.004201702 & -0.0010969570 &  0.0049166676 &  0.003842276 &  0.0012335978 & -4.979438e-03 & -1.008871e-03\\\\\n\tItem\\_Type\\_Meat & -0.0062482770 & -0.0170867442 & -0.0040863258 & -0.1185738712 &  0.1185738712 & -0.0657154976 & -0.0399059061 & -2.619549e-02 & -0.065770360 & -0.067563484 & ⋯ & -0.0094553151 &  0.0061371315 & -9.336965e-05 &  0.004707774 & -0.0159450148 &  0.0109831368 &  0.019415543 & -0.0239124160 & -4.755166e-04 &  1.617203e-02\\\\\n\tItem\\_Type\\_Others &  0.0165083195 & -0.0162397380 & -0.0185953325 &  0.1049878671 & -0.1049878671 & -0.0407998286 & -0.0247758016 & -1.626361e-02 & -0.040833891 & -0.041947161 & ⋯ & -0.0066889345 & -0.0089204948 &  1.433461e-02 &  0.016208646 & -0.0057830825 & -0.0093497357 &  0.013962857 & -0.0063435500 &  4.320198e-03 & -9.532685e-03\\\\\n\tItem\\_Type\\_Seafood & -0.0092135546 &  0.0149099373 &  0.0011858154 & -0.0125942379 &  0.0125942379 & -0.0249512723 & -0.0151517248 & -9.946067e-03 & -0.024972103 & -0.025652928 & ⋯ & -0.0087033048 & -0.0001945680 &  6.259348e-03 &  0.003233002 &  0.0031502856 & -0.0059977679 &  0.007621462 & -0.0053674855 &  1.377098e-04 & -9.133433e-05\\\\\n\tItem\\_Type\\_SnackFoods &  0.0079253282 &  0.0056348451 &  0.0338174142 & -0.0598476516 &  0.0598476516 & -0.1161203477 & -0.0705143820 & -4.628785e-02 & -0.116217291 & -0.119385770 & ⋯ & -0.0067249349 &  0.0051474856 & -9.161465e-04 & -0.001667307 &  0.0063899844 & -0.0046031781 & -0.006564982 & -0.0001535481 &  1.453119e-03 &  5.781569e-03\\\\\n\tItem\\_Type\\_SoftDrinks & -0.0519225023 & -0.0098249850 & -0.0358076318 &  0.0948749709 & -0.0948749709 & -0.0673271611 & -0.0408845930 & -2.683793e-02 & -0.067383370 & -0.069220470 & ⋯ &  0.0005724762 & -0.0017925058 &  1.548576e-03 & -0.005498149 &  0.0130337864 & -0.0074608186 & -0.004030760 &  0.0097767310 & -4.152580e-03 & -6.443416e-03\\\\\n\tItem\\_Type\\_StarchyFoods &  0.0201213689 &  0.0036883710 &  0.0146129693 & -0.0259447118 &  0.0259447118 & -0.0381329735 & -0.0231563469 & -1.520055e-02 & -0.038164809 & -0.039205312 & ⋯ &  0.0081049179 &  0.0011992107 & -6.934414e-03 & -0.010934550 &  0.0088840203 &  0.0015226609 & -0.015658480 &  0.0135164112 &  2.553367e-03 & -6.426649e-03\\\\\n\tOutlet\\_Size\\_High &  0.0121950380 & -0.0419369097 &  0.0024375785 &  0.0021320419 & -0.0021320419 &  0.0030361696 & -0.0054419214 &  3.235554e-03 & -0.008460769 &  0.007513754 & ⋯ &  1.0000000000 & -0.4386481798 & -2.186092e-01 & -0.218609151 & -0.2441129327 &  0.4354189199 & -0.133686090 &  0.2546680773 & -1.224810e-01 & -1.229987e-01\\\\\n\tOutlet\\_Size\\_Medium & -0.0080031382 & -0.0316423019 & -0.0105784776 & -0.0034946053 &  0.0034946053 & -0.0068826901 &  0.0025233870 & -3.223927e-04 & -0.001081591 & -0.010940872 & ⋯ & -0.4386481798 &  1.0000000000 & -7.810301e-01 & -0.282771191 &  0.0794369550 &  0.1837136234 & -0.076674729 & -0.3134502707 &  2.792237e-01 &  2.804040e-01\\\\\n\tOutlet\\_Size\\_Small &  0.0002157005 &  0.0635016023 &  0.0097927692 &  0.0023130394 & -0.0023130394 &  0.0053637117 &  0.0010416539 & -1.898370e-03 &  0.007053984 &  0.006658755 & ⋯ & -0.2186091513 & -0.7810300593 &  1.000000e+00 &  0.458963522 &  0.0833813045 & -0.5020662661 &  0.176158327 &  0.1633880834 & -2.180821e-01 & -2.190040e-01\\\\\n\tOutlet\\_Location\\_Type\\_Tier1 &  0.0048236087 &  0.0613458869 & -0.0012290862 & -0.0031548795 &  0.0031548795 &  0.0033922640 & -0.0051397327 &  5.045754e-03 & -0.004766336 &  0.013399194 & ⋯ & -0.2186091513 & -0.2827711908 &  4.589635e-01 &  1.000000000 & -0.4346525236 & -0.5020662661 &  0.176158327 &  0.1633880834 & -2.180821e-01 & -2.190040e-01\\\\\n\tOutlet\\_Location\\_Type\\_Tier2 & -0.0113749710 & -0.0687866372 &  0.0019513073 &  0.0032717388 & -0.0032717388 & -0.0007006356 &  0.0029334224 & -8.740888e-03 &  0.009366296 & -0.008161631 & ⋯ & -0.2441129327 &  0.0794369550 &  8.338130e-02 & -0.434652524 &  1.0000000000 & -0.5606392409 & -0.265803129 &  0.5063471581 & -2.435244e-01 & -2.445538e-01\\\\\n\tOutlet\\_Location\\_Type\\_Tier3 &  0.0064880966 &  0.0096498121 & -0.0007437168 & -0.0002410231 &  0.0002410231 & -0.0024462280 &  0.0019088408 &  3.754378e-03 & -0.004611859 & -0.004482490 & ⋯ &  0.4354189199 &  0.1837136234 & -5.020663e-01 & -0.502066266 & -0.5606392409 &  1.0000000000 &  0.093276443 & -0.6364646571 &  4.343691e-01 &  4.362053e-01\\\\\n\tOutlet\\_Type\\_GroceryStore &  0.0026735990 &  0.2863996145 & -0.0042771353 &  0.0029242966 & -0.0029242966 &  0.0035355517 &  0.0023045419 &  1.567625e-02 & -0.012574427 &  0.006933112 & ⋯ & -0.1336860899 & -0.0766747292 &  1.761583e-01 &  0.176158327 & -0.2658031285 &  0.0932764434 &  1.000000000 & -0.5249424714 & -1.333638e-01 & -1.339275e-01\\\\\n\tOutlet\\_Type\\_SupermarketType1 &  0.0014911152 & -0.1442485582 &  0.0048854837 & -0.0005332351 &  0.0005332351 &  0.0018459019 & -0.0061888997 & -8.695370e-03 &  0.001235952 &  0.003396440 & ⋯ &  0.2546680773 & -0.3134502707 &  1.633881e-01 &  0.163388083 &  0.5063471581 & -0.6364646571 & -0.524942471 &  1.0000000000 & -4.809435e-01 & -4.829766e-01\\\\\n\tOutlet\\_Type\\_SupermarketType2 &  0.0021725280 & -0.0346708627 &  0.0038499211 & -0.0021294095 &  0.0021294095 & -0.0036316770 & -0.0007337742 &  7.674435e-05 &  0.010417774 & -0.001745651 & ⋯ & -0.1224809537 &  0.2792236680 & -2.180821e-01 & -0.218082078 & -0.2435243691 &  0.4343691117 & -0.133363769 & -0.4809434894 &  1.000000e+00 & -1.227022e-01\\\\\n\tOutlet\\_Type\\_SupermarketType3 & -0.0072837333 & -0.0511444571 & -0.0067136994 & -0.0001825365 &  0.0001825365 & -0.0029571062 &  0.0076934731 & -3.550234e-03 &  0.001136135 & -0.010817226 & ⋯ & -0.1229987236 &  0.2804040443 & -2.190040e-01 & -0.219003987 & -0.2445538319 &  0.4362053421 & -0.133927544 & -0.4829766060 & -1.227022e-01 &  1.000000e+00\\\\\n\\end{tabular}\n",
            "text/markdown": "\nA matrix: 31 × 31 of type dbl\n\n| <!--/--> | Item_Weight | Item_Visibility | Item_MRP | Item_Fat_Content_LowFat | Item_Fat_Content_Regular | Item_Type_BakingGoods | Item_Type_Breads | Item_Type_Breakfast | Item_Type_Canned | Item_Type_Dairy | ⋯ | Outlet_Size_High | Outlet_Size_Medium | Outlet_Size_Small | Outlet_Location_Type_Tier1 | Outlet_Location_Type_Tier2 | Outlet_Location_Type_Tier3 | Outlet_Type_GroceryStore | Outlet_Type_SupermarketType1 | Outlet_Type_SupermarketType2 | Outlet_Type_SupermarketType3 |\n|---|---|---|---|---|---|---|---|---|---|---|---|---|---|---|---|---|---|---|---|---|---|\n| Item_Weight |  1.0000000000 | -0.0225020119 |  0.0204509483 |  0.0161127046 | -0.0161127046 | -0.0356576224 | -0.0503780247 | -1.785101e-03 | -0.029211120 |  0.030212522 | ⋯ |  0.0121950380 | -0.0080031382 |  2.157005e-04 |  0.004823609 | -0.0113749710 |  0.0064880966 |  0.002673599 |  0.0014911152 |  2.172528e-03 | -7.283733e-03 |\n| Item_Visibility | -0.0225020119 |  1.0000000000 | -0.0013148480 | -0.0473143585 |  0.0473143585 |  0.0168865084 |  0.0004155035 |  4.341814e-02 |  0.011113712 |  0.035983880 | ⋯ | -0.0419369097 | -0.0316423019 |  6.350160e-02 |  0.061345887 | -0.0687866372 |  0.0096498121 |  0.286399614 | -0.1442485582 | -3.467086e-02 | -5.114446e-02 |\n| Item_MRP |  0.0204509483 | -0.0013148480 |  1.0000000000 | -0.0060628994 |  0.0060628994 | -0.0673106273 | -0.0001122104 |  1.460497e-03 | -0.005665916 |  0.035550927 | ⋯ |  0.0024375785 | -0.0105784776 |  9.792769e-03 | -0.001229086 |  0.0019513073 | -0.0007437168 | -0.004277135 |  0.0048854837 |  3.849921e-03 | -6.713699e-03 |\n| Item_Fat_Content_LowFat |  0.0161127046 | -0.0473143585 | -0.0060628994 |  1.0000000000 | -1.0000000000 | -0.0838044124 | -0.0326427885 | -6.571074e-02 | -0.073234593 | -0.021235509 | ⋯ |  0.0021320419 | -0.0034946053 |  2.313039e-03 | -0.003154879 |  0.0032717388 | -0.0002410231 |  0.002924297 | -0.0005332351 | -2.129410e-03 | -1.825365e-04 |\n| Item_Fat_Content_Regular | -0.0161127046 |  0.0473143585 |  0.0060628994 | -1.0000000000 |  1.0000000000 |  0.0838044124 |  0.0326427885 |  6.571074e-02 |  0.073234593 |  0.021235509 | ⋯ | -0.0021320419 |  0.0034946053 | -2.313039e-03 |  0.003154879 | -0.0032717388 |  0.0002410231 | -0.002924297 |  0.0005332351 |  2.129410e-03 |  1.825365e-04 |\n| Item_Type_BakingGoods | -0.0356576224 |  0.0168865084 | -0.0673106273 | -0.0838044124 |  0.0838044124 |  1.0000000000 | -0.0499682132 | -3.280070e-02 | -0.082354411 | -0.084599673 | ⋯ |  0.0030361696 | -0.0068826901 |  5.363712e-03 |  0.003392264 | -0.0007006356 | -0.0024462280 |  0.003535552 |  0.0018459019 | -3.631677e-03 | -2.957106e-03 |\n| Item_Type_Breads | -0.0503780247 |  0.0004155035 | -0.0001122104 | -0.0326427885 |  0.0326427885 | -0.0499682132 |  1.0000000000 | -1.991831e-02 | -0.050009929 | -0.051373370 | ⋯ | -0.0054419214 |  0.0025233870 |  1.041654e-03 | -0.005139733 |  0.0029334224 |  0.0019088408 |  0.002304542 | -0.0061888997 | -7.337742e-04 |  7.693473e-03 |\n| Item_Type_Breakfast | -0.0017851015 |  0.0434181363 |  0.0014604974 | -0.0657107355 |  0.0657107355 | -0.0328007006 | -0.0199183104 |  1.000000e+00 | -0.032828084 | -0.033723090 | ⋯ |  0.0032355539 | -0.0003223927 | -1.898370e-03 |  0.005045754 | -0.0087408876 |  0.0037543781 |  0.015676255 | -0.0086953702 |  7.674435e-05 | -3.550234e-03 |\n| Item_Type_Canned | -0.0292111202 |  0.0111137121 | -0.0056659157 | -0.0732345931 |  0.0732345931 | -0.0823544109 | -0.0500099294 | -3.282808e-02 |  1.000000000 | -0.084670301 | ⋯ | -0.0084607691 | -0.0010815913 |  7.053984e-03 | -0.004766336 |  0.0093662956 | -0.0046118591 | -0.012574427 |  0.0012359516 |  1.041777e-02 |  1.136135e-03 |\n| Item_Type_Dairy |  0.0302125218 |  0.0359838803 |  0.0355509268 | -0.0212355087 |  0.0212355087 | -0.0845996726 | -0.0513733703 | -3.372309e-02 | -0.084670301 |  1.000000000 | ⋯ |  0.0075137543 | -0.0109408718 |  6.658755e-03 |  0.013399194 | -0.0081616308 | -0.0044824898 |  0.006933112 |  0.0033964395 | -1.745651e-03 | -1.081723e-02 |\n| Item_Type_FrozenFoods |  0.0034759069 | -0.0031525336 | -0.0133577368 | -0.0850407180 |  0.0850407180 | -0.0958487321 | -0.0582043909 | -3.820719e-02 | -0.095928752 | -0.098544096 | ⋯ | -0.0020070215 | -0.0060505573 |  7.964737e-03 |  0.008833934 | -0.0005900789 | -0.0075557680 | -0.006762844 |  0.0097499635 | -1.507374e-03 | -6.127626e-03 |\n| Item_Type_Fruits&amp;Vegetables |  0.0407180694 |  0.0189692272 |  0.0236881038 | -0.1169545814 |  0.1169545814 | -0.1179163497 | -0.0716050088 | -4.700377e-02 | -0.118014793 | -0.121232278 | ⋯ |  0.0077826847 |  0.0067780057 | -1.276825e-02 | -0.006081550 | -0.0025409474 |  0.0080317438 | -0.004556005 | -0.0008107306 |  9.185889e-04 |  5.173467e-03 |\n| Item_Type_HardDrinks | -0.0412702518 | -0.0036998251 | -0.0100892608 |  0.1184610297 | -0.1184610297 | -0.0460356976 | -0.0279552966 | -1.835073e-02 | -0.046074131 | -0.047330268 | ⋯ | -0.0009639630 |  0.0159326641 | -1.663068e-02 | -0.003271589 |  0.0033140884 | -0.0001743815 | -0.007188637 |  0.0078365919 | -3.131524e-03 | -1.143358e-03 |\n| Item_Type_Health&amp;Hygiene |  0.0213776978 | -0.0539305498 | -0.0416459095 |  0.1881560813 | -0.1881560813 | -0.0731202193 | -0.0444024426 | -2.914715e-02 | -0.073181264 | -0.075176434 | ⋯ |  0.0064988083 |  0.0055868908 | -1.058268e-02 | -0.008399600 | -0.0040934680 |  0.0116539479 |  0.001360983 | -0.0054221609 |  2.173993e-03 |  4.634023e-03 |\n| Item_Type_Household |  0.0314626794 | -0.0322297038 |  0.0468148003 |  0.2552030012 | -0.2552030012 | -0.0991756380 | -0.0602246631 | -3.953336e-02 | -0.099258435 | -0.101964558 | ⋯ |  0.0042492894 | -0.0043036990 |  1.720286e-03 | -0.004201702 | -0.0010969570 |  0.0049166676 |  0.003842276 |  0.0012335978 | -4.979438e-03 | -1.008871e-03 |\n| Item_Type_Meat | -0.0062482770 | -0.0170867442 | -0.0040863258 | -0.1185738712 |  0.1185738712 | -0.0657154976 | -0.0399059061 | -2.619549e-02 | -0.065770360 | -0.067563484 | ⋯ | -0.0094553151 |  0.0061371315 | -9.336965e-05 |  0.004707774 | -0.0159450148 |  0.0109831368 |  0.019415543 | -0.0239124160 | -4.755166e-04 |  1.617203e-02 |\n| Item_Type_Others |  0.0165083195 | -0.0162397380 | -0.0185953325 |  0.1049878671 | -0.1049878671 | -0.0407998286 | -0.0247758016 | -1.626361e-02 | -0.040833891 | -0.041947161 | ⋯ | -0.0066889345 | -0.0089204948 |  1.433461e-02 |  0.016208646 | -0.0057830825 | -0.0093497357 |  0.013962857 | -0.0063435500 |  4.320198e-03 | -9.532685e-03 |\n| Item_Type_Seafood | -0.0092135546 |  0.0149099373 |  0.0011858154 | -0.0125942379 |  0.0125942379 | -0.0249512723 | -0.0151517248 | -9.946067e-03 | -0.024972103 | -0.025652928 | ⋯ | -0.0087033048 | -0.0001945680 |  6.259348e-03 |  0.003233002 |  0.0031502856 | -0.0059977679 |  0.007621462 | -0.0053674855 |  1.377098e-04 | -9.133433e-05 |\n| Item_Type_SnackFoods |  0.0079253282 |  0.0056348451 |  0.0338174142 | -0.0598476516 |  0.0598476516 | -0.1161203477 | -0.0705143820 | -4.628785e-02 | -0.116217291 | -0.119385770 | ⋯ | -0.0067249349 |  0.0051474856 | -9.161465e-04 | -0.001667307 |  0.0063899844 | -0.0046031781 | -0.006564982 | -0.0001535481 |  1.453119e-03 |  5.781569e-03 |\n| Item_Type_SoftDrinks | -0.0519225023 | -0.0098249850 | -0.0358076318 |  0.0948749709 | -0.0948749709 | -0.0673271611 | -0.0408845930 | -2.683793e-02 | -0.067383370 | -0.069220470 | ⋯ |  0.0005724762 | -0.0017925058 |  1.548576e-03 | -0.005498149 |  0.0130337864 | -0.0074608186 | -0.004030760 |  0.0097767310 | -4.152580e-03 | -6.443416e-03 |\n| Item_Type_StarchyFoods |  0.0201213689 |  0.0036883710 |  0.0146129693 | -0.0259447118 |  0.0259447118 | -0.0381329735 | -0.0231563469 | -1.520055e-02 | -0.038164809 | -0.039205312 | ⋯ |  0.0081049179 |  0.0011992107 | -6.934414e-03 | -0.010934550 |  0.0088840203 |  0.0015226609 | -0.015658480 |  0.0135164112 |  2.553367e-03 | -6.426649e-03 |\n| Outlet_Size_High |  0.0121950380 | -0.0419369097 |  0.0024375785 |  0.0021320419 | -0.0021320419 |  0.0030361696 | -0.0054419214 |  3.235554e-03 | -0.008460769 |  0.007513754 | ⋯ |  1.0000000000 | -0.4386481798 | -2.186092e-01 | -0.218609151 | -0.2441129327 |  0.4354189199 | -0.133686090 |  0.2546680773 | -1.224810e-01 | -1.229987e-01 |\n| Outlet_Size_Medium | -0.0080031382 | -0.0316423019 | -0.0105784776 | -0.0034946053 |  0.0034946053 | -0.0068826901 |  0.0025233870 | -3.223927e-04 | -0.001081591 | -0.010940872 | ⋯ | -0.4386481798 |  1.0000000000 | -7.810301e-01 | -0.282771191 |  0.0794369550 |  0.1837136234 | -0.076674729 | -0.3134502707 |  2.792237e-01 |  2.804040e-01 |\n| Outlet_Size_Small |  0.0002157005 |  0.0635016023 |  0.0097927692 |  0.0023130394 | -0.0023130394 |  0.0053637117 |  0.0010416539 | -1.898370e-03 |  0.007053984 |  0.006658755 | ⋯ | -0.2186091513 | -0.7810300593 |  1.000000e+00 |  0.458963522 |  0.0833813045 | -0.5020662661 |  0.176158327 |  0.1633880834 | -2.180821e-01 | -2.190040e-01 |\n| Outlet_Location_Type_Tier1 |  0.0048236087 |  0.0613458869 | -0.0012290862 | -0.0031548795 |  0.0031548795 |  0.0033922640 | -0.0051397327 |  5.045754e-03 | -0.004766336 |  0.013399194 | ⋯ | -0.2186091513 | -0.2827711908 |  4.589635e-01 |  1.000000000 | -0.4346525236 | -0.5020662661 |  0.176158327 |  0.1633880834 | -2.180821e-01 | -2.190040e-01 |\n| Outlet_Location_Type_Tier2 | -0.0113749710 | -0.0687866372 |  0.0019513073 |  0.0032717388 | -0.0032717388 | -0.0007006356 |  0.0029334224 | -8.740888e-03 |  0.009366296 | -0.008161631 | ⋯ | -0.2441129327 |  0.0794369550 |  8.338130e-02 | -0.434652524 |  1.0000000000 | -0.5606392409 | -0.265803129 |  0.5063471581 | -2.435244e-01 | -2.445538e-01 |\n| Outlet_Location_Type_Tier3 |  0.0064880966 |  0.0096498121 | -0.0007437168 | -0.0002410231 |  0.0002410231 | -0.0024462280 |  0.0019088408 |  3.754378e-03 | -0.004611859 | -0.004482490 | ⋯ |  0.4354189199 |  0.1837136234 | -5.020663e-01 | -0.502066266 | -0.5606392409 |  1.0000000000 |  0.093276443 | -0.6364646571 |  4.343691e-01 |  4.362053e-01 |\n| Outlet_Type_GroceryStore |  0.0026735990 |  0.2863996145 | -0.0042771353 |  0.0029242966 | -0.0029242966 |  0.0035355517 |  0.0023045419 |  1.567625e-02 | -0.012574427 |  0.006933112 | ⋯ | -0.1336860899 | -0.0766747292 |  1.761583e-01 |  0.176158327 | -0.2658031285 |  0.0932764434 |  1.000000000 | -0.5249424714 | -1.333638e-01 | -1.339275e-01 |\n| Outlet_Type_SupermarketType1 |  0.0014911152 | -0.1442485582 |  0.0048854837 | -0.0005332351 |  0.0005332351 |  0.0018459019 | -0.0061888997 | -8.695370e-03 |  0.001235952 |  0.003396440 | ⋯ |  0.2546680773 | -0.3134502707 |  1.633881e-01 |  0.163388083 |  0.5063471581 | -0.6364646571 | -0.524942471 |  1.0000000000 | -4.809435e-01 | -4.829766e-01 |\n| Outlet_Type_SupermarketType2 |  0.0021725280 | -0.0346708627 |  0.0038499211 | -0.0021294095 |  0.0021294095 | -0.0036316770 | -0.0007337742 |  7.674435e-05 |  0.010417774 | -0.001745651 | ⋯ | -0.1224809537 |  0.2792236680 | -2.180821e-01 | -0.218082078 | -0.2435243691 |  0.4343691117 | -0.133363769 | -0.4809434894 |  1.000000e+00 | -1.227022e-01 |\n| Outlet_Type_SupermarketType3 | -0.0072837333 | -0.0511444571 | -0.0067136994 | -0.0001825365 |  0.0001825365 | -0.0029571062 |  0.0076934731 | -3.550234e-03 |  0.001136135 | -0.010817226 | ⋯ | -0.1229987236 |  0.2804040443 | -2.190040e-01 | -0.219003987 | -0.2445538319 |  0.4362053421 | -0.133927544 | -0.4829766060 | -1.227022e-01 |  1.000000e+00 |\n\n",
            "text/html": [
              "<table class=\"dataframe\">\n",
              "<caption>A matrix: 31 × 31 of type dbl</caption>\n",
              "<thead>\n",
              "\t<tr><th></th><th scope=col>Item_Weight</th><th scope=col>Item_Visibility</th><th scope=col>Item_MRP</th><th scope=col>Item_Fat_Content_LowFat</th><th scope=col>Item_Fat_Content_Regular</th><th scope=col>Item_Type_BakingGoods</th><th scope=col>Item_Type_Breads</th><th scope=col>Item_Type_Breakfast</th><th scope=col>Item_Type_Canned</th><th scope=col>Item_Type_Dairy</th><th scope=col>⋯</th><th scope=col>Outlet_Size_High</th><th scope=col>Outlet_Size_Medium</th><th scope=col>Outlet_Size_Small</th><th scope=col>Outlet_Location_Type_Tier1</th><th scope=col>Outlet_Location_Type_Tier2</th><th scope=col>Outlet_Location_Type_Tier3</th><th scope=col>Outlet_Type_GroceryStore</th><th scope=col>Outlet_Type_SupermarketType1</th><th scope=col>Outlet_Type_SupermarketType2</th><th scope=col>Outlet_Type_SupermarketType3</th></tr>\n",
              "</thead>\n",
              "<tbody>\n",
              "\t<tr><th scope=row>Item_Weight</th><td> 1.0000000000</td><td>-0.0225020119</td><td> 0.0204509483</td><td> 0.0161127046</td><td>-0.0161127046</td><td>-0.0356576224</td><td>-0.0503780247</td><td>-1.785101e-03</td><td>-0.029211120</td><td> 0.030212522</td><td>⋯</td><td> 0.0121950380</td><td>-0.0080031382</td><td> 2.157005e-04</td><td> 0.004823609</td><td>-0.0113749710</td><td> 0.0064880966</td><td> 0.002673599</td><td> 0.0014911152</td><td> 2.172528e-03</td><td>-7.283733e-03</td></tr>\n",
              "\t<tr><th scope=row>Item_Visibility</th><td>-0.0225020119</td><td> 1.0000000000</td><td>-0.0013148480</td><td>-0.0473143585</td><td> 0.0473143585</td><td> 0.0168865084</td><td> 0.0004155035</td><td> 4.341814e-02</td><td> 0.011113712</td><td> 0.035983880</td><td>⋯</td><td>-0.0419369097</td><td>-0.0316423019</td><td> 6.350160e-02</td><td> 0.061345887</td><td>-0.0687866372</td><td> 0.0096498121</td><td> 0.286399614</td><td>-0.1442485582</td><td>-3.467086e-02</td><td>-5.114446e-02</td></tr>\n",
              "\t<tr><th scope=row>Item_MRP</th><td> 0.0204509483</td><td>-0.0013148480</td><td> 1.0000000000</td><td>-0.0060628994</td><td> 0.0060628994</td><td>-0.0673106273</td><td>-0.0001122104</td><td> 1.460497e-03</td><td>-0.005665916</td><td> 0.035550927</td><td>⋯</td><td> 0.0024375785</td><td>-0.0105784776</td><td> 9.792769e-03</td><td>-0.001229086</td><td> 0.0019513073</td><td>-0.0007437168</td><td>-0.004277135</td><td> 0.0048854837</td><td> 3.849921e-03</td><td>-6.713699e-03</td></tr>\n",
              "\t<tr><th scope=row>Item_Fat_Content_LowFat</th><td> 0.0161127046</td><td>-0.0473143585</td><td>-0.0060628994</td><td> 1.0000000000</td><td>-1.0000000000</td><td>-0.0838044124</td><td>-0.0326427885</td><td>-6.571074e-02</td><td>-0.073234593</td><td>-0.021235509</td><td>⋯</td><td> 0.0021320419</td><td>-0.0034946053</td><td> 2.313039e-03</td><td>-0.003154879</td><td> 0.0032717388</td><td>-0.0002410231</td><td> 0.002924297</td><td>-0.0005332351</td><td>-2.129410e-03</td><td>-1.825365e-04</td></tr>\n",
              "\t<tr><th scope=row>Item_Fat_Content_Regular</th><td>-0.0161127046</td><td> 0.0473143585</td><td> 0.0060628994</td><td>-1.0000000000</td><td> 1.0000000000</td><td> 0.0838044124</td><td> 0.0326427885</td><td> 6.571074e-02</td><td> 0.073234593</td><td> 0.021235509</td><td>⋯</td><td>-0.0021320419</td><td> 0.0034946053</td><td>-2.313039e-03</td><td> 0.003154879</td><td>-0.0032717388</td><td> 0.0002410231</td><td>-0.002924297</td><td> 0.0005332351</td><td> 2.129410e-03</td><td> 1.825365e-04</td></tr>\n",
              "\t<tr><th scope=row>Item_Type_BakingGoods</th><td>-0.0356576224</td><td> 0.0168865084</td><td>-0.0673106273</td><td>-0.0838044124</td><td> 0.0838044124</td><td> 1.0000000000</td><td>-0.0499682132</td><td>-3.280070e-02</td><td>-0.082354411</td><td>-0.084599673</td><td>⋯</td><td> 0.0030361696</td><td>-0.0068826901</td><td> 5.363712e-03</td><td> 0.003392264</td><td>-0.0007006356</td><td>-0.0024462280</td><td> 0.003535552</td><td> 0.0018459019</td><td>-3.631677e-03</td><td>-2.957106e-03</td></tr>\n",
              "\t<tr><th scope=row>Item_Type_Breads</th><td>-0.0503780247</td><td> 0.0004155035</td><td>-0.0001122104</td><td>-0.0326427885</td><td> 0.0326427885</td><td>-0.0499682132</td><td> 1.0000000000</td><td>-1.991831e-02</td><td>-0.050009929</td><td>-0.051373370</td><td>⋯</td><td>-0.0054419214</td><td> 0.0025233870</td><td> 1.041654e-03</td><td>-0.005139733</td><td> 0.0029334224</td><td> 0.0019088408</td><td> 0.002304542</td><td>-0.0061888997</td><td>-7.337742e-04</td><td> 7.693473e-03</td></tr>\n",
              "\t<tr><th scope=row>Item_Type_Breakfast</th><td>-0.0017851015</td><td> 0.0434181363</td><td> 0.0014604974</td><td>-0.0657107355</td><td> 0.0657107355</td><td>-0.0328007006</td><td>-0.0199183104</td><td> 1.000000e+00</td><td>-0.032828084</td><td>-0.033723090</td><td>⋯</td><td> 0.0032355539</td><td>-0.0003223927</td><td>-1.898370e-03</td><td> 0.005045754</td><td>-0.0087408876</td><td> 0.0037543781</td><td> 0.015676255</td><td>-0.0086953702</td><td> 7.674435e-05</td><td>-3.550234e-03</td></tr>\n",
              "\t<tr><th scope=row>Item_Type_Canned</th><td>-0.0292111202</td><td> 0.0111137121</td><td>-0.0056659157</td><td>-0.0732345931</td><td> 0.0732345931</td><td>-0.0823544109</td><td>-0.0500099294</td><td>-3.282808e-02</td><td> 1.000000000</td><td>-0.084670301</td><td>⋯</td><td>-0.0084607691</td><td>-0.0010815913</td><td> 7.053984e-03</td><td>-0.004766336</td><td> 0.0093662956</td><td>-0.0046118591</td><td>-0.012574427</td><td> 0.0012359516</td><td> 1.041777e-02</td><td> 1.136135e-03</td></tr>\n",
              "\t<tr><th scope=row>Item_Type_Dairy</th><td> 0.0302125218</td><td> 0.0359838803</td><td> 0.0355509268</td><td>-0.0212355087</td><td> 0.0212355087</td><td>-0.0845996726</td><td>-0.0513733703</td><td>-3.372309e-02</td><td>-0.084670301</td><td> 1.000000000</td><td>⋯</td><td> 0.0075137543</td><td>-0.0109408718</td><td> 6.658755e-03</td><td> 0.013399194</td><td>-0.0081616308</td><td>-0.0044824898</td><td> 0.006933112</td><td> 0.0033964395</td><td>-1.745651e-03</td><td>-1.081723e-02</td></tr>\n",
              "\t<tr><th scope=row>Item_Type_FrozenFoods</th><td> 0.0034759069</td><td>-0.0031525336</td><td>-0.0133577368</td><td>-0.0850407180</td><td> 0.0850407180</td><td>-0.0958487321</td><td>-0.0582043909</td><td>-3.820719e-02</td><td>-0.095928752</td><td>-0.098544096</td><td>⋯</td><td>-0.0020070215</td><td>-0.0060505573</td><td> 7.964737e-03</td><td> 0.008833934</td><td>-0.0005900789</td><td>-0.0075557680</td><td>-0.006762844</td><td> 0.0097499635</td><td>-1.507374e-03</td><td>-6.127626e-03</td></tr>\n",
              "\t<tr><th scope=row>Item_Type_Fruits&amp;Vegetables</th><td> 0.0407180694</td><td> 0.0189692272</td><td> 0.0236881038</td><td>-0.1169545814</td><td> 0.1169545814</td><td>-0.1179163497</td><td>-0.0716050088</td><td>-4.700377e-02</td><td>-0.118014793</td><td>-0.121232278</td><td>⋯</td><td> 0.0077826847</td><td> 0.0067780057</td><td>-1.276825e-02</td><td>-0.006081550</td><td>-0.0025409474</td><td> 0.0080317438</td><td>-0.004556005</td><td>-0.0008107306</td><td> 9.185889e-04</td><td> 5.173467e-03</td></tr>\n",
              "\t<tr><th scope=row>Item_Type_HardDrinks</th><td>-0.0412702518</td><td>-0.0036998251</td><td>-0.0100892608</td><td> 0.1184610297</td><td>-0.1184610297</td><td>-0.0460356976</td><td>-0.0279552966</td><td>-1.835073e-02</td><td>-0.046074131</td><td>-0.047330268</td><td>⋯</td><td>-0.0009639630</td><td> 0.0159326641</td><td>-1.663068e-02</td><td>-0.003271589</td><td> 0.0033140884</td><td>-0.0001743815</td><td>-0.007188637</td><td> 0.0078365919</td><td>-3.131524e-03</td><td>-1.143358e-03</td></tr>\n",
              "\t<tr><th scope=row>Item_Type_Health&amp;Hygiene</th><td> 0.0213776978</td><td>-0.0539305498</td><td>-0.0416459095</td><td> 0.1881560813</td><td>-0.1881560813</td><td>-0.0731202193</td><td>-0.0444024426</td><td>-2.914715e-02</td><td>-0.073181264</td><td>-0.075176434</td><td>⋯</td><td> 0.0064988083</td><td> 0.0055868908</td><td>-1.058268e-02</td><td>-0.008399600</td><td>-0.0040934680</td><td> 0.0116539479</td><td> 0.001360983</td><td>-0.0054221609</td><td> 2.173993e-03</td><td> 4.634023e-03</td></tr>\n",
              "\t<tr><th scope=row>Item_Type_Household</th><td> 0.0314626794</td><td>-0.0322297038</td><td> 0.0468148003</td><td> 0.2552030012</td><td>-0.2552030012</td><td>-0.0991756380</td><td>-0.0602246631</td><td>-3.953336e-02</td><td>-0.099258435</td><td>-0.101964558</td><td>⋯</td><td> 0.0042492894</td><td>-0.0043036990</td><td> 1.720286e-03</td><td>-0.004201702</td><td>-0.0010969570</td><td> 0.0049166676</td><td> 0.003842276</td><td> 0.0012335978</td><td>-4.979438e-03</td><td>-1.008871e-03</td></tr>\n",
              "\t<tr><th scope=row>Item_Type_Meat</th><td>-0.0062482770</td><td>-0.0170867442</td><td>-0.0040863258</td><td>-0.1185738712</td><td> 0.1185738712</td><td>-0.0657154976</td><td>-0.0399059061</td><td>-2.619549e-02</td><td>-0.065770360</td><td>-0.067563484</td><td>⋯</td><td>-0.0094553151</td><td> 0.0061371315</td><td>-9.336965e-05</td><td> 0.004707774</td><td>-0.0159450148</td><td> 0.0109831368</td><td> 0.019415543</td><td>-0.0239124160</td><td>-4.755166e-04</td><td> 1.617203e-02</td></tr>\n",
              "\t<tr><th scope=row>Item_Type_Others</th><td> 0.0165083195</td><td>-0.0162397380</td><td>-0.0185953325</td><td> 0.1049878671</td><td>-0.1049878671</td><td>-0.0407998286</td><td>-0.0247758016</td><td>-1.626361e-02</td><td>-0.040833891</td><td>-0.041947161</td><td>⋯</td><td>-0.0066889345</td><td>-0.0089204948</td><td> 1.433461e-02</td><td> 0.016208646</td><td>-0.0057830825</td><td>-0.0093497357</td><td> 0.013962857</td><td>-0.0063435500</td><td> 4.320198e-03</td><td>-9.532685e-03</td></tr>\n",
              "\t<tr><th scope=row>Item_Type_Seafood</th><td>-0.0092135546</td><td> 0.0149099373</td><td> 0.0011858154</td><td>-0.0125942379</td><td> 0.0125942379</td><td>-0.0249512723</td><td>-0.0151517248</td><td>-9.946067e-03</td><td>-0.024972103</td><td>-0.025652928</td><td>⋯</td><td>-0.0087033048</td><td>-0.0001945680</td><td> 6.259348e-03</td><td> 0.003233002</td><td> 0.0031502856</td><td>-0.0059977679</td><td> 0.007621462</td><td>-0.0053674855</td><td> 1.377098e-04</td><td>-9.133433e-05</td></tr>\n",
              "\t<tr><th scope=row>Item_Type_SnackFoods</th><td> 0.0079253282</td><td> 0.0056348451</td><td> 0.0338174142</td><td>-0.0598476516</td><td> 0.0598476516</td><td>-0.1161203477</td><td>-0.0705143820</td><td>-4.628785e-02</td><td>-0.116217291</td><td>-0.119385770</td><td>⋯</td><td>-0.0067249349</td><td> 0.0051474856</td><td>-9.161465e-04</td><td>-0.001667307</td><td> 0.0063899844</td><td>-0.0046031781</td><td>-0.006564982</td><td>-0.0001535481</td><td> 1.453119e-03</td><td> 5.781569e-03</td></tr>\n",
              "\t<tr><th scope=row>Item_Type_SoftDrinks</th><td>-0.0519225023</td><td>-0.0098249850</td><td>-0.0358076318</td><td> 0.0948749709</td><td>-0.0948749709</td><td>-0.0673271611</td><td>-0.0408845930</td><td>-2.683793e-02</td><td>-0.067383370</td><td>-0.069220470</td><td>⋯</td><td> 0.0005724762</td><td>-0.0017925058</td><td> 1.548576e-03</td><td>-0.005498149</td><td> 0.0130337864</td><td>-0.0074608186</td><td>-0.004030760</td><td> 0.0097767310</td><td>-4.152580e-03</td><td>-6.443416e-03</td></tr>\n",
              "\t<tr><th scope=row>Item_Type_StarchyFoods</th><td> 0.0201213689</td><td> 0.0036883710</td><td> 0.0146129693</td><td>-0.0259447118</td><td> 0.0259447118</td><td>-0.0381329735</td><td>-0.0231563469</td><td>-1.520055e-02</td><td>-0.038164809</td><td>-0.039205312</td><td>⋯</td><td> 0.0081049179</td><td> 0.0011992107</td><td>-6.934414e-03</td><td>-0.010934550</td><td> 0.0088840203</td><td> 0.0015226609</td><td>-0.015658480</td><td> 0.0135164112</td><td> 2.553367e-03</td><td>-6.426649e-03</td></tr>\n",
              "\t<tr><th scope=row>Outlet_Size_High</th><td> 0.0121950380</td><td>-0.0419369097</td><td> 0.0024375785</td><td> 0.0021320419</td><td>-0.0021320419</td><td> 0.0030361696</td><td>-0.0054419214</td><td> 3.235554e-03</td><td>-0.008460769</td><td> 0.007513754</td><td>⋯</td><td> 1.0000000000</td><td>-0.4386481798</td><td>-2.186092e-01</td><td>-0.218609151</td><td>-0.2441129327</td><td> 0.4354189199</td><td>-0.133686090</td><td> 0.2546680773</td><td>-1.224810e-01</td><td>-1.229987e-01</td></tr>\n",
              "\t<tr><th scope=row>Outlet_Size_Medium</th><td>-0.0080031382</td><td>-0.0316423019</td><td>-0.0105784776</td><td>-0.0034946053</td><td> 0.0034946053</td><td>-0.0068826901</td><td> 0.0025233870</td><td>-3.223927e-04</td><td>-0.001081591</td><td>-0.010940872</td><td>⋯</td><td>-0.4386481798</td><td> 1.0000000000</td><td>-7.810301e-01</td><td>-0.282771191</td><td> 0.0794369550</td><td> 0.1837136234</td><td>-0.076674729</td><td>-0.3134502707</td><td> 2.792237e-01</td><td> 2.804040e-01</td></tr>\n",
              "\t<tr><th scope=row>Outlet_Size_Small</th><td> 0.0002157005</td><td> 0.0635016023</td><td> 0.0097927692</td><td> 0.0023130394</td><td>-0.0023130394</td><td> 0.0053637117</td><td> 0.0010416539</td><td>-1.898370e-03</td><td> 0.007053984</td><td> 0.006658755</td><td>⋯</td><td>-0.2186091513</td><td>-0.7810300593</td><td> 1.000000e+00</td><td> 0.458963522</td><td> 0.0833813045</td><td>-0.5020662661</td><td> 0.176158327</td><td> 0.1633880834</td><td>-2.180821e-01</td><td>-2.190040e-01</td></tr>\n",
              "\t<tr><th scope=row>Outlet_Location_Type_Tier1</th><td> 0.0048236087</td><td> 0.0613458869</td><td>-0.0012290862</td><td>-0.0031548795</td><td> 0.0031548795</td><td> 0.0033922640</td><td>-0.0051397327</td><td> 5.045754e-03</td><td>-0.004766336</td><td> 0.013399194</td><td>⋯</td><td>-0.2186091513</td><td>-0.2827711908</td><td> 4.589635e-01</td><td> 1.000000000</td><td>-0.4346525236</td><td>-0.5020662661</td><td> 0.176158327</td><td> 0.1633880834</td><td>-2.180821e-01</td><td>-2.190040e-01</td></tr>\n",
              "\t<tr><th scope=row>Outlet_Location_Type_Tier2</th><td>-0.0113749710</td><td>-0.0687866372</td><td> 0.0019513073</td><td> 0.0032717388</td><td>-0.0032717388</td><td>-0.0007006356</td><td> 0.0029334224</td><td>-8.740888e-03</td><td> 0.009366296</td><td>-0.008161631</td><td>⋯</td><td>-0.2441129327</td><td> 0.0794369550</td><td> 8.338130e-02</td><td>-0.434652524</td><td> 1.0000000000</td><td>-0.5606392409</td><td>-0.265803129</td><td> 0.5063471581</td><td>-2.435244e-01</td><td>-2.445538e-01</td></tr>\n",
              "\t<tr><th scope=row>Outlet_Location_Type_Tier3</th><td> 0.0064880966</td><td> 0.0096498121</td><td>-0.0007437168</td><td>-0.0002410231</td><td> 0.0002410231</td><td>-0.0024462280</td><td> 0.0019088408</td><td> 3.754378e-03</td><td>-0.004611859</td><td>-0.004482490</td><td>⋯</td><td> 0.4354189199</td><td> 0.1837136234</td><td>-5.020663e-01</td><td>-0.502066266</td><td>-0.5606392409</td><td> 1.0000000000</td><td> 0.093276443</td><td>-0.6364646571</td><td> 4.343691e-01</td><td> 4.362053e-01</td></tr>\n",
              "\t<tr><th scope=row>Outlet_Type_GroceryStore</th><td> 0.0026735990</td><td> 0.2863996145</td><td>-0.0042771353</td><td> 0.0029242966</td><td>-0.0029242966</td><td> 0.0035355517</td><td> 0.0023045419</td><td> 1.567625e-02</td><td>-0.012574427</td><td> 0.006933112</td><td>⋯</td><td>-0.1336860899</td><td>-0.0766747292</td><td> 1.761583e-01</td><td> 0.176158327</td><td>-0.2658031285</td><td> 0.0932764434</td><td> 1.000000000</td><td>-0.5249424714</td><td>-1.333638e-01</td><td>-1.339275e-01</td></tr>\n",
              "\t<tr><th scope=row>Outlet_Type_SupermarketType1</th><td> 0.0014911152</td><td>-0.1442485582</td><td> 0.0048854837</td><td>-0.0005332351</td><td> 0.0005332351</td><td> 0.0018459019</td><td>-0.0061888997</td><td>-8.695370e-03</td><td> 0.001235952</td><td> 0.003396440</td><td>⋯</td><td> 0.2546680773</td><td>-0.3134502707</td><td> 1.633881e-01</td><td> 0.163388083</td><td> 0.5063471581</td><td>-0.6364646571</td><td>-0.524942471</td><td> 1.0000000000</td><td>-4.809435e-01</td><td>-4.829766e-01</td></tr>\n",
              "\t<tr><th scope=row>Outlet_Type_SupermarketType2</th><td> 0.0021725280</td><td>-0.0346708627</td><td> 0.0038499211</td><td>-0.0021294095</td><td> 0.0021294095</td><td>-0.0036316770</td><td>-0.0007337742</td><td> 7.674435e-05</td><td> 0.010417774</td><td>-0.001745651</td><td>⋯</td><td>-0.1224809537</td><td> 0.2792236680</td><td>-2.180821e-01</td><td>-0.218082078</td><td>-0.2435243691</td><td> 0.4343691117</td><td>-0.133363769</td><td>-0.4809434894</td><td> 1.000000e+00</td><td>-1.227022e-01</td></tr>\n",
              "\t<tr><th scope=row>Outlet_Type_SupermarketType3</th><td>-0.0072837333</td><td>-0.0511444571</td><td>-0.0067136994</td><td>-0.0001825365</td><td> 0.0001825365</td><td>-0.0029571062</td><td> 0.0076934731</td><td>-3.550234e-03</td><td> 0.001136135</td><td>-0.010817226</td><td>⋯</td><td>-0.1229987236</td><td> 0.2804040443</td><td>-2.190040e-01</td><td>-0.219003987</td><td>-0.2445538319</td><td> 0.4362053421</td><td>-0.133927544</td><td>-0.4829766060</td><td>-1.227022e-01</td><td> 1.000000e+00</td></tr>\n",
              "</tbody>\n",
              "</table>\n"
            ]
          },
          "metadata": {}
        }
      ]
    },
    {
      "cell_type": "code",
      "metadata": {
        "colab": {
          "base_uri": "https://localhost:8080/",
          "height": 102
        },
        "id": "Y5TfJS0P5gD4",
        "outputId": "db284e6f-7045-49c5-8f51-2db2f388e178"
      },
      "source": [
        "names(martcorr)"
      ],
      "execution_count": 148,
      "outputs": [
        {
          "output_type": "display_data",
          "data": {
            "text/plain": [
              " [1] \"Item_Weight\"                  \"Item_Visibility\"             \n",
              " [3] \"Item_MRP\"                     \"Item_Fat_Content_LowFat\"     \n",
              " [5] \"Item_Fat_Content_Regular\"     \"Item_Type_BakingGoods\"       \n",
              " [7] \"Item_Type_Breads\"             \"Item_Type_Breakfast\"         \n",
              " [9] \"Item_Type_Canned\"             \"Item_Type_Dairy\"             \n",
              "[11] \"Item_Type_FrozenFoods\"        \"Item_Type_Fruits_Vegetables\" \n",
              "[13] \"Item_Type_HardDrinks\"         \"Item_Type_Health_Hygiene\"    \n",
              "[15] \"Item_Type_Household\"          \"Item_Type_Meat\"              \n",
              "[17] \"Item_Type_Others\"             \"Item_Type_Seafood\"           \n",
              "[19] \"Item_Type_SnackFoods\"         \"Item_Type_SoftDrinks\"        \n",
              "[21] \"Item_Type_StarchyFoods\"       \"Outlet_Size_High\"            \n",
              "[23] \"Outlet_Size_Medium\"           \"Outlet_Size_Small\"           \n",
              "[25] \"Outlet_Location_Type_Tier1\"   \"Outlet_Location_Type_Tier2\"  \n",
              "[27] \"Outlet_Location_Type_Tier3\"   \"Outlet_Type_GroceryStore\"    \n",
              "[29] \"Outlet_Type_SupermarketType1\" \"Outlet_Type_SupermarketType2\"\n",
              "[31] \"Outlet_Type_SupermarketType3\""
            ],
            "text/latex": "\\begin{enumerate*}\n\\item 'Item\\_Weight'\n\\item 'Item\\_Visibility'\n\\item 'Item\\_MRP'\n\\item 'Item\\_Fat\\_Content\\_LowFat'\n\\item 'Item\\_Fat\\_Content\\_Regular'\n\\item 'Item\\_Type\\_BakingGoods'\n\\item 'Item\\_Type\\_Breads'\n\\item 'Item\\_Type\\_Breakfast'\n\\item 'Item\\_Type\\_Canned'\n\\item 'Item\\_Type\\_Dairy'\n\\item 'Item\\_Type\\_FrozenFoods'\n\\item 'Item\\_Type\\_Fruits\\_Vegetables'\n\\item 'Item\\_Type\\_HardDrinks'\n\\item 'Item\\_Type\\_Health\\_Hygiene'\n\\item 'Item\\_Type\\_Household'\n\\item 'Item\\_Type\\_Meat'\n\\item 'Item\\_Type\\_Others'\n\\item 'Item\\_Type\\_Seafood'\n\\item 'Item\\_Type\\_SnackFoods'\n\\item 'Item\\_Type\\_SoftDrinks'\n\\item 'Item\\_Type\\_StarchyFoods'\n\\item 'Outlet\\_Size\\_High'\n\\item 'Outlet\\_Size\\_Medium'\n\\item 'Outlet\\_Size\\_Small'\n\\item 'Outlet\\_Location\\_Type\\_Tier1'\n\\item 'Outlet\\_Location\\_Type\\_Tier2'\n\\item 'Outlet\\_Location\\_Type\\_Tier3'\n\\item 'Outlet\\_Type\\_GroceryStore'\n\\item 'Outlet\\_Type\\_SupermarketType1'\n\\item 'Outlet\\_Type\\_SupermarketType2'\n\\item 'Outlet\\_Type\\_SupermarketType3'\n\\end{enumerate*}\n",
            "text/markdown": "1. 'Item_Weight'\n2. 'Item_Visibility'\n3. 'Item_MRP'\n4. 'Item_Fat_Content_LowFat'\n5. 'Item_Fat_Content_Regular'\n6. 'Item_Type_BakingGoods'\n7. 'Item_Type_Breads'\n8. 'Item_Type_Breakfast'\n9. 'Item_Type_Canned'\n10. 'Item_Type_Dairy'\n11. 'Item_Type_FrozenFoods'\n12. 'Item_Type_Fruits_Vegetables'\n13. 'Item_Type_HardDrinks'\n14. 'Item_Type_Health_Hygiene'\n15. 'Item_Type_Household'\n16. 'Item_Type_Meat'\n17. 'Item_Type_Others'\n18. 'Item_Type_Seafood'\n19. 'Item_Type_SnackFoods'\n20. 'Item_Type_SoftDrinks'\n21. 'Item_Type_StarchyFoods'\n22. 'Outlet_Size_High'\n23. 'Outlet_Size_Medium'\n24. 'Outlet_Size_Small'\n25. 'Outlet_Location_Type_Tier1'\n26. 'Outlet_Location_Type_Tier2'\n27. 'Outlet_Location_Type_Tier3'\n28. 'Outlet_Type_GroceryStore'\n29. 'Outlet_Type_SupermarketType1'\n30. 'Outlet_Type_SupermarketType2'\n31. 'Outlet_Type_SupermarketType3'\n\n\n",
            "text/html": [
              "<style>\n",
              ".list-inline {list-style: none; margin:0; padding: 0}\n",
              ".list-inline>li {display: inline-block}\n",
              ".list-inline>li:not(:last-child)::after {content: \"\\00b7\"; padding: 0 .5ex}\n",
              "</style>\n",
              "<ol class=list-inline><li>'Item_Weight'</li><li>'Item_Visibility'</li><li>'Item_MRP'</li><li>'Item_Fat_Content_LowFat'</li><li>'Item_Fat_Content_Regular'</li><li>'Item_Type_BakingGoods'</li><li>'Item_Type_Breads'</li><li>'Item_Type_Breakfast'</li><li>'Item_Type_Canned'</li><li>'Item_Type_Dairy'</li><li>'Item_Type_FrozenFoods'</li><li>'Item_Type_Fruits_Vegetables'</li><li>'Item_Type_HardDrinks'</li><li>'Item_Type_Health_Hygiene'</li><li>'Item_Type_Household'</li><li>'Item_Type_Meat'</li><li>'Item_Type_Others'</li><li>'Item_Type_Seafood'</li><li>'Item_Type_SnackFoods'</li><li>'Item_Type_SoftDrinks'</li><li>'Item_Type_StarchyFoods'</li><li>'Outlet_Size_High'</li><li>'Outlet_Size_Medium'</li><li>'Outlet_Size_Small'</li><li>'Outlet_Location_Type_Tier1'</li><li>'Outlet_Location_Type_Tier2'</li><li>'Outlet_Location_Type_Tier3'</li><li>'Outlet_Type_GroceryStore'</li><li>'Outlet_Type_SupermarketType1'</li><li>'Outlet_Type_SupermarketType2'</li><li>'Outlet_Type_SupermarketType3'</li></ol>\n"
            ]
          },
          "metadata": {}
        }
      ]
    },
    {
      "cell_type": "code",
      "metadata": {
        "id": "IpQJbcFM53mT"
      },
      "source": [
        "model=lm(Item_Outlet_Sales~Item_Weight+Item_Visibility+Item_MRP+Item_Fat_Content_LowFat+Item_Fat_Content_Regular+Item_Type_BakingGoods+\n",
        "Item_Type_Breads+Item_Type_Breakfast+Item_Type_Canned+Item_Type_Dairy+Item_Type_FrozenFoods+Item_Type_Fruits_Vegetables+Item_Type_HardDrinks+\n",
        "Item_Type_Health_Hygiene+Item_Type_Household+Item_Type_Meat+Item_Type_Others+Item_Type_Seafood+Item_Type_SnackFoods+Item_Type_SoftDrinks+\n",
        "Item_Type_StarchyFoods+Outlet_Size_High+Outlet_Size_Medium+Outlet_Size_Small+Outlet_Location_Type_Tier1+Outlet_Location_Type_Tier2+\n",
        "Outlet_Location_Type_Tier3+Outlet_Type_GroceryStore+Outlet_Type_SupermarketType1+Outlet_Type_SupermarketType2+Outlet_Type_SupermarketType3, data=martsale)"
      ],
      "execution_count": 150,
      "outputs": []
    },
    {
      "cell_type": "code",
      "metadata": {
        "colab": {
          "base_uri": "https://localhost:8080/"
        },
        "id": "eQJXZAGuA1WV",
        "outputId": "8159929b-68a3-4eae-826b-76e5209b6365"
      },
      "source": [
        "print(model)"
      ],
      "execution_count": 152,
      "outputs": [
        {
          "output_type": "stream",
          "name": "stdout",
          "text": [
            "\n",
            "Call:\n",
            "lm(formula = Item_Outlet_Sales ~ Item_Weight + Item_Visibility + \n",
            "    Item_MRP + Item_Fat_Content_LowFat + Item_Fat_Content_Regular + \n",
            "    Item_Type_BakingGoods + Item_Type_Breads + Item_Type_Breakfast + \n",
            "    Item_Type_Canned + Item_Type_Dairy + Item_Type_FrozenFoods + \n",
            "    Item_Type_Fruits_Vegetables + Item_Type_HardDrinks + Item_Type_Health_Hygiene + \n",
            "    Item_Type_Household + Item_Type_Meat + Item_Type_Others + \n",
            "    Item_Type_Seafood + Item_Type_SnackFoods + Item_Type_SoftDrinks + \n",
            "    Item_Type_StarchyFoods + Outlet_Size_High + Outlet_Size_Medium + \n",
            "    Outlet_Size_Small + Outlet_Location_Type_Tier1 + Outlet_Location_Type_Tier2 + \n",
            "    Outlet_Location_Type_Tier3 + Outlet_Type_GroceryStore + Outlet_Type_SupermarketType1 + \n",
            "    Outlet_Type_SupermarketType2 + Outlet_Type_SupermarketType3, \n",
            "    data = martsale)\n",
            "\n",
            "Coefficients:\n",
            "                 (Intercept)                   Item_Weight  \n",
            "                   1626.5841                       -0.2862  \n",
            "             Item_Visibility                      Item_MRP  \n",
            "                   -299.6175                       15.5627  \n",
            "     Item_Fat_Content_LowFat      Item_Fat_Content_Regular  \n",
            "                    -40.8493                            NA  \n",
            "       Item_Type_BakingGoods              Item_Type_Breads  \n",
            "                    -25.0784                      -22.4808  \n",
            "         Item_Type_Breakfast              Item_Type_Canned  \n",
            "                    -13.9964                        1.0089  \n",
            "             Item_Type_Dairy         Item_Type_FrozenFoods  \n",
            "                    -64.3928                      -50.8824  \n",
            " Item_Type_Fruits_Vegetables          Item_Type_HardDrinks  \n",
            "                      4.7852                      -24.4590  \n",
            "    Item_Type_Health_Hygiene           Item_Type_Household  \n",
            "                    -35.1443                      -63.9904  \n",
            "              Item_Type_Meat              Item_Type_Others  \n",
            "                    -22.6753                      -50.5999  \n",
            "           Item_Type_Seafood          Item_Type_SnackFoods  \n",
            "                    157.2036                      -34.4371  \n",
            "        Item_Type_SoftDrinks        Item_Type_StarchyFoods  \n",
            "                    -51.5097                            NA  \n",
            "            Outlet_Size_High            Outlet_Size_Medium  \n",
            "                    -46.2000                      -31.0201  \n",
            "           Outlet_Size_Small    Outlet_Location_Type_Tier1  \n",
            "                          NA                      -12.8967  \n",
            "  Outlet_Location_Type_Tier2    Outlet_Location_Type_Tier3  \n",
            "                      3.0039                            NA  \n",
            "    Outlet_Type_GroceryStore  Outlet_Type_SupermarketType1  \n",
            "                  -3355.6190                    -1403.2711  \n",
            "Outlet_Type_SupermarketType2  Outlet_Type_SupermarketType3  \n",
            "                  -1726.8678                            NA  \n",
            "\n"
          ]
        }
      ]
    },
    {
      "cell_type": "code",
      "metadata": {
        "colab": {
          "base_uri": "https://localhost:8080/",
          "height": 1000
        },
        "id": "JdpZj8ksBFHv",
        "outputId": "37411b98-3736-4a79-fcdf-01ef02c04aac"
      },
      "source": [
        "summary(model)"
      ],
      "execution_count": 153,
      "outputs": [
        {
          "output_type": "display_data",
          "data": {
            "text/plain": [
              "\n",
              "Call:\n",
              "lm(formula = Item_Outlet_Sales ~ Item_Weight + Item_Visibility + \n",
              "    Item_MRP + Item_Fat_Content_LowFat + Item_Fat_Content_Regular + \n",
              "    Item_Type_BakingGoods + Item_Type_Breads + Item_Type_Breakfast + \n",
              "    Item_Type_Canned + Item_Type_Dairy + Item_Type_FrozenFoods + \n",
              "    Item_Type_Fruits_Vegetables + Item_Type_HardDrinks + Item_Type_Health_Hygiene + \n",
              "    Item_Type_Household + Item_Type_Meat + Item_Type_Others + \n",
              "    Item_Type_Seafood + Item_Type_SnackFoods + Item_Type_SoftDrinks + \n",
              "    Item_Type_StarchyFoods + Outlet_Size_High + Outlet_Size_Medium + \n",
              "    Outlet_Size_Small + Outlet_Location_Type_Tier1 + Outlet_Location_Type_Tier2 + \n",
              "    Outlet_Location_Type_Tier3 + Outlet_Type_GroceryStore + Outlet_Type_SupermarketType1 + \n",
              "    Outlet_Type_SupermarketType2 + Outlet_Type_SupermarketType3, \n",
              "    data = martsale)\n",
              "\n",
              "Residuals:\n",
              "    Min      1Q  Median      3Q     Max \n",
              "-4333.2  -673.8   -87.0   573.1  7944.5 \n",
              "\n",
              "Coefficients: (5 not defined because of singularities)\n",
              "                               Estimate Std. Error t value Pr(>|t|)    \n",
              "(Intercept)                   1626.5841   117.0993  13.891   <2e-16 ***\n",
              "Item_Weight                     -0.2862     2.6544  -0.108    0.914    \n",
              "Item_Visibility               -299.6175   249.0462  -1.203    0.229    \n",
              "Item_MRP                        15.5627     0.1979  78.643   <2e-16 ***\n",
              "Item_Fat_Content_LowFat        -40.8493    28.2590  -1.446    0.148    \n",
              "Item_Fat_Content_Regular             NA         NA      NA       NA    \n",
              "Item_Type_BakingGoods          -25.0784   103.1445  -0.243    0.808    \n",
              "Item_Type_Breads               -22.4808   117.2995  -0.192    0.848    \n",
              "Item_Type_Breakfast            -13.9964   142.4854  -0.098    0.922    \n",
              "Item_Type_Canned                 1.0089   103.0388   0.010    0.992    \n",
              "Item_Type_Dairy                -64.3928   102.5405  -0.628    0.530    \n",
              "Item_Type_FrozenFoods          -50.8824   100.6755  -0.505    0.613    \n",
              "Item_Type_Fruits_Vegetables      4.7852    98.3607   0.049    0.961    \n",
              "Item_Type_HardDrinks           -24.4590   121.6340  -0.201    0.841    \n",
              "Item_Type_Health_Hygiene       -35.1443   106.1742  -0.331    0.741    \n",
              "Item_Type_Household            -63.9904   101.0033  -0.634    0.526    \n",
              "Item_Type_Meat                 -22.6753   108.0751  -0.210    0.834    \n",
              "Item_Type_Others               -50.5999   127.9806  -0.395    0.693    \n",
              "Item_Type_Seafood              157.2036   169.1735   0.929    0.353    \n",
              "Item_Type_SnackFoods           -34.4371    98.5107  -0.350    0.727    \n",
              "Item_Type_SoftDrinks           -51.5097   107.7210  -0.478    0.633    \n",
              "Item_Type_StarchyFoods               NA         NA      NA       NA    \n",
              "Outlet_Size_High               -46.2000    97.1482  -0.476    0.634    \n",
              "Outlet_Size_Medium             -31.0201    34.3353  -0.903    0.366    \n",
              "Outlet_Size_Small                    NA         NA      NA       NA    \n",
              "Outlet_Location_Type_Tier1     -12.8967    76.8632  -0.168    0.867    \n",
              "Outlet_Location_Type_Tier2       3.0039    81.8248   0.037    0.971    \n",
              "Outlet_Location_Type_Tier3           NA         NA      NA       NA    \n",
              "Outlet_Type_GroceryStore     -3355.6190    61.5170 -54.548   <2e-16 ***\n",
              "Outlet_Type_SupermarketType1 -1403.2711    84.1295 -16.680   <2e-16 ***\n",
              "Outlet_Type_SupermarketType2 -1726.8678    52.3880 -32.963   <2e-16 ***\n",
              "Outlet_Type_SupermarketType3         NA         NA      NA       NA    \n",
              "---\n",
              "Signif. codes:  0 ‘***’ 0.001 ‘**’ 0.01 ‘*’ 0.05 ‘.’ 0.1 ‘ ’ 1\n",
              "\n",
              "Residual standard error: 1130 on 8496 degrees of freedom\n",
              "Multiple R-squared:  0.5627,\tAdjusted R-squared:  0.5613 \n",
              "F-statistic: 420.4 on 26 and 8496 DF,  p-value: < 2.2e-16\n"
            ]
          },
          "metadata": {}
        }
      ]
    },
    {
      "cell_type": "code",
      "metadata": {
        "colab": {
          "base_uri": "https://localhost:8080/",
          "height": 1000
        },
        "id": "IgLsfGiOBqyE",
        "outputId": "38a95645-f41d-41b7-b67e-1b51172ee452"
      },
      "source": [
        "pred<-predict(model, newdata = martsale, interval = \"prediction\")\n",
        "pred"
      ],
      "execution_count": 158,
      "outputs": [
        {
          "output_type": "display_data",
          "data": {
            "text/plain": [
              "     fit        lwr         upr     \n",
              "1     3954.3860  1735.7686  6173.003\n",
              "2      560.9145 -1659.2602  2781.089\n",
              "3     2309.7980    90.4314  4529.165\n",
              "4     1073.1224 -1146.2402  3292.485\n",
              "5      907.9457 -1310.4990  3126.390\n",
              "6      640.5774 -1578.4082  2859.563\n",
              "7     1032.2778 -1185.9322  3250.488\n",
              "8     3155.8205   937.8440  5373.797\n",
              "9     1643.9325  -573.7596  3861.625\n",
              "10    3033.6261   815.7796  5251.473\n",
              "11     848.6830 -1369.2268  3066.593\n",
              "12    2369.8489   151.4884  4588.209\n",
              "13    2413.9317   196.4710  4631.392\n",
              "14    2019.2973  -198.3328  4236.927\n",
              "15    3173.1626   955.3336  5390.992\n",
              "16    1050.2787 -1176.5405  3277.098\n",
              "17    1581.8933  -636.9870  3800.774\n",
              "18     988.1011 -1238.6717  3214.874\n",
              "19    3280.7218  1058.7817  5502.662\n",
              "20    3674.2921  1455.9626  5892.622\n",
              "21    4000.1249  1781.4352  6218.815\n",
              "22    3806.9167  1588.2549  6025.579\n",
              "23    3167.7974   950.1610  5385.434\n",
              "24    -151.2148 -2370.9213  2068.492\n",
              "25    2715.9808   498.1309  4933.831\n",
              "26     771.2295 -1446.4157  2988.875\n",
              "27     828.1852 -1389.8067  3046.177\n",
              "28     711.4275 -1510.8006  2933.656\n",
              "29   -1166.2857 -3386.4335  1053.862\n",
              "30   -1087.5288 -3307.4319  1132.374\n",
              "⋮    ⋮          ⋮           ⋮       \n",
              "8494 3095.2406    877.81184 5312.669\n",
              "8495 1805.6468   -411.77911 4023.073\n",
              "8496 2637.0832    419.61474 4854.552\n",
              "8497 3228.5475    994.79094 5462.304\n",
              "8498 2506.0828    288.69735 4723.468\n",
              "8499 1687.5796   -530.36090 3905.520\n",
              "8500 1692.0794   -526.42458 3910.583\n",
              "8501 2032.5804   -185.09648 4250.257\n",
              "8502 1720.5850   -497.11549 3938.286\n",
              "8503 3434.9244   1217.43229 5652.416\n",
              "8504 2043.8148   -173.93155 4261.561\n",
              "8505 3189.2027    971.03760 5407.368\n",
              "8506 3084.0399    866.02661 5302.053\n",
              "8507 3841.9884   1622.03566 6061.941\n",
              "8508 1748.9562   -469.22159 3967.134\n",
              "8509 3288.2305   1071.04282 5505.418\n",
              "8510 1467.6146   -751.90161 3687.131\n",
              "8511 3775.1863   1557.49135 5992.881\n",
              "8512 3850.4932   1631.70888 6069.278\n",
              "8513 2827.9931    609.28349 5046.703\n",
              "8514 1748.8705   -470.31081 3968.052\n",
              "8515 1071.9486  -1146.18799 3290.085\n",
              "8516 2241.9683     22.90634 4461.030\n",
              "8517  650.8158  -1572.94427 2874.576\n",
              "8518 2911.6484    693.43917 5129.858\n",
              "8519 3421.3834   1203.28228 5639.485\n",
              "8520 1836.9566   -381.00989 4054.923\n",
              "8521 1461.4803   -757.09286 3680.053\n",
              "8522 1393.7145   -824.68121 3612.110\n",
              "8523 1274.8446   -944.14156 3493.831"
            ],
            "text/latex": "A matrix: 8523 × 3 of type dbl\n\\begin{tabular}{r|lll}\n  & fit & lwr & upr\\\\\n\\hline\n\t1 &  3954.3860 &  1735.7686 & 6173.003\\\\\n\t2 &   560.9145 & -1659.2602 & 2781.089\\\\\n\t3 &  2309.7980 &    90.4314 & 4529.165\\\\\n\t4 &  1073.1224 & -1146.2402 & 3292.485\\\\\n\t5 &   907.9457 & -1310.4990 & 3126.390\\\\\n\t6 &   640.5774 & -1578.4082 & 2859.563\\\\\n\t7 &  1032.2778 & -1185.9322 & 3250.488\\\\\n\t8 &  3155.8205 &   937.8440 & 5373.797\\\\\n\t9 &  1643.9325 &  -573.7596 & 3861.625\\\\\n\t10 &  3033.6261 &   815.7796 & 5251.473\\\\\n\t11 &   848.6830 & -1369.2268 & 3066.593\\\\\n\t12 &  2369.8489 &   151.4884 & 4588.209\\\\\n\t13 &  2413.9317 &   196.4710 & 4631.392\\\\\n\t14 &  2019.2973 &  -198.3328 & 4236.927\\\\\n\t15 &  3173.1626 &   955.3336 & 5390.992\\\\\n\t16 &  1050.2787 & -1176.5405 & 3277.098\\\\\n\t17 &  1581.8933 &  -636.9870 & 3800.774\\\\\n\t18 &   988.1011 & -1238.6717 & 3214.874\\\\\n\t19 &  3280.7218 &  1058.7817 & 5502.662\\\\\n\t20 &  3674.2921 &  1455.9626 & 5892.622\\\\\n\t21 &  4000.1249 &  1781.4352 & 6218.815\\\\\n\t22 &  3806.9167 &  1588.2549 & 6025.579\\\\\n\t23 &  3167.7974 &   950.1610 & 5385.434\\\\\n\t24 &  -151.2148 & -2370.9213 & 2068.492\\\\\n\t25 &  2715.9808 &   498.1309 & 4933.831\\\\\n\t26 &   771.2295 & -1446.4157 & 2988.875\\\\\n\t27 &   828.1852 & -1389.8067 & 3046.177\\\\\n\t28 &   711.4275 & -1510.8006 & 2933.656\\\\\n\t29 & -1166.2857 & -3386.4335 & 1053.862\\\\\n\t30 & -1087.5288 & -3307.4319 & 1132.374\\\\\n\t⋮ & ⋮ & ⋮ & ⋮\\\\\n\t8494 & 3095.2406 &   877.81184 & 5312.669\\\\\n\t8495 & 1805.6468 &  -411.77911 & 4023.073\\\\\n\t8496 & 2637.0832 &   419.61474 & 4854.552\\\\\n\t8497 & 3228.5475 &   994.79094 & 5462.304\\\\\n\t8498 & 2506.0828 &   288.69735 & 4723.468\\\\\n\t8499 & 1687.5796 &  -530.36090 & 3905.520\\\\\n\t8500 & 1692.0794 &  -526.42458 & 3910.583\\\\\n\t8501 & 2032.5804 &  -185.09648 & 4250.257\\\\\n\t8502 & 1720.5850 &  -497.11549 & 3938.286\\\\\n\t8503 & 3434.9244 &  1217.43229 & 5652.416\\\\\n\t8504 & 2043.8148 &  -173.93155 & 4261.561\\\\\n\t8505 & 3189.2027 &   971.03760 & 5407.368\\\\\n\t8506 & 3084.0399 &   866.02661 & 5302.053\\\\\n\t8507 & 3841.9884 &  1622.03566 & 6061.941\\\\\n\t8508 & 1748.9562 &  -469.22159 & 3967.134\\\\\n\t8509 & 3288.2305 &  1071.04282 & 5505.418\\\\\n\t8510 & 1467.6146 &  -751.90161 & 3687.131\\\\\n\t8511 & 3775.1863 &  1557.49135 & 5992.881\\\\\n\t8512 & 3850.4932 &  1631.70888 & 6069.278\\\\\n\t8513 & 2827.9931 &   609.28349 & 5046.703\\\\\n\t8514 & 1748.8705 &  -470.31081 & 3968.052\\\\\n\t8515 & 1071.9486 & -1146.18799 & 3290.085\\\\\n\t8516 & 2241.9683 &    22.90634 & 4461.030\\\\\n\t8517 &  650.8158 & -1572.94427 & 2874.576\\\\\n\t8518 & 2911.6484 &   693.43917 & 5129.858\\\\\n\t8519 & 3421.3834 &  1203.28228 & 5639.485\\\\\n\t8520 & 1836.9566 &  -381.00989 & 4054.923\\\\\n\t8521 & 1461.4803 &  -757.09286 & 3680.053\\\\\n\t8522 & 1393.7145 &  -824.68121 & 3612.110\\\\\n\t8523 & 1274.8446 &  -944.14156 & 3493.831\\\\\n\\end{tabular}\n",
            "text/markdown": "\nA matrix: 8523 × 3 of type dbl\n\n| <!--/--> | fit | lwr | upr |\n|---|---|---|---|\n| 1 |  3954.3860 |  1735.7686 | 6173.003 |\n| 2 |   560.9145 | -1659.2602 | 2781.089 |\n| 3 |  2309.7980 |    90.4314 | 4529.165 |\n| 4 |  1073.1224 | -1146.2402 | 3292.485 |\n| 5 |   907.9457 | -1310.4990 | 3126.390 |\n| 6 |   640.5774 | -1578.4082 | 2859.563 |\n| 7 |  1032.2778 | -1185.9322 | 3250.488 |\n| 8 |  3155.8205 |   937.8440 | 5373.797 |\n| 9 |  1643.9325 |  -573.7596 | 3861.625 |\n| 10 |  3033.6261 |   815.7796 | 5251.473 |\n| 11 |   848.6830 | -1369.2268 | 3066.593 |\n| 12 |  2369.8489 |   151.4884 | 4588.209 |\n| 13 |  2413.9317 |   196.4710 | 4631.392 |\n| 14 |  2019.2973 |  -198.3328 | 4236.927 |\n| 15 |  3173.1626 |   955.3336 | 5390.992 |\n| 16 |  1050.2787 | -1176.5405 | 3277.098 |\n| 17 |  1581.8933 |  -636.9870 | 3800.774 |\n| 18 |   988.1011 | -1238.6717 | 3214.874 |\n| 19 |  3280.7218 |  1058.7817 | 5502.662 |\n| 20 |  3674.2921 |  1455.9626 | 5892.622 |\n| 21 |  4000.1249 |  1781.4352 | 6218.815 |\n| 22 |  3806.9167 |  1588.2549 | 6025.579 |\n| 23 |  3167.7974 |   950.1610 | 5385.434 |\n| 24 |  -151.2148 | -2370.9213 | 2068.492 |\n| 25 |  2715.9808 |   498.1309 | 4933.831 |\n| 26 |   771.2295 | -1446.4157 | 2988.875 |\n| 27 |   828.1852 | -1389.8067 | 3046.177 |\n| 28 |   711.4275 | -1510.8006 | 2933.656 |\n| 29 | -1166.2857 | -3386.4335 | 1053.862 |\n| 30 | -1087.5288 | -3307.4319 | 1132.374 |\n| ⋮ | ⋮ | ⋮ | ⋮ |\n| 8494 | 3095.2406 |   877.81184 | 5312.669 |\n| 8495 | 1805.6468 |  -411.77911 | 4023.073 |\n| 8496 | 2637.0832 |   419.61474 | 4854.552 |\n| 8497 | 3228.5475 |   994.79094 | 5462.304 |\n| 8498 | 2506.0828 |   288.69735 | 4723.468 |\n| 8499 | 1687.5796 |  -530.36090 | 3905.520 |\n| 8500 | 1692.0794 |  -526.42458 | 3910.583 |\n| 8501 | 2032.5804 |  -185.09648 | 4250.257 |\n| 8502 | 1720.5850 |  -497.11549 | 3938.286 |\n| 8503 | 3434.9244 |  1217.43229 | 5652.416 |\n| 8504 | 2043.8148 |  -173.93155 | 4261.561 |\n| 8505 | 3189.2027 |   971.03760 | 5407.368 |\n| 8506 | 3084.0399 |   866.02661 | 5302.053 |\n| 8507 | 3841.9884 |  1622.03566 | 6061.941 |\n| 8508 | 1748.9562 |  -469.22159 | 3967.134 |\n| 8509 | 3288.2305 |  1071.04282 | 5505.418 |\n| 8510 | 1467.6146 |  -751.90161 | 3687.131 |\n| 8511 | 3775.1863 |  1557.49135 | 5992.881 |\n| 8512 | 3850.4932 |  1631.70888 | 6069.278 |\n| 8513 | 2827.9931 |   609.28349 | 5046.703 |\n| 8514 | 1748.8705 |  -470.31081 | 3968.052 |\n| 8515 | 1071.9486 | -1146.18799 | 3290.085 |\n| 8516 | 2241.9683 |    22.90634 | 4461.030 |\n| 8517 |  650.8158 | -1572.94427 | 2874.576 |\n| 8518 | 2911.6484 |   693.43917 | 5129.858 |\n| 8519 | 3421.3834 |  1203.28228 | 5639.485 |\n| 8520 | 1836.9566 |  -381.00989 | 4054.923 |\n| 8521 | 1461.4803 |  -757.09286 | 3680.053 |\n| 8522 | 1393.7145 |  -824.68121 | 3612.110 |\n| 8523 | 1274.8446 |  -944.14156 | 3493.831 |\n\n",
            "text/html": [
              "<table class=\"dataframe\">\n",
              "<caption>A matrix: 8523 × 3 of type dbl</caption>\n",
              "<thead>\n",
              "\t<tr><th></th><th scope=col>fit</th><th scope=col>lwr</th><th scope=col>upr</th></tr>\n",
              "</thead>\n",
              "<tbody>\n",
              "\t<tr><th scope=row>1</th><td> 3954.3860</td><td> 1735.7686</td><td>6173.003</td></tr>\n",
              "\t<tr><th scope=row>2</th><td>  560.9145</td><td>-1659.2602</td><td>2781.089</td></tr>\n",
              "\t<tr><th scope=row>3</th><td> 2309.7980</td><td>   90.4314</td><td>4529.165</td></tr>\n",
              "\t<tr><th scope=row>4</th><td> 1073.1224</td><td>-1146.2402</td><td>3292.485</td></tr>\n",
              "\t<tr><th scope=row>5</th><td>  907.9457</td><td>-1310.4990</td><td>3126.390</td></tr>\n",
              "\t<tr><th scope=row>6</th><td>  640.5774</td><td>-1578.4082</td><td>2859.563</td></tr>\n",
              "\t<tr><th scope=row>7</th><td> 1032.2778</td><td>-1185.9322</td><td>3250.488</td></tr>\n",
              "\t<tr><th scope=row>8</th><td> 3155.8205</td><td>  937.8440</td><td>5373.797</td></tr>\n",
              "\t<tr><th scope=row>9</th><td> 1643.9325</td><td> -573.7596</td><td>3861.625</td></tr>\n",
              "\t<tr><th scope=row>10</th><td> 3033.6261</td><td>  815.7796</td><td>5251.473</td></tr>\n",
              "\t<tr><th scope=row>11</th><td>  848.6830</td><td>-1369.2268</td><td>3066.593</td></tr>\n",
              "\t<tr><th scope=row>12</th><td> 2369.8489</td><td>  151.4884</td><td>4588.209</td></tr>\n",
              "\t<tr><th scope=row>13</th><td> 2413.9317</td><td>  196.4710</td><td>4631.392</td></tr>\n",
              "\t<tr><th scope=row>14</th><td> 2019.2973</td><td> -198.3328</td><td>4236.927</td></tr>\n",
              "\t<tr><th scope=row>15</th><td> 3173.1626</td><td>  955.3336</td><td>5390.992</td></tr>\n",
              "\t<tr><th scope=row>16</th><td> 1050.2787</td><td>-1176.5405</td><td>3277.098</td></tr>\n",
              "\t<tr><th scope=row>17</th><td> 1581.8933</td><td> -636.9870</td><td>3800.774</td></tr>\n",
              "\t<tr><th scope=row>18</th><td>  988.1011</td><td>-1238.6717</td><td>3214.874</td></tr>\n",
              "\t<tr><th scope=row>19</th><td> 3280.7218</td><td> 1058.7817</td><td>5502.662</td></tr>\n",
              "\t<tr><th scope=row>20</th><td> 3674.2921</td><td> 1455.9626</td><td>5892.622</td></tr>\n",
              "\t<tr><th scope=row>21</th><td> 4000.1249</td><td> 1781.4352</td><td>6218.815</td></tr>\n",
              "\t<tr><th scope=row>22</th><td> 3806.9167</td><td> 1588.2549</td><td>6025.579</td></tr>\n",
              "\t<tr><th scope=row>23</th><td> 3167.7974</td><td>  950.1610</td><td>5385.434</td></tr>\n",
              "\t<tr><th scope=row>24</th><td> -151.2148</td><td>-2370.9213</td><td>2068.492</td></tr>\n",
              "\t<tr><th scope=row>25</th><td> 2715.9808</td><td>  498.1309</td><td>4933.831</td></tr>\n",
              "\t<tr><th scope=row>26</th><td>  771.2295</td><td>-1446.4157</td><td>2988.875</td></tr>\n",
              "\t<tr><th scope=row>27</th><td>  828.1852</td><td>-1389.8067</td><td>3046.177</td></tr>\n",
              "\t<tr><th scope=row>28</th><td>  711.4275</td><td>-1510.8006</td><td>2933.656</td></tr>\n",
              "\t<tr><th scope=row>29</th><td>-1166.2857</td><td>-3386.4335</td><td>1053.862</td></tr>\n",
              "\t<tr><th scope=row>30</th><td>-1087.5288</td><td>-3307.4319</td><td>1132.374</td></tr>\n",
              "\t<tr><th scope=row>⋮</th><td>⋮</td><td>⋮</td><td>⋮</td></tr>\n",
              "\t<tr><th scope=row>8494</th><td>3095.2406</td><td>  877.81184</td><td>5312.669</td></tr>\n",
              "\t<tr><th scope=row>8495</th><td>1805.6468</td><td> -411.77911</td><td>4023.073</td></tr>\n",
              "\t<tr><th scope=row>8496</th><td>2637.0832</td><td>  419.61474</td><td>4854.552</td></tr>\n",
              "\t<tr><th scope=row>8497</th><td>3228.5475</td><td>  994.79094</td><td>5462.304</td></tr>\n",
              "\t<tr><th scope=row>8498</th><td>2506.0828</td><td>  288.69735</td><td>4723.468</td></tr>\n",
              "\t<tr><th scope=row>8499</th><td>1687.5796</td><td> -530.36090</td><td>3905.520</td></tr>\n",
              "\t<tr><th scope=row>8500</th><td>1692.0794</td><td> -526.42458</td><td>3910.583</td></tr>\n",
              "\t<tr><th scope=row>8501</th><td>2032.5804</td><td> -185.09648</td><td>4250.257</td></tr>\n",
              "\t<tr><th scope=row>8502</th><td>1720.5850</td><td> -497.11549</td><td>3938.286</td></tr>\n",
              "\t<tr><th scope=row>8503</th><td>3434.9244</td><td> 1217.43229</td><td>5652.416</td></tr>\n",
              "\t<tr><th scope=row>8504</th><td>2043.8148</td><td> -173.93155</td><td>4261.561</td></tr>\n",
              "\t<tr><th scope=row>8505</th><td>3189.2027</td><td>  971.03760</td><td>5407.368</td></tr>\n",
              "\t<tr><th scope=row>8506</th><td>3084.0399</td><td>  866.02661</td><td>5302.053</td></tr>\n",
              "\t<tr><th scope=row>8507</th><td>3841.9884</td><td> 1622.03566</td><td>6061.941</td></tr>\n",
              "\t<tr><th scope=row>8508</th><td>1748.9562</td><td> -469.22159</td><td>3967.134</td></tr>\n",
              "\t<tr><th scope=row>8509</th><td>3288.2305</td><td> 1071.04282</td><td>5505.418</td></tr>\n",
              "\t<tr><th scope=row>8510</th><td>1467.6146</td><td> -751.90161</td><td>3687.131</td></tr>\n",
              "\t<tr><th scope=row>8511</th><td>3775.1863</td><td> 1557.49135</td><td>5992.881</td></tr>\n",
              "\t<tr><th scope=row>8512</th><td>3850.4932</td><td> 1631.70888</td><td>6069.278</td></tr>\n",
              "\t<tr><th scope=row>8513</th><td>2827.9931</td><td>  609.28349</td><td>5046.703</td></tr>\n",
              "\t<tr><th scope=row>8514</th><td>1748.8705</td><td> -470.31081</td><td>3968.052</td></tr>\n",
              "\t<tr><th scope=row>8515</th><td>1071.9486</td><td>-1146.18799</td><td>3290.085</td></tr>\n",
              "\t<tr><th scope=row>8516</th><td>2241.9683</td><td>   22.90634</td><td>4461.030</td></tr>\n",
              "\t<tr><th scope=row>8517</th><td> 650.8158</td><td>-1572.94427</td><td>2874.576</td></tr>\n",
              "\t<tr><th scope=row>8518</th><td>2911.6484</td><td>  693.43917</td><td>5129.858</td></tr>\n",
              "\t<tr><th scope=row>8519</th><td>3421.3834</td><td> 1203.28228</td><td>5639.485</td></tr>\n",
              "\t<tr><th scope=row>8520</th><td>1836.9566</td><td> -381.00989</td><td>4054.923</td></tr>\n",
              "\t<tr><th scope=row>8521</th><td>1461.4803</td><td> -757.09286</td><td>3680.053</td></tr>\n",
              "\t<tr><th scope=row>8522</th><td>1393.7145</td><td> -824.68121</td><td>3612.110</td></tr>\n",
              "\t<tr><th scope=row>8523</th><td>1274.8446</td><td> -944.14156</td><td>3493.831</td></tr>\n",
              "</tbody>\n",
              "</table>\n"
            ]
          },
          "metadata": {}
        }
      ]
    },
    {
      "cell_type": "code",
      "metadata": {
        "colab": {
          "base_uri": "https://localhost:8080/",
          "height": 437
        },
        "id": "VcGDw59iCucD",
        "outputId": "93d93c41-95e9-4a78-a05c-79b4646653f0"
      },
      "source": [
        "par(mfrow = c(2, 2))\n",
        "plot(model)"
      ],
      "execution_count": 159,
      "outputs": [
        {
          "output_type": "display_data",
          "data": {
            "image/png": "[encoded data removed]",
            "text/plain": [
              "Plot with title “”"
            ]
          },
          "metadata": {
            "image/png": {
              "width": 420,
              "height": 420
            }
          }
        }
      ]
    }
  ]
}