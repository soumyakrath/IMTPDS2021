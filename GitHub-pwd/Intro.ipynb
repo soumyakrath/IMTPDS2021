{
  "nbformat": 4,
  "nbformat_minor": 0,
  "metadata": {
    "colab": {
      "name": "Intro.ipynb",
      "provenance": [],
      "collapsed_sections": []
    },
    "kernelspec": {
      "name": "ir",
      "display_name": "R"
    },
    "language_info": {
      "name": "R"
    },
    "accelerator": "TPU"
  },
  "cells": [
    {
      "cell_type": "code",
      "metadata": {
        "id": "PaEi7tJEpBIP"
      },
      "source": [
        ""
      ],
      "execution_count": null,
      "outputs": []
    },
    {
      "cell_type": "code",
      "metadata": {
        "colab": {
          "base_uri": "https://localhost:8080/"
        },
        "id": "XoVDun48FP_q",
        "outputId": "61e442d3-798d-4444-b7cf-ace9c3ec2241"
      },
      "source": [
        "library(tidyverse)"
      ],
      "execution_count": 13,
      "outputs": [
        {
          "output_type": "stream",
          "name": "stderr",
          "text": [
            "Warning message in system(\"timedatectl\", intern = TRUE):\n",
            "“running command 'timedatectl' had status 1”\n",
            "── \u001b[1mAttaching packages\u001b[22m ─────────────────────────────────────── tidyverse 1.3.1 ──\n",
            "\n",
            "\u001b[32m✔\u001b[39m \u001b[34mggplot2\u001b[39m 3.3.5     \u001b[32m✔\u001b[39m \u001b[34mpurrr  \u001b[39m 0.3.4\n",
            "\u001b[32m✔\u001b[39m \u001b[34mtibble \u001b[39m 3.1.3     \u001b[32m✔\u001b[39m \u001b[34mdplyr  \u001b[39m 1.0.7\n",
            "\u001b[32m✔\u001b[39m \u001b[34mtidyr  \u001b[39m 1.1.3     \u001b[32m✔\u001b[39m \u001b[34mstringr\u001b[39m 1.4.0\n",
            "\u001b[32m✔\u001b[39m \u001b[34mreadr  \u001b[39m 2.0.1     \u001b[32m✔\u001b[39m \u001b[34mforcats\u001b[39m 0.5.1\n",
            "\n",
            "── \u001b[1mConflicts\u001b[22m ────────────────────────────────────────── tidyverse_conflicts() ──\n",
            "\u001b[31m✖\u001b[39m \u001b[34mdplyr\u001b[39m::\u001b[32mfilter()\u001b[39m masks \u001b[34mstats\u001b[39m::filter()\n",
            "\u001b[31m✖\u001b[39m \u001b[34mdplyr\u001b[39m::\u001b[32mlag()\u001b[39m    masks \u001b[34mstats\u001b[39m::lag()\n",
            "\n"
          ]
        }
      ]
    },
    {
      "cell_type": "markdown",
      "metadata": {
        "id": "9lhg_XIik3__"
      },
      "source": [
        "**Turn off warning messages**"
      ]
    },
    {
      "cell_type": "code",
      "metadata": {
        "id": "7z4bNaAwk9pU"
      },
      "source": [
        "options(warn=-1)"
      ],
      "execution_count": 40,
      "outputs": []
    },
    {
      "cell_type": "code",
      "metadata": {
        "id": "pHbyrNSlFdTm"
      },
      "source": [
        "library(tidyverse)"
      ],
      "execution_count": 2,
      "outputs": []
    },
    {
      "cell_type": "code",
      "metadata": {
        "colab": {
          "base_uri": "https://localhost:8080/",
          "height": 1000
        },
        "id": "f6wZASYvGLbT",
        "outputId": "e19f5cd6-6adc-449c-818b-b4dc57fb6602"
      },
      "source": [
        "mpg"
      ],
      "execution_count": 3,
      "outputs": [
        {
          "output_type": "display_data",
          "data": {
            "text/plain": [
              "    manufacturer model              displ year cyl trans      drv cty hwy fl\n",
              "1   audi         a4                 1.8   1999 4   auto(l5)   f   18  29  p \n",
              "2   audi         a4                 1.8   1999 4   manual(m5) f   21  29  p \n",
              "3   audi         a4                 2.0   2008 4   manual(m6) f   20  31  p \n",
              "4   audi         a4                 2.0   2008 4   auto(av)   f   21  30  p \n",
              "5   audi         a4                 2.8   1999 6   auto(l5)   f   16  26  p \n",
              "6   audi         a4                 2.8   1999 6   manual(m5) f   18  26  p \n",
              "7   audi         a4                 3.1   2008 6   auto(av)   f   18  27  p \n",
              "8   audi         a4 quattro         1.8   1999 4   manual(m5) 4   18  26  p \n",
              "9   audi         a4 quattro         1.8   1999 4   auto(l5)   4   16  25  p \n",
              "10  audi         a4 quattro         2.0   2008 4   manual(m6) 4   20  28  p \n",
              "11  audi         a4 quattro         2.0   2008 4   auto(s6)   4   19  27  p \n",
              "12  audi         a4 quattro         2.8   1999 6   auto(l5)   4   15  25  p \n",
              "13  audi         a4 quattro         2.8   1999 6   manual(m5) 4   17  25  p \n",
              "14  audi         a4 quattro         3.1   2008 6   auto(s6)   4   17  25  p \n",
              "15  audi         a4 quattro         3.1   2008 6   manual(m6) 4   15  25  p \n",
              "16  audi         a6 quattro         2.8   1999 6   auto(l5)   4   15  24  p \n",
              "17  audi         a6 quattro         3.1   2008 6   auto(s6)   4   17  25  p \n",
              "18  audi         a6 quattro         4.2   2008 8   auto(s6)   4   16  23  p \n",
              "19  chevrolet    c1500 suburban 2wd 5.3   2008 8   auto(l4)   r   14  20  r \n",
              "20  chevrolet    c1500 suburban 2wd 5.3   2008 8   auto(l4)   r   11  15  e \n",
              "21  chevrolet    c1500 suburban 2wd 5.3   2008 8   auto(l4)   r   14  20  r \n",
              "22  chevrolet    c1500 suburban 2wd 5.7   1999 8   auto(l4)   r   13  17  r \n",
              "23  chevrolet    c1500 suburban 2wd 6.0   2008 8   auto(l4)   r   12  17  r \n",
              "24  chevrolet    corvette           5.7   1999 8   manual(m6) r   16  26  p \n",
              "25  chevrolet    corvette           5.7   1999 8   auto(l4)   r   15  23  p \n",
              "26  chevrolet    corvette           6.2   2008 8   manual(m6) r   16  26  p \n",
              "27  chevrolet    corvette           6.2   2008 8   auto(s6)   r   15  25  p \n",
              "28  chevrolet    corvette           7.0   2008 8   manual(m6) r   15  24  p \n",
              "29  chevrolet    k1500 tahoe 4wd    5.3   2008 8   auto(l4)   4   14  19  r \n",
              "30  chevrolet    k1500 tahoe 4wd    5.3   2008 8   auto(l4)   4   11  14  e \n",
              "⋮   ⋮            ⋮                  ⋮     ⋮    ⋮   ⋮          ⋮   ⋮   ⋮   ⋮ \n",
              "205 toyota       toyota tacoma 4wd  3.4   1999 6   auto(l4)   4   15  19  r \n",
              "206 toyota       toyota tacoma 4wd  4.0   2008 6   manual(m6) 4   15  18  r \n",
              "207 toyota       toyota tacoma 4wd  4.0   2008 6   auto(l5)   4   16  20  r \n",
              "208 volkswagen   gti                2.0   1999 4   manual(m5) f   21  29  r \n",
              "209 volkswagen   gti                2.0   1999 4   auto(l4)   f   19  26  r \n",
              "210 volkswagen   gti                2.0   2008 4   manual(m6) f   21  29  p \n",
              "211 volkswagen   gti                2.0   2008 4   auto(s6)   f   22  29  p \n",
              "212 volkswagen   gti                2.8   1999 6   manual(m5) f   17  24  r \n",
              "213 volkswagen   jetta              1.9   1999 4   manual(m5) f   33  44  d \n",
              "214 volkswagen   jetta              2.0   1999 4   manual(m5) f   21  29  r \n",
              "215 volkswagen   jetta              2.0   1999 4   auto(l4)   f   19  26  r \n",
              "216 volkswagen   jetta              2.0   2008 4   auto(s6)   f   22  29  p \n",
              "217 volkswagen   jetta              2.0   2008 4   manual(m6) f   21  29  p \n",
              "218 volkswagen   jetta              2.5   2008 5   auto(s6)   f   21  29  r \n",
              "219 volkswagen   jetta              2.5   2008 5   manual(m5) f   21  29  r \n",
              "220 volkswagen   jetta              2.8   1999 6   auto(l4)   f   16  23  r \n",
              "221 volkswagen   jetta              2.8   1999 6   manual(m5) f   17  24  r \n",
              "222 volkswagen   new beetle         1.9   1999 4   manual(m5) f   35  44  d \n",
              "223 volkswagen   new beetle         1.9   1999 4   auto(l4)   f   29  41  d \n",
              "224 volkswagen   new beetle         2.0   1999 4   manual(m5) f   21  29  r \n",
              "225 volkswagen   new beetle         2.0   1999 4   auto(l4)   f   19  26  r \n",
              "226 volkswagen   new beetle         2.5   2008 5   manual(m5) f   20  28  r \n",
              "227 volkswagen   new beetle         2.5   2008 5   auto(s6)   f   20  29  r \n",
              "228 volkswagen   passat             1.8   1999 4   manual(m5) f   21  29  p \n",
              "229 volkswagen   passat             1.8   1999 4   auto(l5)   f   18  29  p \n",
              "230 volkswagen   passat             2.0   2008 4   auto(s6)   f   19  28  p \n",
              "231 volkswagen   passat             2.0   2008 4   manual(m6) f   21  29  p \n",
              "232 volkswagen   passat             2.8   1999 6   auto(l5)   f   16  26  p \n",
              "233 volkswagen   passat             2.8   1999 6   manual(m5) f   18  26  p \n",
              "234 volkswagen   passat             3.6   2008 6   auto(s6)   f   17  26  p \n",
              "    class     \n",
              "1   compact   \n",
              "2   compact   \n",
              "3   compact   \n",
              "4   compact   \n",
              "5   compact   \n",
              "6   compact   \n",
              "7   compact   \n",
              "8   compact   \n",
              "9   compact   \n",
              "10  compact   \n",
              "11  compact   \n",
              "12  compact   \n",
              "13  compact   \n",
              "14  compact   \n",
              "15  compact   \n",
              "16  midsize   \n",
              "17  midsize   \n",
              "18  midsize   \n",
              "19  suv       \n",
              "20  suv       \n",
              "21  suv       \n",
              "22  suv       \n",
              "23  suv       \n",
              "24  2seater   \n",
              "25  2seater   \n",
              "26  2seater   \n",
              "27  2seater   \n",
              "28  2seater   \n",
              "29  suv       \n",
              "30  suv       \n",
              "⋮   ⋮         \n",
              "205 pickup    \n",
              "206 pickup    \n",
              "207 pickup    \n",
              "208 compact   \n",
              "209 compact   \n",
              "210 compact   \n",
              "211 compact   \n",
              "212 compact   \n",
              "213 compact   \n",
              "214 compact   \n",
              "215 compact   \n",
              "216 compact   \n",
              "217 compact   \n",
              "218 compact   \n",
              "219 compact   \n",
              "220 compact   \n",
              "221 compact   \n",
              "222 subcompact\n",
              "223 subcompact\n",
              "224 subcompact\n",
              "225 subcompact\n",
              "226 subcompact\n",
              "227 subcompact\n",
              "228 midsize   \n",
              "229 midsize   \n",
              "230 midsize   \n",
              "231 midsize   \n",
              "232 midsize   \n",
              "233 midsize   \n",
              "234 midsize   "
            ],
            "text/latex": "A tibble: 234 × 11\n\\begin{tabular}{lllllllllll}\n manufacturer & model & displ & year & cyl & trans & drv & cty & hwy & fl & class\\\\\n <chr> & <chr> & <dbl> & <int> & <int> & <chr> & <chr> & <int> & <int> & <chr> & <chr>\\\\\n\\hline\n\t audi      & a4                 & 1.8 & 1999 & 4 & auto(l5)   & f & 18 & 29 & p & compact\\\\\n\t audi      & a4                 & 1.8 & 1999 & 4 & manual(m5) & f & 21 & 29 & p & compact\\\\\n\t audi      & a4                 & 2.0 & 2008 & 4 & manual(m6) & f & 20 & 31 & p & compact\\\\\n\t audi      & a4                 & 2.0 & 2008 & 4 & auto(av)   & f & 21 & 30 & p & compact\\\\\n\t audi      & a4                 & 2.8 & 1999 & 6 & auto(l5)   & f & 16 & 26 & p & compact\\\\\n\t audi      & a4                 & 2.8 & 1999 & 6 & manual(m5) & f & 18 & 26 & p & compact\\\\\n\t audi      & a4                 & 3.1 & 2008 & 6 & auto(av)   & f & 18 & 27 & p & compact\\\\\n\t audi      & a4 quattro         & 1.8 & 1999 & 4 & manual(m5) & 4 & 18 & 26 & p & compact\\\\\n\t audi      & a4 quattro         & 1.8 & 1999 & 4 & auto(l5)   & 4 & 16 & 25 & p & compact\\\\\n\t audi      & a4 quattro         & 2.0 & 2008 & 4 & manual(m6) & 4 & 20 & 28 & p & compact\\\\\n\t audi      & a4 quattro         & 2.0 & 2008 & 4 & auto(s6)   & 4 & 19 & 27 & p & compact\\\\\n\t audi      & a4 quattro         & 2.8 & 1999 & 6 & auto(l5)   & 4 & 15 & 25 & p & compact\\\\\n\t audi      & a4 quattro         & 2.8 & 1999 & 6 & manual(m5) & 4 & 17 & 25 & p & compact\\\\\n\t audi      & a4 quattro         & 3.1 & 2008 & 6 & auto(s6)   & 4 & 17 & 25 & p & compact\\\\\n\t audi      & a4 quattro         & 3.1 & 2008 & 6 & manual(m6) & 4 & 15 & 25 & p & compact\\\\\n\t audi      & a6 quattro         & 2.8 & 1999 & 6 & auto(l5)   & 4 & 15 & 24 & p & midsize\\\\\n\t audi      & a6 quattro         & 3.1 & 2008 & 6 & auto(s6)   & 4 & 17 & 25 & p & midsize\\\\\n\t audi      & a6 quattro         & 4.2 & 2008 & 8 & auto(s6)   & 4 & 16 & 23 & p & midsize\\\\\n\t chevrolet & c1500 suburban 2wd & 5.3 & 2008 & 8 & auto(l4)   & r & 14 & 20 & r & suv    \\\\\n\t chevrolet & c1500 suburban 2wd & 5.3 & 2008 & 8 & auto(l4)   & r & 11 & 15 & e & suv    \\\\\n\t chevrolet & c1500 suburban 2wd & 5.3 & 2008 & 8 & auto(l4)   & r & 14 & 20 & r & suv    \\\\\n\t chevrolet & c1500 suburban 2wd & 5.7 & 1999 & 8 & auto(l4)   & r & 13 & 17 & r & suv    \\\\\n\t chevrolet & c1500 suburban 2wd & 6.0 & 2008 & 8 & auto(l4)   & r & 12 & 17 & r & suv    \\\\\n\t chevrolet & corvette           & 5.7 & 1999 & 8 & manual(m6) & r & 16 & 26 & p & 2seater\\\\\n\t chevrolet & corvette           & 5.7 & 1999 & 8 & auto(l4)   & r & 15 & 23 & p & 2seater\\\\\n\t chevrolet & corvette           & 6.2 & 2008 & 8 & manual(m6) & r & 16 & 26 & p & 2seater\\\\\n\t chevrolet & corvette           & 6.2 & 2008 & 8 & auto(s6)   & r & 15 & 25 & p & 2seater\\\\\n\t chevrolet & corvette           & 7.0 & 2008 & 8 & manual(m6) & r & 15 & 24 & p & 2seater\\\\\n\t chevrolet & k1500 tahoe 4wd    & 5.3 & 2008 & 8 & auto(l4)   & 4 & 14 & 19 & r & suv    \\\\\n\t chevrolet & k1500 tahoe 4wd    & 5.3 & 2008 & 8 & auto(l4)   & 4 & 11 & 14 & e & suv    \\\\\n\t ⋮ & ⋮ & ⋮ & ⋮ & ⋮ & ⋮ & ⋮ & ⋮ & ⋮ & ⋮ & ⋮\\\\\n\t toyota     & toyota tacoma 4wd & 3.4 & 1999 & 6 & auto(l4)   & 4 & 15 & 19 & r & pickup    \\\\\n\t toyota     & toyota tacoma 4wd & 4.0 & 2008 & 6 & manual(m6) & 4 & 15 & 18 & r & pickup    \\\\\n\t toyota     & toyota tacoma 4wd & 4.0 & 2008 & 6 & auto(l5)   & 4 & 16 & 20 & r & pickup    \\\\\n\t volkswagen & gti               & 2.0 & 1999 & 4 & manual(m5) & f & 21 & 29 & r & compact   \\\\\n\t volkswagen & gti               & 2.0 & 1999 & 4 & auto(l4)   & f & 19 & 26 & r & compact   \\\\\n\t volkswagen & gti               & 2.0 & 2008 & 4 & manual(m6) & f & 21 & 29 & p & compact   \\\\\n\t volkswagen & gti               & 2.0 & 2008 & 4 & auto(s6)   & f & 22 & 29 & p & compact   \\\\\n\t volkswagen & gti               & 2.8 & 1999 & 6 & manual(m5) & f & 17 & 24 & r & compact   \\\\\n\t volkswagen & jetta             & 1.9 & 1999 & 4 & manual(m5) & f & 33 & 44 & d & compact   \\\\\n\t volkswagen & jetta             & 2.0 & 1999 & 4 & manual(m5) & f & 21 & 29 & r & compact   \\\\\n\t volkswagen & jetta             & 2.0 & 1999 & 4 & auto(l4)   & f & 19 & 26 & r & compact   \\\\\n\t volkswagen & jetta             & 2.0 & 2008 & 4 & auto(s6)   & f & 22 & 29 & p & compact   \\\\\n\t volkswagen & jetta             & 2.0 & 2008 & 4 & manual(m6) & f & 21 & 29 & p & compact   \\\\\n\t volkswagen & jetta             & 2.5 & 2008 & 5 & auto(s6)   & f & 21 & 29 & r & compact   \\\\\n\t volkswagen & jetta             & 2.5 & 2008 & 5 & manual(m5) & f & 21 & 29 & r & compact   \\\\\n\t volkswagen & jetta             & 2.8 & 1999 & 6 & auto(l4)   & f & 16 & 23 & r & compact   \\\\\n\t volkswagen & jetta             & 2.8 & 1999 & 6 & manual(m5) & f & 17 & 24 & r & compact   \\\\\n\t volkswagen & new beetle        & 1.9 & 1999 & 4 & manual(m5) & f & 35 & 44 & d & subcompact\\\\\n\t volkswagen & new beetle        & 1.9 & 1999 & 4 & auto(l4)   & f & 29 & 41 & d & subcompact\\\\\n\t volkswagen & new beetle        & 2.0 & 1999 & 4 & manual(m5) & f & 21 & 29 & r & subcompact\\\\\n\t volkswagen & new beetle        & 2.0 & 1999 & 4 & auto(l4)   & f & 19 & 26 & r & subcompact\\\\\n\t volkswagen & new beetle        & 2.5 & 2008 & 5 & manual(m5) & f & 20 & 28 & r & subcompact\\\\\n\t volkswagen & new beetle        & 2.5 & 2008 & 5 & auto(s6)   & f & 20 & 29 & r & subcompact\\\\\n\t volkswagen & passat            & 1.8 & 1999 & 4 & manual(m5) & f & 21 & 29 & p & midsize   \\\\\n\t volkswagen & passat            & 1.8 & 1999 & 4 & auto(l5)   & f & 18 & 29 & p & midsize   \\\\\n\t volkswagen & passat            & 2.0 & 2008 & 4 & auto(s6)   & f & 19 & 28 & p & midsize   \\\\\n\t volkswagen & passat            & 2.0 & 2008 & 4 & manual(m6) & f & 21 & 29 & p & midsize   \\\\\n\t volkswagen & passat            & 2.8 & 1999 & 6 & auto(l5)   & f & 16 & 26 & p & midsize   \\\\\n\t volkswagen & passat            & 2.8 & 1999 & 6 & manual(m5) & f & 18 & 26 & p & midsize   \\\\\n\t volkswagen & passat            & 3.6 & 2008 & 6 & auto(s6)   & f & 17 & 26 & p & midsize   \\\\\n\\end{tabular}\n",
            "text/markdown": "\nA tibble: 234 × 11\n\n| manufacturer &lt;chr&gt; | model &lt;chr&gt; | displ &lt;dbl&gt; | year &lt;int&gt; | cyl &lt;int&gt; | trans &lt;chr&gt; | drv &lt;chr&gt; | cty &lt;int&gt; | hwy &lt;int&gt; | fl &lt;chr&gt; | class &lt;chr&gt; |\n|---|---|---|---|---|---|---|---|---|---|---|\n| audi      | a4                 | 1.8 | 1999 | 4 | auto(l5)   | f | 18 | 29 | p | compact |\n| audi      | a4                 | 1.8 | 1999 | 4 | manual(m5) | f | 21 | 29 | p | compact |\n| audi      | a4                 | 2.0 | 2008 | 4 | manual(m6) | f | 20 | 31 | p | compact |\n| audi      | a4                 | 2.0 | 2008 | 4 | auto(av)   | f | 21 | 30 | p | compact |\n| audi      | a4                 | 2.8 | 1999 | 6 | auto(l5)   | f | 16 | 26 | p | compact |\n| audi      | a4                 | 2.8 | 1999 | 6 | manual(m5) | f | 18 | 26 | p | compact |\n| audi      | a4                 | 3.1 | 2008 | 6 | auto(av)   | f | 18 | 27 | p | compact |\n| audi      | a4 quattro         | 1.8 | 1999 | 4 | manual(m5) | 4 | 18 | 26 | p | compact |\n| audi      | a4 quattro         | 1.8 | 1999 | 4 | auto(l5)   | 4 | 16 | 25 | p | compact |\n| audi      | a4 quattro         | 2.0 | 2008 | 4 | manual(m6) | 4 | 20 | 28 | p | compact |\n| audi      | a4 quattro         | 2.0 | 2008 | 4 | auto(s6)   | 4 | 19 | 27 | p | compact |\n| audi      | a4 quattro         | 2.8 | 1999 | 6 | auto(l5)   | 4 | 15 | 25 | p | compact |\n| audi      | a4 quattro         | 2.8 | 1999 | 6 | manual(m5) | 4 | 17 | 25 | p | compact |\n| audi      | a4 quattro         | 3.1 | 2008 | 6 | auto(s6)   | 4 | 17 | 25 | p | compact |\n| audi      | a4 quattro         | 3.1 | 2008 | 6 | manual(m6) | 4 | 15 | 25 | p | compact |\n| audi      | a6 quattro         | 2.8 | 1999 | 6 | auto(l5)   | 4 | 15 | 24 | p | midsize |\n| audi      | a6 quattro         | 3.1 | 2008 | 6 | auto(s6)   | 4 | 17 | 25 | p | midsize |\n| audi      | a6 quattro         | 4.2 | 2008 | 8 | auto(s6)   | 4 | 16 | 23 | p | midsize |\n| chevrolet | c1500 suburban 2wd | 5.3 | 2008 | 8 | auto(l4)   | r | 14 | 20 | r | suv     |\n| chevrolet | c1500 suburban 2wd | 5.3 | 2008 | 8 | auto(l4)   | r | 11 | 15 | e | suv     |\n| chevrolet | c1500 suburban 2wd | 5.3 | 2008 | 8 | auto(l4)   | r | 14 | 20 | r | suv     |\n| chevrolet | c1500 suburban 2wd | 5.7 | 1999 | 8 | auto(l4)   | r | 13 | 17 | r | suv     |\n| chevrolet | c1500 suburban 2wd | 6.0 | 2008 | 8 | auto(l4)   | r | 12 | 17 | r | suv     |\n| chevrolet | corvette           | 5.7 | 1999 | 8 | manual(m6) | r | 16 | 26 | p | 2seater |\n| chevrolet | corvette           | 5.7 | 1999 | 8 | auto(l4)   | r | 15 | 23 | p | 2seater |\n| chevrolet | corvette           | 6.2 | 2008 | 8 | manual(m6) | r | 16 | 26 | p | 2seater |\n| chevrolet | corvette           | 6.2 | 2008 | 8 | auto(s6)   | r | 15 | 25 | p | 2seater |\n| chevrolet | corvette           | 7.0 | 2008 | 8 | manual(m6) | r | 15 | 24 | p | 2seater |\n| chevrolet | k1500 tahoe 4wd    | 5.3 | 2008 | 8 | auto(l4)   | 4 | 14 | 19 | r | suv     |\n| chevrolet | k1500 tahoe 4wd    | 5.3 | 2008 | 8 | auto(l4)   | 4 | 11 | 14 | e | suv     |\n| ⋮ | ⋮ | ⋮ | ⋮ | ⋮ | ⋮ | ⋮ | ⋮ | ⋮ | ⋮ | ⋮ |\n| toyota     | toyota tacoma 4wd | 3.4 | 1999 | 6 | auto(l4)   | 4 | 15 | 19 | r | pickup     |\n| toyota     | toyota tacoma 4wd | 4.0 | 2008 | 6 | manual(m6) | 4 | 15 | 18 | r | pickup     |\n| toyota     | toyota tacoma 4wd | 4.0 | 2008 | 6 | auto(l5)   | 4 | 16 | 20 | r | pickup     |\n| volkswagen | gti               | 2.0 | 1999 | 4 | manual(m5) | f | 21 | 29 | r | compact    |\n| volkswagen | gti               | 2.0 | 1999 | 4 | auto(l4)   | f | 19 | 26 | r | compact    |\n| volkswagen | gti               | 2.0 | 2008 | 4 | manual(m6) | f | 21 | 29 | p | compact    |\n| volkswagen | gti               | 2.0 | 2008 | 4 | auto(s6)   | f | 22 | 29 | p | compact    |\n| volkswagen | gti               | 2.8 | 1999 | 6 | manual(m5) | f | 17 | 24 | r | compact    |\n| volkswagen | jetta             | 1.9 | 1999 | 4 | manual(m5) | f | 33 | 44 | d | compact    |\n| volkswagen | jetta             | 2.0 | 1999 | 4 | manual(m5) | f | 21 | 29 | r | compact    |\n| volkswagen | jetta             | 2.0 | 1999 | 4 | auto(l4)   | f | 19 | 26 | r | compact    |\n| volkswagen | jetta             | 2.0 | 2008 | 4 | auto(s6)   | f | 22 | 29 | p | compact    |\n| volkswagen | jetta             | 2.0 | 2008 | 4 | manual(m6) | f | 21 | 29 | p | compact    |\n| volkswagen | jetta             | 2.5 | 2008 | 5 | auto(s6)   | f | 21 | 29 | r | compact    |\n| volkswagen | jetta             | 2.5 | 2008 | 5 | manual(m5) | f | 21 | 29 | r | compact    |\n| volkswagen | jetta             | 2.8 | 1999 | 6 | auto(l4)   | f | 16 | 23 | r | compact    |\n| volkswagen | jetta             | 2.8 | 1999 | 6 | manual(m5) | f | 17 | 24 | r | compact    |\n| volkswagen | new beetle        | 1.9 | 1999 | 4 | manual(m5) | f | 35 | 44 | d | subcompact |\n| volkswagen | new beetle        | 1.9 | 1999 | 4 | auto(l4)   | f | 29 | 41 | d | subcompact |\n| volkswagen | new beetle        | 2.0 | 1999 | 4 | manual(m5) | f | 21 | 29 | r | subcompact |\n| volkswagen | new beetle        | 2.0 | 1999 | 4 | auto(l4)   | f | 19 | 26 | r | subcompact |\n| volkswagen | new beetle        | 2.5 | 2008 | 5 | manual(m5) | f | 20 | 28 | r | subcompact |\n| volkswagen | new beetle        | 2.5 | 2008 | 5 | auto(s6)   | f | 20 | 29 | r | subcompact |\n| volkswagen | passat            | 1.8 | 1999 | 4 | manual(m5) | f | 21 | 29 | p | midsize    |\n| volkswagen | passat            | 1.8 | 1999 | 4 | auto(l5)   | f | 18 | 29 | p | midsize    |\n| volkswagen | passat            | 2.0 | 2008 | 4 | auto(s6)   | f | 19 | 28 | p | midsize    |\n| volkswagen | passat            | 2.0 | 2008 | 4 | manual(m6) | f | 21 | 29 | p | midsize    |\n| volkswagen | passat            | 2.8 | 1999 | 6 | auto(l5)   | f | 16 | 26 | p | midsize    |\n| volkswagen | passat            | 2.8 | 1999 | 6 | manual(m5) | f | 18 | 26 | p | midsize    |\n| volkswagen | passat            | 3.6 | 2008 | 6 | auto(s6)   | f | 17 | 26 | p | midsize    |\n\n",
            "text/html": [
              "<table class=\"dataframe\">\n",
              "<caption>A tibble: 234 × 11</caption>\n",
              "<thead>\n",
              "\t<tr><th scope=col>manufacturer</th><th scope=col>model</th><th scope=col>displ</th><th scope=col>year</th><th scope=col>cyl</th><th scope=col>trans</th><th scope=col>drv</th><th scope=col>cty</th><th scope=col>hwy</th><th scope=col>fl</th><th scope=col>class</th></tr>\n",
              "\t<tr><th scope=col>&lt;chr&gt;</th><th scope=col>&lt;chr&gt;</th><th scope=col>&lt;dbl&gt;</th><th scope=col>&lt;int&gt;</th><th scope=col>&lt;int&gt;</th><th scope=col>&lt;chr&gt;</th><th scope=col>&lt;chr&gt;</th><th scope=col>&lt;int&gt;</th><th scope=col>&lt;int&gt;</th><th scope=col>&lt;chr&gt;</th><th scope=col>&lt;chr&gt;</th></tr>\n",
              "</thead>\n",
              "<tbody>\n",
              "\t<tr><td>audi     </td><td>a4                </td><td>1.8</td><td>1999</td><td>4</td><td>auto(l5)  </td><td>f</td><td>18</td><td>29</td><td>p</td><td>compact</td></tr>\n",
              "\t<tr><td>audi     </td><td>a4                </td><td>1.8</td><td>1999</td><td>4</td><td>manual(m5)</td><td>f</td><td>21</td><td>29</td><td>p</td><td>compact</td></tr>\n",
              "\t<tr><td>audi     </td><td>a4                </td><td>2.0</td><td>2008</td><td>4</td><td>manual(m6)</td><td>f</td><td>20</td><td>31</td><td>p</td><td>compact</td></tr>\n",
              "\t<tr><td>audi     </td><td>a4                </td><td>2.0</td><td>2008</td><td>4</td><td>auto(av)  </td><td>f</td><td>21</td><td>30</td><td>p</td><td>compact</td></tr>\n",
              "\t<tr><td>audi     </td><td>a4                </td><td>2.8</td><td>1999</td><td>6</td><td>auto(l5)  </td><td>f</td><td>16</td><td>26</td><td>p</td><td>compact</td></tr>\n",
              "\t<tr><td>audi     </td><td>a4                </td><td>2.8</td><td>1999</td><td>6</td><td>manual(m5)</td><td>f</td><td>18</td><td>26</td><td>p</td><td>compact</td></tr>\n",
              "\t<tr><td>audi     </td><td>a4                </td><td>3.1</td><td>2008</td><td>6</td><td>auto(av)  </td><td>f</td><td>18</td><td>27</td><td>p</td><td>compact</td></tr>\n",
              "\t<tr><td>audi     </td><td>a4 quattro        </td><td>1.8</td><td>1999</td><td>4</td><td>manual(m5)</td><td>4</td><td>18</td><td>26</td><td>p</td><td>compact</td></tr>\n",
              "\t<tr><td>audi     </td><td>a4 quattro        </td><td>1.8</td><td>1999</td><td>4</td><td>auto(l5)  </td><td>4</td><td>16</td><td>25</td><td>p</td><td>compact</td></tr>\n",
              "\t<tr><td>audi     </td><td>a4 quattro        </td><td>2.0</td><td>2008</td><td>4</td><td>manual(m6)</td><td>4</td><td>20</td><td>28</td><td>p</td><td>compact</td></tr>\n",
              "\t<tr><td>audi     </td><td>a4 quattro        </td><td>2.0</td><td>2008</td><td>4</td><td>auto(s6)  </td><td>4</td><td>19</td><td>27</td><td>p</td><td>compact</td></tr>\n",
              "\t<tr><td>audi     </td><td>a4 quattro        </td><td>2.8</td><td>1999</td><td>6</td><td>auto(l5)  </td><td>4</td><td>15</td><td>25</td><td>p</td><td>compact</td></tr>\n",
              "\t<tr><td>audi     </td><td>a4 quattro        </td><td>2.8</td><td>1999</td><td>6</td><td>manual(m5)</td><td>4</td><td>17</td><td>25</td><td>p</td><td>compact</td></tr>\n",
              "\t<tr><td>audi     </td><td>a4 quattro        </td><td>3.1</td><td>2008</td><td>6</td><td>auto(s6)  </td><td>4</td><td>17</td><td>25</td><td>p</td><td>compact</td></tr>\n",
              "\t<tr><td>audi     </td><td>a4 quattro        </td><td>3.1</td><td>2008</td><td>6</td><td>manual(m6)</td><td>4</td><td>15</td><td>25</td><td>p</td><td>compact</td></tr>\n",
              "\t<tr><td>audi     </td><td>a6 quattro        </td><td>2.8</td><td>1999</td><td>6</td><td>auto(l5)  </td><td>4</td><td>15</td><td>24</td><td>p</td><td>midsize</td></tr>\n",
              "\t<tr><td>audi     </td><td>a6 quattro        </td><td>3.1</td><td>2008</td><td>6</td><td>auto(s6)  </td><td>4</td><td>17</td><td>25</td><td>p</td><td>midsize</td></tr>\n",
              "\t<tr><td>audi     </td><td>a6 quattro        </td><td>4.2</td><td>2008</td><td>8</td><td>auto(s6)  </td><td>4</td><td>16</td><td>23</td><td>p</td><td>midsize</td></tr>\n",
              "\t<tr><td>chevrolet</td><td>c1500 suburban 2wd</td><td>5.3</td><td>2008</td><td>8</td><td>auto(l4)  </td><td>r</td><td>14</td><td>20</td><td>r</td><td>suv    </td></tr>\n",
              "\t<tr><td>chevrolet</td><td>c1500 suburban 2wd</td><td>5.3</td><td>2008</td><td>8</td><td>auto(l4)  </td><td>r</td><td>11</td><td>15</td><td>e</td><td>suv    </td></tr>\n",
              "\t<tr><td>chevrolet</td><td>c1500 suburban 2wd</td><td>5.3</td><td>2008</td><td>8</td><td>auto(l4)  </td><td>r</td><td>14</td><td>20</td><td>r</td><td>suv    </td></tr>\n",
              "\t<tr><td>chevrolet</td><td>c1500 suburban 2wd</td><td>5.7</td><td>1999</td><td>8</td><td>auto(l4)  </td><td>r</td><td>13</td><td>17</td><td>r</td><td>suv    </td></tr>\n",
              "\t<tr><td>chevrolet</td><td>c1500 suburban 2wd</td><td>6.0</td><td>2008</td><td>8</td><td>auto(l4)  </td><td>r</td><td>12</td><td>17</td><td>r</td><td>suv    </td></tr>\n",
              "\t<tr><td>chevrolet</td><td>corvette          </td><td>5.7</td><td>1999</td><td>8</td><td>manual(m6)</td><td>r</td><td>16</td><td>26</td><td>p</td><td>2seater</td></tr>\n",
              "\t<tr><td>chevrolet</td><td>corvette          </td><td>5.7</td><td>1999</td><td>8</td><td>auto(l4)  </td><td>r</td><td>15</td><td>23</td><td>p</td><td>2seater</td></tr>\n",
              "\t<tr><td>chevrolet</td><td>corvette          </td><td>6.2</td><td>2008</td><td>8</td><td>manual(m6)</td><td>r</td><td>16</td><td>26</td><td>p</td><td>2seater</td></tr>\n",
              "\t<tr><td>chevrolet</td><td>corvette          </td><td>6.2</td><td>2008</td><td>8</td><td>auto(s6)  </td><td>r</td><td>15</td><td>25</td><td>p</td><td>2seater</td></tr>\n",
              "\t<tr><td>chevrolet</td><td>corvette          </td><td>7.0</td><td>2008</td><td>8</td><td>manual(m6)</td><td>r</td><td>15</td><td>24</td><td>p</td><td>2seater</td></tr>\n",
              "\t<tr><td>chevrolet</td><td>k1500 tahoe 4wd   </td><td>5.3</td><td>2008</td><td>8</td><td>auto(l4)  </td><td>4</td><td>14</td><td>19</td><td>r</td><td>suv    </td></tr>\n",
              "\t<tr><td>chevrolet</td><td>k1500 tahoe 4wd   </td><td>5.3</td><td>2008</td><td>8</td><td>auto(l4)  </td><td>4</td><td>11</td><td>14</td><td>e</td><td>suv    </td></tr>\n",
              "\t<tr><td>⋮</td><td>⋮</td><td>⋮</td><td>⋮</td><td>⋮</td><td>⋮</td><td>⋮</td><td>⋮</td><td>⋮</td><td>⋮</td><td>⋮</td></tr>\n",
              "\t<tr><td>toyota    </td><td>toyota tacoma 4wd</td><td>3.4</td><td>1999</td><td>6</td><td>auto(l4)  </td><td>4</td><td>15</td><td>19</td><td>r</td><td>pickup    </td></tr>\n",
              "\t<tr><td>toyota    </td><td>toyota tacoma 4wd</td><td>4.0</td><td>2008</td><td>6</td><td>manual(m6)</td><td>4</td><td>15</td><td>18</td><td>r</td><td>pickup    </td></tr>\n",
              "\t<tr><td>toyota    </td><td>toyota tacoma 4wd</td><td>4.0</td><td>2008</td><td>6</td><td>auto(l5)  </td><td>4</td><td>16</td><td>20</td><td>r</td><td>pickup    </td></tr>\n",
              "\t<tr><td>volkswagen</td><td>gti              </td><td>2.0</td><td>1999</td><td>4</td><td>manual(m5)</td><td>f</td><td>21</td><td>29</td><td>r</td><td>compact   </td></tr>\n",
              "\t<tr><td>volkswagen</td><td>gti              </td><td>2.0</td><td>1999</td><td>4</td><td>auto(l4)  </td><td>f</td><td>19</td><td>26</td><td>r</td><td>compact   </td></tr>\n",
              "\t<tr><td>volkswagen</td><td>gti              </td><td>2.0</td><td>2008</td><td>4</td><td>manual(m6)</td><td>f</td><td>21</td><td>29</td><td>p</td><td>compact   </td></tr>\n",
              "\t<tr><td>volkswagen</td><td>gti              </td><td>2.0</td><td>2008</td><td>4</td><td>auto(s6)  </td><td>f</td><td>22</td><td>29</td><td>p</td><td>compact   </td></tr>\n",
              "\t<tr><td>volkswagen</td><td>gti              </td><td>2.8</td><td>1999</td><td>6</td><td>manual(m5)</td><td>f</td><td>17</td><td>24</td><td>r</td><td>compact   </td></tr>\n",
              "\t<tr><td>volkswagen</td><td>jetta            </td><td>1.9</td><td>1999</td><td>4</td><td>manual(m5)</td><td>f</td><td>33</td><td>44</td><td>d</td><td>compact   </td></tr>\n",
              "\t<tr><td>volkswagen</td><td>jetta            </td><td>2.0</td><td>1999</td><td>4</td><td>manual(m5)</td><td>f</td><td>21</td><td>29</td><td>r</td><td>compact   </td></tr>\n",
              "\t<tr><td>volkswagen</td><td>jetta            </td><td>2.0</td><td>1999</td><td>4</td><td>auto(l4)  </td><td>f</td><td>19</td><td>26</td><td>r</td><td>compact   </td></tr>\n",
              "\t<tr><td>volkswagen</td><td>jetta            </td><td>2.0</td><td>2008</td><td>4</td><td>auto(s6)  </td><td>f</td><td>22</td><td>29</td><td>p</td><td>compact   </td></tr>\n",
              "\t<tr><td>volkswagen</td><td>jetta            </td><td>2.0</td><td>2008</td><td>4</td><td>manual(m6)</td><td>f</td><td>21</td><td>29</td><td>p</td><td>compact   </td></tr>\n",
              "\t<tr><td>volkswagen</td><td>jetta            </td><td>2.5</td><td>2008</td><td>5</td><td>auto(s6)  </td><td>f</td><td>21</td><td>29</td><td>r</td><td>compact   </td></tr>\n",
              "\t<tr><td>volkswagen</td><td>jetta            </td><td>2.5</td><td>2008</td><td>5</td><td>manual(m5)</td><td>f</td><td>21</td><td>29</td><td>r</td><td>compact   </td></tr>\n",
              "\t<tr><td>volkswagen</td><td>jetta            </td><td>2.8</td><td>1999</td><td>6</td><td>auto(l4)  </td><td>f</td><td>16</td><td>23</td><td>r</td><td>compact   </td></tr>\n",
              "\t<tr><td>volkswagen</td><td>jetta            </td><td>2.8</td><td>1999</td><td>6</td><td>manual(m5)</td><td>f</td><td>17</td><td>24</td><td>r</td><td>compact   </td></tr>\n",
              "\t<tr><td>volkswagen</td><td>new beetle       </td><td>1.9</td><td>1999</td><td>4</td><td>manual(m5)</td><td>f</td><td>35</td><td>44</td><td>d</td><td>subcompact</td></tr>\n",
              "\t<tr><td>volkswagen</td><td>new beetle       </td><td>1.9</td><td>1999</td><td>4</td><td>auto(l4)  </td><td>f</td><td>29</td><td>41</td><td>d</td><td>subcompact</td></tr>\n",
              "\t<tr><td>volkswagen</td><td>new beetle       </td><td>2.0</td><td>1999</td><td>4</td><td>manual(m5)</td><td>f</td><td>21</td><td>29</td><td>r</td><td>subcompact</td></tr>\n",
              "\t<tr><td>volkswagen</td><td>new beetle       </td><td>2.0</td><td>1999</td><td>4</td><td>auto(l4)  </td><td>f</td><td>19</td><td>26</td><td>r</td><td>subcompact</td></tr>\n",
              "\t<tr><td>volkswagen</td><td>new beetle       </td><td>2.5</td><td>2008</td><td>5</td><td>manual(m5)</td><td>f</td><td>20</td><td>28</td><td>r</td><td>subcompact</td></tr>\n",
              "\t<tr><td>volkswagen</td><td>new beetle       </td><td>2.5</td><td>2008</td><td>5</td><td>auto(s6)  </td><td>f</td><td>20</td><td>29</td><td>r</td><td>subcompact</td></tr>\n",
              "\t<tr><td>volkswagen</td><td>passat           </td><td>1.8</td><td>1999</td><td>4</td><td>manual(m5)</td><td>f</td><td>21</td><td>29</td><td>p</td><td>midsize   </td></tr>\n",
              "\t<tr><td>volkswagen</td><td>passat           </td><td>1.8</td><td>1999</td><td>4</td><td>auto(l5)  </td><td>f</td><td>18</td><td>29</td><td>p</td><td>midsize   </td></tr>\n",
              "\t<tr><td>volkswagen</td><td>passat           </td><td>2.0</td><td>2008</td><td>4</td><td>auto(s6)  </td><td>f</td><td>19</td><td>28</td><td>p</td><td>midsize   </td></tr>\n",
              "\t<tr><td>volkswagen</td><td>passat           </td><td>2.0</td><td>2008</td><td>4</td><td>manual(m6)</td><td>f</td><td>21</td><td>29</td><td>p</td><td>midsize   </td></tr>\n",
              "\t<tr><td>volkswagen</td><td>passat           </td><td>2.8</td><td>1999</td><td>6</td><td>auto(l5)  </td><td>f</td><td>16</td><td>26</td><td>p</td><td>midsize   </td></tr>\n",
              "\t<tr><td>volkswagen</td><td>passat           </td><td>2.8</td><td>1999</td><td>6</td><td>manual(m5)</td><td>f</td><td>18</td><td>26</td><td>p</td><td>midsize   </td></tr>\n",
              "\t<tr><td>volkswagen</td><td>passat           </td><td>3.6</td><td>2008</td><td>6</td><td>auto(s6)  </td><td>f</td><td>17</td><td>26</td><td>p</td><td>midsize   </td></tr>\n",
              "</tbody>\n",
              "</table>\n"
            ]
          },
          "metadata": {}
        }
      ]
    },
    {
      "cell_type": "code",
      "metadata": {
        "colab": {
          "base_uri": "https://localhost:8080/"
        },
        "id": "W9FWL2qTfrow",
        "outputId": "0eb6d768-9283-49e8-ee4f-536e769fe02d"
      },
      "source": [
        "install.packages(\"dslabs\")"
      ],
      "execution_count": 42,
      "outputs": [
        {
          "output_type": "stream",
          "name": "stderr",
          "text": [
            "Installing package into ‘/usr/local/lib/R/site-library’\n",
            "(as ‘lib’ is unspecified)\n",
            "\n"
          ]
        }
      ]
    },
    {
      "cell_type": "code",
      "metadata": {
        "id": "UES_825v5__g"
      },
      "source": [
        "library(dslabs)\n",
        "data(murders)"
      ],
      "execution_count": 43,
      "outputs": []
    },
    {
      "cell_type": "code",
      "metadata": {
        "colab": {
          "base_uri": "https://localhost:8080/"
        },
        "id": "_Hkm36Xqf-6f",
        "outputId": "e6c163a6-e6f0-4133-bdcc-98afe416acf2"
      },
      "source": [
        "str(murders)"
      ],
      "execution_count": 44,
      "outputs": [
        {
          "output_type": "stream",
          "name": "stdout",
          "text": [
            "'data.frame':\t51 obs. of  5 variables:\n",
            " $ state     : chr  \"Alabama\" \"Alaska\" \"Arizona\" \"Arkansas\" ...\n",
            " $ abb       : chr  \"AL\" \"AK\" \"AZ\" \"AR\" ...\n",
            " $ region    : Factor w/ 4 levels \"Northeast\",\"South\",..: 2 4 4 2 4 4 1 2 2 2 ...\n",
            " $ population: num  4779736 710231 6392017 2915918 37253956 ...\n",
            " $ total     : num  135 19 232 93 1257 ...\n"
          ]
        }
      ]
    },
    {
      "cell_type": "code",
      "metadata": {
        "colab": {
          "base_uri": "https://localhost:8080/",
          "height": 286
        },
        "id": "B3vgvATNhD0Q",
        "outputId": "6ec7d609-670e-491b-f508-2c711da9db6d"
      },
      "source": [
        "head(murders)"
      ],
      "execution_count": 17,
      "outputs": [
        {
          "output_type": "display_data",
          "data": {
            "text/plain": [
              "  state      abb region population total\n",
              "1 Alabama    AL  South   4779736    135 \n",
              "2 Alaska     AK  West     710231     19 \n",
              "3 Arizona    AZ  West    6392017    232 \n",
              "4 Arkansas   AR  South   2915918     93 \n",
              "5 California CA  West   37253956   1257 \n",
              "6 Colorado   CO  West    5029196     65 "
            ],
            "text/latex": "A data.frame: 6 × 5\n\\begin{tabular}{r|lllll}\n  & state & abb & region & population & total\\\\\n  & <chr> & <chr> & <fct> & <dbl> & <dbl>\\\\\n\\hline\n\t1 & Alabama    & AL & South &  4779736 &  135\\\\\n\t2 & Alaska     & AK & West  &   710231 &   19\\\\\n\t3 & Arizona    & AZ & West  &  6392017 &  232\\\\\n\t4 & Arkansas   & AR & South &  2915918 &   93\\\\\n\t5 & California & CA & West  & 37253956 & 1257\\\\\n\t6 & Colorado   & CO & West  &  5029196 &   65\\\\\n\\end{tabular}\n",
            "text/markdown": "\nA data.frame: 6 × 5\n\n| <!--/--> | state &lt;chr&gt; | abb &lt;chr&gt; | region &lt;fct&gt; | population &lt;dbl&gt; | total &lt;dbl&gt; |\n|---|---|---|---|---|---|\n| 1 | Alabama    | AL | South |  4779736 |  135 |\n| 2 | Alaska     | AK | West  |   710231 |   19 |\n| 3 | Arizona    | AZ | West  |  6392017 |  232 |\n| 4 | Arkansas   | AR | South |  2915918 |   93 |\n| 5 | California | CA | West  | 37253956 | 1257 |\n| 6 | Colorado   | CO | West  |  5029196 |   65 |\n\n",
            "text/html": [
              "<table class=\"dataframe\">\n",
              "<caption>A data.frame: 6 × 5</caption>\n",
              "<thead>\n",
              "\t<tr><th></th><th scope=col>state</th><th scope=col>abb</th><th scope=col>region</th><th scope=col>population</th><th scope=col>total</th></tr>\n",
              "\t<tr><th></th><th scope=col>&lt;chr&gt;</th><th scope=col>&lt;chr&gt;</th><th scope=col>&lt;fct&gt;</th><th scope=col>&lt;dbl&gt;</th><th scope=col>&lt;dbl&gt;</th></tr>\n",
              "</thead>\n",
              "<tbody>\n",
              "\t<tr><th scope=row>1</th><td>Alabama   </td><td>AL</td><td>South</td><td> 4779736</td><td> 135</td></tr>\n",
              "\t<tr><th scope=row>2</th><td>Alaska    </td><td>AK</td><td>West </td><td>  710231</td><td>  19</td></tr>\n",
              "\t<tr><th scope=row>3</th><td>Arizona   </td><td>AZ</td><td>West </td><td> 6392017</td><td> 232</td></tr>\n",
              "\t<tr><th scope=row>4</th><td>Arkansas  </td><td>AR</td><td>South</td><td> 2915918</td><td>  93</td></tr>\n",
              "\t<tr><th scope=row>5</th><td>California</td><td>CA</td><td>West </td><td>37253956</td><td>1257</td></tr>\n",
              "\t<tr><th scope=row>6</th><td>Colorado  </td><td>CO</td><td>West </td><td> 5029196</td><td>  65</td></tr>\n",
              "</tbody>\n",
              "</table>\n"
            ]
          },
          "metadata": {}
        }
      ]
    },
    {
      "cell_type": "code",
      "metadata": {
        "colab": {
          "base_uri": "https://localhost:8080/",
          "height": 286
        },
        "id": "UGsKvqe1hkCO",
        "outputId": "de66b235-20e1-4232-b78e-29ba06df24a3"
      },
      "source": [
        "tail(murders)"
      ],
      "execution_count": 18,
      "outputs": [
        {
          "output_type": "display_data",
          "data": {
            "text/plain": [
              "   state         abb region        population total\n",
              "46 Vermont       VT  Northeast      625741      2  \n",
              "47 Virginia      VA  South         8001024    250  \n",
              "48 Washington    WA  West          6724540     93  \n",
              "49 West Virginia WV  South         1852994     27  \n",
              "50 Wisconsin     WI  North Central 5686986     97  \n",
              "51 Wyoming       WY  West           563626      5  "
            ],
            "text/latex": "A data.frame: 6 × 5\n\\begin{tabular}{r|lllll}\n  & state & abb & region & population & total\\\\\n  & <chr> & <chr> & <fct> & <dbl> & <dbl>\\\\\n\\hline\n\t46 & Vermont       & VT & Northeast     &  625741 &   2\\\\\n\t47 & Virginia      & VA & South         & 8001024 & 250\\\\\n\t48 & Washington    & WA & West          & 6724540 &  93\\\\\n\t49 & West Virginia & WV & South         & 1852994 &  27\\\\\n\t50 & Wisconsin     & WI & North Central & 5686986 &  97\\\\\n\t51 & Wyoming       & WY & West          &  563626 &   5\\\\\n\\end{tabular}\n",
            "text/markdown": "\nA data.frame: 6 × 5\n\n| <!--/--> | state &lt;chr&gt; | abb &lt;chr&gt; | region &lt;fct&gt; | population &lt;dbl&gt; | total &lt;dbl&gt; |\n|---|---|---|---|---|---|\n| 46 | Vermont       | VT | Northeast     |  625741 |   2 |\n| 47 | Virginia      | VA | South         | 8001024 | 250 |\n| 48 | Washington    | WA | West          | 6724540 |  93 |\n| 49 | West Virginia | WV | South         | 1852994 |  27 |\n| 50 | Wisconsin     | WI | North Central | 5686986 |  97 |\n| 51 | Wyoming       | WY | West          |  563626 |   5 |\n\n",
            "text/html": [
              "<table class=\"dataframe\">\n",
              "<caption>A data.frame: 6 × 5</caption>\n",
              "<thead>\n",
              "\t<tr><th></th><th scope=col>state</th><th scope=col>abb</th><th scope=col>region</th><th scope=col>population</th><th scope=col>total</th></tr>\n",
              "\t<tr><th></th><th scope=col>&lt;chr&gt;</th><th scope=col>&lt;chr&gt;</th><th scope=col>&lt;fct&gt;</th><th scope=col>&lt;dbl&gt;</th><th scope=col>&lt;dbl&gt;</th></tr>\n",
              "</thead>\n",
              "<tbody>\n",
              "\t<tr><th scope=row>46</th><td>Vermont      </td><td>VT</td><td>Northeast    </td><td> 625741</td><td>  2</td></tr>\n",
              "\t<tr><th scope=row>47</th><td>Virginia     </td><td>VA</td><td>South        </td><td>8001024</td><td>250</td></tr>\n",
              "\t<tr><th scope=row>48</th><td>Washington   </td><td>WA</td><td>West         </td><td>6724540</td><td> 93</td></tr>\n",
              "\t<tr><th scope=row>49</th><td>West Virginia</td><td>WV</td><td>South        </td><td>1852994</td><td> 27</td></tr>\n",
              "\t<tr><th scope=row>50</th><td>Wisconsin    </td><td>WI</td><td>North Central</td><td>5686986</td><td> 97</td></tr>\n",
              "\t<tr><th scope=row>51</th><td>Wyoming      </td><td>WY</td><td>West         </td><td> 563626</td><td>  5</td></tr>\n",
              "</tbody>\n",
              "</table>\n"
            ]
          },
          "metadata": {}
        }
      ]
    },
    {
      "cell_type": "markdown",
      "metadata": {
        "id": "h55ZUGGmhu4q"
      },
      "source": [
        "to access the different variables represented by columns included in this data frame. To do this, we use the accessor operator $ \n"
      ]
    },
    {
      "cell_type": "code",
      "metadata": {
        "colab": {
          "base_uri": "https://localhost:8080/",
          "height": 86
        },
        "id": "br9-YXsYhorB",
        "outputId": "cc364423-cebb-4d5b-b2e5-711377d315a0"
      },
      "source": [
        "murders$population"
      ],
      "execution_count": 19,
      "outputs": [
        {
          "output_type": "display_data",
          "data": {
            "text/plain": [
              " [1]  4779736   710231  6392017  2915918 37253956  5029196  3574097   897934\n",
              " [9]   601723 19687653  9920000  1360301  1567582 12830632  6483802  3046355\n",
              "[17]  2853118  4339367  4533372  1328361  5773552  6547629  9883640  5303925\n",
              "[25]  2967297  5988927   989415  1826341  2700551  1316470  8791894  2059179\n",
              "[33] 19378102  9535483   672591 11536504  3751351  3831074 12702379  1052567\n",
              "[41]  4625364   814180  6346105 25145561  2763885   625741  8001024  6724540\n",
              "[49]  1852994  5686986   563626"
            ],
            "text/latex": "\\begin{enumerate*}\n\\item 4779736\n\\item 710231\n\\item 6392017\n\\item 2915918\n\\item 37253956\n\\item 5029196\n\\item 3574097\n\\item 897934\n\\item 601723\n\\item 19687653\n\\item 9920000\n\\item 1360301\n\\item 1567582\n\\item 12830632\n\\item 6483802\n\\item 3046355\n\\item 2853118\n\\item 4339367\n\\item 4533372\n\\item 1328361\n\\item 5773552\n\\item 6547629\n\\item 9883640\n\\item 5303925\n\\item 2967297\n\\item 5988927\n\\item 989415\n\\item 1826341\n\\item 2700551\n\\item 1316470\n\\item 8791894\n\\item 2059179\n\\item 19378102\n\\item 9535483\n\\item 672591\n\\item 11536504\n\\item 3751351\n\\item 3831074\n\\item 12702379\n\\item 1052567\n\\item 4625364\n\\item 814180\n\\item 6346105\n\\item 25145561\n\\item 2763885\n\\item 625741\n\\item 8001024\n\\item 6724540\n\\item 1852994\n\\item 5686986\n\\item 563626\n\\end{enumerate*}\n",
            "text/markdown": "1. 4779736\n2. 710231\n3. 6392017\n4. 2915918\n5. 37253956\n6. 5029196\n7. 3574097\n8. 897934\n9. 601723\n10. 19687653\n11. 9920000\n12. 1360301\n13. 1567582\n14. 12830632\n15. 6483802\n16. 3046355\n17. 2853118\n18. 4339367\n19. 4533372\n20. 1328361\n21. 5773552\n22. 6547629\n23. 9883640\n24. 5303925\n25. 2967297\n26. 5988927\n27. 989415\n28. 1826341\n29. 2700551\n30. 1316470\n31. 8791894\n32. 2059179\n33. 19378102\n34. 9535483\n35. 672591\n36. 11536504\n37. 3751351\n38. 3831074\n39. 12702379\n40. 1052567\n41. 4625364\n42. 814180\n43. 6346105\n44. 25145561\n45. 2763885\n46. 625741\n47. 8001024\n48. 6724540\n49. 1852994\n50. 5686986\n51. 563626\n\n\n",
            "text/html": [
              "<style>\n",
              ".list-inline {list-style: none; margin:0; padding: 0}\n",
              ".list-inline>li {display: inline-block}\n",
              ".list-inline>li:not(:last-child)::after {content: \"\\00b7\"; padding: 0 .5ex}\n",
              "</style>\n",
              "<ol class=list-inline><li>4779736</li><li>710231</li><li>6392017</li><li>2915918</li><li>37253956</li><li>5029196</li><li>3574097</li><li>897934</li><li>601723</li><li>19687653</li><li>9920000</li><li>1360301</li><li>1567582</li><li>12830632</li><li>6483802</li><li>3046355</li><li>2853118</li><li>4339367</li><li>4533372</li><li>1328361</li><li>5773552</li><li>6547629</li><li>9883640</li><li>5303925</li><li>2967297</li><li>5988927</li><li>989415</li><li>1826341</li><li>2700551</li><li>1316470</li><li>8791894</li><li>2059179</li><li>19378102</li><li>9535483</li><li>672591</li><li>11536504</li><li>3751351</li><li>3831074</li><li>12702379</li><li>1052567</li><li>4625364</li><li>814180</li><li>6346105</li><li>25145561</li><li>2763885</li><li>625741</li><li>8001024</li><li>6724540</li><li>1852994</li><li>5686986</li><li>563626</li></ol>\n"
            ]
          },
          "metadata": {}
        }
      ]
    },
    {
      "cell_type": "markdown",
      "metadata": {
        "id": "BiIePIRIh6sj"
      },
      "source": [
        " We can quickly access the variable names using"
      ]
    },
    {
      "cell_type": "code",
      "metadata": {
        "colab": {
          "base_uri": "https://localhost:8080/",
          "height": 34
        },
        "id": "eOMqWDErh2DP",
        "outputId": "721fa673-3161-40d0-d2f4-8b0a99aa2e15"
      },
      "source": [
        "names(murders)"
      ],
      "execution_count": 20,
      "outputs": [
        {
          "output_type": "display_data",
          "data": {
            "text/plain": [
              "[1] \"state\"      \"abb\"        \"region\"     \"population\" \"total\"     "
            ],
            "text/latex": "\\begin{enumerate*}\n\\item 'state'\n\\item 'abb'\n\\item 'region'\n\\item 'population'\n\\item 'total'\n\\end{enumerate*}\n",
            "text/markdown": "1. 'state'\n2. 'abb'\n3. 'region'\n4. 'population'\n5. 'total'\n\n\n",
            "text/html": [
              "<style>\n",
              ".list-inline {list-style: none; margin:0; padding: 0}\n",
              ".list-inline>li {display: inline-block}\n",
              ".list-inline>li:not(:last-child)::after {content: \"\\00b7\"; padding: 0 .5ex}\n",
              "</style>\n",
              "<ol class=list-inline><li>'state'</li><li>'abb'</li><li>'region'</li><li>'population'</li><li>'total'</li></ol>\n"
            ]
          },
          "metadata": {}
        }
      ]
    },
    {
      "cell_type": "markdown",
      "metadata": {
        "id": "CldeOB15h-sr"
      },
      "source": [
        "to understand more about variables"
      ]
    },
    {
      "cell_type": "code",
      "metadata": {
        "colab": {
          "base_uri": "https://localhost:8080/",
          "height": 34
        },
        "id": "EZTbRAnKiCb2",
        "outputId": "355c6b68-cee1-43ce-b487-a1c746966a40"
      },
      "source": [
        "class(murders$region)"
      ],
      "execution_count": 21,
      "outputs": [
        {
          "output_type": "display_data",
          "data": {
            "text/plain": [
              "[1] \"factor\""
            ],
            "text/latex": "'factor'",
            "text/markdown": "'factor'",
            "text/html": [
              "'factor'"
            ]
          },
          "metadata": {}
        }
      ]
    },
    {
      "cell_type": "markdown",
      "metadata": {
        "id": "NjxtaaFbiJgo"
      },
      "source": [
        "to understand sub cateries of variables"
      ]
    },
    {
      "cell_type": "code",
      "metadata": {
        "colab": {
          "base_uri": "https://localhost:8080/",
          "height": 34
        },
        "id": "vAe6CehQiGON",
        "outputId": "6d06281f-98dc-4b14-f843-c2abe690c9c2"
      },
      "source": [
        "levels(murders$region)"
      ],
      "execution_count": 22,
      "outputs": [
        {
          "output_type": "display_data",
          "data": {
            "text/plain": [
              "[1] \"Northeast\"     \"South\"         \"North Central\" \"West\"         "
            ],
            "text/latex": "\\begin{enumerate*}\n\\item 'Northeast'\n\\item 'South'\n\\item 'North Central'\n\\item 'West'\n\\end{enumerate*}\n",
            "text/markdown": "1. 'Northeast'\n2. 'South'\n3. 'North Central'\n4. 'West'\n\n\n",
            "text/html": [
              "<style>\n",
              ".list-inline {list-style: none; margin:0; padding: 0}\n",
              ".list-inline>li {display: inline-block}\n",
              ".list-inline>li:not(:last-child)::after {content: \"\\00b7\"; padding: 0 .5ex}\n",
              "</style>\n",
              "<ol class=list-inline><li>'Northeast'</li><li>'South'</li><li>'North Central'</li><li>'West'</li></ol>\n"
            ]
          },
          "metadata": {}
        }
      ]
    },
    {
      "cell_type": "markdown",
      "metadata": {
        "id": "rkV4Ei5JiTDf"
      },
      "source": [
        "Matrix"
      ]
    },
    {
      "cell_type": "code",
      "metadata": {
        "colab": {
          "base_uri": "https://localhost:8080/",
          "height": 412
        },
        "id": "0BWhMHpGiOSC",
        "outputId": "aeb34ed2-1f13-40b2-d5d9-93ee4e9c1287"
      },
      "source": [
        "murders[0:10,]"
      ],
      "execution_count": 23,
      "outputs": [
        {
          "output_type": "display_data",
          "data": {
            "text/plain": [
              "   state                abb region    population total\n",
              "1  Alabama              AL  South      4779736    135 \n",
              "2  Alaska               AK  West        710231     19 \n",
              "3  Arizona              AZ  West       6392017    232 \n",
              "4  Arkansas             AR  South      2915918     93 \n",
              "5  California           CA  West      37253956   1257 \n",
              "6  Colorado             CO  West       5029196     65 \n",
              "7  Connecticut          CT  Northeast  3574097     97 \n",
              "8  Delaware             DE  South       897934     38 \n",
              "9  District of Columbia DC  South       601723     99 \n",
              "10 Florida              FL  South     19687653    669 "
            ],
            "text/latex": "A data.frame: 10 × 5\n\\begin{tabular}{r|lllll}\n  & state & abb & region & population & total\\\\\n  & <chr> & <chr> & <fct> & <dbl> & <dbl>\\\\\n\\hline\n\t1 & Alabama              & AL & South     &  4779736 &  135\\\\\n\t2 & Alaska               & AK & West      &   710231 &   19\\\\\n\t3 & Arizona              & AZ & West      &  6392017 &  232\\\\\n\t4 & Arkansas             & AR & South     &  2915918 &   93\\\\\n\t5 & California           & CA & West      & 37253956 & 1257\\\\\n\t6 & Colorado             & CO & West      &  5029196 &   65\\\\\n\t7 & Connecticut          & CT & Northeast &  3574097 &   97\\\\\n\t8 & Delaware             & DE & South     &   897934 &   38\\\\\n\t9 & District of Columbia & DC & South     &   601723 &   99\\\\\n\t10 & Florida              & FL & South     & 19687653 &  669\\\\\n\\end{tabular}\n",
            "text/markdown": "\nA data.frame: 10 × 5\n\n| <!--/--> | state &lt;chr&gt; | abb &lt;chr&gt; | region &lt;fct&gt; | population &lt;dbl&gt; | total &lt;dbl&gt; |\n|---|---|---|---|---|---|\n| 1 | Alabama              | AL | South     |  4779736 |  135 |\n| 2 | Alaska               | AK | West      |   710231 |   19 |\n| 3 | Arizona              | AZ | West      |  6392017 |  232 |\n| 4 | Arkansas             | AR | South     |  2915918 |   93 |\n| 5 | California           | CA | West      | 37253956 | 1257 |\n| 6 | Colorado             | CO | West      |  5029196 |   65 |\n| 7 | Connecticut          | CT | Northeast |  3574097 |   97 |\n| 8 | Delaware             | DE | South     |   897934 |   38 |\n| 9 | District of Columbia | DC | South     |   601723 |   99 |\n| 10 | Florida              | FL | South     | 19687653 |  669 |\n\n",
            "text/html": [
              "<table class=\"dataframe\">\n",
              "<caption>A data.frame: 10 × 5</caption>\n",
              "<thead>\n",
              "\t<tr><th></th><th scope=col>state</th><th scope=col>abb</th><th scope=col>region</th><th scope=col>population</th><th scope=col>total</th></tr>\n",
              "\t<tr><th></th><th scope=col>&lt;chr&gt;</th><th scope=col>&lt;chr&gt;</th><th scope=col>&lt;fct&gt;</th><th scope=col>&lt;dbl&gt;</th><th scope=col>&lt;dbl&gt;</th></tr>\n",
              "</thead>\n",
              "<tbody>\n",
              "\t<tr><th scope=row>1</th><td>Alabama             </td><td>AL</td><td>South    </td><td> 4779736</td><td> 135</td></tr>\n",
              "\t<tr><th scope=row>2</th><td>Alaska              </td><td>AK</td><td>West     </td><td>  710231</td><td>  19</td></tr>\n",
              "\t<tr><th scope=row>3</th><td>Arizona             </td><td>AZ</td><td>West     </td><td> 6392017</td><td> 232</td></tr>\n",
              "\t<tr><th scope=row>4</th><td>Arkansas            </td><td>AR</td><td>South    </td><td> 2915918</td><td>  93</td></tr>\n",
              "\t<tr><th scope=row>5</th><td>California          </td><td>CA</td><td>West     </td><td>37253956</td><td>1257</td></tr>\n",
              "\t<tr><th scope=row>6</th><td>Colorado            </td><td>CO</td><td>West     </td><td> 5029196</td><td>  65</td></tr>\n",
              "\t<tr><th scope=row>7</th><td>Connecticut         </td><td>CT</td><td>Northeast</td><td> 3574097</td><td>  97</td></tr>\n",
              "\t<tr><th scope=row>8</th><td>Delaware            </td><td>DE</td><td>South    </td><td>  897934</td><td>  38</td></tr>\n",
              "\t<tr><th scope=row>9</th><td>District of Columbia</td><td>DC</td><td>South    </td><td>  601723</td><td>  99</td></tr>\n",
              "\t<tr><th scope=row>10</th><td>Florida             </td><td>FL</td><td>South    </td><td>19687653</td><td> 669</td></tr>\n",
              "</tbody>\n",
              "</table>\n"
            ]
          },
          "metadata": {}
        }
      ]
    },
    {
      "cell_type": "code",
      "metadata": {
        "colab": {
          "base_uri": "https://localhost:8080/",
          "height": 412
        },
        "id": "g9tcrBgriaxi",
        "outputId": "f05557d8-9194-4e79-b373-b2cfd0a7e998"
      },
      "source": [
        "murders[0:10, 1:4]"
      ],
      "execution_count": 24,
      "outputs": [
        {
          "output_type": "display_data",
          "data": {
            "text/plain": [
              "   state                abb region    population\n",
              "1  Alabama              AL  South      4779736  \n",
              "2  Alaska               AK  West        710231  \n",
              "3  Arizona              AZ  West       6392017  \n",
              "4  Arkansas             AR  South      2915918  \n",
              "5  California           CA  West      37253956  \n",
              "6  Colorado             CO  West       5029196  \n",
              "7  Connecticut          CT  Northeast  3574097  \n",
              "8  Delaware             DE  South       897934  \n",
              "9  District of Columbia DC  South       601723  \n",
              "10 Florida              FL  South     19687653  "
            ],
            "text/latex": "A data.frame: 10 × 4\n\\begin{tabular}{r|llll}\n  & state & abb & region & population\\\\\n  & <chr> & <chr> & <fct> & <dbl>\\\\\n\\hline\n\t1 & Alabama              & AL & South     &  4779736\\\\\n\t2 & Alaska               & AK & West      &   710231\\\\\n\t3 & Arizona              & AZ & West      &  6392017\\\\\n\t4 & Arkansas             & AR & South     &  2915918\\\\\n\t5 & California           & CA & West      & 37253956\\\\\n\t6 & Colorado             & CO & West      &  5029196\\\\\n\t7 & Connecticut          & CT & Northeast &  3574097\\\\\n\t8 & Delaware             & DE & South     &   897934\\\\\n\t9 & District of Columbia & DC & South     &   601723\\\\\n\t10 & Florida              & FL & South     & 19687653\\\\\n\\end{tabular}\n",
            "text/markdown": "\nA data.frame: 10 × 4\n\n| <!--/--> | state &lt;chr&gt; | abb &lt;chr&gt; | region &lt;fct&gt; | population &lt;dbl&gt; |\n|---|---|---|---|---|\n| 1 | Alabama              | AL | South     |  4779736 |\n| 2 | Alaska               | AK | West      |   710231 |\n| 3 | Arizona              | AZ | West      |  6392017 |\n| 4 | Arkansas             | AR | South     |  2915918 |\n| 5 | California           | CA | West      | 37253956 |\n| 6 | Colorado             | CO | West      |  5029196 |\n| 7 | Connecticut          | CT | Northeast |  3574097 |\n| 8 | Delaware             | DE | South     |   897934 |\n| 9 | District of Columbia | DC | South     |   601723 |\n| 10 | Florida              | FL | South     | 19687653 |\n\n",
            "text/html": [
              "<table class=\"dataframe\">\n",
              "<caption>A data.frame: 10 × 4</caption>\n",
              "<thead>\n",
              "\t<tr><th></th><th scope=col>state</th><th scope=col>abb</th><th scope=col>region</th><th scope=col>population</th></tr>\n",
              "\t<tr><th></th><th scope=col>&lt;chr&gt;</th><th scope=col>&lt;chr&gt;</th><th scope=col>&lt;fct&gt;</th><th scope=col>&lt;dbl&gt;</th></tr>\n",
              "</thead>\n",
              "<tbody>\n",
              "\t<tr><th scope=row>1</th><td>Alabama             </td><td>AL</td><td>South    </td><td> 4779736</td></tr>\n",
              "\t<tr><th scope=row>2</th><td>Alaska              </td><td>AK</td><td>West     </td><td>  710231</td></tr>\n",
              "\t<tr><th scope=row>3</th><td>Arizona             </td><td>AZ</td><td>West     </td><td> 6392017</td></tr>\n",
              "\t<tr><th scope=row>4</th><td>Arkansas            </td><td>AR</td><td>South    </td><td> 2915918</td></tr>\n",
              "\t<tr><th scope=row>5</th><td>California          </td><td>CA</td><td>West     </td><td>37253956</td></tr>\n",
              "\t<tr><th scope=row>6</th><td>Colorado            </td><td>CO</td><td>West     </td><td> 5029196</td></tr>\n",
              "\t<tr><th scope=row>7</th><td>Connecticut         </td><td>CT</td><td>Northeast</td><td> 3574097</td></tr>\n",
              "\t<tr><th scope=row>8</th><td>Delaware            </td><td>DE</td><td>South    </td><td>  897934</td></tr>\n",
              "\t<tr><th scope=row>9</th><td>District of Columbia</td><td>DC</td><td>South    </td><td>  601723</td></tr>\n",
              "\t<tr><th scope=row>10</th><td>Florida             </td><td>FL</td><td>South    </td><td>19687653</td></tr>\n",
              "</tbody>\n",
              "</table>\n"
            ]
          },
          "metadata": {}
        }
      ]
    },
    {
      "cell_type": "code",
      "metadata": {
        "colab": {
          "base_uri": "https://localhost:8080/",
          "height": 443
        },
        "id": "xYfbVw6Yic6d",
        "outputId": "ab2119ac-b6b0-4b1a-99ce-c486d1eba402"
      },
      "source": [
        "murders[30:40 , 1:4]"
      ],
      "execution_count": 25,
      "outputs": [
        {
          "output_type": "display_data",
          "data": {
            "text/plain": [
              "   state          abb region        population\n",
              "30 New Hampshire  NH  Northeast      1316470  \n",
              "31 New Jersey     NJ  Northeast      8791894  \n",
              "32 New Mexico     NM  West           2059179  \n",
              "33 New York       NY  Northeast     19378102  \n",
              "34 North Carolina NC  South          9535483  \n",
              "35 North Dakota   ND  North Central   672591  \n",
              "36 Ohio           OH  North Central 11536504  \n",
              "37 Oklahoma       OK  South          3751351  \n",
              "38 Oregon         OR  West           3831074  \n",
              "39 Pennsylvania   PA  Northeast     12702379  \n",
              "40 Rhode Island   RI  Northeast      1052567  "
            ],
            "text/latex": "A data.frame: 11 × 4\n\\begin{tabular}{r|llll}\n  & state & abb & region & population\\\\\n  & <chr> & <chr> & <fct> & <dbl>\\\\\n\\hline\n\t30 & New Hampshire  & NH & Northeast     &  1316470\\\\\n\t31 & New Jersey     & NJ & Northeast     &  8791894\\\\\n\t32 & New Mexico     & NM & West          &  2059179\\\\\n\t33 & New York       & NY & Northeast     & 19378102\\\\\n\t34 & North Carolina & NC & South         &  9535483\\\\\n\t35 & North Dakota   & ND & North Central &   672591\\\\\n\t36 & Ohio           & OH & North Central & 11536504\\\\\n\t37 & Oklahoma       & OK & South         &  3751351\\\\\n\t38 & Oregon         & OR & West          &  3831074\\\\\n\t39 & Pennsylvania   & PA & Northeast     & 12702379\\\\\n\t40 & Rhode Island   & RI & Northeast     &  1052567\\\\\n\\end{tabular}\n",
            "text/markdown": "\nA data.frame: 11 × 4\n\n| <!--/--> | state &lt;chr&gt; | abb &lt;chr&gt; | region &lt;fct&gt; | population &lt;dbl&gt; |\n|---|---|---|---|---|\n| 30 | New Hampshire  | NH | Northeast     |  1316470 |\n| 31 | New Jersey     | NJ | Northeast     |  8791894 |\n| 32 | New Mexico     | NM | West          |  2059179 |\n| 33 | New York       | NY | Northeast     | 19378102 |\n| 34 | North Carolina | NC | South         |  9535483 |\n| 35 | North Dakota   | ND | North Central |   672591 |\n| 36 | Ohio           | OH | North Central | 11536504 |\n| 37 | Oklahoma       | OK | South         |  3751351 |\n| 38 | Oregon         | OR | West          |  3831074 |\n| 39 | Pennsylvania   | PA | Northeast     | 12702379 |\n| 40 | Rhode Island   | RI | Northeast     |  1052567 |\n\n",
            "text/html": [
              "<table class=\"dataframe\">\n",
              "<caption>A data.frame: 11 × 4</caption>\n",
              "<thead>\n",
              "\t<tr><th></th><th scope=col>state</th><th scope=col>abb</th><th scope=col>region</th><th scope=col>population</th></tr>\n",
              "\t<tr><th></th><th scope=col>&lt;chr&gt;</th><th scope=col>&lt;chr&gt;</th><th scope=col>&lt;fct&gt;</th><th scope=col>&lt;dbl&gt;</th></tr>\n",
              "</thead>\n",
              "<tbody>\n",
              "\t<tr><th scope=row>30</th><td>New Hampshire </td><td>NH</td><td>Northeast    </td><td> 1316470</td></tr>\n",
              "\t<tr><th scope=row>31</th><td>New Jersey    </td><td>NJ</td><td>Northeast    </td><td> 8791894</td></tr>\n",
              "\t<tr><th scope=row>32</th><td>New Mexico    </td><td>NM</td><td>West         </td><td> 2059179</td></tr>\n",
              "\t<tr><th scope=row>33</th><td>New York      </td><td>NY</td><td>Northeast    </td><td>19378102</td></tr>\n",
              "\t<tr><th scope=row>34</th><td>North Carolina</td><td>NC</td><td>South        </td><td> 9535483</td></tr>\n",
              "\t<tr><th scope=row>35</th><td>North Dakota  </td><td>ND</td><td>North Central</td><td>  672591</td></tr>\n",
              "\t<tr><th scope=row>36</th><td>Ohio          </td><td>OH</td><td>North Central</td><td>11536504</td></tr>\n",
              "\t<tr><th scope=row>37</th><td>Oklahoma      </td><td>OK</td><td>South        </td><td> 3751351</td></tr>\n",
              "\t<tr><th scope=row>38</th><td>Oregon        </td><td>OR</td><td>West         </td><td> 3831074</td></tr>\n",
              "\t<tr><th scope=row>39</th><td>Pennsylvania  </td><td>PA</td><td>Northeast    </td><td>12702379</td></tr>\n",
              "\t<tr><th scope=row>40</th><td>Rhode Island  </td><td>RI</td><td>Northeast    </td><td> 1052567</td></tr>\n",
              "</tbody>\n",
              "</table>\n"
            ]
          },
          "metadata": {}
        }
      ]
    },
    {
      "cell_type": "markdown",
      "metadata": {
        "id": "F2G425RVijSi"
      },
      "source": [
        "# **summary statistics**"
      ]
    },
    {
      "cell_type": "code",
      "metadata": {
        "colab": {
          "base_uri": "https://localhost:8080/",
          "height": 272
        },
        "id": "XBWxq5fzihEH",
        "outputId": "98f52394-cf5b-42c0-8eb8-6e65111f812c"
      },
      "source": [
        "summary(murders)"
      ],
      "execution_count": 26,
      "outputs": [
        {
          "output_type": "display_data",
          "data": {
            "text/plain": [
              "    state               abb                      region     population      \n",
              " Length:51          Length:51          Northeast    : 9   Min.   :  563626  \n",
              " Class :character   Class :character   South        :17   1st Qu.: 1696962  \n",
              " Mode  :character   Mode  :character   North Central:12   Median : 4339367  \n",
              "                                       West         :13   Mean   : 6075769  \n",
              "                                                          3rd Qu.: 6636084  \n",
              "                                                          Max.   :37253956  \n",
              "     total       \n",
              " Min.   :   2.0  \n",
              " 1st Qu.:  24.5  \n",
              " Median :  97.0  \n",
              " Mean   : 184.4  \n",
              " 3rd Qu.: 268.0  \n",
              " Max.   :1257.0  "
            ]
          },
          "metadata": {}
        }
      ]
    },
    {
      "cell_type": "code",
      "metadata": {
        "colab": {
          "base_uri": "https://localhost:8080/",
          "height": 53
        },
        "id": "IHyyeR1wivSG",
        "outputId": "86f6f915-bb87-4991-a9f7-240c01d81934"
      },
      "source": [
        "summary(murders$population)"
      ],
      "execution_count": 27,
      "outputs": [
        {
          "output_type": "display_data",
          "data": {
            "text/plain": [
              "    Min.  1st Qu.   Median     Mean  3rd Qu.     Max. \n",
              "  563626  1696962  4339367  6075769  6636084 37253956 "
            ]
          },
          "metadata": {}
        }
      ]
    },
    {
      "cell_type": "markdown",
      "metadata": {
        "id": "XVFl1GzmizGw"
      },
      "source": [
        "**table view**"
      ]
    },
    {
      "cell_type": "code",
      "metadata": {
        "colab": {
          "base_uri": "https://localhost:8080/",
          "height": 72
        },
        "id": "PMGK0iJti1WT",
        "outputId": "a8ec17c8-6379-48d7-8300-8b3ab573fe51"
      },
      "source": [
        "table(murders$region)"
      ],
      "execution_count": 28,
      "outputs": [
        {
          "output_type": "display_data",
          "data": {
            "text/plain": [
              "\n",
              "    Northeast         South North Central          West \n",
              "            9            17            12            13 "
            ]
          },
          "metadata": {}
        }
      ]
    },
    {
      "cell_type": "markdown",
      "metadata": {
        "id": "6avXWk6Hi-Jr"
      },
      "source": [
        "total responses and number of variables"
      ]
    },
    {
      "cell_type": "code",
      "metadata": {
        "colab": {
          "base_uri": "https://localhost:8080/",
          "height": 34
        },
        "id": "OtGaUpnIi5Fe",
        "outputId": "e2f41e9c-cb89-40cc-fc51-bf20361bef37"
      },
      "source": [
        "dim(murders)"
      ],
      "execution_count": 30,
      "outputs": [
        {
          "output_type": "display_data",
          "data": {
            "text/plain": [
              "[1] 51  5"
            ],
            "text/latex": "\\begin{enumerate*}\n\\item 51\n\\item 5\n\\end{enumerate*}\n",
            "text/markdown": "1. 51\n2. 5\n\n\n",
            "text/html": [
              "<style>\n",
              ".list-inline {list-style: none; margin:0; padding: 0}\n",
              ".list-inline>li {display: inline-block}\n",
              ".list-inline>li:not(:last-child)::after {content: \"\\00b7\"; padding: 0 .5ex}\n",
              "</style>\n",
              "<ol class=list-inline><li>51</li><li>5</li></ol>\n"
            ]
          },
          "metadata": {}
        }
      ]
    },
    {
      "cell_type": "markdown",
      "metadata": {
        "id": "BlBSLfLTjGCI"
      },
      "source": [
        "**other statistics**"
      ]
    },
    {
      "cell_type": "code",
      "metadata": {
        "colab": {
          "base_uri": "https://localhost:8080/"
        },
        "id": "BAwPoUwCjTru",
        "outputId": "317ef56a-80f4-4690-ec5f-6aff1c706f20"
      },
      "source": [
        "install.packages(\"psych\")"
      ],
      "execution_count": 32,
      "outputs": [
        {
          "output_type": "stream",
          "name": "stderr",
          "text": [
            "Installing package into ‘/usr/local/lib/R/site-library’\n",
            "(as ‘lib’ is unspecified)\n",
            "\n",
            "also installing the dependencies ‘tmvnsim’, ‘mnormt’\n",
            "\n",
            "\n"
          ]
        }
      ]
    },
    {
      "cell_type": "code",
      "metadata": {
        "id": "_2gabkx7jI8n"
      },
      "source": [
        "library(psych)"
      ],
      "execution_count": 33,
      "outputs": []
    },
    {
      "cell_type": "code",
      "metadata": {
        "colab": {
          "base_uri": "https://localhost:8080/",
          "height": 275
        },
        "id": "AZr5q9ZFjwtt",
        "outputId": "84bf4f2f-7ac4-4ec3-8e36-961ef08868e2"
      },
      "source": [
        "describe(murders)"
      ],
      "execution_count": 34,
      "outputs": [
        {
          "output_type": "display_data",
          "data": {
            "text/plain": [
              "           vars n  mean         sd           median  trimmed      mad         \n",
              "state*     1    51 2.600000e+01 1.486607e+01      26 2.600000e+01      19.2738\n",
              "abb*       2    51 2.600000e+01 1.486607e+01      26 2.600000e+01      19.2738\n",
              "region*    3    51 2.568627e+00 1.063107e+00       2 2.585366e+00       1.4826\n",
              "population 4    51 6.075769e+06 6.860669e+06 4339367 4.692547e+06 3725812.3476\n",
              "total      5    51 1.843725e+02 2.361261e+02      97 1.384146e+02     126.0210\n",
              "           min    max      range    skew       kurtosis  se          \n",
              "state*          1       51       50 0.00000000 -1.270783 2.081666e+00\n",
              "abb*            1       51       50 0.00000000 -1.270783 2.081666e+00\n",
              "region*         1        4        3 0.01997707 -1.292205 1.488647e-01\n",
              "population 563626 37253956 36690330 2.47931704  7.258765 9.606858e+05\n",
              "total           2     1257     1255 2.36192224  6.884493 3.306427e+01"
            ],
            "text/latex": "A psych: 5 × 13\n\\begin{tabular}{r|lllllllllllll}\n  & vars & n & mean & sd & median & trimmed & mad & min & max & range & skew & kurtosis & se\\\\\n  & <int> & <dbl> & <dbl> & <dbl> & <dbl> & <dbl> & <dbl> & <dbl> & <dbl> & <dbl> & <dbl> & <dbl> & <dbl>\\\\\n\\hline\n\tstate* & 1 & 51 & 2.600000e+01 & 1.486607e+01 &      26 & 2.600000e+01 &      19.2738 &      1 &       51 &       50 & 0.00000000 & -1.270783 & 2.081666e+00\\\\\n\tabb* & 2 & 51 & 2.600000e+01 & 1.486607e+01 &      26 & 2.600000e+01 &      19.2738 &      1 &       51 &       50 & 0.00000000 & -1.270783 & 2.081666e+00\\\\\n\tregion* & 3 & 51 & 2.568627e+00 & 1.063107e+00 &       2 & 2.585366e+00 &       1.4826 &      1 &        4 &        3 & 0.01997707 & -1.292205 & 1.488647e-01\\\\\n\tpopulation & 4 & 51 & 6.075769e+06 & 6.860669e+06 & 4339367 & 4.692547e+06 & 3725812.3476 & 563626 & 37253956 & 36690330 & 2.47931704 &  7.258765 & 9.606858e+05\\\\\n\ttotal & 5 & 51 & 1.843725e+02 & 2.361261e+02 &      97 & 1.384146e+02 &     126.0210 &      2 &     1257 &     1255 & 2.36192224 &  6.884493 & 3.306427e+01\\\\\n\\end{tabular}\n",
            "text/markdown": "\nA psych: 5 × 13\n\n| <!--/--> | vars &lt;int&gt; | n &lt;dbl&gt; | mean &lt;dbl&gt; | sd &lt;dbl&gt; | median &lt;dbl&gt; | trimmed &lt;dbl&gt; | mad &lt;dbl&gt; | min &lt;dbl&gt; | max &lt;dbl&gt; | range &lt;dbl&gt; | skew &lt;dbl&gt; | kurtosis &lt;dbl&gt; | se &lt;dbl&gt; |\n|---|---|---|---|---|---|---|---|---|---|---|---|---|---|\n| state* | 1 | 51 | 2.600000e+01 | 1.486607e+01 |      26 | 2.600000e+01 |      19.2738 |      1 |       51 |       50 | 0.00000000 | -1.270783 | 2.081666e+00 |\n| abb* | 2 | 51 | 2.600000e+01 | 1.486607e+01 |      26 | 2.600000e+01 |      19.2738 |      1 |       51 |       50 | 0.00000000 | -1.270783 | 2.081666e+00 |\n| region* | 3 | 51 | 2.568627e+00 | 1.063107e+00 |       2 | 2.585366e+00 |       1.4826 |      1 |        4 |        3 | 0.01997707 | -1.292205 | 1.488647e-01 |\n| population | 4 | 51 | 6.075769e+06 | 6.860669e+06 | 4339367 | 4.692547e+06 | 3725812.3476 | 563626 | 37253956 | 36690330 | 2.47931704 |  7.258765 | 9.606858e+05 |\n| total | 5 | 51 | 1.843725e+02 | 2.361261e+02 |      97 | 1.384146e+02 |     126.0210 |      2 |     1257 |     1255 | 2.36192224 |  6.884493 | 3.306427e+01 |\n\n",
            "text/html": [
              "<table class=\"dataframe\">\n",
              "<caption>A psych: 5 × 13</caption>\n",
              "<thead>\n",
              "\t<tr><th></th><th scope=col>vars</th><th scope=col>n</th><th scope=col>mean</th><th scope=col>sd</th><th scope=col>median</th><th scope=col>trimmed</th><th scope=col>mad</th><th scope=col>min</th><th scope=col>max</th><th scope=col>range</th><th scope=col>skew</th><th scope=col>kurtosis</th><th scope=col>se</th></tr>\n",
              "\t<tr><th></th><th scope=col>&lt;int&gt;</th><th scope=col>&lt;dbl&gt;</th><th scope=col>&lt;dbl&gt;</th><th scope=col>&lt;dbl&gt;</th><th scope=col>&lt;dbl&gt;</th><th scope=col>&lt;dbl&gt;</th><th scope=col>&lt;dbl&gt;</th><th scope=col>&lt;dbl&gt;</th><th scope=col>&lt;dbl&gt;</th><th scope=col>&lt;dbl&gt;</th><th scope=col>&lt;dbl&gt;</th><th scope=col>&lt;dbl&gt;</th><th scope=col>&lt;dbl&gt;</th></tr>\n",
              "</thead>\n",
              "<tbody>\n",
              "\t<tr><th scope=row>state*</th><td>1</td><td>51</td><td>2.600000e+01</td><td>1.486607e+01</td><td>     26</td><td>2.600000e+01</td><td>     19.2738</td><td>     1</td><td>      51</td><td>      50</td><td>0.00000000</td><td>-1.270783</td><td>2.081666e+00</td></tr>\n",
              "\t<tr><th scope=row>abb*</th><td>2</td><td>51</td><td>2.600000e+01</td><td>1.486607e+01</td><td>     26</td><td>2.600000e+01</td><td>     19.2738</td><td>     1</td><td>      51</td><td>      50</td><td>0.00000000</td><td>-1.270783</td><td>2.081666e+00</td></tr>\n",
              "\t<tr><th scope=row>region*</th><td>3</td><td>51</td><td>2.568627e+00</td><td>1.063107e+00</td><td>      2</td><td>2.585366e+00</td><td>      1.4826</td><td>     1</td><td>       4</td><td>       3</td><td>0.01997707</td><td>-1.292205</td><td>1.488647e-01</td></tr>\n",
              "\t<tr><th scope=row>population</th><td>4</td><td>51</td><td>6.075769e+06</td><td>6.860669e+06</td><td>4339367</td><td>4.692547e+06</td><td>3725812.3476</td><td>563626</td><td>37253956</td><td>36690330</td><td>2.47931704</td><td> 7.258765</td><td>9.606858e+05</td></tr>\n",
              "\t<tr><th scope=row>total</th><td>5</td><td>51</td><td>1.843725e+02</td><td>2.361261e+02</td><td>     97</td><td>1.384146e+02</td><td>    126.0210</td><td>     2</td><td>    1257</td><td>    1255</td><td>2.36192224</td><td> 6.884493</td><td>3.306427e+01</td></tr>\n",
              "</tbody>\n",
              "</table>\n"
            ]
          },
          "metadata": {}
        }
      ]
    },
    {
      "cell_type": "markdown",
      "metadata": {
        "id": "uMexlW43mnmT"
      },
      "source": [
        "# **Dataframe**"
      ]
    },
    {
      "cell_type": "code",
      "metadata": {
        "colab": {
          "base_uri": "https://localhost:8080/",
          "height": 34
        },
        "id": "Ls953EeukiyR",
        "outputId": "ff6415cc-344c-4e32-95b9-74568d8d8881"
      },
      "source": [
        "id<-c(101,102,103,104)\n",
        "id"
      ],
      "execution_count": 7,
      "outputs": [
        {
          "output_type": "display_data",
          "data": {
            "text/plain": [
              "[1] 101 102 103 104"
            ],
            "text/latex": "\\begin{enumerate*}\n\\item 101\n\\item 102\n\\item 103\n\\item 104\n\\end{enumerate*}\n",
            "text/markdown": "1. 101\n2. 102\n3. 103\n4. 104\n\n\n",
            "text/html": [
              "<style>\n",
              ".list-inline {list-style: none; margin:0; padding: 0}\n",
              ".list-inline>li {display: inline-block}\n",
              ".list-inline>li:not(:last-child)::after {content: \"\\00b7\"; padding: 0 .5ex}\n",
              "</style>\n",
              "<ol class=list-inline><li>101</li><li>102</li><li>103</li><li>104</li></ol>\n"
            ]
          },
          "metadata": {}
        }
      ]
    },
    {
      "cell_type": "code",
      "metadata": {
        "colab": {
          "base_uri": "https://localhost:8080/",
          "height": 34
        },
        "id": "ERzaECVAk0Y3",
        "outputId": "25962282-20fd-43ca-c318-ecf00933063d"
      },
      "source": [
        "name<-c(\"Dinesh\", \"Dileep\", \"Ram\",\"Soumyakant\")\n",
        "name"
      ],
      "execution_count": 8,
      "outputs": [
        {
          "output_type": "display_data",
          "data": {
            "text/plain": [
              "[1] \"Dinesh\"     \"Dileep\"     \"Ram\"        \"Soumyakant\""
            ],
            "text/latex": "\\begin{enumerate*}\n\\item 'Dinesh'\n\\item 'Dileep'\n\\item 'Ram'\n\\item 'Soumyakant'\n\\end{enumerate*}\n",
            "text/markdown": "1. 'Dinesh'\n2. 'Dileep'\n3. 'Ram'\n4. 'Soumyakant'\n\n\n",
            "text/html": [
              "<style>\n",
              ".list-inline {list-style: none; margin:0; padding: 0}\n",
              ".list-inline>li {display: inline-block}\n",
              ".list-inline>li:not(:last-child)::after {content: \"\\00b7\"; padding: 0 .5ex}\n",
              "</style>\n",
              "<ol class=list-inline><li>'Dinesh'</li><li>'Dileep'</li><li>'Ram'</li><li>'Soumyakant'</li></ol>\n"
            ]
          },
          "metadata": {}
        }
      ]
    },
    {
      "cell_type": "code",
      "metadata": {
        "id": "gSVnjy6dlMLq"
      },
      "source": [
        "marks<-c(78.25,59.68,85.52,70.00)"
      ],
      "execution_count": 9,
      "outputs": []
    },
    {
      "cell_type": "code",
      "metadata": {
        "id": "IvYsa6FElbTm"
      },
      "source": [
        "students<-data.frame(id,name,marks)"
      ],
      "execution_count": 10,
      "outputs": []
    },
    {
      "cell_type": "code",
      "metadata": {
        "colab": {
          "base_uri": "https://localhost:8080/",
          "height": 223
        },
        "id": "gyosYlNPlleK",
        "outputId": "3d53709f-ffd5-4b5e-e5c1-92e0ff1cc3c7"
      },
      "source": [
        "students"
      ],
      "execution_count": 11,
      "outputs": [
        {
          "output_type": "display_data",
          "data": {
            "text/plain": [
              "  id  name       marks\n",
              "1 101 Dinesh     78.25\n",
              "2 102 Dileep     59.68\n",
              "3 103 Ram        85.52\n",
              "4 104 Soumyakant 70.00"
            ],
            "text/latex": "A data.frame: 4 × 3\n\\begin{tabular}{lll}\n id & name & marks\\\\\n <dbl> & <chr> & <dbl>\\\\\n\\hline\n\t 101 & Dinesh     & 78.25\\\\\n\t 102 & Dileep     & 59.68\\\\\n\t 103 & Ram        & 85.52\\\\\n\t 104 & Soumyakant & 70.00\\\\\n\\end{tabular}\n",
            "text/markdown": "\nA data.frame: 4 × 3\n\n| id &lt;dbl&gt; | name &lt;chr&gt; | marks &lt;dbl&gt; |\n|---|---|---|\n| 101 | Dinesh     | 78.25 |\n| 102 | Dileep     | 59.68 |\n| 103 | Ram        | 85.52 |\n| 104 | Soumyakant | 70.00 |\n\n",
            "text/html": [
              "<table class=\"dataframe\">\n",
              "<caption>A data.frame: 4 × 3</caption>\n",
              "<thead>\n",
              "\t<tr><th scope=col>id</th><th scope=col>name</th><th scope=col>marks</th></tr>\n",
              "\t<tr><th scope=col>&lt;dbl&gt;</th><th scope=col>&lt;chr&gt;</th><th scope=col>&lt;dbl&gt;</th></tr>\n",
              "</thead>\n",
              "<tbody>\n",
              "\t<tr><td>101</td><td>Dinesh    </td><td>78.25</td></tr>\n",
              "\t<tr><td>102</td><td>Dileep    </td><td>59.68</td></tr>\n",
              "\t<tr><td>103</td><td>Ram       </td><td>85.52</td></tr>\n",
              "\t<tr><td>104</td><td>Soumyakant</td><td>70.00</td></tr>\n",
              "</tbody>\n",
              "</table>\n"
            ]
          },
          "metadata": {}
        }
      ]
    },
    {
      "cell_type": "markdown",
      "metadata": {
        "id": "V5M5AcZll3cW"
      },
      "source": [
        "# **Subset**"
      ]
    },
    {
      "cell_type": "code",
      "metadata": {
        "colab": {
          "base_uri": "https://localhost:8080/",
          "height": 192
        },
        "id": "mY3Jhz9plvLn",
        "outputId": "f272c3bb-5575-480f-9727-ce281989522b"
      },
      "source": [
        "report<-subset(students,marks>60)\n",
        "report"
      ],
      "execution_count": 54,
      "outputs": [
        {
          "output_type": "display_data",
          "data": {
            "text/plain": [
              "  id  name       marks\n",
              "1 101 Dinesh     78.25\n",
              "3 103 Ram        85.52\n",
              "4 104 Soumyakant 70.00"
            ],
            "text/latex": "A data.frame: 3 × 3\n\\begin{tabular}{r|lll}\n  & id & name & marks\\\\\n  & <dbl> & <chr> & <dbl>\\\\\n\\hline\n\t1 & 101 & Dinesh     & 78.25\\\\\n\t3 & 103 & Ram        & 85.52\\\\\n\t4 & 104 & Soumyakant & 70.00\\\\\n\\end{tabular}\n",
            "text/markdown": "\nA data.frame: 3 × 3\n\n| <!--/--> | id &lt;dbl&gt; | name &lt;chr&gt; | marks &lt;dbl&gt; |\n|---|---|---|---|\n| 1 | 101 | Dinesh     | 78.25 |\n| 3 | 103 | Ram        | 85.52 |\n| 4 | 104 | Soumyakant | 70.00 |\n\n",
            "text/html": [
              "<table class=\"dataframe\">\n",
              "<caption>A data.frame: 3 × 3</caption>\n",
              "<thead>\n",
              "\t<tr><th></th><th scope=col>id</th><th scope=col>name</th><th scope=col>marks</th></tr>\n",
              "\t<tr><th></th><th scope=col>&lt;dbl&gt;</th><th scope=col>&lt;chr&gt;</th><th scope=col>&lt;dbl&gt;</th></tr>\n",
              "</thead>\n",
              "<tbody>\n",
              "\t<tr><th scope=row>1</th><td>101</td><td>Dinesh    </td><td>78.25</td></tr>\n",
              "\t<tr><th scope=row>3</th><td>103</td><td>Ram       </td><td>85.52</td></tr>\n",
              "\t<tr><th scope=row>4</th><td>104</td><td>Soumyakant</td><td>70.00</td></tr>\n",
              "</tbody>\n",
              "</table>\n"
            ]
          },
          "metadata": {}
        }
      ]
    },
    {
      "cell_type": "code",
      "metadata": {
        "colab": {
          "base_uri": "https://localhost:8080/",
          "height": 129
        },
        "id": "PHC62z2zoPvB",
        "outputId": "82d3bc0a-508b-46d8-a4f0-4f8837dd1402"
      },
      "source": [
        "report<-subset(students,marks>60 & id<103)\n",
        "report"
      ],
      "execution_count": 55,
      "outputs": [
        {
          "output_type": "display_data",
          "data": {
            "text/plain": [
              "  id  name   marks\n",
              "1 101 Dinesh 78.25"
            ],
            "text/latex": "A data.frame: 1 × 3\n\\begin{tabular}{r|lll}\n  & id & name & marks\\\\\n  & <dbl> & <chr> & <dbl>\\\\\n\\hline\n\t1 & 101 & Dinesh & 78.25\\\\\n\\end{tabular}\n",
            "text/markdown": "\nA data.frame: 1 × 3\n\n| <!--/--> | id &lt;dbl&gt; | name &lt;chr&gt; | marks &lt;dbl&gt; |\n|---|---|---|---|\n| 1 | 101 | Dinesh | 78.25 |\n\n",
            "text/html": [
              "<table class=\"dataframe\">\n",
              "<caption>A data.frame: 1 × 3</caption>\n",
              "<thead>\n",
              "\t<tr><th></th><th scope=col>id</th><th scope=col>name</th><th scope=col>marks</th></tr>\n",
              "\t<tr><th></th><th scope=col>&lt;dbl&gt;</th><th scope=col>&lt;chr&gt;</th><th scope=col>&lt;dbl&gt;</th></tr>\n",
              "</thead>\n",
              "<tbody>\n",
              "\t<tr><th scope=row>1</th><td>101</td><td>Dinesh</td><td>78.25</td></tr>\n",
              "</tbody>\n",
              "</table>\n"
            ]
          },
          "metadata": {}
        }
      ]
    },
    {
      "cell_type": "markdown",
      "metadata": {
        "id": "k3RBtdNaomNO"
      },
      "source": [
        "select"
      ]
    },
    {
      "cell_type": "code",
      "metadata": {
        "colab": {
          "base_uri": "https://localhost:8080/",
          "height": 192
        },
        "id": "58IODRsHooLA",
        "outputId": "b9f99f63-abb7-46be-c261-c66e0e5b00a9"
      },
      "source": [
        "report<-subset(students,marks>60, select = c(name:marks))\n",
        "report"
      ],
      "execution_count": 58,
      "outputs": [
        {
          "output_type": "display_data",
          "data": {
            "text/plain": [
              "  name       marks\n",
              "1 Dinesh     78.25\n",
              "3 Ram        85.52\n",
              "4 Soumyakant 70.00"
            ],
            "text/latex": "A data.frame: 3 × 2\n\\begin{tabular}{r|ll}\n  & name & marks\\\\\n  & <chr> & <dbl>\\\\\n\\hline\n\t1 & Dinesh     & 78.25\\\\\n\t3 & Ram        & 85.52\\\\\n\t4 & Soumyakant & 70.00\\\\\n\\end{tabular}\n",
            "text/markdown": "\nA data.frame: 3 × 2\n\n| <!--/--> | name &lt;chr&gt; | marks &lt;dbl&gt; |\n|---|---|---|\n| 1 | Dinesh     | 78.25 |\n| 3 | Ram        | 85.52 |\n| 4 | Soumyakant | 70.00 |\n\n",
            "text/html": [
              "<table class=\"dataframe\">\n",
              "<caption>A data.frame: 3 × 2</caption>\n",
              "<thead>\n",
              "\t<tr><th></th><th scope=col>name</th><th scope=col>marks</th></tr>\n",
              "\t<tr><th></th><th scope=col>&lt;chr&gt;</th><th scope=col>&lt;dbl&gt;</th></tr>\n",
              "</thead>\n",
              "<tbody>\n",
              "\t<tr><th scope=row>1</th><td>Dinesh    </td><td>78.25</td></tr>\n",
              "\t<tr><th scope=row>3</th><td>Ram       </td><td>85.52</td></tr>\n",
              "\t<tr><th scope=row>4</th><td>Soumyakant</td><td>70.00</td></tr>\n",
              "</tbody>\n",
              "</table>\n"
            ]
          },
          "metadata": {}
        }
      ]
    },
    {
      "cell_type": "markdown",
      "metadata": {
        "id": "6OFxLXX9076K"
      },
      "source": [
        "Removing columns (keep and drop variables)"
      ]
    },
    {
      "cell_type": "code",
      "metadata": {
        "colab": {
          "base_uri": "https://localhost:8080/",
          "height": 172
        },
        "id": "iwrrcc231Hku",
        "outputId": "7fb2d5f0-e270-4d0f-8481-13c311fa02d9"
      },
      "source": [
        "d1<-subset(students,c(id,name))"
      ],
      "execution_count": 14,
      "outputs": [
        {
          "output_type": "error",
          "ename": "ERROR",
          "evalue": "ignored",
          "traceback": [
            "Error in subset.data.frame(students, c(id, name)): 'subset' must be logical\nTraceback:\n",
            "1. subset(students, c(id, name))",
            "2. subset.data.frame(students, c(id, name))",
            "3. stop(\"'subset' must be logical\")"
          ]
        }
      ]
    },
    {
      "cell_type": "markdown",
      "metadata": {
        "id": "g_04JA5JpPvR"
      },
      "source": [
        "# **rbind() & cbind() function**"
      ]
    },
    {
      "cell_type": "code",
      "metadata": {
        "id": "FTatofCopX94"
      },
      "source": [
        "id<-c(101,102,103,104)\n",
        "name<-c(\"Dinesh\", \"Dileep\", \"Ram\",\"Soumyakant\")\n",
        "marks<-c(78.25,59.68,85.52,70.00)\n"
      ],
      "execution_count": 3,
      "outputs": []
    },
    {
      "cell_type": "code",
      "metadata": {
        "colab": {
          "base_uri": "https://localhost:8080/",
          "height": 223
        },
        "id": "2sQEK2U7p2wX",
        "outputId": "f880a481-edf7-457c-a5f1-b9fcaf82218a"
      },
      "source": [
        "students<-data.frame(id,name,marks)\n",
        "students"
      ],
      "execution_count": 4,
      "outputs": [
        {
          "output_type": "display_data",
          "data": {
            "text/plain": [
              "  id  name       marks\n",
              "1 101 Dinesh     78.25\n",
              "2 102 Dileep     59.68\n",
              "3 103 Ram        85.52\n",
              "4 104 Soumyakant 70.00"
            ],
            "text/latex": "A data.frame: 4 × 3\n\\begin{tabular}{lll}\n id & name & marks\\\\\n <dbl> & <chr> & <dbl>\\\\\n\\hline\n\t 101 & Dinesh     & 78.25\\\\\n\t 102 & Dileep     & 59.68\\\\\n\t 103 & Ram        & 85.52\\\\\n\t 104 & Soumyakant & 70.00\\\\\n\\end{tabular}\n",
            "text/markdown": "\nA data.frame: 4 × 3\n\n| id &lt;dbl&gt; | name &lt;chr&gt; | marks &lt;dbl&gt; |\n|---|---|---|\n| 101 | Dinesh     | 78.25 |\n| 102 | Dileep     | 59.68 |\n| 103 | Ram        | 85.52 |\n| 104 | Soumyakant | 70.00 |\n\n",
            "text/html": [
              "<table class=\"dataframe\">\n",
              "<caption>A data.frame: 4 × 3</caption>\n",
              "<thead>\n",
              "\t<tr><th scope=col>id</th><th scope=col>name</th><th scope=col>marks</th></tr>\n",
              "\t<tr><th scope=col>&lt;dbl&gt;</th><th scope=col>&lt;chr&gt;</th><th scope=col>&lt;dbl&gt;</th></tr>\n",
              "</thead>\n",
              "<tbody>\n",
              "\t<tr><td>101</td><td>Dinesh    </td><td>78.25</td></tr>\n",
              "\t<tr><td>102</td><td>Dileep    </td><td>59.68</td></tr>\n",
              "\t<tr><td>103</td><td>Ram       </td><td>85.52</td></tr>\n",
              "\t<tr><td>104</td><td>Soumyakant</td><td>70.00</td></tr>\n",
              "</tbody>\n",
              "</table>\n"
            ]
          },
          "metadata": {}
        }
      ]
    },
    {
      "cell_type": "markdown",
      "metadata": {
        "id": "gCmd8R07qDB6"
      },
      "source": [
        "Adding rows using rbind()"
      ]
    },
    {
      "cell_type": "code",
      "metadata": {
        "colab": {
          "base_uri": "https://localhost:8080/",
          "height": 255
        },
        "id": "AMJpAwwkqAOY",
        "outputId": "526d7150-b730-48ed-83f3-35d96cc862e1"
      },
      "source": [
        "students<-rbind(students,data.frame(id=105,name='mahesh',marks=55.67))\n",
        "students"
      ],
      "execution_count": 5,
      "outputs": [
        {
          "output_type": "display_data",
          "data": {
            "text/plain": [
              "  id  name       marks\n",
              "1 101 Dinesh     78.25\n",
              "2 102 Dileep     59.68\n",
              "3 103 Ram        85.52\n",
              "4 104 Soumyakant 70.00\n",
              "5 105 mahesh     55.67"
            ],
            "text/latex": "A data.frame: 5 × 3\n\\begin{tabular}{lll}\n id & name & marks\\\\\n <dbl> & <chr> & <dbl>\\\\\n\\hline\n\t 101 & Dinesh     & 78.25\\\\\n\t 102 & Dileep     & 59.68\\\\\n\t 103 & Ram        & 85.52\\\\\n\t 104 & Soumyakant & 70.00\\\\\n\t 105 & mahesh     & 55.67\\\\\n\\end{tabular}\n",
            "text/markdown": "\nA data.frame: 5 × 3\n\n| id &lt;dbl&gt; | name &lt;chr&gt; | marks &lt;dbl&gt; |\n|---|---|---|\n| 101 | Dinesh     | 78.25 |\n| 102 | Dileep     | 59.68 |\n| 103 | Ram        | 85.52 |\n| 104 | Soumyakant | 70.00 |\n| 105 | mahesh     | 55.67 |\n\n",
            "text/html": [
              "<table class=\"dataframe\">\n",
              "<caption>A data.frame: 5 × 3</caption>\n",
              "<thead>\n",
              "\t<tr><th scope=col>id</th><th scope=col>name</th><th scope=col>marks</th></tr>\n",
              "\t<tr><th scope=col>&lt;dbl&gt;</th><th scope=col>&lt;chr&gt;</th><th scope=col>&lt;dbl&gt;</th></tr>\n",
              "</thead>\n",
              "<tbody>\n",
              "\t<tr><td>101</td><td>Dinesh    </td><td>78.25</td></tr>\n",
              "\t<tr><td>102</td><td>Dileep    </td><td>59.68</td></tr>\n",
              "\t<tr><td>103</td><td>Ram       </td><td>85.52</td></tr>\n",
              "\t<tr><td>104</td><td>Soumyakant</td><td>70.00</td></tr>\n",
              "\t<tr><td>105</td><td>mahesh    </td><td>55.67</td></tr>\n",
              "</tbody>\n",
              "</table>\n"
            ]
          },
          "metadata": {}
        }
      ]
    },
    {
      "cell_type": "markdown",
      "metadata": {
        "id": "Lca7GOHvsKAy"
      },
      "source": [
        "adding column using cbind()"
      ]
    },
    {
      "cell_type": "code",
      "metadata": {
        "colab": {
          "base_uri": "https://localhost:8080/",
          "height": 255
        },
        "id": "sO4Iq4ResQpG",
        "outputId": "f3b0094f-3ce9-49ae-a798-df97e374cc74"
      },
      "source": [
        "students<-cbind(students,age=c(35,32,28,40,55))\n",
        "students"
      ],
      "execution_count": 6,
      "outputs": [
        {
          "output_type": "display_data",
          "data": {
            "text/plain": [
              "  id  name       marks age\n",
              "1 101 Dinesh     78.25 35 \n",
              "2 102 Dileep     59.68 32 \n",
              "3 103 Ram        85.52 28 \n",
              "4 104 Soumyakant 70.00 40 \n",
              "5 105 mahesh     55.67 55 "
            ],
            "text/latex": "A data.frame: 5 × 4\n\\begin{tabular}{llll}\n id & name & marks & age\\\\\n <dbl> & <chr> & <dbl> & <dbl>\\\\\n\\hline\n\t 101 & Dinesh     & 78.25 & 35\\\\\n\t 102 & Dileep     & 59.68 & 32\\\\\n\t 103 & Ram        & 85.52 & 28\\\\\n\t 104 & Soumyakant & 70.00 & 40\\\\\n\t 105 & mahesh     & 55.67 & 55\\\\\n\\end{tabular}\n",
            "text/markdown": "\nA data.frame: 5 × 4\n\n| id &lt;dbl&gt; | name &lt;chr&gt; | marks &lt;dbl&gt; | age &lt;dbl&gt; |\n|---|---|---|---|\n| 101 | Dinesh     | 78.25 | 35 |\n| 102 | Dileep     | 59.68 | 32 |\n| 103 | Ram        | 85.52 | 28 |\n| 104 | Soumyakant | 70.00 | 40 |\n| 105 | mahesh     | 55.67 | 55 |\n\n",
            "text/html": [
              "<table class=\"dataframe\">\n",
              "<caption>A data.frame: 5 × 4</caption>\n",
              "<thead>\n",
              "\t<tr><th scope=col>id</th><th scope=col>name</th><th scope=col>marks</th><th scope=col>age</th></tr>\n",
              "\t<tr><th scope=col>&lt;dbl&gt;</th><th scope=col>&lt;chr&gt;</th><th scope=col>&lt;dbl&gt;</th><th scope=col>&lt;dbl&gt;</th></tr>\n",
              "</thead>\n",
              "<tbody>\n",
              "\t<tr><td>101</td><td>Dinesh    </td><td>78.25</td><td>35</td></tr>\n",
              "\t<tr><td>102</td><td>Dileep    </td><td>59.68</td><td>32</td></tr>\n",
              "\t<tr><td>103</td><td>Ram       </td><td>85.52</td><td>28</td></tr>\n",
              "\t<tr><td>104</td><td>Soumyakant</td><td>70.00</td><td>40</td></tr>\n",
              "\t<tr><td>105</td><td>mahesh    </td><td>55.67</td><td>55</td></tr>\n",
              "</tbody>\n",
              "</table>\n"
            ]
          },
          "metadata": {}
        }
      ]
    },
    {
      "cell_type": "code",
      "metadata": {
        "colab": {
          "base_uri": "https://localhost:8080/",
          "height": 255
        },
        "id": "IwIc_o3qccrL",
        "outputId": "5a2f59b3-9e73-45e9-b1e5-8d15840bcdbe"
      },
      "source": [
        "students"
      ],
      "execution_count": 7,
      "outputs": [
        {
          "output_type": "display_data",
          "data": {
            "text/plain": [
              "  id  name       marks age\n",
              "1 101 Dinesh     78.25 35 \n",
              "2 102 Dileep     59.68 32 \n",
              "3 103 Ram        85.52 28 \n",
              "4 104 Soumyakant 70.00 40 \n",
              "5 105 mahesh     55.67 55 "
            ],
            "text/latex": "A data.frame: 5 × 4\n\\begin{tabular}{llll}\n id & name & marks & age\\\\\n <dbl> & <chr> & <dbl> & <dbl>\\\\\n\\hline\n\t 101 & Dinesh     & 78.25 & 35\\\\\n\t 102 & Dileep     & 59.68 & 32\\\\\n\t 103 & Ram        & 85.52 & 28\\\\\n\t 104 & Soumyakant & 70.00 & 40\\\\\n\t 105 & mahesh     & 55.67 & 55\\\\\n\\end{tabular}\n",
            "text/markdown": "\nA data.frame: 5 × 4\n\n| id &lt;dbl&gt; | name &lt;chr&gt; | marks &lt;dbl&gt; | age &lt;dbl&gt; |\n|---|---|---|---|\n| 101 | Dinesh     | 78.25 | 35 |\n| 102 | Dileep     | 59.68 | 32 |\n| 103 | Ram        | 85.52 | 28 |\n| 104 | Soumyakant | 70.00 | 40 |\n| 105 | mahesh     | 55.67 | 55 |\n\n",
            "text/html": [
              "<table class=\"dataframe\">\n",
              "<caption>A data.frame: 5 × 4</caption>\n",
              "<thead>\n",
              "\t<tr><th scope=col>id</th><th scope=col>name</th><th scope=col>marks</th><th scope=col>age</th></tr>\n",
              "\t<tr><th scope=col>&lt;dbl&gt;</th><th scope=col>&lt;chr&gt;</th><th scope=col>&lt;dbl&gt;</th><th scope=col>&lt;dbl&gt;</th></tr>\n",
              "</thead>\n",
              "<tbody>\n",
              "\t<tr><td>101</td><td>Dinesh    </td><td>78.25</td><td>35</td></tr>\n",
              "\t<tr><td>102</td><td>Dileep    </td><td>59.68</td><td>32</td></tr>\n",
              "\t<tr><td>103</td><td>Ram       </td><td>85.52</td><td>28</td></tr>\n",
              "\t<tr><td>104</td><td>Soumyakant</td><td>70.00</td><td>40</td></tr>\n",
              "\t<tr><td>105</td><td>mahesh    </td><td>55.67</td><td>55</td></tr>\n",
              "</tbody>\n",
              "</table>\n"
            ]
          },
          "metadata": {}
        }
      ]
    },
    {
      "cell_type": "code",
      "metadata": {
        "colab": {
          "base_uri": "https://localhost:8080/",
          "height": 255
        },
        "id": "STcj2GU6wiOw",
        "outputId": "2412533c-ecbd-48e0-adb3-d576f2d8549b"
      },
      "source": [
        "s1<-subset(students,select = c(name,age))\n",
        "s1"
      ],
      "execution_count": 8,
      "outputs": [
        {
          "output_type": "display_data",
          "data": {
            "text/plain": [
              "  name       age\n",
              "1 Dinesh     35 \n",
              "2 Dileep     32 \n",
              "3 Ram        28 \n",
              "4 Soumyakant 40 \n",
              "5 mahesh     55 "
            ],
            "text/latex": "A data.frame: 5 × 2\n\\begin{tabular}{r|ll}\n  & name & age\\\\\n  & <chr> & <dbl>\\\\\n\\hline\n\t1 & Dinesh     & 35\\\\\n\t2 & Dileep     & 32\\\\\n\t3 & Ram        & 28\\\\\n\t4 & Soumyakant & 40\\\\\n\t5 & mahesh     & 55\\\\\n\\end{tabular}\n",
            "text/markdown": "\nA data.frame: 5 × 2\n\n| <!--/--> | name &lt;chr&gt; | age &lt;dbl&gt; |\n|---|---|---|\n| 1 | Dinesh     | 35 |\n| 2 | Dileep     | 32 |\n| 3 | Ram        | 28 |\n| 4 | Soumyakant | 40 |\n| 5 | mahesh     | 55 |\n\n",
            "text/html": [
              "<table class=\"dataframe\">\n",
              "<caption>A data.frame: 5 × 2</caption>\n",
              "<thead>\n",
              "\t<tr><th></th><th scope=col>name</th><th scope=col>age</th></tr>\n",
              "\t<tr><th></th><th scope=col>&lt;chr&gt;</th><th scope=col>&lt;dbl&gt;</th></tr>\n",
              "</thead>\n",
              "<tbody>\n",
              "\t<tr><th scope=row>1</th><td>Dinesh    </td><td>35</td></tr>\n",
              "\t<tr><th scope=row>2</th><td>Dileep    </td><td>32</td></tr>\n",
              "\t<tr><th scope=row>3</th><td>Ram       </td><td>28</td></tr>\n",
              "\t<tr><th scope=row>4</th><td>Soumyakant</td><td>40</td></tr>\n",
              "\t<tr><th scope=row>5</th><td>mahesh    </td><td>55</td></tr>\n",
              "</tbody>\n",
              "</table>\n"
            ]
          },
          "metadata": {}
        }
      ]
    },
    {
      "cell_type": "code",
      "metadata": {
        "colab": {
          "base_uri": "https://localhost:8080/",
          "height": 255
        },
        "id": "SqGXfBh1do23",
        "outputId": "10969189-2eca-4110-fd68-4e3391ea6496"
      },
      "source": [
        "s2<-subset(students,select = c(-id))\n",
        "s2"
      ],
      "execution_count": 9,
      "outputs": [
        {
          "output_type": "display_data",
          "data": {
            "text/plain": [
              "  name       marks age\n",
              "1 Dinesh     78.25 35 \n",
              "2 Dileep     59.68 32 \n",
              "3 Ram        85.52 28 \n",
              "4 Soumyakant 70.00 40 \n",
              "5 mahesh     55.67 55 "
            ],
            "text/latex": "A data.frame: 5 × 3\n\\begin{tabular}{r|lll}\n  & name & marks & age\\\\\n  & <chr> & <dbl> & <dbl>\\\\\n\\hline\n\t1 & Dinesh     & 78.25 & 35\\\\\n\t2 & Dileep     & 59.68 & 32\\\\\n\t3 & Ram        & 85.52 & 28\\\\\n\t4 & Soumyakant & 70.00 & 40\\\\\n\t5 & mahesh     & 55.67 & 55\\\\\n\\end{tabular}\n",
            "text/markdown": "\nA data.frame: 5 × 3\n\n| <!--/--> | name &lt;chr&gt; | marks &lt;dbl&gt; | age &lt;dbl&gt; |\n|---|---|---|---|\n| 1 | Dinesh     | 78.25 | 35 |\n| 2 | Dileep     | 59.68 | 32 |\n| 3 | Ram        | 85.52 | 28 |\n| 4 | Soumyakant | 70.00 | 40 |\n| 5 | mahesh     | 55.67 | 55 |\n\n",
            "text/html": [
              "<table class=\"dataframe\">\n",
              "<caption>A data.frame: 5 × 3</caption>\n",
              "<thead>\n",
              "\t<tr><th></th><th scope=col>name</th><th scope=col>marks</th><th scope=col>age</th></tr>\n",
              "\t<tr><th></th><th scope=col>&lt;chr&gt;</th><th scope=col>&lt;dbl&gt;</th><th scope=col>&lt;dbl&gt;</th></tr>\n",
              "</thead>\n",
              "<tbody>\n",
              "\t<tr><th scope=row>1</th><td>Dinesh    </td><td>78.25</td><td>35</td></tr>\n",
              "\t<tr><th scope=row>2</th><td>Dileep    </td><td>59.68</td><td>32</td></tr>\n",
              "\t<tr><th scope=row>3</th><td>Ram       </td><td>85.52</td><td>28</td></tr>\n",
              "\t<tr><th scope=row>4</th><td>Soumyakant</td><td>70.00</td><td>40</td></tr>\n",
              "\t<tr><th scope=row>5</th><td>mahesh    </td><td>55.67</td><td>55</td></tr>\n",
              "</tbody>\n",
              "</table>\n"
            ]
          },
          "metadata": {}
        }
      ]
    },
    {
      "cell_type": "markdown",
      "metadata": {
        "id": "6IKph1CKe5Bm"
      },
      "source": [
        "**Renaming Variable** using reshape()"
      ]
    },
    {
      "cell_type": "code",
      "metadata": {
        "colab": {
          "base_uri": "https://localhost:8080/"
        },
        "id": "ZjFaUpJrfe0v",
        "outputId": "b8f5eed3-d4c5-4ed8-b91c-769057717c94"
      },
      "source": [
        "install.packages(\"reshape\")"
      ],
      "execution_count": 10,
      "outputs": [
        {
          "output_type": "stream",
          "name": "stderr",
          "text": [
            "Installing package into ‘/usr/local/lib/R/site-library’\n",
            "(as ‘lib’ is unspecified)\n",
            "\n",
            "also installing the dependency ‘plyr’\n",
            "\n",
            "\n"
          ]
        }
      ]
    },
    {
      "cell_type": "code",
      "metadata": {
        "colab": {
          "base_uri": "https://localhost:8080/",
          "height": 255
        },
        "id": "CWJxWMLXe8p4",
        "outputId": "7d457834-5f77-4740-d462-78cc8957482c"
      },
      "source": [
        "library(reshape)\n",
        "mydata <- rename(students, c(age=\"newage\"))\n",
        "mydata"
      ],
      "execution_count": 11,
      "outputs": [
        {
          "output_type": "display_data",
          "data": {
            "text/plain": [
              "  id  name       marks newage\n",
              "1 101 Dinesh     78.25 35    \n",
              "2 102 Dileep     59.68 32    \n",
              "3 103 Ram        85.52 28    \n",
              "4 104 Soumyakant 70.00 40    \n",
              "5 105 mahesh     55.67 55    "
            ],
            "text/latex": "A data.frame: 5 × 4\n\\begin{tabular}{llll}\n id & name & marks & newage\\\\\n <dbl> & <chr> & <dbl> & <dbl>\\\\\n\\hline\n\t 101 & Dinesh     & 78.25 & 35\\\\\n\t 102 & Dileep     & 59.68 & 32\\\\\n\t 103 & Ram        & 85.52 & 28\\\\\n\t 104 & Soumyakant & 70.00 & 40\\\\\n\t 105 & mahesh     & 55.67 & 55\\\\\n\\end{tabular}\n",
            "text/markdown": "\nA data.frame: 5 × 4\n\n| id &lt;dbl&gt; | name &lt;chr&gt; | marks &lt;dbl&gt; | newage &lt;dbl&gt; |\n|---|---|---|---|\n| 101 | Dinesh     | 78.25 | 35 |\n| 102 | Dileep     | 59.68 | 32 |\n| 103 | Ram        | 85.52 | 28 |\n| 104 | Soumyakant | 70.00 | 40 |\n| 105 | mahesh     | 55.67 | 55 |\n\n",
            "text/html": [
              "<table class=\"dataframe\">\n",
              "<caption>A data.frame: 5 × 4</caption>\n",
              "<thead>\n",
              "\t<tr><th scope=col>id</th><th scope=col>name</th><th scope=col>marks</th><th scope=col>newage</th></tr>\n",
              "\t<tr><th scope=col>&lt;dbl&gt;</th><th scope=col>&lt;chr&gt;</th><th scope=col>&lt;dbl&gt;</th><th scope=col>&lt;dbl&gt;</th></tr>\n",
              "</thead>\n",
              "<tbody>\n",
              "\t<tr><td>101</td><td>Dinesh    </td><td>78.25</td><td>35</td></tr>\n",
              "\t<tr><td>102</td><td>Dileep    </td><td>59.68</td><td>32</td></tr>\n",
              "\t<tr><td>103</td><td>Ram       </td><td>85.52</td><td>28</td></tr>\n",
              "\t<tr><td>104</td><td>Soumyakant</td><td>70.00</td><td>40</td></tr>\n",
              "\t<tr><td>105</td><td>mahesh    </td><td>55.67</td><td>55</td></tr>\n",
              "</tbody>\n",
              "</table>\n"
            ]
          },
          "metadata": {}
        }
      ]
    },
    {
      "cell_type": "markdown",
      "metadata": {
        "id": "RjYeSnaMgLtt"
      },
      "source": [
        "create 2 age categories "
      ]
    },
    {
      "cell_type": "code",
      "metadata": {
        "id": "HKzhD_ZKfuSv"
      },
      "source": [
        "students$agecat <- ifelse(students$age > 50,\n",
        "c(\"older\"), c(\"younger\")) "
      ],
      "execution_count": 12,
      "outputs": []
    },
    {
      "cell_type": "code",
      "metadata": {
        "colab": {
          "base_uri": "https://localhost:8080/",
          "height": 255
        },
        "id": "r3uRtl3We3k4",
        "outputId": "3153692f-471c-4801-b1a0-a3f4e21842fc"
      },
      "source": [
        "students"
      ],
      "execution_count": 13,
      "outputs": [
        {
          "output_type": "display_data",
          "data": {
            "text/plain": [
              "  id  name       marks age agecat \n",
              "1 101 Dinesh     78.25 35  younger\n",
              "2 102 Dileep     59.68 32  younger\n",
              "3 103 Ram        85.52 28  younger\n",
              "4 104 Soumyakant 70.00 40  younger\n",
              "5 105 mahesh     55.67 55  older  "
            ],
            "text/latex": "A data.frame: 5 × 5\n\\begin{tabular}{lllll}\n id & name & marks & age & agecat\\\\\n <dbl> & <chr> & <dbl> & <dbl> & <chr>\\\\\n\\hline\n\t 101 & Dinesh     & 78.25 & 35 & younger\\\\\n\t 102 & Dileep     & 59.68 & 32 & younger\\\\\n\t 103 & Ram        & 85.52 & 28 & younger\\\\\n\t 104 & Soumyakant & 70.00 & 40 & younger\\\\\n\t 105 & mahesh     & 55.67 & 55 & older  \\\\\n\\end{tabular}\n",
            "text/markdown": "\nA data.frame: 5 × 5\n\n| id &lt;dbl&gt; | name &lt;chr&gt; | marks &lt;dbl&gt; | age &lt;dbl&gt; | agecat &lt;chr&gt; |\n|---|---|---|---|---|\n| 101 | Dinesh     | 78.25 | 35 | younger |\n| 102 | Dileep     | 59.68 | 32 | younger |\n| 103 | Ram        | 85.52 | 28 | younger |\n| 104 | Soumyakant | 70.00 | 40 | younger |\n| 105 | mahesh     | 55.67 | 55 | older   |\n\n",
            "text/html": [
              "<table class=\"dataframe\">\n",
              "<caption>A data.frame: 5 × 5</caption>\n",
              "<thead>\n",
              "\t<tr><th scope=col>id</th><th scope=col>name</th><th scope=col>marks</th><th scope=col>age</th><th scope=col>agecat</th></tr>\n",
              "\t<tr><th scope=col>&lt;dbl&gt;</th><th scope=col>&lt;chr&gt;</th><th scope=col>&lt;dbl&gt;</th><th scope=col>&lt;dbl&gt;</th><th scope=col>&lt;chr&gt;</th></tr>\n",
              "</thead>\n",
              "<tbody>\n",
              "\t<tr><td>101</td><td>Dinesh    </td><td>78.25</td><td>35</td><td>younger</td></tr>\n",
              "\t<tr><td>102</td><td>Dileep    </td><td>59.68</td><td>32</td><td>younger</td></tr>\n",
              "\t<tr><td>103</td><td>Ram       </td><td>85.52</td><td>28</td><td>younger</td></tr>\n",
              "\t<tr><td>104</td><td>Soumyakant</td><td>70.00</td><td>40</td><td>younger</td></tr>\n",
              "\t<tr><td>105</td><td>mahesh    </td><td>55.67</td><td>55</td><td>older  </td></tr>\n",
              "</tbody>\n",
              "</table>\n"
            ]
          },
          "metadata": {}
        }
      ]
    },
    {
      "cell_type": "markdown",
      "metadata": {
        "id": "Mbl0_jK2gz2q"
      },
      "source": [
        "create 3 age categories "
      ]
    },
    {
      "cell_type": "code",
      "metadata": {
        "colab": {
          "base_uri": "https://localhost:8080/"
        },
        "id": "NgiSfIi9g5jZ",
        "outputId": "d38f1564-8614-4eec-883c-459318c2d0b5"
      },
      "source": [
        "attach(students)\n",
        "students$agecat[age > 50] <- \"Elder\"\n",
        "students$agecat[age > 30 & age <= 50] <- \"Middle Aged\"\n",
        "students$agecat[age <= 30] <- \"Young\"\n",
        "detach(students) "
      ],
      "execution_count": 14,
      "outputs": [
        {
          "output_type": "stream",
          "name": "stderr",
          "text": [
            "The following objects are masked _by_ .GlobalEnv:\n",
            "\n",
            "    id, marks, name\n",
            "\n",
            "\n"
          ]
        }
      ]
    },
    {
      "cell_type": "code",
      "metadata": {
        "colab": {
          "base_uri": "https://localhost:8080/",
          "height": 255
        },
        "id": "5kviTg2jicIP",
        "outputId": "e8036487-212e-4483-d49d-8b65db961356"
      },
      "source": [
        "students"
      ],
      "execution_count": 15,
      "outputs": [
        {
          "output_type": "display_data",
          "data": {
            "text/plain": [
              "  id  name       marks age agecat     \n",
              "1 101 Dinesh     78.25 35  Middle Aged\n",
              "2 102 Dileep     59.68 32  Middle Aged\n",
              "3 103 Ram        85.52 28  Young      \n",
              "4 104 Soumyakant 70.00 40  Middle Aged\n",
              "5 105 mahesh     55.67 55  Elder      "
            ],
            "text/latex": "A data.frame: 5 × 5\n\\begin{tabular}{lllll}\n id & name & marks & age & agecat\\\\\n <dbl> & <chr> & <dbl> & <dbl> & <chr>\\\\\n\\hline\n\t 101 & Dinesh     & 78.25 & 35 & Middle Aged\\\\\n\t 102 & Dileep     & 59.68 & 32 & Middle Aged\\\\\n\t 103 & Ram        & 85.52 & 28 & Young      \\\\\n\t 104 & Soumyakant & 70.00 & 40 & Middle Aged\\\\\n\t 105 & mahesh     & 55.67 & 55 & Elder      \\\\\n\\end{tabular}\n",
            "text/markdown": "\nA data.frame: 5 × 5\n\n| id &lt;dbl&gt; | name &lt;chr&gt; | marks &lt;dbl&gt; | age &lt;dbl&gt; | agecat &lt;chr&gt; |\n|---|---|---|---|---|\n| 101 | Dinesh     | 78.25 | 35 | Middle Aged |\n| 102 | Dileep     | 59.68 | 32 | Middle Aged |\n| 103 | Ram        | 85.52 | 28 | Young       |\n| 104 | Soumyakant | 70.00 | 40 | Middle Aged |\n| 105 | mahesh     | 55.67 | 55 | Elder       |\n\n",
            "text/html": [
              "<table class=\"dataframe\">\n",
              "<caption>A data.frame: 5 × 5</caption>\n",
              "<thead>\n",
              "\t<tr><th scope=col>id</th><th scope=col>name</th><th scope=col>marks</th><th scope=col>age</th><th scope=col>agecat</th></tr>\n",
              "\t<tr><th scope=col>&lt;dbl&gt;</th><th scope=col>&lt;chr&gt;</th><th scope=col>&lt;dbl&gt;</th><th scope=col>&lt;dbl&gt;</th><th scope=col>&lt;chr&gt;</th></tr>\n",
              "</thead>\n",
              "<tbody>\n",
              "\t<tr><td>101</td><td>Dinesh    </td><td>78.25</td><td>35</td><td>Middle Aged</td></tr>\n",
              "\t<tr><td>102</td><td>Dileep    </td><td>59.68</td><td>32</td><td>Middle Aged</td></tr>\n",
              "\t<tr><td>103</td><td>Ram       </td><td>85.52</td><td>28</td><td>Young      </td></tr>\n",
              "\t<tr><td>104</td><td>Soumyakant</td><td>70.00</td><td>40</td><td>Middle Aged</td></tr>\n",
              "\t<tr><td>105</td><td>mahesh    </td><td>55.67</td><td>55</td><td>Elder      </td></tr>\n",
              "</tbody>\n",
              "</table>\n"
            ]
          },
          "metadata": {}
        }
      ]
    },
    {
      "cell_type": "markdown",
      "metadata": {
        "id": "48kdN9Gfu10C"
      },
      "source": [
        "Importing data from Github"
      ]
    },
    {
      "cell_type": "code",
      "metadata": {
        "id": "6m5jsioDtZSl"
      },
      "source": [
        "mydata<-read.table('https://raw.githubusercontent.com/rssmahesh1/PDS2021/main/basic%20R/murders.csv', sep=',',head= TRUE)"
      ],
      "execution_count": 2,
      "outputs": []
    },
    {
      "cell_type": "code",
      "metadata": {
        "colab": {
          "base_uri": "https://localhost:8080/",
          "height": 882
        },
        "id": "OAXwUXPluptr",
        "outputId": "25dad4a0-ea84-40ad-9c7c-4cd2d38b584a"
      },
      "source": [
        "mydata"
      ],
      "execution_count": 8,
      "outputs": [
        {
          "output_type": "display_data",
          "data": {
            "text/plain": [
              "   state          abb region        population PopulationDensity murders\n",
              "1  Alabama        AL  South          4779736     94.65            199   \n",
              "2  Arizona        AZ  West           6392017     57.05            352   \n",
              "3  California     CA  West          37253956    244.20           1811   \n",
              "4  Colorado       CO  West           5029196     49.33            117   \n",
              "5  Connecticut    CT  Northeast      3574097    741.40            131   \n",
              "6  Florida        FL  South         19687653    360.20            987   \n",
              "7  Georgia        GA  South          9920000    172.50            527   \n",
              "8  Illinois       IL  North Central 12830632    231.90            453   \n",
              "9  Indiana        IN  North Central  6483802    182.50            198   \n",
              "10 Kentucky       KY  South          4339367    110.00            180   \n",
              "11 Louisiana      LA  South          4533372    105.00            437   \n",
              "12 Maryland       MD  South          5773552    606.20            424   \n",
              "13 Massachusetts  MA  Northeast      6547629    852.10            209   \n",
              "14 Michigan       MI  North Central  9883640    174.80            558   \n",
              "15 Missouri       MO  North Central  5988927     87.26            419   \n",
              "16 New Jersey     NJ  Northeast      8791894   1189.00            363   \n",
              "17 New York       NY  Northeast     19378102    415.30            860   \n",
              "18 North Carolina NC  South          9535483    200.60            445   \n",
              "19 Ohio           OH  North Central 11536504    282.50            460   \n",
              "20 Oklahoma       OK  South          3751351     55.22            188   \n",
              "21 Pennsylvania   PA  Northeast     12702379    285.30            646   \n",
              "22 Tennessee      TN  South          6346105    156.60            356   \n",
              "23 Texas          TX  South         25145561     98.07           1246   \n",
              "24 Virginia       VA  South          8001024    207.30            369   \n",
              "25 Wisconsin      WI  North Central  5686986    105.20            151   \n",
              "   gunmurders gunownership\n",
              "1   135       0.517       \n",
              "2   232       0.311       \n",
              "3  1257       0.213       \n",
              "4    65       0.347       \n",
              "5    97       0.167       \n",
              "6   669       0.245       \n",
              "7   376       0.403       \n",
              "8   364       0.202       \n",
              "9   142       0.391       \n",
              "10  116       0.477       \n",
              "11  351       0.441       \n",
              "12  293       0.213       \n",
              "13  118       0.126       \n",
              "14  413       0.384       \n",
              "15  321       0.417       \n",
              "16  246       0.123       \n",
              "17  517       0.180       \n",
              "18  286       0.413       \n",
              "19  310       0.324       \n",
              "20  111       0.429       \n",
              "21  457       0.347       \n",
              "22  219       0.439       \n",
              "23  805       0.359       \n",
              "24  250       0.351       \n",
              "25   97       0.444       "
            ],
            "text/latex": "A data.frame: 25 × 8\n\\begin{tabular}{llllllll}\n state & abb & region & population & PopulationDensity & murders & gunmurders & gunownership\\\\\n <chr> & <chr> & <chr> & <int> & <dbl> & <int> & <int> & <dbl>\\\\\n\\hline\n\t Alabama        & AL & South         &  4779736 &   94.65 &  199 &  135 & 0.517\\\\\n\t Arizona        & AZ & West          &  6392017 &   57.05 &  352 &  232 & 0.311\\\\\n\t California     & CA & West          & 37253956 &  244.20 & 1811 & 1257 & 0.213\\\\\n\t Colorado       & CO & West          &  5029196 &   49.33 &  117 &   65 & 0.347\\\\\n\t Connecticut    & CT & Northeast     &  3574097 &  741.40 &  131 &   97 & 0.167\\\\\n\t Florida        & FL & South         & 19687653 &  360.20 &  987 &  669 & 0.245\\\\\n\t Georgia        & GA & South         &  9920000 &  172.50 &  527 &  376 & 0.403\\\\\n\t Illinois       & IL & North Central & 12830632 &  231.90 &  453 &  364 & 0.202\\\\\n\t Indiana        & IN & North Central &  6483802 &  182.50 &  198 &  142 & 0.391\\\\\n\t Kentucky       & KY & South         &  4339367 &  110.00 &  180 &  116 & 0.477\\\\\n\t Louisiana      & LA & South         &  4533372 &  105.00 &  437 &  351 & 0.441\\\\\n\t Maryland       & MD & South         &  5773552 &  606.20 &  424 &  293 & 0.213\\\\\n\t Massachusetts  & MA & Northeast     &  6547629 &  852.10 &  209 &  118 & 0.126\\\\\n\t Michigan       & MI & North Central &  9883640 &  174.80 &  558 &  413 & 0.384\\\\\n\t Missouri       & MO & North Central &  5988927 &   87.26 &  419 &  321 & 0.417\\\\\n\t New Jersey     & NJ & Northeast     &  8791894 & 1189.00 &  363 &  246 & 0.123\\\\\n\t New York       & NY & Northeast     & 19378102 &  415.30 &  860 &  517 & 0.180\\\\\n\t North Carolina & NC & South         &  9535483 &  200.60 &  445 &  286 & 0.413\\\\\n\t Ohio           & OH & North Central & 11536504 &  282.50 &  460 &  310 & 0.324\\\\\n\t Oklahoma       & OK & South         &  3751351 &   55.22 &  188 &  111 & 0.429\\\\\n\t Pennsylvania   & PA & Northeast     & 12702379 &  285.30 &  646 &  457 & 0.347\\\\\n\t Tennessee      & TN & South         &  6346105 &  156.60 &  356 &  219 & 0.439\\\\\n\t Texas          & TX & South         & 25145561 &   98.07 & 1246 &  805 & 0.359\\\\\n\t Virginia       & VA & South         &  8001024 &  207.30 &  369 &  250 & 0.351\\\\\n\t Wisconsin      & WI & North Central &  5686986 &  105.20 &  151 &   97 & 0.444\\\\\n\\end{tabular}\n",
            "text/markdown": "\nA data.frame: 25 × 8\n\n| state &lt;chr&gt; | abb &lt;chr&gt; | region &lt;chr&gt; | population &lt;int&gt; | PopulationDensity &lt;dbl&gt; | murders &lt;int&gt; | gunmurders &lt;int&gt; | gunownership &lt;dbl&gt; |\n|---|---|---|---|---|---|---|---|\n| Alabama        | AL | South         |  4779736 |   94.65 |  199 |  135 | 0.517 |\n| Arizona        | AZ | West          |  6392017 |   57.05 |  352 |  232 | 0.311 |\n| California     | CA | West          | 37253956 |  244.20 | 1811 | 1257 | 0.213 |\n| Colorado       | CO | West          |  5029196 |   49.33 |  117 |   65 | 0.347 |\n| Connecticut    | CT | Northeast     |  3574097 |  741.40 |  131 |   97 | 0.167 |\n| Florida        | FL | South         | 19687653 |  360.20 |  987 |  669 | 0.245 |\n| Georgia        | GA | South         |  9920000 |  172.50 |  527 |  376 | 0.403 |\n| Illinois       | IL | North Central | 12830632 |  231.90 |  453 |  364 | 0.202 |\n| Indiana        | IN | North Central |  6483802 |  182.50 |  198 |  142 | 0.391 |\n| Kentucky       | KY | South         |  4339367 |  110.00 |  180 |  116 | 0.477 |\n| Louisiana      | LA | South         |  4533372 |  105.00 |  437 |  351 | 0.441 |\n| Maryland       | MD | South         |  5773552 |  606.20 |  424 |  293 | 0.213 |\n| Massachusetts  | MA | Northeast     |  6547629 |  852.10 |  209 |  118 | 0.126 |\n| Michigan       | MI | North Central |  9883640 |  174.80 |  558 |  413 | 0.384 |\n| Missouri       | MO | North Central |  5988927 |   87.26 |  419 |  321 | 0.417 |\n| New Jersey     | NJ | Northeast     |  8791894 | 1189.00 |  363 |  246 | 0.123 |\n| New York       | NY | Northeast     | 19378102 |  415.30 |  860 |  517 | 0.180 |\n| North Carolina | NC | South         |  9535483 |  200.60 |  445 |  286 | 0.413 |\n| Ohio           | OH | North Central | 11536504 |  282.50 |  460 |  310 | 0.324 |\n| Oklahoma       | OK | South         |  3751351 |   55.22 |  188 |  111 | 0.429 |\n| Pennsylvania   | PA | Northeast     | 12702379 |  285.30 |  646 |  457 | 0.347 |\n| Tennessee      | TN | South         |  6346105 |  156.60 |  356 |  219 | 0.439 |\n| Texas          | TX | South         | 25145561 |   98.07 | 1246 |  805 | 0.359 |\n| Virginia       | VA | South         |  8001024 |  207.30 |  369 |  250 | 0.351 |\n| Wisconsin      | WI | North Central |  5686986 |  105.20 |  151 |   97 | 0.444 |\n\n",
            "text/html": [
              "<table class=\"dataframe\">\n",
              "<caption>A data.frame: 25 × 8</caption>\n",
              "<thead>\n",
              "\t<tr><th scope=col>state</th><th scope=col>abb</th><th scope=col>region</th><th scope=col>population</th><th scope=col>PopulationDensity</th><th scope=col>murders</th><th scope=col>gunmurders</th><th scope=col>gunownership</th></tr>\n",
              "\t<tr><th scope=col>&lt;chr&gt;</th><th scope=col>&lt;chr&gt;</th><th scope=col>&lt;chr&gt;</th><th scope=col>&lt;int&gt;</th><th scope=col>&lt;dbl&gt;</th><th scope=col>&lt;int&gt;</th><th scope=col>&lt;int&gt;</th><th scope=col>&lt;dbl&gt;</th></tr>\n",
              "</thead>\n",
              "<tbody>\n",
              "\t<tr><td>Alabama       </td><td>AL</td><td>South        </td><td> 4779736</td><td>  94.65</td><td> 199</td><td> 135</td><td>0.517</td></tr>\n",
              "\t<tr><td>Arizona       </td><td>AZ</td><td>West         </td><td> 6392017</td><td>  57.05</td><td> 352</td><td> 232</td><td>0.311</td></tr>\n",
              "\t<tr><td>California    </td><td>CA</td><td>West         </td><td>37253956</td><td> 244.20</td><td>1811</td><td>1257</td><td>0.213</td></tr>\n",
              "\t<tr><td>Colorado      </td><td>CO</td><td>West         </td><td> 5029196</td><td>  49.33</td><td> 117</td><td>  65</td><td>0.347</td></tr>\n",
              "\t<tr><td>Connecticut   </td><td>CT</td><td>Northeast    </td><td> 3574097</td><td> 741.40</td><td> 131</td><td>  97</td><td>0.167</td></tr>\n",
              "\t<tr><td>Florida       </td><td>FL</td><td>South        </td><td>19687653</td><td> 360.20</td><td> 987</td><td> 669</td><td>0.245</td></tr>\n",
              "\t<tr><td>Georgia       </td><td>GA</td><td>South        </td><td> 9920000</td><td> 172.50</td><td> 527</td><td> 376</td><td>0.403</td></tr>\n",
              "\t<tr><td>Illinois      </td><td>IL</td><td>North Central</td><td>12830632</td><td> 231.90</td><td> 453</td><td> 364</td><td>0.202</td></tr>\n",
              "\t<tr><td>Indiana       </td><td>IN</td><td>North Central</td><td> 6483802</td><td> 182.50</td><td> 198</td><td> 142</td><td>0.391</td></tr>\n",
              "\t<tr><td>Kentucky      </td><td>KY</td><td>South        </td><td> 4339367</td><td> 110.00</td><td> 180</td><td> 116</td><td>0.477</td></tr>\n",
              "\t<tr><td>Louisiana     </td><td>LA</td><td>South        </td><td> 4533372</td><td> 105.00</td><td> 437</td><td> 351</td><td>0.441</td></tr>\n",
              "\t<tr><td>Maryland      </td><td>MD</td><td>South        </td><td> 5773552</td><td> 606.20</td><td> 424</td><td> 293</td><td>0.213</td></tr>\n",
              "\t<tr><td>Massachusetts </td><td>MA</td><td>Northeast    </td><td> 6547629</td><td> 852.10</td><td> 209</td><td> 118</td><td>0.126</td></tr>\n",
              "\t<tr><td>Michigan      </td><td>MI</td><td>North Central</td><td> 9883640</td><td> 174.80</td><td> 558</td><td> 413</td><td>0.384</td></tr>\n",
              "\t<tr><td>Missouri      </td><td>MO</td><td>North Central</td><td> 5988927</td><td>  87.26</td><td> 419</td><td> 321</td><td>0.417</td></tr>\n",
              "\t<tr><td>New Jersey    </td><td>NJ</td><td>Northeast    </td><td> 8791894</td><td>1189.00</td><td> 363</td><td> 246</td><td>0.123</td></tr>\n",
              "\t<tr><td>New York      </td><td>NY</td><td>Northeast    </td><td>19378102</td><td> 415.30</td><td> 860</td><td> 517</td><td>0.180</td></tr>\n",
              "\t<tr><td>North Carolina</td><td>NC</td><td>South        </td><td> 9535483</td><td> 200.60</td><td> 445</td><td> 286</td><td>0.413</td></tr>\n",
              "\t<tr><td>Ohio          </td><td>OH</td><td>North Central</td><td>11536504</td><td> 282.50</td><td> 460</td><td> 310</td><td>0.324</td></tr>\n",
              "\t<tr><td>Oklahoma      </td><td>OK</td><td>South        </td><td> 3751351</td><td>  55.22</td><td> 188</td><td> 111</td><td>0.429</td></tr>\n",
              "\t<tr><td>Pennsylvania  </td><td>PA</td><td>Northeast    </td><td>12702379</td><td> 285.30</td><td> 646</td><td> 457</td><td>0.347</td></tr>\n",
              "\t<tr><td>Tennessee     </td><td>TN</td><td>South        </td><td> 6346105</td><td> 156.60</td><td> 356</td><td> 219</td><td>0.439</td></tr>\n",
              "\t<tr><td>Texas         </td><td>TX</td><td>South        </td><td>25145561</td><td>  98.07</td><td>1246</td><td> 805</td><td>0.359</td></tr>\n",
              "\t<tr><td>Virginia      </td><td>VA</td><td>South        </td><td> 8001024</td><td> 207.30</td><td> 369</td><td> 250</td><td>0.351</td></tr>\n",
              "\t<tr><td>Wisconsin     </td><td>WI</td><td>North Central</td><td> 5686986</td><td> 105.20</td><td> 151</td><td>  97</td><td>0.444</td></tr>\n",
              "</tbody>\n",
              "</table>\n"
            ]
          },
          "metadata": {}
        }
      ]
    },
    {
      "cell_type": "code",
      "metadata": {
        "colab": {
          "base_uri": "https://localhost:8080/",
          "height": 34
        },
        "id": "eiteZp82vDtE",
        "outputId": "5baa6062-a186-4a0e-94a0-936ed2031c4b"
      },
      "source": [
        "dim(mydata)"
      ],
      "execution_count": 20,
      "outputs": [
        {
          "output_type": "display_data",
          "data": {
            "text/plain": [
              "[1] 25  8"
            ],
            "text/latex": "\\begin{enumerate*}\n\\item 25\n\\item 8\n\\end{enumerate*}\n",
            "text/markdown": "1. 25\n2. 8\n\n\n",
            "text/html": [
              "<style>\n",
              ".list-inline {list-style: none; margin:0; padding: 0}\n",
              ".list-inline>li {display: inline-block}\n",
              ".list-inline>li:not(:last-child)::after {content: \"\\00b7\"; padding: 0 .5ex}\n",
              "</style>\n",
              "<ol class=list-inline><li>25</li><li>8</li></ol>\n"
            ]
          },
          "metadata": {}
        }
      ]
    },
    {
      "cell_type": "code",
      "metadata": {
        "colab": {
          "base_uri": "https://localhost:8080/"
        },
        "id": "KUX1yjP0vHcG",
        "outputId": "88669f04-5f7b-4324-d3c2-9b26cb5c5940"
      },
      "source": [
        "str(mydata)"
      ],
      "execution_count": 21,
      "outputs": [
        {
          "output_type": "stream",
          "name": "stdout",
          "text": [
            "'data.frame':\t25 obs. of  8 variables:\n",
            " $ state            : chr  \"Alabama\" \"Arizona\" \"California\" \"Colorado\" ...\n",
            " $ abb              : chr  \"AL\" \"AZ\" \"CA\" \"CO\" ...\n",
            " $ region           : chr  \"South\" \"West\" \"West\" \"West\" ...\n",
            " $ population       : int  4779736 6392017 37253956 5029196 3574097 19687653 9920000 12830632 6483802 4339367 ...\n",
            " $ PopulationDensity: num  94.7 57 244.2 49.3 741.4 ...\n",
            " $ murders          : int  199 352 1811 117 131 987 527 453 198 180 ...\n",
            " $ gunmurders       : int  135 232 1257 65 97 669 376 364 142 116 ...\n",
            " $ gunownership     : num  0.517 0.311 0.213 0.347 0.167 0.245 0.403 0.202 0.391 0.477 ...\n"
          ]
        }
      ]
    },
    {
      "cell_type": "code",
      "metadata": {
        "colab": {
          "base_uri": "https://localhost:8080/",
          "height": 34
        },
        "id": "wLCw_6Q_wd0o",
        "outputId": "993f3469-5ebe-42ed-e3f4-547ada57ab5e"
      },
      "source": [
        "names(mydata)"
      ],
      "execution_count": 23,
      "outputs": [
        {
          "output_type": "display_data",
          "data": {
            "text/plain": [
              "[1] \"state\"             \"abb\"               \"region\"           \n",
              "[4] \"population\"        \"PopulationDensity\" \"murders\"          \n",
              "[7] \"gunmurders\"        \"gunownership\"     "
            ],
            "text/latex": "\\begin{enumerate*}\n\\item 'state'\n\\item 'abb'\n\\item 'region'\n\\item 'population'\n\\item 'PopulationDensity'\n\\item 'murders'\n\\item 'gunmurders'\n\\item 'gunownership'\n\\end{enumerate*}\n",
            "text/markdown": "1. 'state'\n2. 'abb'\n3. 'region'\n4. 'population'\n5. 'PopulationDensity'\n6. 'murders'\n7. 'gunmurders'\n8. 'gunownership'\n\n\n",
            "text/html": [
              "<style>\n",
              ".list-inline {list-style: none; margin:0; padding: 0}\n",
              ".list-inline>li {display: inline-block}\n",
              ".list-inline>li:not(:last-child)::after {content: \"\\00b7\"; padding: 0 .5ex}\n",
              "</style>\n",
              "<ol class=list-inline><li>'state'</li><li>'abb'</li><li>'region'</li><li>'population'</li><li>'PopulationDensity'</li><li>'murders'</li><li>'gunmurders'</li><li>'gunownership'</li></ol>\n"
            ]
          },
          "metadata": {}
        }
      ]
    },
    {
      "cell_type": "markdown",
      "metadata": {
        "id": "WcI-nIqRv_Kx"
      },
      "source": [
        "**Select()**"
      ]
    },
    {
      "cell_type": "code",
      "metadata": {
        "colab": {
          "base_uri": "https://localhost:8080/"
        },
        "id": "-l9dmGoHxGl3",
        "outputId": "f84d074c-e116-4d1b-e5a6-20378fff2ea6"
      },
      "source": [
        "library(dplyr)"
      ],
      "execution_count": 10,
      "outputs": [
        {
          "output_type": "stream",
          "name": "stderr",
          "text": [
            "\n",
            "Attaching package: ‘dplyr’\n",
            "\n",
            "\n",
            "The following objects are masked from ‘package:stats’:\n",
            "\n",
            "    filter, lag\n",
            "\n",
            "\n",
            "The following objects are masked from ‘package:base’:\n",
            "\n",
            "    intersect, setdiff, setequal, union\n",
            "\n",
            "\n"
          ]
        }
      ]
    },
    {
      "cell_type": "code",
      "metadata": {
        "colab": {
          "base_uri": "https://localhost:8080/",
          "height": 882
        },
        "id": "8agCC1pIvLaD",
        "outputId": "e8f6b3c6-f75c-43b2-e9e5-5b1d52c6dbf8"
      },
      "source": [
        "mysubdata<-select(mydata,state:gunownership)\n",
        "mysubdata"
      ],
      "execution_count": 28,
      "outputs": [
        {
          "output_type": "display_data",
          "data": {
            "text/plain": [
              "   state          abb region        population PopulationDensity murders\n",
              "1  Alabama        AL  South          4779736     94.65            199   \n",
              "2  Arizona        AZ  West           6392017     57.05            352   \n",
              "3  California     CA  West          37253956    244.20           1811   \n",
              "4  Colorado       CO  West           5029196     49.33            117   \n",
              "5  Connecticut    CT  Northeast      3574097    741.40            131   \n",
              "6  Florida        FL  South         19687653    360.20            987   \n",
              "7  Georgia        GA  South          9920000    172.50            527   \n",
              "8  Illinois       IL  North Central 12830632    231.90            453   \n",
              "9  Indiana        IN  North Central  6483802    182.50            198   \n",
              "10 Kentucky       KY  South          4339367    110.00            180   \n",
              "11 Louisiana      LA  South          4533372    105.00            437   \n",
              "12 Maryland       MD  South          5773552    606.20            424   \n",
              "13 Massachusetts  MA  Northeast      6547629    852.10            209   \n",
              "14 Michigan       MI  North Central  9883640    174.80            558   \n",
              "15 Missouri       MO  North Central  5988927     87.26            419   \n",
              "16 New Jersey     NJ  Northeast      8791894   1189.00            363   \n",
              "17 New York       NY  Northeast     19378102    415.30            860   \n",
              "18 North Carolina NC  South          9535483    200.60            445   \n",
              "19 Ohio           OH  North Central 11536504    282.50            460   \n",
              "20 Oklahoma       OK  South          3751351     55.22            188   \n",
              "21 Pennsylvania   PA  Northeast     12702379    285.30            646   \n",
              "22 Tennessee      TN  South          6346105    156.60            356   \n",
              "23 Texas          TX  South         25145561     98.07           1246   \n",
              "24 Virginia       VA  South          8001024    207.30            369   \n",
              "25 Wisconsin      WI  North Central  5686986    105.20            151   \n",
              "   gunmurders gunownership\n",
              "1   135       0.517       \n",
              "2   232       0.311       \n",
              "3  1257       0.213       \n",
              "4    65       0.347       \n",
              "5    97       0.167       \n",
              "6   669       0.245       \n",
              "7   376       0.403       \n",
              "8   364       0.202       \n",
              "9   142       0.391       \n",
              "10  116       0.477       \n",
              "11  351       0.441       \n",
              "12  293       0.213       \n",
              "13  118       0.126       \n",
              "14  413       0.384       \n",
              "15  321       0.417       \n",
              "16  246       0.123       \n",
              "17  517       0.180       \n",
              "18  286       0.413       \n",
              "19  310       0.324       \n",
              "20  111       0.429       \n",
              "21  457       0.347       \n",
              "22  219       0.439       \n",
              "23  805       0.359       \n",
              "24  250       0.351       \n",
              "25   97       0.444       "
            ],
            "text/latex": "A data.frame: 25 × 8\n\\begin{tabular}{llllllll}\n state & abb & region & population & PopulationDensity & murders & gunmurders & gunownership\\\\\n <chr> & <chr> & <chr> & <int> & <dbl> & <int> & <int> & <dbl>\\\\\n\\hline\n\t Alabama        & AL & South         &  4779736 &   94.65 &  199 &  135 & 0.517\\\\\n\t Arizona        & AZ & West          &  6392017 &   57.05 &  352 &  232 & 0.311\\\\\n\t California     & CA & West          & 37253956 &  244.20 & 1811 & 1257 & 0.213\\\\\n\t Colorado       & CO & West          &  5029196 &   49.33 &  117 &   65 & 0.347\\\\\n\t Connecticut    & CT & Northeast     &  3574097 &  741.40 &  131 &   97 & 0.167\\\\\n\t Florida        & FL & South         & 19687653 &  360.20 &  987 &  669 & 0.245\\\\\n\t Georgia        & GA & South         &  9920000 &  172.50 &  527 &  376 & 0.403\\\\\n\t Illinois       & IL & North Central & 12830632 &  231.90 &  453 &  364 & 0.202\\\\\n\t Indiana        & IN & North Central &  6483802 &  182.50 &  198 &  142 & 0.391\\\\\n\t Kentucky       & KY & South         &  4339367 &  110.00 &  180 &  116 & 0.477\\\\\n\t Louisiana      & LA & South         &  4533372 &  105.00 &  437 &  351 & 0.441\\\\\n\t Maryland       & MD & South         &  5773552 &  606.20 &  424 &  293 & 0.213\\\\\n\t Massachusetts  & MA & Northeast     &  6547629 &  852.10 &  209 &  118 & 0.126\\\\\n\t Michigan       & MI & North Central &  9883640 &  174.80 &  558 &  413 & 0.384\\\\\n\t Missouri       & MO & North Central &  5988927 &   87.26 &  419 &  321 & 0.417\\\\\n\t New Jersey     & NJ & Northeast     &  8791894 & 1189.00 &  363 &  246 & 0.123\\\\\n\t New York       & NY & Northeast     & 19378102 &  415.30 &  860 &  517 & 0.180\\\\\n\t North Carolina & NC & South         &  9535483 &  200.60 &  445 &  286 & 0.413\\\\\n\t Ohio           & OH & North Central & 11536504 &  282.50 &  460 &  310 & 0.324\\\\\n\t Oklahoma       & OK & South         &  3751351 &   55.22 &  188 &  111 & 0.429\\\\\n\t Pennsylvania   & PA & Northeast     & 12702379 &  285.30 &  646 &  457 & 0.347\\\\\n\t Tennessee      & TN & South         &  6346105 &  156.60 &  356 &  219 & 0.439\\\\\n\t Texas          & TX & South         & 25145561 &   98.07 & 1246 &  805 & 0.359\\\\\n\t Virginia       & VA & South         &  8001024 &  207.30 &  369 &  250 & 0.351\\\\\n\t Wisconsin      & WI & North Central &  5686986 &  105.20 &  151 &   97 & 0.444\\\\\n\\end{tabular}\n",
            "text/markdown": "\nA data.frame: 25 × 8\n\n| state &lt;chr&gt; | abb &lt;chr&gt; | region &lt;chr&gt; | population &lt;int&gt; | PopulationDensity &lt;dbl&gt; | murders &lt;int&gt; | gunmurders &lt;int&gt; | gunownership &lt;dbl&gt; |\n|---|---|---|---|---|---|---|---|\n| Alabama        | AL | South         |  4779736 |   94.65 |  199 |  135 | 0.517 |\n| Arizona        | AZ | West          |  6392017 |   57.05 |  352 |  232 | 0.311 |\n| California     | CA | West          | 37253956 |  244.20 | 1811 | 1257 | 0.213 |\n| Colorado       | CO | West          |  5029196 |   49.33 |  117 |   65 | 0.347 |\n| Connecticut    | CT | Northeast     |  3574097 |  741.40 |  131 |   97 | 0.167 |\n| Florida        | FL | South         | 19687653 |  360.20 |  987 |  669 | 0.245 |\n| Georgia        | GA | South         |  9920000 |  172.50 |  527 |  376 | 0.403 |\n| Illinois       | IL | North Central | 12830632 |  231.90 |  453 |  364 | 0.202 |\n| Indiana        | IN | North Central |  6483802 |  182.50 |  198 |  142 | 0.391 |\n| Kentucky       | KY | South         |  4339367 |  110.00 |  180 |  116 | 0.477 |\n| Louisiana      | LA | South         |  4533372 |  105.00 |  437 |  351 | 0.441 |\n| Maryland       | MD | South         |  5773552 |  606.20 |  424 |  293 | 0.213 |\n| Massachusetts  | MA | Northeast     |  6547629 |  852.10 |  209 |  118 | 0.126 |\n| Michigan       | MI | North Central |  9883640 |  174.80 |  558 |  413 | 0.384 |\n| Missouri       | MO | North Central |  5988927 |   87.26 |  419 |  321 | 0.417 |\n| New Jersey     | NJ | Northeast     |  8791894 | 1189.00 |  363 |  246 | 0.123 |\n| New York       | NY | Northeast     | 19378102 |  415.30 |  860 |  517 | 0.180 |\n| North Carolina | NC | South         |  9535483 |  200.60 |  445 |  286 | 0.413 |\n| Ohio           | OH | North Central | 11536504 |  282.50 |  460 |  310 | 0.324 |\n| Oklahoma       | OK | South         |  3751351 |   55.22 |  188 |  111 | 0.429 |\n| Pennsylvania   | PA | Northeast     | 12702379 |  285.30 |  646 |  457 | 0.347 |\n| Tennessee      | TN | South         |  6346105 |  156.60 |  356 |  219 | 0.439 |\n| Texas          | TX | South         | 25145561 |   98.07 | 1246 |  805 | 0.359 |\n| Virginia       | VA | South         |  8001024 |  207.30 |  369 |  250 | 0.351 |\n| Wisconsin      | WI | North Central |  5686986 |  105.20 |  151 |   97 | 0.444 |\n\n",
            "text/html": [
              "<table class=\"dataframe\">\n",
              "<caption>A data.frame: 25 × 8</caption>\n",
              "<thead>\n",
              "\t<tr><th scope=col>state</th><th scope=col>abb</th><th scope=col>region</th><th scope=col>population</th><th scope=col>PopulationDensity</th><th scope=col>murders</th><th scope=col>gunmurders</th><th scope=col>gunownership</th></tr>\n",
              "\t<tr><th scope=col>&lt;chr&gt;</th><th scope=col>&lt;chr&gt;</th><th scope=col>&lt;chr&gt;</th><th scope=col>&lt;int&gt;</th><th scope=col>&lt;dbl&gt;</th><th scope=col>&lt;int&gt;</th><th scope=col>&lt;int&gt;</th><th scope=col>&lt;dbl&gt;</th></tr>\n",
              "</thead>\n",
              "<tbody>\n",
              "\t<tr><td>Alabama       </td><td>AL</td><td>South        </td><td> 4779736</td><td>  94.65</td><td> 199</td><td> 135</td><td>0.517</td></tr>\n",
              "\t<tr><td>Arizona       </td><td>AZ</td><td>West         </td><td> 6392017</td><td>  57.05</td><td> 352</td><td> 232</td><td>0.311</td></tr>\n",
              "\t<tr><td>California    </td><td>CA</td><td>West         </td><td>37253956</td><td> 244.20</td><td>1811</td><td>1257</td><td>0.213</td></tr>\n",
              "\t<tr><td>Colorado      </td><td>CO</td><td>West         </td><td> 5029196</td><td>  49.33</td><td> 117</td><td>  65</td><td>0.347</td></tr>\n",
              "\t<tr><td>Connecticut   </td><td>CT</td><td>Northeast    </td><td> 3574097</td><td> 741.40</td><td> 131</td><td>  97</td><td>0.167</td></tr>\n",
              "\t<tr><td>Florida       </td><td>FL</td><td>South        </td><td>19687653</td><td> 360.20</td><td> 987</td><td> 669</td><td>0.245</td></tr>\n",
              "\t<tr><td>Georgia       </td><td>GA</td><td>South        </td><td> 9920000</td><td> 172.50</td><td> 527</td><td> 376</td><td>0.403</td></tr>\n",
              "\t<tr><td>Illinois      </td><td>IL</td><td>North Central</td><td>12830632</td><td> 231.90</td><td> 453</td><td> 364</td><td>0.202</td></tr>\n",
              "\t<tr><td>Indiana       </td><td>IN</td><td>North Central</td><td> 6483802</td><td> 182.50</td><td> 198</td><td> 142</td><td>0.391</td></tr>\n",
              "\t<tr><td>Kentucky      </td><td>KY</td><td>South        </td><td> 4339367</td><td> 110.00</td><td> 180</td><td> 116</td><td>0.477</td></tr>\n",
              "\t<tr><td>Louisiana     </td><td>LA</td><td>South        </td><td> 4533372</td><td> 105.00</td><td> 437</td><td> 351</td><td>0.441</td></tr>\n",
              "\t<tr><td>Maryland      </td><td>MD</td><td>South        </td><td> 5773552</td><td> 606.20</td><td> 424</td><td> 293</td><td>0.213</td></tr>\n",
              "\t<tr><td>Massachusetts </td><td>MA</td><td>Northeast    </td><td> 6547629</td><td> 852.10</td><td> 209</td><td> 118</td><td>0.126</td></tr>\n",
              "\t<tr><td>Michigan      </td><td>MI</td><td>North Central</td><td> 9883640</td><td> 174.80</td><td> 558</td><td> 413</td><td>0.384</td></tr>\n",
              "\t<tr><td>Missouri      </td><td>MO</td><td>North Central</td><td> 5988927</td><td>  87.26</td><td> 419</td><td> 321</td><td>0.417</td></tr>\n",
              "\t<tr><td>New Jersey    </td><td>NJ</td><td>Northeast    </td><td> 8791894</td><td>1189.00</td><td> 363</td><td> 246</td><td>0.123</td></tr>\n",
              "\t<tr><td>New York      </td><td>NY</td><td>Northeast    </td><td>19378102</td><td> 415.30</td><td> 860</td><td> 517</td><td>0.180</td></tr>\n",
              "\t<tr><td>North Carolina</td><td>NC</td><td>South        </td><td> 9535483</td><td> 200.60</td><td> 445</td><td> 286</td><td>0.413</td></tr>\n",
              "\t<tr><td>Ohio          </td><td>OH</td><td>North Central</td><td>11536504</td><td> 282.50</td><td> 460</td><td> 310</td><td>0.324</td></tr>\n",
              "\t<tr><td>Oklahoma      </td><td>OK</td><td>South        </td><td> 3751351</td><td>  55.22</td><td> 188</td><td> 111</td><td>0.429</td></tr>\n",
              "\t<tr><td>Pennsylvania  </td><td>PA</td><td>Northeast    </td><td>12702379</td><td> 285.30</td><td> 646</td><td> 457</td><td>0.347</td></tr>\n",
              "\t<tr><td>Tennessee     </td><td>TN</td><td>South        </td><td> 6346105</td><td> 156.60</td><td> 356</td><td> 219</td><td>0.439</td></tr>\n",
              "\t<tr><td>Texas         </td><td>TX</td><td>South        </td><td>25145561</td><td>  98.07</td><td>1246</td><td> 805</td><td>0.359</td></tr>\n",
              "\t<tr><td>Virginia      </td><td>VA</td><td>South        </td><td> 8001024</td><td> 207.30</td><td> 369</td><td> 250</td><td>0.351</td></tr>\n",
              "\t<tr><td>Wisconsin     </td><td>WI</td><td>North Central</td><td> 5686986</td><td> 105.20</td><td> 151</td><td>  97</td><td>0.444</td></tr>\n",
              "</tbody>\n",
              "</table>\n"
            ]
          },
          "metadata": {}
        }
      ]
    },
    {
      "cell_type": "code",
      "metadata": {
        "colab": {
          "base_uri": "https://localhost:8080/",
          "height": 882
        },
        "id": "Qc1u4nq5xmsd",
        "outputId": "4659a2dc-fc37-42e0-b78a-0adeb5d0bb1d"
      },
      "source": [
        "mysubdata<-select(mydata, -(state:population))\n",
        "mysubdata"
      ],
      "execution_count": 36,
      "outputs": [
        {
          "output_type": "display_data",
          "data": {
            "text/plain": [
              "   PopulationDensity murders gunmurders gunownership\n",
              "1    94.65            199     135       0.517       \n",
              "2    57.05            352     232       0.311       \n",
              "3   244.20           1811    1257       0.213       \n",
              "4    49.33            117      65       0.347       \n",
              "5   741.40            131      97       0.167       \n",
              "6   360.20            987     669       0.245       \n",
              "7   172.50            527     376       0.403       \n",
              "8   231.90            453     364       0.202       \n",
              "9   182.50            198     142       0.391       \n",
              "10  110.00            180     116       0.477       \n",
              "11  105.00            437     351       0.441       \n",
              "12  606.20            424     293       0.213       \n",
              "13  852.10            209     118       0.126       \n",
              "14  174.80            558     413       0.384       \n",
              "15   87.26            419     321       0.417       \n",
              "16 1189.00            363     246       0.123       \n",
              "17  415.30            860     517       0.180       \n",
              "18  200.60            445     286       0.413       \n",
              "19  282.50            460     310       0.324       \n",
              "20   55.22            188     111       0.429       \n",
              "21  285.30            646     457       0.347       \n",
              "22  156.60            356     219       0.439       \n",
              "23   98.07           1246     805       0.359       \n",
              "24  207.30            369     250       0.351       \n",
              "25  105.20            151      97       0.444       "
            ],
            "text/latex": "A data.frame: 25 × 4\n\\begin{tabular}{llll}\n PopulationDensity & murders & gunmurders & gunownership\\\\\n <dbl> & <int> & <int> & <dbl>\\\\\n\\hline\n\t   94.65 &  199 &  135 & 0.517\\\\\n\t   57.05 &  352 &  232 & 0.311\\\\\n\t  244.20 & 1811 & 1257 & 0.213\\\\\n\t   49.33 &  117 &   65 & 0.347\\\\\n\t  741.40 &  131 &   97 & 0.167\\\\\n\t  360.20 &  987 &  669 & 0.245\\\\\n\t  172.50 &  527 &  376 & 0.403\\\\\n\t  231.90 &  453 &  364 & 0.202\\\\\n\t  182.50 &  198 &  142 & 0.391\\\\\n\t  110.00 &  180 &  116 & 0.477\\\\\n\t  105.00 &  437 &  351 & 0.441\\\\\n\t  606.20 &  424 &  293 & 0.213\\\\\n\t  852.10 &  209 &  118 & 0.126\\\\\n\t  174.80 &  558 &  413 & 0.384\\\\\n\t   87.26 &  419 &  321 & 0.417\\\\\n\t 1189.00 &  363 &  246 & 0.123\\\\\n\t  415.30 &  860 &  517 & 0.180\\\\\n\t  200.60 &  445 &  286 & 0.413\\\\\n\t  282.50 &  460 &  310 & 0.324\\\\\n\t   55.22 &  188 &  111 & 0.429\\\\\n\t  285.30 &  646 &  457 & 0.347\\\\\n\t  156.60 &  356 &  219 & 0.439\\\\\n\t   98.07 & 1246 &  805 & 0.359\\\\\n\t  207.30 &  369 &  250 & 0.351\\\\\n\t  105.20 &  151 &   97 & 0.444\\\\\n\\end{tabular}\n",
            "text/markdown": "\nA data.frame: 25 × 4\n\n| PopulationDensity &lt;dbl&gt; | murders &lt;int&gt; | gunmurders &lt;int&gt; | gunownership &lt;dbl&gt; |\n|---|---|---|---|\n|   94.65 |  199 |  135 | 0.517 |\n|   57.05 |  352 |  232 | 0.311 |\n|  244.20 | 1811 | 1257 | 0.213 |\n|   49.33 |  117 |   65 | 0.347 |\n|  741.40 |  131 |   97 | 0.167 |\n|  360.20 |  987 |  669 | 0.245 |\n|  172.50 |  527 |  376 | 0.403 |\n|  231.90 |  453 |  364 | 0.202 |\n|  182.50 |  198 |  142 | 0.391 |\n|  110.00 |  180 |  116 | 0.477 |\n|  105.00 |  437 |  351 | 0.441 |\n|  606.20 |  424 |  293 | 0.213 |\n|  852.10 |  209 |  118 | 0.126 |\n|  174.80 |  558 |  413 | 0.384 |\n|   87.26 |  419 |  321 | 0.417 |\n| 1189.00 |  363 |  246 | 0.123 |\n|  415.30 |  860 |  517 | 0.180 |\n|  200.60 |  445 |  286 | 0.413 |\n|  282.50 |  460 |  310 | 0.324 |\n|   55.22 |  188 |  111 | 0.429 |\n|  285.30 |  646 |  457 | 0.347 |\n|  156.60 |  356 |  219 | 0.439 |\n|   98.07 | 1246 |  805 | 0.359 |\n|  207.30 |  369 |  250 | 0.351 |\n|  105.20 |  151 |   97 | 0.444 |\n\n",
            "text/html": [
              "<table class=\"dataframe\">\n",
              "<caption>A data.frame: 25 × 4</caption>\n",
              "<thead>\n",
              "\t<tr><th scope=col>PopulationDensity</th><th scope=col>murders</th><th scope=col>gunmurders</th><th scope=col>gunownership</th></tr>\n",
              "\t<tr><th scope=col>&lt;dbl&gt;</th><th scope=col>&lt;int&gt;</th><th scope=col>&lt;int&gt;</th><th scope=col>&lt;dbl&gt;</th></tr>\n",
              "</thead>\n",
              "<tbody>\n",
              "\t<tr><td>  94.65</td><td> 199</td><td> 135</td><td>0.517</td></tr>\n",
              "\t<tr><td>  57.05</td><td> 352</td><td> 232</td><td>0.311</td></tr>\n",
              "\t<tr><td> 244.20</td><td>1811</td><td>1257</td><td>0.213</td></tr>\n",
              "\t<tr><td>  49.33</td><td> 117</td><td>  65</td><td>0.347</td></tr>\n",
              "\t<tr><td> 741.40</td><td> 131</td><td>  97</td><td>0.167</td></tr>\n",
              "\t<tr><td> 360.20</td><td> 987</td><td> 669</td><td>0.245</td></tr>\n",
              "\t<tr><td> 172.50</td><td> 527</td><td> 376</td><td>0.403</td></tr>\n",
              "\t<tr><td> 231.90</td><td> 453</td><td> 364</td><td>0.202</td></tr>\n",
              "\t<tr><td> 182.50</td><td> 198</td><td> 142</td><td>0.391</td></tr>\n",
              "\t<tr><td> 110.00</td><td> 180</td><td> 116</td><td>0.477</td></tr>\n",
              "\t<tr><td> 105.00</td><td> 437</td><td> 351</td><td>0.441</td></tr>\n",
              "\t<tr><td> 606.20</td><td> 424</td><td> 293</td><td>0.213</td></tr>\n",
              "\t<tr><td> 852.10</td><td> 209</td><td> 118</td><td>0.126</td></tr>\n",
              "\t<tr><td> 174.80</td><td> 558</td><td> 413</td><td>0.384</td></tr>\n",
              "\t<tr><td>  87.26</td><td> 419</td><td> 321</td><td>0.417</td></tr>\n",
              "\t<tr><td>1189.00</td><td> 363</td><td> 246</td><td>0.123</td></tr>\n",
              "\t<tr><td> 415.30</td><td> 860</td><td> 517</td><td>0.180</td></tr>\n",
              "\t<tr><td> 200.60</td><td> 445</td><td> 286</td><td>0.413</td></tr>\n",
              "\t<tr><td> 282.50</td><td> 460</td><td> 310</td><td>0.324</td></tr>\n",
              "\t<tr><td>  55.22</td><td> 188</td><td> 111</td><td>0.429</td></tr>\n",
              "\t<tr><td> 285.30</td><td> 646</td><td> 457</td><td>0.347</td></tr>\n",
              "\t<tr><td> 156.60</td><td> 356</td><td> 219</td><td>0.439</td></tr>\n",
              "\t<tr><td>  98.07</td><td>1246</td><td> 805</td><td>0.359</td></tr>\n",
              "\t<tr><td> 207.30</td><td> 369</td><td> 250</td><td>0.351</td></tr>\n",
              "\t<tr><td> 105.20</td><td> 151</td><td>  97</td><td>0.444</td></tr>\n",
              "</tbody>\n",
              "</table>\n"
            ]
          },
          "metadata": {}
        }
      ]
    },
    {
      "cell_type": "code",
      "metadata": {
        "colab": {
          "base_uri": "https://localhost:8080/",
          "height": 882
        },
        "id": "4sNnlWIGyjcH",
        "outputId": "0390400e-4c70-4f97-f69b-f5b73355e1c6"
      },
      "source": [
        "mysubdata<-select(mydata, -c(state,population))\n",
        "mysubdata"
      ],
      "execution_count": 37,
      "outputs": [
        {
          "output_type": "display_data",
          "data": {
            "text/plain": [
              "   abb region        PopulationDensity murders gunmurders gunownership\n",
              "1  AL  South           94.65            199     135       0.517       \n",
              "2  AZ  West            57.05            352     232       0.311       \n",
              "3  CA  West           244.20           1811    1257       0.213       \n",
              "4  CO  West            49.33            117      65       0.347       \n",
              "5  CT  Northeast      741.40            131      97       0.167       \n",
              "6  FL  South          360.20            987     669       0.245       \n",
              "7  GA  South          172.50            527     376       0.403       \n",
              "8  IL  North Central  231.90            453     364       0.202       \n",
              "9  IN  North Central  182.50            198     142       0.391       \n",
              "10 KY  South          110.00            180     116       0.477       \n",
              "11 LA  South          105.00            437     351       0.441       \n",
              "12 MD  South          606.20            424     293       0.213       \n",
              "13 MA  Northeast      852.10            209     118       0.126       \n",
              "14 MI  North Central  174.80            558     413       0.384       \n",
              "15 MO  North Central   87.26            419     321       0.417       \n",
              "16 NJ  Northeast     1189.00            363     246       0.123       \n",
              "17 NY  Northeast      415.30            860     517       0.180       \n",
              "18 NC  South          200.60            445     286       0.413       \n",
              "19 OH  North Central  282.50            460     310       0.324       \n",
              "20 OK  South           55.22            188     111       0.429       \n",
              "21 PA  Northeast      285.30            646     457       0.347       \n",
              "22 TN  South          156.60            356     219       0.439       \n",
              "23 TX  South           98.07           1246     805       0.359       \n",
              "24 VA  South          207.30            369     250       0.351       \n",
              "25 WI  North Central  105.20            151      97       0.444       "
            ],
            "text/latex": "A data.frame: 25 × 6\n\\begin{tabular}{llllll}\n abb & region & PopulationDensity & murders & gunmurders & gunownership\\\\\n <chr> & <chr> & <dbl> & <int> & <int> & <dbl>\\\\\n\\hline\n\t AL & South         &   94.65 &  199 &  135 & 0.517\\\\\n\t AZ & West          &   57.05 &  352 &  232 & 0.311\\\\\n\t CA & West          &  244.20 & 1811 & 1257 & 0.213\\\\\n\t CO & West          &   49.33 &  117 &   65 & 0.347\\\\\n\t CT & Northeast     &  741.40 &  131 &   97 & 0.167\\\\\n\t FL & South         &  360.20 &  987 &  669 & 0.245\\\\\n\t GA & South         &  172.50 &  527 &  376 & 0.403\\\\\n\t IL & North Central &  231.90 &  453 &  364 & 0.202\\\\\n\t IN & North Central &  182.50 &  198 &  142 & 0.391\\\\\n\t KY & South         &  110.00 &  180 &  116 & 0.477\\\\\n\t LA & South         &  105.00 &  437 &  351 & 0.441\\\\\n\t MD & South         &  606.20 &  424 &  293 & 0.213\\\\\n\t MA & Northeast     &  852.10 &  209 &  118 & 0.126\\\\\n\t MI & North Central &  174.80 &  558 &  413 & 0.384\\\\\n\t MO & North Central &   87.26 &  419 &  321 & 0.417\\\\\n\t NJ & Northeast     & 1189.00 &  363 &  246 & 0.123\\\\\n\t NY & Northeast     &  415.30 &  860 &  517 & 0.180\\\\\n\t NC & South         &  200.60 &  445 &  286 & 0.413\\\\\n\t OH & North Central &  282.50 &  460 &  310 & 0.324\\\\\n\t OK & South         &   55.22 &  188 &  111 & 0.429\\\\\n\t PA & Northeast     &  285.30 &  646 &  457 & 0.347\\\\\n\t TN & South         &  156.60 &  356 &  219 & 0.439\\\\\n\t TX & South         &   98.07 & 1246 &  805 & 0.359\\\\\n\t VA & South         &  207.30 &  369 &  250 & 0.351\\\\\n\t WI & North Central &  105.20 &  151 &   97 & 0.444\\\\\n\\end{tabular}\n",
            "text/markdown": "\nA data.frame: 25 × 6\n\n| abb &lt;chr&gt; | region &lt;chr&gt; | PopulationDensity &lt;dbl&gt; | murders &lt;int&gt; | gunmurders &lt;int&gt; | gunownership &lt;dbl&gt; |\n|---|---|---|---|---|---|\n| AL | South         |   94.65 |  199 |  135 | 0.517 |\n| AZ | West          |   57.05 |  352 |  232 | 0.311 |\n| CA | West          |  244.20 | 1811 | 1257 | 0.213 |\n| CO | West          |   49.33 |  117 |   65 | 0.347 |\n| CT | Northeast     |  741.40 |  131 |   97 | 0.167 |\n| FL | South         |  360.20 |  987 |  669 | 0.245 |\n| GA | South         |  172.50 |  527 |  376 | 0.403 |\n| IL | North Central |  231.90 |  453 |  364 | 0.202 |\n| IN | North Central |  182.50 |  198 |  142 | 0.391 |\n| KY | South         |  110.00 |  180 |  116 | 0.477 |\n| LA | South         |  105.00 |  437 |  351 | 0.441 |\n| MD | South         |  606.20 |  424 |  293 | 0.213 |\n| MA | Northeast     |  852.10 |  209 |  118 | 0.126 |\n| MI | North Central |  174.80 |  558 |  413 | 0.384 |\n| MO | North Central |   87.26 |  419 |  321 | 0.417 |\n| NJ | Northeast     | 1189.00 |  363 |  246 | 0.123 |\n| NY | Northeast     |  415.30 |  860 |  517 | 0.180 |\n| NC | South         |  200.60 |  445 |  286 | 0.413 |\n| OH | North Central |  282.50 |  460 |  310 | 0.324 |\n| OK | South         |   55.22 |  188 |  111 | 0.429 |\n| PA | Northeast     |  285.30 |  646 |  457 | 0.347 |\n| TN | South         |  156.60 |  356 |  219 | 0.439 |\n| TX | South         |   98.07 | 1246 |  805 | 0.359 |\n| VA | South         |  207.30 |  369 |  250 | 0.351 |\n| WI | North Central |  105.20 |  151 |   97 | 0.444 |\n\n",
            "text/html": [
              "<table class=\"dataframe\">\n",
              "<caption>A data.frame: 25 × 6</caption>\n",
              "<thead>\n",
              "\t<tr><th scope=col>abb</th><th scope=col>region</th><th scope=col>PopulationDensity</th><th scope=col>murders</th><th scope=col>gunmurders</th><th scope=col>gunownership</th></tr>\n",
              "\t<tr><th scope=col>&lt;chr&gt;</th><th scope=col>&lt;chr&gt;</th><th scope=col>&lt;dbl&gt;</th><th scope=col>&lt;int&gt;</th><th scope=col>&lt;int&gt;</th><th scope=col>&lt;dbl&gt;</th></tr>\n",
              "</thead>\n",
              "<tbody>\n",
              "\t<tr><td>AL</td><td>South        </td><td>  94.65</td><td> 199</td><td> 135</td><td>0.517</td></tr>\n",
              "\t<tr><td>AZ</td><td>West         </td><td>  57.05</td><td> 352</td><td> 232</td><td>0.311</td></tr>\n",
              "\t<tr><td>CA</td><td>West         </td><td> 244.20</td><td>1811</td><td>1257</td><td>0.213</td></tr>\n",
              "\t<tr><td>CO</td><td>West         </td><td>  49.33</td><td> 117</td><td>  65</td><td>0.347</td></tr>\n",
              "\t<tr><td>CT</td><td>Northeast    </td><td> 741.40</td><td> 131</td><td>  97</td><td>0.167</td></tr>\n",
              "\t<tr><td>FL</td><td>South        </td><td> 360.20</td><td> 987</td><td> 669</td><td>0.245</td></tr>\n",
              "\t<tr><td>GA</td><td>South        </td><td> 172.50</td><td> 527</td><td> 376</td><td>0.403</td></tr>\n",
              "\t<tr><td>IL</td><td>North Central</td><td> 231.90</td><td> 453</td><td> 364</td><td>0.202</td></tr>\n",
              "\t<tr><td>IN</td><td>North Central</td><td> 182.50</td><td> 198</td><td> 142</td><td>0.391</td></tr>\n",
              "\t<tr><td>KY</td><td>South        </td><td> 110.00</td><td> 180</td><td> 116</td><td>0.477</td></tr>\n",
              "\t<tr><td>LA</td><td>South        </td><td> 105.00</td><td> 437</td><td> 351</td><td>0.441</td></tr>\n",
              "\t<tr><td>MD</td><td>South        </td><td> 606.20</td><td> 424</td><td> 293</td><td>0.213</td></tr>\n",
              "\t<tr><td>MA</td><td>Northeast    </td><td> 852.10</td><td> 209</td><td> 118</td><td>0.126</td></tr>\n",
              "\t<tr><td>MI</td><td>North Central</td><td> 174.80</td><td> 558</td><td> 413</td><td>0.384</td></tr>\n",
              "\t<tr><td>MO</td><td>North Central</td><td>  87.26</td><td> 419</td><td> 321</td><td>0.417</td></tr>\n",
              "\t<tr><td>NJ</td><td>Northeast    </td><td>1189.00</td><td> 363</td><td> 246</td><td>0.123</td></tr>\n",
              "\t<tr><td>NY</td><td>Northeast    </td><td> 415.30</td><td> 860</td><td> 517</td><td>0.180</td></tr>\n",
              "\t<tr><td>NC</td><td>South        </td><td> 200.60</td><td> 445</td><td> 286</td><td>0.413</td></tr>\n",
              "\t<tr><td>OH</td><td>North Central</td><td> 282.50</td><td> 460</td><td> 310</td><td>0.324</td></tr>\n",
              "\t<tr><td>OK</td><td>South        </td><td>  55.22</td><td> 188</td><td> 111</td><td>0.429</td></tr>\n",
              "\t<tr><td>PA</td><td>Northeast    </td><td> 285.30</td><td> 646</td><td> 457</td><td>0.347</td></tr>\n",
              "\t<tr><td>TN</td><td>South        </td><td> 156.60</td><td> 356</td><td> 219</td><td>0.439</td></tr>\n",
              "\t<tr><td>TX</td><td>South        </td><td>  98.07</td><td>1246</td><td> 805</td><td>0.359</td></tr>\n",
              "\t<tr><td>VA</td><td>South        </td><td> 207.30</td><td> 369</td><td> 250</td><td>0.351</td></tr>\n",
              "\t<tr><td>WI</td><td>North Central</td><td> 105.20</td><td> 151</td><td>  97</td><td>0.444</td></tr>\n",
              "</tbody>\n",
              "</table>\n"
            ]
          },
          "metadata": {}
        }
      ]
    },
    {
      "cell_type": "markdown",
      "metadata": {
        "id": "Jw8rC9gY6GWx"
      },
      "source": [
        "**filter()**"
      ]
    },
    {
      "cell_type": "code",
      "metadata": {
        "colab": {
          "base_uri": "https://localhost:8080/",
          "height": 286
        },
        "id": "x-AKZeYv9Mtk",
        "outputId": "a5eecbaa-aef1-438d-b8b5-4114aad467c4"
      },
      "source": [
        "mydata<-read.table('https://raw.githubusercontent.com/rssmahesh1/PDS2021/main/basic%20R/murders.csv', sep=',',head= TRUE)\n",
        "head(mydata)"
      ],
      "execution_count": 3,
      "outputs": [
        {
          "output_type": "display_data",
          "data": {
            "text/plain": [
              "  state       abb region    population PopulationDensity murders gunmurders\n",
              "1 Alabama     AL  South      4779736    94.65             199     135      \n",
              "2 Arizona     AZ  West       6392017    57.05             352     232      \n",
              "3 California  CA  West      37253956   244.20            1811    1257      \n",
              "4 Colorado    CO  West       5029196    49.33             117      65      \n",
              "5 Connecticut CT  Northeast  3574097   741.40             131      97      \n",
              "6 Florida     FL  South     19687653   360.20             987     669      \n",
              "  gunownership\n",
              "1 0.517       \n",
              "2 0.311       \n",
              "3 0.213       \n",
              "4 0.347       \n",
              "5 0.167       \n",
              "6 0.245       "
            ],
            "text/latex": "A data.frame: 6 × 8\n\\begin{tabular}{r|llllllll}\n  & state & abb & region & population & PopulationDensity & murders & gunmurders & gunownership\\\\\n  & <chr> & <chr> & <chr> & <int> & <dbl> & <int> & <int> & <dbl>\\\\\n\\hline\n\t1 & Alabama     & AL & South     &  4779736 &  94.65 &  199 &  135 & 0.517\\\\\n\t2 & Arizona     & AZ & West      &  6392017 &  57.05 &  352 &  232 & 0.311\\\\\n\t3 & California  & CA & West      & 37253956 & 244.20 & 1811 & 1257 & 0.213\\\\\n\t4 & Colorado    & CO & West      &  5029196 &  49.33 &  117 &   65 & 0.347\\\\\n\t5 & Connecticut & CT & Northeast &  3574097 & 741.40 &  131 &   97 & 0.167\\\\\n\t6 & Florida     & FL & South     & 19687653 & 360.20 &  987 &  669 & 0.245\\\\\n\\end{tabular}\n",
            "text/markdown": "\nA data.frame: 6 × 8\n\n| <!--/--> | state &lt;chr&gt; | abb &lt;chr&gt; | region &lt;chr&gt; | population &lt;int&gt; | PopulationDensity &lt;dbl&gt; | murders &lt;int&gt; | gunmurders &lt;int&gt; | gunownership &lt;dbl&gt; |\n|---|---|---|---|---|---|---|---|---|\n| 1 | Alabama     | AL | South     |  4779736 |  94.65 |  199 |  135 | 0.517 |\n| 2 | Arizona     | AZ | West      |  6392017 |  57.05 |  352 |  232 | 0.311 |\n| 3 | California  | CA | West      | 37253956 | 244.20 | 1811 | 1257 | 0.213 |\n| 4 | Colorado    | CO | West      |  5029196 |  49.33 |  117 |   65 | 0.347 |\n| 5 | Connecticut | CT | Northeast |  3574097 | 741.40 |  131 |   97 | 0.167 |\n| 6 | Florida     | FL | South     | 19687653 | 360.20 |  987 |  669 | 0.245 |\n\n",
            "text/html": [
              "<table class=\"dataframe\">\n",
              "<caption>A data.frame: 6 × 8</caption>\n",
              "<thead>\n",
              "\t<tr><th></th><th scope=col>state</th><th scope=col>abb</th><th scope=col>region</th><th scope=col>population</th><th scope=col>PopulationDensity</th><th scope=col>murders</th><th scope=col>gunmurders</th><th scope=col>gunownership</th></tr>\n",
              "\t<tr><th></th><th scope=col>&lt;chr&gt;</th><th scope=col>&lt;chr&gt;</th><th scope=col>&lt;chr&gt;</th><th scope=col>&lt;int&gt;</th><th scope=col>&lt;dbl&gt;</th><th scope=col>&lt;int&gt;</th><th scope=col>&lt;int&gt;</th><th scope=col>&lt;dbl&gt;</th></tr>\n",
              "</thead>\n",
              "<tbody>\n",
              "\t<tr><th scope=row>1</th><td>Alabama    </td><td>AL</td><td>South    </td><td> 4779736</td><td> 94.65</td><td> 199</td><td> 135</td><td>0.517</td></tr>\n",
              "\t<tr><th scope=row>2</th><td>Arizona    </td><td>AZ</td><td>West     </td><td> 6392017</td><td> 57.05</td><td> 352</td><td> 232</td><td>0.311</td></tr>\n",
              "\t<tr><th scope=row>3</th><td>California </td><td>CA</td><td>West     </td><td>37253956</td><td>244.20</td><td>1811</td><td>1257</td><td>0.213</td></tr>\n",
              "\t<tr><th scope=row>4</th><td>Colorado   </td><td>CO</td><td>West     </td><td> 5029196</td><td> 49.33</td><td> 117</td><td>  65</td><td>0.347</td></tr>\n",
              "\t<tr><th scope=row>5</th><td>Connecticut</td><td>CT</td><td>Northeast</td><td> 3574097</td><td>741.40</td><td> 131</td><td>  97</td><td>0.167</td></tr>\n",
              "\t<tr><th scope=row>6</th><td>Florida    </td><td>FL</td><td>South    </td><td>19687653</td><td>360.20</td><td> 987</td><td> 669</td><td>0.245</td></tr>\n",
              "</tbody>\n",
              "</table>\n"
            ]
          },
          "metadata": {}
        }
      ]
    },
    {
      "cell_type": "code",
      "metadata": {
        "colab": {
          "base_uri": "https://localhost:8080/",
          "height": 882
        },
        "id": "_tWAd8i16MFB",
        "outputId": "50ea47f3-b0e8-4052-b5a2-a21c22c71533"
      },
      "source": [
        "mysubdata<-filter(mydata,murders>100)\n",
        "mysubdata"
      ],
      "execution_count": 12,
      "outputs": [
        {
          "output_type": "display_data",
          "data": {
            "text/plain": [
              "   state          abb region        population PopulationDensity murders\n",
              "1  Alabama        AL  South          4779736     94.65            199   \n",
              "2  Arizona        AZ  West           6392017     57.05            352   \n",
              "3  California     CA  West          37253956    244.20           1811   \n",
              "4  Colorado       CO  West           5029196     49.33            117   \n",
              "5  Connecticut    CT  Northeast      3574097    741.40            131   \n",
              "6  Florida        FL  South         19687653    360.20            987   \n",
              "7  Georgia        GA  South          9920000    172.50            527   \n",
              "8  Illinois       IL  North Central 12830632    231.90            453   \n",
              "9  Indiana        IN  North Central  6483802    182.50            198   \n",
              "10 Kentucky       KY  South          4339367    110.00            180   \n",
              "11 Louisiana      LA  South          4533372    105.00            437   \n",
              "12 Maryland       MD  South          5773552    606.20            424   \n",
              "13 Massachusetts  MA  Northeast      6547629    852.10            209   \n",
              "14 Michigan       MI  North Central  9883640    174.80            558   \n",
              "15 Missouri       MO  North Central  5988927     87.26            419   \n",
              "16 New Jersey     NJ  Northeast      8791894   1189.00            363   \n",
              "17 New York       NY  Northeast     19378102    415.30            860   \n",
              "18 North Carolina NC  South          9535483    200.60            445   \n",
              "19 Ohio           OH  North Central 11536504    282.50            460   \n",
              "20 Oklahoma       OK  South          3751351     55.22            188   \n",
              "21 Pennsylvania   PA  Northeast     12702379    285.30            646   \n",
              "22 Tennessee      TN  South          6346105    156.60            356   \n",
              "23 Texas          TX  South         25145561     98.07           1246   \n",
              "24 Virginia       VA  South          8001024    207.30            369   \n",
              "25 Wisconsin      WI  North Central  5686986    105.20            151   \n",
              "   gunmurders gunownership\n",
              "1   135       0.517       \n",
              "2   232       0.311       \n",
              "3  1257       0.213       \n",
              "4    65       0.347       \n",
              "5    97       0.167       \n",
              "6   669       0.245       \n",
              "7   376       0.403       \n",
              "8   364       0.202       \n",
              "9   142       0.391       \n",
              "10  116       0.477       \n",
              "11  351       0.441       \n",
              "12  293       0.213       \n",
              "13  118       0.126       \n",
              "14  413       0.384       \n",
              "15  321       0.417       \n",
              "16  246       0.123       \n",
              "17  517       0.180       \n",
              "18  286       0.413       \n",
              "19  310       0.324       \n",
              "20  111       0.429       \n",
              "21  457       0.347       \n",
              "22  219       0.439       \n",
              "23  805       0.359       \n",
              "24  250       0.351       \n",
              "25   97       0.444       "
            ],
            "text/latex": "A data.frame: 25 × 8\n\\begin{tabular}{llllllll}\n state & abb & region & population & PopulationDensity & murders & gunmurders & gunownership\\\\\n <chr> & <chr> & <chr> & <int> & <dbl> & <int> & <int> & <dbl>\\\\\n\\hline\n\t Alabama        & AL & South         &  4779736 &   94.65 &  199 &  135 & 0.517\\\\\n\t Arizona        & AZ & West          &  6392017 &   57.05 &  352 &  232 & 0.311\\\\\n\t California     & CA & West          & 37253956 &  244.20 & 1811 & 1257 & 0.213\\\\\n\t Colorado       & CO & West          &  5029196 &   49.33 &  117 &   65 & 0.347\\\\\n\t Connecticut    & CT & Northeast     &  3574097 &  741.40 &  131 &   97 & 0.167\\\\\n\t Florida        & FL & South         & 19687653 &  360.20 &  987 &  669 & 0.245\\\\\n\t Georgia        & GA & South         &  9920000 &  172.50 &  527 &  376 & 0.403\\\\\n\t Illinois       & IL & North Central & 12830632 &  231.90 &  453 &  364 & 0.202\\\\\n\t Indiana        & IN & North Central &  6483802 &  182.50 &  198 &  142 & 0.391\\\\\n\t Kentucky       & KY & South         &  4339367 &  110.00 &  180 &  116 & 0.477\\\\\n\t Louisiana      & LA & South         &  4533372 &  105.00 &  437 &  351 & 0.441\\\\\n\t Maryland       & MD & South         &  5773552 &  606.20 &  424 &  293 & 0.213\\\\\n\t Massachusetts  & MA & Northeast     &  6547629 &  852.10 &  209 &  118 & 0.126\\\\\n\t Michigan       & MI & North Central &  9883640 &  174.80 &  558 &  413 & 0.384\\\\\n\t Missouri       & MO & North Central &  5988927 &   87.26 &  419 &  321 & 0.417\\\\\n\t New Jersey     & NJ & Northeast     &  8791894 & 1189.00 &  363 &  246 & 0.123\\\\\n\t New York       & NY & Northeast     & 19378102 &  415.30 &  860 &  517 & 0.180\\\\\n\t North Carolina & NC & South         &  9535483 &  200.60 &  445 &  286 & 0.413\\\\\n\t Ohio           & OH & North Central & 11536504 &  282.50 &  460 &  310 & 0.324\\\\\n\t Oklahoma       & OK & South         &  3751351 &   55.22 &  188 &  111 & 0.429\\\\\n\t Pennsylvania   & PA & Northeast     & 12702379 &  285.30 &  646 &  457 & 0.347\\\\\n\t Tennessee      & TN & South         &  6346105 &  156.60 &  356 &  219 & 0.439\\\\\n\t Texas          & TX & South         & 25145561 &   98.07 & 1246 &  805 & 0.359\\\\\n\t Virginia       & VA & South         &  8001024 &  207.30 &  369 &  250 & 0.351\\\\\n\t Wisconsin      & WI & North Central &  5686986 &  105.20 &  151 &   97 & 0.444\\\\\n\\end{tabular}\n",
            "text/markdown": "\nA data.frame: 25 × 8\n\n| state &lt;chr&gt; | abb &lt;chr&gt; | region &lt;chr&gt; | population &lt;int&gt; | PopulationDensity &lt;dbl&gt; | murders &lt;int&gt; | gunmurders &lt;int&gt; | gunownership &lt;dbl&gt; |\n|---|---|---|---|---|---|---|---|\n| Alabama        | AL | South         |  4779736 |   94.65 |  199 |  135 | 0.517 |\n| Arizona        | AZ | West          |  6392017 |   57.05 |  352 |  232 | 0.311 |\n| California     | CA | West          | 37253956 |  244.20 | 1811 | 1257 | 0.213 |\n| Colorado       | CO | West          |  5029196 |   49.33 |  117 |   65 | 0.347 |\n| Connecticut    | CT | Northeast     |  3574097 |  741.40 |  131 |   97 | 0.167 |\n| Florida        | FL | South         | 19687653 |  360.20 |  987 |  669 | 0.245 |\n| Georgia        | GA | South         |  9920000 |  172.50 |  527 |  376 | 0.403 |\n| Illinois       | IL | North Central | 12830632 |  231.90 |  453 |  364 | 0.202 |\n| Indiana        | IN | North Central |  6483802 |  182.50 |  198 |  142 | 0.391 |\n| Kentucky       | KY | South         |  4339367 |  110.00 |  180 |  116 | 0.477 |\n| Louisiana      | LA | South         |  4533372 |  105.00 |  437 |  351 | 0.441 |\n| Maryland       | MD | South         |  5773552 |  606.20 |  424 |  293 | 0.213 |\n| Massachusetts  | MA | Northeast     |  6547629 |  852.10 |  209 |  118 | 0.126 |\n| Michigan       | MI | North Central |  9883640 |  174.80 |  558 |  413 | 0.384 |\n| Missouri       | MO | North Central |  5988927 |   87.26 |  419 |  321 | 0.417 |\n| New Jersey     | NJ | Northeast     |  8791894 | 1189.00 |  363 |  246 | 0.123 |\n| New York       | NY | Northeast     | 19378102 |  415.30 |  860 |  517 | 0.180 |\n| North Carolina | NC | South         |  9535483 |  200.60 |  445 |  286 | 0.413 |\n| Ohio           | OH | North Central | 11536504 |  282.50 |  460 |  310 | 0.324 |\n| Oklahoma       | OK | South         |  3751351 |   55.22 |  188 |  111 | 0.429 |\n| Pennsylvania   | PA | Northeast     | 12702379 |  285.30 |  646 |  457 | 0.347 |\n| Tennessee      | TN | South         |  6346105 |  156.60 |  356 |  219 | 0.439 |\n| Texas          | TX | South         | 25145561 |   98.07 | 1246 |  805 | 0.359 |\n| Virginia       | VA | South         |  8001024 |  207.30 |  369 |  250 | 0.351 |\n| Wisconsin      | WI | North Central |  5686986 |  105.20 |  151 |   97 | 0.444 |\n\n",
            "text/html": [
              "<table class=\"dataframe\">\n",
              "<caption>A data.frame: 25 × 8</caption>\n",
              "<thead>\n",
              "\t<tr><th scope=col>state</th><th scope=col>abb</th><th scope=col>region</th><th scope=col>population</th><th scope=col>PopulationDensity</th><th scope=col>murders</th><th scope=col>gunmurders</th><th scope=col>gunownership</th></tr>\n",
              "\t<tr><th scope=col>&lt;chr&gt;</th><th scope=col>&lt;chr&gt;</th><th scope=col>&lt;chr&gt;</th><th scope=col>&lt;int&gt;</th><th scope=col>&lt;dbl&gt;</th><th scope=col>&lt;int&gt;</th><th scope=col>&lt;int&gt;</th><th scope=col>&lt;dbl&gt;</th></tr>\n",
              "</thead>\n",
              "<tbody>\n",
              "\t<tr><td>Alabama       </td><td>AL</td><td>South        </td><td> 4779736</td><td>  94.65</td><td> 199</td><td> 135</td><td>0.517</td></tr>\n",
              "\t<tr><td>Arizona       </td><td>AZ</td><td>West         </td><td> 6392017</td><td>  57.05</td><td> 352</td><td> 232</td><td>0.311</td></tr>\n",
              "\t<tr><td>California    </td><td>CA</td><td>West         </td><td>37253956</td><td> 244.20</td><td>1811</td><td>1257</td><td>0.213</td></tr>\n",
              "\t<tr><td>Colorado      </td><td>CO</td><td>West         </td><td> 5029196</td><td>  49.33</td><td> 117</td><td>  65</td><td>0.347</td></tr>\n",
              "\t<tr><td>Connecticut   </td><td>CT</td><td>Northeast    </td><td> 3574097</td><td> 741.40</td><td> 131</td><td>  97</td><td>0.167</td></tr>\n",
              "\t<tr><td>Florida       </td><td>FL</td><td>South        </td><td>19687653</td><td> 360.20</td><td> 987</td><td> 669</td><td>0.245</td></tr>\n",
              "\t<tr><td>Georgia       </td><td>GA</td><td>South        </td><td> 9920000</td><td> 172.50</td><td> 527</td><td> 376</td><td>0.403</td></tr>\n",
              "\t<tr><td>Illinois      </td><td>IL</td><td>North Central</td><td>12830632</td><td> 231.90</td><td> 453</td><td> 364</td><td>0.202</td></tr>\n",
              "\t<tr><td>Indiana       </td><td>IN</td><td>North Central</td><td> 6483802</td><td> 182.50</td><td> 198</td><td> 142</td><td>0.391</td></tr>\n",
              "\t<tr><td>Kentucky      </td><td>KY</td><td>South        </td><td> 4339367</td><td> 110.00</td><td> 180</td><td> 116</td><td>0.477</td></tr>\n",
              "\t<tr><td>Louisiana     </td><td>LA</td><td>South        </td><td> 4533372</td><td> 105.00</td><td> 437</td><td> 351</td><td>0.441</td></tr>\n",
              "\t<tr><td>Maryland      </td><td>MD</td><td>South        </td><td> 5773552</td><td> 606.20</td><td> 424</td><td> 293</td><td>0.213</td></tr>\n",
              "\t<tr><td>Massachusetts </td><td>MA</td><td>Northeast    </td><td> 6547629</td><td> 852.10</td><td> 209</td><td> 118</td><td>0.126</td></tr>\n",
              "\t<tr><td>Michigan      </td><td>MI</td><td>North Central</td><td> 9883640</td><td> 174.80</td><td> 558</td><td> 413</td><td>0.384</td></tr>\n",
              "\t<tr><td>Missouri      </td><td>MO</td><td>North Central</td><td> 5988927</td><td>  87.26</td><td> 419</td><td> 321</td><td>0.417</td></tr>\n",
              "\t<tr><td>New Jersey    </td><td>NJ</td><td>Northeast    </td><td> 8791894</td><td>1189.00</td><td> 363</td><td> 246</td><td>0.123</td></tr>\n",
              "\t<tr><td>New York      </td><td>NY</td><td>Northeast    </td><td>19378102</td><td> 415.30</td><td> 860</td><td> 517</td><td>0.180</td></tr>\n",
              "\t<tr><td>North Carolina</td><td>NC</td><td>South        </td><td> 9535483</td><td> 200.60</td><td> 445</td><td> 286</td><td>0.413</td></tr>\n",
              "\t<tr><td>Ohio          </td><td>OH</td><td>North Central</td><td>11536504</td><td> 282.50</td><td> 460</td><td> 310</td><td>0.324</td></tr>\n",
              "\t<tr><td>Oklahoma      </td><td>OK</td><td>South        </td><td> 3751351</td><td>  55.22</td><td> 188</td><td> 111</td><td>0.429</td></tr>\n",
              "\t<tr><td>Pennsylvania  </td><td>PA</td><td>Northeast    </td><td>12702379</td><td> 285.30</td><td> 646</td><td> 457</td><td>0.347</td></tr>\n",
              "\t<tr><td>Tennessee     </td><td>TN</td><td>South        </td><td> 6346105</td><td> 156.60</td><td> 356</td><td> 219</td><td>0.439</td></tr>\n",
              "\t<tr><td>Texas         </td><td>TX</td><td>South        </td><td>25145561</td><td>  98.07</td><td>1246</td><td> 805</td><td>0.359</td></tr>\n",
              "\t<tr><td>Virginia      </td><td>VA</td><td>South        </td><td> 8001024</td><td> 207.30</td><td> 369</td><td> 250</td><td>0.351</td></tr>\n",
              "\t<tr><td>Wisconsin     </td><td>WI</td><td>North Central</td><td> 5686986</td><td> 105.20</td><td> 151</td><td>  97</td><td>0.444</td></tr>\n",
              "</tbody>\n",
              "</table>\n"
            ]
          },
          "metadata": {}
        }
      ]
    },
    {
      "cell_type": "code",
      "metadata": {
        "colab": {
          "base_uri": "https://localhost:8080/",
          "height": 882
        },
        "id": "4l__fRiH7vzT",
        "outputId": "74684d41-de42-4e44-a8b2-1b6e7a314e29"
      },
      "source": [
        "mysubdata<-select(mysubdata,state,population,murders)\n",
        "mysubdata"
      ],
      "execution_count": 13,
      "outputs": [
        {
          "output_type": "display_data",
          "data": {
            "text/plain": [
              "   state          population murders\n",
              "1  Alabama         4779736    199   \n",
              "2  Arizona         6392017    352   \n",
              "3  California     37253956   1811   \n",
              "4  Colorado        5029196    117   \n",
              "5  Connecticut     3574097    131   \n",
              "6  Florida        19687653    987   \n",
              "7  Georgia         9920000    527   \n",
              "8  Illinois       12830632    453   \n",
              "9  Indiana         6483802    198   \n",
              "10 Kentucky        4339367    180   \n",
              "11 Louisiana       4533372    437   \n",
              "12 Maryland        5773552    424   \n",
              "13 Massachusetts   6547629    209   \n",
              "14 Michigan        9883640    558   \n",
              "15 Missouri        5988927    419   \n",
              "16 New Jersey      8791894    363   \n",
              "17 New York       19378102    860   \n",
              "18 North Carolina  9535483    445   \n",
              "19 Ohio           11536504    460   \n",
              "20 Oklahoma        3751351    188   \n",
              "21 Pennsylvania   12702379    646   \n",
              "22 Tennessee       6346105    356   \n",
              "23 Texas          25145561   1246   \n",
              "24 Virginia        8001024    369   \n",
              "25 Wisconsin       5686986    151   "
            ],
            "text/latex": "A data.frame: 25 × 3\n\\begin{tabular}{lll}\n state & population & murders\\\\\n <chr> & <int> & <int>\\\\\n\\hline\n\t Alabama        &  4779736 &  199\\\\\n\t Arizona        &  6392017 &  352\\\\\n\t California     & 37253956 & 1811\\\\\n\t Colorado       &  5029196 &  117\\\\\n\t Connecticut    &  3574097 &  131\\\\\n\t Florida        & 19687653 &  987\\\\\n\t Georgia        &  9920000 &  527\\\\\n\t Illinois       & 12830632 &  453\\\\\n\t Indiana        &  6483802 &  198\\\\\n\t Kentucky       &  4339367 &  180\\\\\n\t Louisiana      &  4533372 &  437\\\\\n\t Maryland       &  5773552 &  424\\\\\n\t Massachusetts  &  6547629 &  209\\\\\n\t Michigan       &  9883640 &  558\\\\\n\t Missouri       &  5988927 &  419\\\\\n\t New Jersey     &  8791894 &  363\\\\\n\t New York       & 19378102 &  860\\\\\n\t North Carolina &  9535483 &  445\\\\\n\t Ohio           & 11536504 &  460\\\\\n\t Oklahoma       &  3751351 &  188\\\\\n\t Pennsylvania   & 12702379 &  646\\\\\n\t Tennessee      &  6346105 &  356\\\\\n\t Texas          & 25145561 & 1246\\\\\n\t Virginia       &  8001024 &  369\\\\\n\t Wisconsin      &  5686986 &  151\\\\\n\\end{tabular}\n",
            "text/markdown": "\nA data.frame: 25 × 3\n\n| state &lt;chr&gt; | population &lt;int&gt; | murders &lt;int&gt; |\n|---|---|---|\n| Alabama        |  4779736 |  199 |\n| Arizona        |  6392017 |  352 |\n| California     | 37253956 | 1811 |\n| Colorado       |  5029196 |  117 |\n| Connecticut    |  3574097 |  131 |\n| Florida        | 19687653 |  987 |\n| Georgia        |  9920000 |  527 |\n| Illinois       | 12830632 |  453 |\n| Indiana        |  6483802 |  198 |\n| Kentucky       |  4339367 |  180 |\n| Louisiana      |  4533372 |  437 |\n| Maryland       |  5773552 |  424 |\n| Massachusetts  |  6547629 |  209 |\n| Michigan       |  9883640 |  558 |\n| Missouri       |  5988927 |  419 |\n| New Jersey     |  8791894 |  363 |\n| New York       | 19378102 |  860 |\n| North Carolina |  9535483 |  445 |\n| Ohio           | 11536504 |  460 |\n| Oklahoma       |  3751351 |  188 |\n| Pennsylvania   | 12702379 |  646 |\n| Tennessee      |  6346105 |  356 |\n| Texas          | 25145561 | 1246 |\n| Virginia       |  8001024 |  369 |\n| Wisconsin      |  5686986 |  151 |\n\n",
            "text/html": [
              "<table class=\"dataframe\">\n",
              "<caption>A data.frame: 25 × 3</caption>\n",
              "<thead>\n",
              "\t<tr><th scope=col>state</th><th scope=col>population</th><th scope=col>murders</th></tr>\n",
              "\t<tr><th scope=col>&lt;chr&gt;</th><th scope=col>&lt;int&gt;</th><th scope=col>&lt;int&gt;</th></tr>\n",
              "</thead>\n",
              "<tbody>\n",
              "\t<tr><td>Alabama       </td><td> 4779736</td><td> 199</td></tr>\n",
              "\t<tr><td>Arizona       </td><td> 6392017</td><td> 352</td></tr>\n",
              "\t<tr><td>California    </td><td>37253956</td><td>1811</td></tr>\n",
              "\t<tr><td>Colorado      </td><td> 5029196</td><td> 117</td></tr>\n",
              "\t<tr><td>Connecticut   </td><td> 3574097</td><td> 131</td></tr>\n",
              "\t<tr><td>Florida       </td><td>19687653</td><td> 987</td></tr>\n",
              "\t<tr><td>Georgia       </td><td> 9920000</td><td> 527</td></tr>\n",
              "\t<tr><td>Illinois      </td><td>12830632</td><td> 453</td></tr>\n",
              "\t<tr><td>Indiana       </td><td> 6483802</td><td> 198</td></tr>\n",
              "\t<tr><td>Kentucky      </td><td> 4339367</td><td> 180</td></tr>\n",
              "\t<tr><td>Louisiana     </td><td> 4533372</td><td> 437</td></tr>\n",
              "\t<tr><td>Maryland      </td><td> 5773552</td><td> 424</td></tr>\n",
              "\t<tr><td>Massachusetts </td><td> 6547629</td><td> 209</td></tr>\n",
              "\t<tr><td>Michigan      </td><td> 9883640</td><td> 558</td></tr>\n",
              "\t<tr><td>Missouri      </td><td> 5988927</td><td> 419</td></tr>\n",
              "\t<tr><td>New Jersey    </td><td> 8791894</td><td> 363</td></tr>\n",
              "\t<tr><td>New York      </td><td>19378102</td><td> 860</td></tr>\n",
              "\t<tr><td>North Carolina</td><td> 9535483</td><td> 445</td></tr>\n",
              "\t<tr><td>Ohio          </td><td>11536504</td><td> 460</td></tr>\n",
              "\t<tr><td>Oklahoma      </td><td> 3751351</td><td> 188</td></tr>\n",
              "\t<tr><td>Pennsylvania  </td><td>12702379</td><td> 646</td></tr>\n",
              "\t<tr><td>Tennessee     </td><td> 6346105</td><td> 356</td></tr>\n",
              "\t<tr><td>Texas         </td><td>25145561</td><td>1246</td></tr>\n",
              "\t<tr><td>Virginia      </td><td> 8001024</td><td> 369</td></tr>\n",
              "\t<tr><td>Wisconsin     </td><td> 5686986</td><td> 151</td></tr>\n",
              "</tbody>\n",
              "</table>\n"
            ]
          },
          "metadata": {}
        }
      ]
    },
    {
      "cell_type": "markdown",
      "metadata": {
        "id": "pmsgXCMQ8VcP"
      },
      "source": [
        "**arrange()**"
      ]
    },
    {
      "cell_type": "code",
      "metadata": {
        "colab": {
          "base_uri": "https://localhost:8080/",
          "height": 882
        },
        "id": "mYTYOwrF9hax",
        "outputId": "abc6191a-5141-4b29-9dad-741ad5f92197"
      },
      "source": [
        "mydata<-read.table('https://raw.githubusercontent.com/rssmahesh1/PDS2021/main/basic%20R/murders.csv', sep=',',head= TRUE)\n",
        "mydata"
      ],
      "execution_count": 11,
      "outputs": [
        {
          "output_type": "display_data",
          "data": {
            "text/plain": [
              "   state          abb region        population PopulationDensity murders\n",
              "1  Alabama        AL  South          4779736     94.65            199   \n",
              "2  Arizona        AZ  West           6392017     57.05            352   \n",
              "3  California     CA  West          37253956    244.20           1811   \n",
              "4  Colorado       CO  West           5029196     49.33            117   \n",
              "5  Connecticut    CT  Northeast      3574097    741.40            131   \n",
              "6  Florida        FL  South         19687653    360.20            987   \n",
              "7  Georgia        GA  South          9920000    172.50            527   \n",
              "8  Illinois       IL  North Central 12830632    231.90            453   \n",
              "9  Indiana        IN  North Central  6483802    182.50            198   \n",
              "10 Kentucky       KY  South          4339367    110.00            180   \n",
              "11 Louisiana      LA  South          4533372    105.00            437   \n",
              "12 Maryland       MD  South          5773552    606.20            424   \n",
              "13 Massachusetts  MA  Northeast      6547629    852.10            209   \n",
              "14 Michigan       MI  North Central  9883640    174.80            558   \n",
              "15 Missouri       MO  North Central  5988927     87.26            419   \n",
              "16 New Jersey     NJ  Northeast      8791894   1189.00            363   \n",
              "17 New York       NY  Northeast     19378102    415.30            860   \n",
              "18 North Carolina NC  South          9535483    200.60            445   \n",
              "19 Ohio           OH  North Central 11536504    282.50            460   \n",
              "20 Oklahoma       OK  South          3751351     55.22            188   \n",
              "21 Pennsylvania   PA  Northeast     12702379    285.30            646   \n",
              "22 Tennessee      TN  South          6346105    156.60            356   \n",
              "23 Texas          TX  South         25145561     98.07           1246   \n",
              "24 Virginia       VA  South          8001024    207.30            369   \n",
              "25 Wisconsin      WI  North Central  5686986    105.20            151   \n",
              "   gunmurders gunownership\n",
              "1   135       0.517       \n",
              "2   232       0.311       \n",
              "3  1257       0.213       \n",
              "4    65       0.347       \n",
              "5    97       0.167       \n",
              "6   669       0.245       \n",
              "7   376       0.403       \n",
              "8   364       0.202       \n",
              "9   142       0.391       \n",
              "10  116       0.477       \n",
              "11  351       0.441       \n",
              "12  293       0.213       \n",
              "13  118       0.126       \n",
              "14  413       0.384       \n",
              "15  321       0.417       \n",
              "16  246       0.123       \n",
              "17  517       0.180       \n",
              "18  286       0.413       \n",
              "19  310       0.324       \n",
              "20  111       0.429       \n",
              "21  457       0.347       \n",
              "22  219       0.439       \n",
              "23  805       0.359       \n",
              "24  250       0.351       \n",
              "25   97       0.444       "
            ],
            "text/latex": "A data.frame: 25 × 8\n\\begin{tabular}{llllllll}\n state & abb & region & population & PopulationDensity & murders & gunmurders & gunownership\\\\\n <chr> & <chr> & <chr> & <int> & <dbl> & <int> & <int> & <dbl>\\\\\n\\hline\n\t Alabama        & AL & South         &  4779736 &   94.65 &  199 &  135 & 0.517\\\\\n\t Arizona        & AZ & West          &  6392017 &   57.05 &  352 &  232 & 0.311\\\\\n\t California     & CA & West          & 37253956 &  244.20 & 1811 & 1257 & 0.213\\\\\n\t Colorado       & CO & West          &  5029196 &   49.33 &  117 &   65 & 0.347\\\\\n\t Connecticut    & CT & Northeast     &  3574097 &  741.40 &  131 &   97 & 0.167\\\\\n\t Florida        & FL & South         & 19687653 &  360.20 &  987 &  669 & 0.245\\\\\n\t Georgia        & GA & South         &  9920000 &  172.50 &  527 &  376 & 0.403\\\\\n\t Illinois       & IL & North Central & 12830632 &  231.90 &  453 &  364 & 0.202\\\\\n\t Indiana        & IN & North Central &  6483802 &  182.50 &  198 &  142 & 0.391\\\\\n\t Kentucky       & KY & South         &  4339367 &  110.00 &  180 &  116 & 0.477\\\\\n\t Louisiana      & LA & South         &  4533372 &  105.00 &  437 &  351 & 0.441\\\\\n\t Maryland       & MD & South         &  5773552 &  606.20 &  424 &  293 & 0.213\\\\\n\t Massachusetts  & MA & Northeast     &  6547629 &  852.10 &  209 &  118 & 0.126\\\\\n\t Michigan       & MI & North Central &  9883640 &  174.80 &  558 &  413 & 0.384\\\\\n\t Missouri       & MO & North Central &  5988927 &   87.26 &  419 &  321 & 0.417\\\\\n\t New Jersey     & NJ & Northeast     &  8791894 & 1189.00 &  363 &  246 & 0.123\\\\\n\t New York       & NY & Northeast     & 19378102 &  415.30 &  860 &  517 & 0.180\\\\\n\t North Carolina & NC & South         &  9535483 &  200.60 &  445 &  286 & 0.413\\\\\n\t Ohio           & OH & North Central & 11536504 &  282.50 &  460 &  310 & 0.324\\\\\n\t Oklahoma       & OK & South         &  3751351 &   55.22 &  188 &  111 & 0.429\\\\\n\t Pennsylvania   & PA & Northeast     & 12702379 &  285.30 &  646 &  457 & 0.347\\\\\n\t Tennessee      & TN & South         &  6346105 &  156.60 &  356 &  219 & 0.439\\\\\n\t Texas          & TX & South         & 25145561 &   98.07 & 1246 &  805 & 0.359\\\\\n\t Virginia       & VA & South         &  8001024 &  207.30 &  369 &  250 & 0.351\\\\\n\t Wisconsin      & WI & North Central &  5686986 &  105.20 &  151 &   97 & 0.444\\\\\n\\end{tabular}\n",
            "text/markdown": "\nA data.frame: 25 × 8\n\n| state &lt;chr&gt; | abb &lt;chr&gt; | region &lt;chr&gt; | population &lt;int&gt; | PopulationDensity &lt;dbl&gt; | murders &lt;int&gt; | gunmurders &lt;int&gt; | gunownership &lt;dbl&gt; |\n|---|---|---|---|---|---|---|---|\n| Alabama        | AL | South         |  4779736 |   94.65 |  199 |  135 | 0.517 |\n| Arizona        | AZ | West          |  6392017 |   57.05 |  352 |  232 | 0.311 |\n| California     | CA | West          | 37253956 |  244.20 | 1811 | 1257 | 0.213 |\n| Colorado       | CO | West          |  5029196 |   49.33 |  117 |   65 | 0.347 |\n| Connecticut    | CT | Northeast     |  3574097 |  741.40 |  131 |   97 | 0.167 |\n| Florida        | FL | South         | 19687653 |  360.20 |  987 |  669 | 0.245 |\n| Georgia        | GA | South         |  9920000 |  172.50 |  527 |  376 | 0.403 |\n| Illinois       | IL | North Central | 12830632 |  231.90 |  453 |  364 | 0.202 |\n| Indiana        | IN | North Central |  6483802 |  182.50 |  198 |  142 | 0.391 |\n| Kentucky       | KY | South         |  4339367 |  110.00 |  180 |  116 | 0.477 |\n| Louisiana      | LA | South         |  4533372 |  105.00 |  437 |  351 | 0.441 |\n| Maryland       | MD | South         |  5773552 |  606.20 |  424 |  293 | 0.213 |\n| Massachusetts  | MA | Northeast     |  6547629 |  852.10 |  209 |  118 | 0.126 |\n| Michigan       | MI | North Central |  9883640 |  174.80 |  558 |  413 | 0.384 |\n| Missouri       | MO | North Central |  5988927 |   87.26 |  419 |  321 | 0.417 |\n| New Jersey     | NJ | Northeast     |  8791894 | 1189.00 |  363 |  246 | 0.123 |\n| New York       | NY | Northeast     | 19378102 |  415.30 |  860 |  517 | 0.180 |\n| North Carolina | NC | South         |  9535483 |  200.60 |  445 |  286 | 0.413 |\n| Ohio           | OH | North Central | 11536504 |  282.50 |  460 |  310 | 0.324 |\n| Oklahoma       | OK | South         |  3751351 |   55.22 |  188 |  111 | 0.429 |\n| Pennsylvania   | PA | Northeast     | 12702379 |  285.30 |  646 |  457 | 0.347 |\n| Tennessee      | TN | South         |  6346105 |  156.60 |  356 |  219 | 0.439 |\n| Texas          | TX | South         | 25145561 |   98.07 | 1246 |  805 | 0.359 |\n| Virginia       | VA | South         |  8001024 |  207.30 |  369 |  250 | 0.351 |\n| Wisconsin      | WI | North Central |  5686986 |  105.20 |  151 |   97 | 0.444 |\n\n",
            "text/html": [
              "<table class=\"dataframe\">\n",
              "<caption>A data.frame: 25 × 8</caption>\n",
              "<thead>\n",
              "\t<tr><th scope=col>state</th><th scope=col>abb</th><th scope=col>region</th><th scope=col>population</th><th scope=col>PopulationDensity</th><th scope=col>murders</th><th scope=col>gunmurders</th><th scope=col>gunownership</th></tr>\n",
              "\t<tr><th scope=col>&lt;chr&gt;</th><th scope=col>&lt;chr&gt;</th><th scope=col>&lt;chr&gt;</th><th scope=col>&lt;int&gt;</th><th scope=col>&lt;dbl&gt;</th><th scope=col>&lt;int&gt;</th><th scope=col>&lt;int&gt;</th><th scope=col>&lt;dbl&gt;</th></tr>\n",
              "</thead>\n",
              "<tbody>\n",
              "\t<tr><td>Alabama       </td><td>AL</td><td>South        </td><td> 4779736</td><td>  94.65</td><td> 199</td><td> 135</td><td>0.517</td></tr>\n",
              "\t<tr><td>Arizona       </td><td>AZ</td><td>West         </td><td> 6392017</td><td>  57.05</td><td> 352</td><td> 232</td><td>0.311</td></tr>\n",
              "\t<tr><td>California    </td><td>CA</td><td>West         </td><td>37253956</td><td> 244.20</td><td>1811</td><td>1257</td><td>0.213</td></tr>\n",
              "\t<tr><td>Colorado      </td><td>CO</td><td>West         </td><td> 5029196</td><td>  49.33</td><td> 117</td><td>  65</td><td>0.347</td></tr>\n",
              "\t<tr><td>Connecticut   </td><td>CT</td><td>Northeast    </td><td> 3574097</td><td> 741.40</td><td> 131</td><td>  97</td><td>0.167</td></tr>\n",
              "\t<tr><td>Florida       </td><td>FL</td><td>South        </td><td>19687653</td><td> 360.20</td><td> 987</td><td> 669</td><td>0.245</td></tr>\n",
              "\t<tr><td>Georgia       </td><td>GA</td><td>South        </td><td> 9920000</td><td> 172.50</td><td> 527</td><td> 376</td><td>0.403</td></tr>\n",
              "\t<tr><td>Illinois      </td><td>IL</td><td>North Central</td><td>12830632</td><td> 231.90</td><td> 453</td><td> 364</td><td>0.202</td></tr>\n",
              "\t<tr><td>Indiana       </td><td>IN</td><td>North Central</td><td> 6483802</td><td> 182.50</td><td> 198</td><td> 142</td><td>0.391</td></tr>\n",
              "\t<tr><td>Kentucky      </td><td>KY</td><td>South        </td><td> 4339367</td><td> 110.00</td><td> 180</td><td> 116</td><td>0.477</td></tr>\n",
              "\t<tr><td>Louisiana     </td><td>LA</td><td>South        </td><td> 4533372</td><td> 105.00</td><td> 437</td><td> 351</td><td>0.441</td></tr>\n",
              "\t<tr><td>Maryland      </td><td>MD</td><td>South        </td><td> 5773552</td><td> 606.20</td><td> 424</td><td> 293</td><td>0.213</td></tr>\n",
              "\t<tr><td>Massachusetts </td><td>MA</td><td>Northeast    </td><td> 6547629</td><td> 852.10</td><td> 209</td><td> 118</td><td>0.126</td></tr>\n",
              "\t<tr><td>Michigan      </td><td>MI</td><td>North Central</td><td> 9883640</td><td> 174.80</td><td> 558</td><td> 413</td><td>0.384</td></tr>\n",
              "\t<tr><td>Missouri      </td><td>MO</td><td>North Central</td><td> 5988927</td><td>  87.26</td><td> 419</td><td> 321</td><td>0.417</td></tr>\n",
              "\t<tr><td>New Jersey    </td><td>NJ</td><td>Northeast    </td><td> 8791894</td><td>1189.00</td><td> 363</td><td> 246</td><td>0.123</td></tr>\n",
              "\t<tr><td>New York      </td><td>NY</td><td>Northeast    </td><td>19378102</td><td> 415.30</td><td> 860</td><td> 517</td><td>0.180</td></tr>\n",
              "\t<tr><td>North Carolina</td><td>NC</td><td>South        </td><td> 9535483</td><td> 200.60</td><td> 445</td><td> 286</td><td>0.413</td></tr>\n",
              "\t<tr><td>Ohio          </td><td>OH</td><td>North Central</td><td>11536504</td><td> 282.50</td><td> 460</td><td> 310</td><td>0.324</td></tr>\n",
              "\t<tr><td>Oklahoma      </td><td>OK</td><td>South        </td><td> 3751351</td><td>  55.22</td><td> 188</td><td> 111</td><td>0.429</td></tr>\n",
              "\t<tr><td>Pennsylvania  </td><td>PA</td><td>Northeast    </td><td>12702379</td><td> 285.30</td><td> 646</td><td> 457</td><td>0.347</td></tr>\n",
              "\t<tr><td>Tennessee     </td><td>TN</td><td>South        </td><td> 6346105</td><td> 156.60</td><td> 356</td><td> 219</td><td>0.439</td></tr>\n",
              "\t<tr><td>Texas         </td><td>TX</td><td>South        </td><td>25145561</td><td>  98.07</td><td>1246</td><td> 805</td><td>0.359</td></tr>\n",
              "\t<tr><td>Virginia      </td><td>VA</td><td>South        </td><td> 8001024</td><td> 207.30</td><td> 369</td><td> 250</td><td>0.351</td></tr>\n",
              "\t<tr><td>Wisconsin     </td><td>WI</td><td>North Central</td><td> 5686986</td><td> 105.20</td><td> 151</td><td>  97</td><td>0.444</td></tr>\n",
              "</tbody>\n",
              "</table>\n"
            ]
          },
          "metadata": {}
        }
      ]
    },
    {
      "cell_type": "code",
      "metadata": {
        "colab": {
          "base_uri": "https://localhost:8080/",
          "height": 882
        },
        "id": "jaFn9oqF8Yg2",
        "outputId": "cf03c91a-b621-48ed-9cc8-5b404c972e3f"
      },
      "source": [
        "mysubdata<-arrange(mydata,murders)\n",
        "mysubdata"
      ],
      "execution_count": 27,
      "outputs": [
        {
          "output_type": "display_data",
          "data": {
            "text/plain": [
              "   state          abb region        population PopulationDensity murders\n",
              "1  Colorado       CO  West           5029196     49.33            117   \n",
              "2  Connecticut    CT  Northeast      3574097    741.40            131   \n",
              "3  Wisconsin      WI  North Central  5686986    105.20            151   \n",
              "4  Kentucky       KY  South          4339367    110.00            180   \n",
              "5  Oklahoma       OK  South          3751351     55.22            188   \n",
              "6  Indiana        IN  North Central  6483802    182.50            198   \n",
              "7  Alabama        AL  South          4779736     94.65            199   \n",
              "8  Massachusetts  MA  Northeast      6547629    852.10            209   \n",
              "9  Arizona        AZ  West           6392017     57.05            352   \n",
              "10 Tennessee      TN  South          6346105    156.60            356   \n",
              "11 New Jersey     NJ  Northeast      8791894   1189.00            363   \n",
              "12 Virginia       VA  South          8001024    207.30            369   \n",
              "13 Missouri       MO  North Central  5988927     87.26            419   \n",
              "14 Maryland       MD  South          5773552    606.20            424   \n",
              "15 Louisiana      LA  South          4533372    105.00            437   \n",
              "16 North Carolina NC  South          9535483    200.60            445   \n",
              "17 Illinois       IL  North Central 12830632    231.90            453   \n",
              "18 Ohio           OH  North Central 11536504    282.50            460   \n",
              "19 Georgia        GA  South          9920000    172.50            527   \n",
              "20 Michigan       MI  North Central  9883640    174.80            558   \n",
              "21 Pennsylvania   PA  Northeast     12702379    285.30            646   \n",
              "22 New York       NY  Northeast     19378102    415.30            860   \n",
              "23 Florida        FL  South         19687653    360.20            987   \n",
              "24 Texas          TX  South         25145561     98.07           1246   \n",
              "25 California     CA  West          37253956    244.20           1811   \n",
              "   gunmurders gunownership\n",
              "1    65       0.347       \n",
              "2    97       0.167       \n",
              "3    97       0.444       \n",
              "4   116       0.477       \n",
              "5   111       0.429       \n",
              "6   142       0.391       \n",
              "7   135       0.517       \n",
              "8   118       0.126       \n",
              "9   232       0.311       \n",
              "10  219       0.439       \n",
              "11  246       0.123       \n",
              "12  250       0.351       \n",
              "13  321       0.417       \n",
              "14  293       0.213       \n",
              "15  351       0.441       \n",
              "16  286       0.413       \n",
              "17  364       0.202       \n",
              "18  310       0.324       \n",
              "19  376       0.403       \n",
              "20  413       0.384       \n",
              "21  457       0.347       \n",
              "22  517       0.180       \n",
              "23  669       0.245       \n",
              "24  805       0.359       \n",
              "25 1257       0.213       "
            ],
            "text/latex": "A data.frame: 25 × 8\n\\begin{tabular}{llllllll}\n state & abb & region & population & PopulationDensity & murders & gunmurders & gunownership\\\\\n <chr> & <chr> & <chr> & <int> & <dbl> & <int> & <int> & <dbl>\\\\\n\\hline\n\t Colorado       & CO & West          &  5029196 &   49.33 &  117 &   65 & 0.347\\\\\n\t Connecticut    & CT & Northeast     &  3574097 &  741.40 &  131 &   97 & 0.167\\\\\n\t Wisconsin      & WI & North Central &  5686986 &  105.20 &  151 &   97 & 0.444\\\\\n\t Kentucky       & KY & South         &  4339367 &  110.00 &  180 &  116 & 0.477\\\\\n\t Oklahoma       & OK & South         &  3751351 &   55.22 &  188 &  111 & 0.429\\\\\n\t Indiana        & IN & North Central &  6483802 &  182.50 &  198 &  142 & 0.391\\\\\n\t Alabama        & AL & South         &  4779736 &   94.65 &  199 &  135 & 0.517\\\\\n\t Massachusetts  & MA & Northeast     &  6547629 &  852.10 &  209 &  118 & 0.126\\\\\n\t Arizona        & AZ & West          &  6392017 &   57.05 &  352 &  232 & 0.311\\\\\n\t Tennessee      & TN & South         &  6346105 &  156.60 &  356 &  219 & 0.439\\\\\n\t New Jersey     & NJ & Northeast     &  8791894 & 1189.00 &  363 &  246 & 0.123\\\\\n\t Virginia       & VA & South         &  8001024 &  207.30 &  369 &  250 & 0.351\\\\\n\t Missouri       & MO & North Central &  5988927 &   87.26 &  419 &  321 & 0.417\\\\\n\t Maryland       & MD & South         &  5773552 &  606.20 &  424 &  293 & 0.213\\\\\n\t Louisiana      & LA & South         &  4533372 &  105.00 &  437 &  351 & 0.441\\\\\n\t North Carolina & NC & South         &  9535483 &  200.60 &  445 &  286 & 0.413\\\\\n\t Illinois       & IL & North Central & 12830632 &  231.90 &  453 &  364 & 0.202\\\\\n\t Ohio           & OH & North Central & 11536504 &  282.50 &  460 &  310 & 0.324\\\\\n\t Georgia        & GA & South         &  9920000 &  172.50 &  527 &  376 & 0.403\\\\\n\t Michigan       & MI & North Central &  9883640 &  174.80 &  558 &  413 & 0.384\\\\\n\t Pennsylvania   & PA & Northeast     & 12702379 &  285.30 &  646 &  457 & 0.347\\\\\n\t New York       & NY & Northeast     & 19378102 &  415.30 &  860 &  517 & 0.180\\\\\n\t Florida        & FL & South         & 19687653 &  360.20 &  987 &  669 & 0.245\\\\\n\t Texas          & TX & South         & 25145561 &   98.07 & 1246 &  805 & 0.359\\\\\n\t California     & CA & West          & 37253956 &  244.20 & 1811 & 1257 & 0.213\\\\\n\\end{tabular}\n",
            "text/markdown": "\nA data.frame: 25 × 8\n\n| state &lt;chr&gt; | abb &lt;chr&gt; | region &lt;chr&gt; | population &lt;int&gt; | PopulationDensity &lt;dbl&gt; | murders &lt;int&gt; | gunmurders &lt;int&gt; | gunownership &lt;dbl&gt; |\n|---|---|---|---|---|---|---|---|\n| Colorado       | CO | West          |  5029196 |   49.33 |  117 |   65 | 0.347 |\n| Connecticut    | CT | Northeast     |  3574097 |  741.40 |  131 |   97 | 0.167 |\n| Wisconsin      | WI | North Central |  5686986 |  105.20 |  151 |   97 | 0.444 |\n| Kentucky       | KY | South         |  4339367 |  110.00 |  180 |  116 | 0.477 |\n| Oklahoma       | OK | South         |  3751351 |   55.22 |  188 |  111 | 0.429 |\n| Indiana        | IN | North Central |  6483802 |  182.50 |  198 |  142 | 0.391 |\n| Alabama        | AL | South         |  4779736 |   94.65 |  199 |  135 | 0.517 |\n| Massachusetts  | MA | Northeast     |  6547629 |  852.10 |  209 |  118 | 0.126 |\n| Arizona        | AZ | West          |  6392017 |   57.05 |  352 |  232 | 0.311 |\n| Tennessee      | TN | South         |  6346105 |  156.60 |  356 |  219 | 0.439 |\n| New Jersey     | NJ | Northeast     |  8791894 | 1189.00 |  363 |  246 | 0.123 |\n| Virginia       | VA | South         |  8001024 |  207.30 |  369 |  250 | 0.351 |\n| Missouri       | MO | North Central |  5988927 |   87.26 |  419 |  321 | 0.417 |\n| Maryland       | MD | South         |  5773552 |  606.20 |  424 |  293 | 0.213 |\n| Louisiana      | LA | South         |  4533372 |  105.00 |  437 |  351 | 0.441 |\n| North Carolina | NC | South         |  9535483 |  200.60 |  445 |  286 | 0.413 |\n| Illinois       | IL | North Central | 12830632 |  231.90 |  453 |  364 | 0.202 |\n| Ohio           | OH | North Central | 11536504 |  282.50 |  460 |  310 | 0.324 |\n| Georgia        | GA | South         |  9920000 |  172.50 |  527 |  376 | 0.403 |\n| Michigan       | MI | North Central |  9883640 |  174.80 |  558 |  413 | 0.384 |\n| Pennsylvania   | PA | Northeast     | 12702379 |  285.30 |  646 |  457 | 0.347 |\n| New York       | NY | Northeast     | 19378102 |  415.30 |  860 |  517 | 0.180 |\n| Florida        | FL | South         | 19687653 |  360.20 |  987 |  669 | 0.245 |\n| Texas          | TX | South         | 25145561 |   98.07 | 1246 |  805 | 0.359 |\n| California     | CA | West          | 37253956 |  244.20 | 1811 | 1257 | 0.213 |\n\n",
            "text/html": [
              "<table class=\"dataframe\">\n",
              "<caption>A data.frame: 25 × 8</caption>\n",
              "<thead>\n",
              "\t<tr><th scope=col>state</th><th scope=col>abb</th><th scope=col>region</th><th scope=col>population</th><th scope=col>PopulationDensity</th><th scope=col>murders</th><th scope=col>gunmurders</th><th scope=col>gunownership</th></tr>\n",
              "\t<tr><th scope=col>&lt;chr&gt;</th><th scope=col>&lt;chr&gt;</th><th scope=col>&lt;chr&gt;</th><th scope=col>&lt;int&gt;</th><th scope=col>&lt;dbl&gt;</th><th scope=col>&lt;int&gt;</th><th scope=col>&lt;int&gt;</th><th scope=col>&lt;dbl&gt;</th></tr>\n",
              "</thead>\n",
              "<tbody>\n",
              "\t<tr><td>Colorado      </td><td>CO</td><td>West         </td><td> 5029196</td><td>  49.33</td><td> 117</td><td>  65</td><td>0.347</td></tr>\n",
              "\t<tr><td>Connecticut   </td><td>CT</td><td>Northeast    </td><td> 3574097</td><td> 741.40</td><td> 131</td><td>  97</td><td>0.167</td></tr>\n",
              "\t<tr><td>Wisconsin     </td><td>WI</td><td>North Central</td><td> 5686986</td><td> 105.20</td><td> 151</td><td>  97</td><td>0.444</td></tr>\n",
              "\t<tr><td>Kentucky      </td><td>KY</td><td>South        </td><td> 4339367</td><td> 110.00</td><td> 180</td><td> 116</td><td>0.477</td></tr>\n",
              "\t<tr><td>Oklahoma      </td><td>OK</td><td>South        </td><td> 3751351</td><td>  55.22</td><td> 188</td><td> 111</td><td>0.429</td></tr>\n",
              "\t<tr><td>Indiana       </td><td>IN</td><td>North Central</td><td> 6483802</td><td> 182.50</td><td> 198</td><td> 142</td><td>0.391</td></tr>\n",
              "\t<tr><td>Alabama       </td><td>AL</td><td>South        </td><td> 4779736</td><td>  94.65</td><td> 199</td><td> 135</td><td>0.517</td></tr>\n",
              "\t<tr><td>Massachusetts </td><td>MA</td><td>Northeast    </td><td> 6547629</td><td> 852.10</td><td> 209</td><td> 118</td><td>0.126</td></tr>\n",
              "\t<tr><td>Arizona       </td><td>AZ</td><td>West         </td><td> 6392017</td><td>  57.05</td><td> 352</td><td> 232</td><td>0.311</td></tr>\n",
              "\t<tr><td>Tennessee     </td><td>TN</td><td>South        </td><td> 6346105</td><td> 156.60</td><td> 356</td><td> 219</td><td>0.439</td></tr>\n",
              "\t<tr><td>New Jersey    </td><td>NJ</td><td>Northeast    </td><td> 8791894</td><td>1189.00</td><td> 363</td><td> 246</td><td>0.123</td></tr>\n",
              "\t<tr><td>Virginia      </td><td>VA</td><td>South        </td><td> 8001024</td><td> 207.30</td><td> 369</td><td> 250</td><td>0.351</td></tr>\n",
              "\t<tr><td>Missouri      </td><td>MO</td><td>North Central</td><td> 5988927</td><td>  87.26</td><td> 419</td><td> 321</td><td>0.417</td></tr>\n",
              "\t<tr><td>Maryland      </td><td>MD</td><td>South        </td><td> 5773552</td><td> 606.20</td><td> 424</td><td> 293</td><td>0.213</td></tr>\n",
              "\t<tr><td>Louisiana     </td><td>LA</td><td>South        </td><td> 4533372</td><td> 105.00</td><td> 437</td><td> 351</td><td>0.441</td></tr>\n",
              "\t<tr><td>North Carolina</td><td>NC</td><td>South        </td><td> 9535483</td><td> 200.60</td><td> 445</td><td> 286</td><td>0.413</td></tr>\n",
              "\t<tr><td>Illinois      </td><td>IL</td><td>North Central</td><td>12830632</td><td> 231.90</td><td> 453</td><td> 364</td><td>0.202</td></tr>\n",
              "\t<tr><td>Ohio          </td><td>OH</td><td>North Central</td><td>11536504</td><td> 282.50</td><td> 460</td><td> 310</td><td>0.324</td></tr>\n",
              "\t<tr><td>Georgia       </td><td>GA</td><td>South        </td><td> 9920000</td><td> 172.50</td><td> 527</td><td> 376</td><td>0.403</td></tr>\n",
              "\t<tr><td>Michigan      </td><td>MI</td><td>North Central</td><td> 9883640</td><td> 174.80</td><td> 558</td><td> 413</td><td>0.384</td></tr>\n",
              "\t<tr><td>Pennsylvania  </td><td>PA</td><td>Northeast    </td><td>12702379</td><td> 285.30</td><td> 646</td><td> 457</td><td>0.347</td></tr>\n",
              "\t<tr><td>New York      </td><td>NY</td><td>Northeast    </td><td>19378102</td><td> 415.30</td><td> 860</td><td> 517</td><td>0.180</td></tr>\n",
              "\t<tr><td>Florida       </td><td>FL</td><td>South        </td><td>19687653</td><td> 360.20</td><td> 987</td><td> 669</td><td>0.245</td></tr>\n",
              "\t<tr><td>Texas         </td><td>TX</td><td>South        </td><td>25145561</td><td>  98.07</td><td>1246</td><td> 805</td><td>0.359</td></tr>\n",
              "\t<tr><td>California    </td><td>CA</td><td>West         </td><td>37253956</td><td> 244.20</td><td>1811</td><td>1257</td><td>0.213</td></tr>\n",
              "</tbody>\n",
              "</table>\n"
            ]
          },
          "metadata": {}
        }
      ]
    },
    {
      "cell_type": "code",
      "metadata": {
        "colab": {
          "base_uri": "https://localhost:8080/",
          "height": 882
        },
        "id": "ApQsSoXc-lkY",
        "outputId": "142aa485-70b7-46f7-c810-f23299e30ff8"
      },
      "source": [
        "mysubdata<-select(mysubdata,state,population,murders)\n",
        "mysubdata"
      ],
      "execution_count": 28,
      "outputs": [
        {
          "output_type": "display_data",
          "data": {
            "text/plain": [
              "   state          population murders\n",
              "1  Colorado        5029196    117   \n",
              "2  Connecticut     3574097    131   \n",
              "3  Wisconsin       5686986    151   \n",
              "4  Kentucky        4339367    180   \n",
              "5  Oklahoma        3751351    188   \n",
              "6  Indiana         6483802    198   \n",
              "7  Alabama         4779736    199   \n",
              "8  Massachusetts   6547629    209   \n",
              "9  Arizona         6392017    352   \n",
              "10 Tennessee       6346105    356   \n",
              "11 New Jersey      8791894    363   \n",
              "12 Virginia        8001024    369   \n",
              "13 Missouri        5988927    419   \n",
              "14 Maryland        5773552    424   \n",
              "15 Louisiana       4533372    437   \n",
              "16 North Carolina  9535483    445   \n",
              "17 Illinois       12830632    453   \n",
              "18 Ohio           11536504    460   \n",
              "19 Georgia         9920000    527   \n",
              "20 Michigan        9883640    558   \n",
              "21 Pennsylvania   12702379    646   \n",
              "22 New York       19378102    860   \n",
              "23 Florida        19687653    987   \n",
              "24 Texas          25145561   1246   \n",
              "25 California     37253956   1811   "
            ],
            "text/latex": "A data.frame: 25 × 3\n\\begin{tabular}{lll}\n state & population & murders\\\\\n <chr> & <int> & <int>\\\\\n\\hline\n\t Colorado       &  5029196 &  117\\\\\n\t Connecticut    &  3574097 &  131\\\\\n\t Wisconsin      &  5686986 &  151\\\\\n\t Kentucky       &  4339367 &  180\\\\\n\t Oklahoma       &  3751351 &  188\\\\\n\t Indiana        &  6483802 &  198\\\\\n\t Alabama        &  4779736 &  199\\\\\n\t Massachusetts  &  6547629 &  209\\\\\n\t Arizona        &  6392017 &  352\\\\\n\t Tennessee      &  6346105 &  356\\\\\n\t New Jersey     &  8791894 &  363\\\\\n\t Virginia       &  8001024 &  369\\\\\n\t Missouri       &  5988927 &  419\\\\\n\t Maryland       &  5773552 &  424\\\\\n\t Louisiana      &  4533372 &  437\\\\\n\t North Carolina &  9535483 &  445\\\\\n\t Illinois       & 12830632 &  453\\\\\n\t Ohio           & 11536504 &  460\\\\\n\t Georgia        &  9920000 &  527\\\\\n\t Michigan       &  9883640 &  558\\\\\n\t Pennsylvania   & 12702379 &  646\\\\\n\t New York       & 19378102 &  860\\\\\n\t Florida        & 19687653 &  987\\\\\n\t Texas          & 25145561 & 1246\\\\\n\t California     & 37253956 & 1811\\\\\n\\end{tabular}\n",
            "text/markdown": "\nA data.frame: 25 × 3\n\n| state &lt;chr&gt; | population &lt;int&gt; | murders &lt;int&gt; |\n|---|---|---|\n| Colorado       |  5029196 |  117 |\n| Connecticut    |  3574097 |  131 |\n| Wisconsin      |  5686986 |  151 |\n| Kentucky       |  4339367 |  180 |\n| Oklahoma       |  3751351 |  188 |\n| Indiana        |  6483802 |  198 |\n| Alabama        |  4779736 |  199 |\n| Massachusetts  |  6547629 |  209 |\n| Arizona        |  6392017 |  352 |\n| Tennessee      |  6346105 |  356 |\n| New Jersey     |  8791894 |  363 |\n| Virginia       |  8001024 |  369 |\n| Missouri       |  5988927 |  419 |\n| Maryland       |  5773552 |  424 |\n| Louisiana      |  4533372 |  437 |\n| North Carolina |  9535483 |  445 |\n| Illinois       | 12830632 |  453 |\n| Ohio           | 11536504 |  460 |\n| Georgia        |  9920000 |  527 |\n| Michigan       |  9883640 |  558 |\n| Pennsylvania   | 12702379 |  646 |\n| New York       | 19378102 |  860 |\n| Florida        | 19687653 |  987 |\n| Texas          | 25145561 | 1246 |\n| California     | 37253956 | 1811 |\n\n",
            "text/html": [
              "<table class=\"dataframe\">\n",
              "<caption>A data.frame: 25 × 3</caption>\n",
              "<thead>\n",
              "\t<tr><th scope=col>state</th><th scope=col>population</th><th scope=col>murders</th></tr>\n",
              "\t<tr><th scope=col>&lt;chr&gt;</th><th scope=col>&lt;int&gt;</th><th scope=col>&lt;int&gt;</th></tr>\n",
              "</thead>\n",
              "<tbody>\n",
              "\t<tr><td>Colorado      </td><td> 5029196</td><td> 117</td></tr>\n",
              "\t<tr><td>Connecticut   </td><td> 3574097</td><td> 131</td></tr>\n",
              "\t<tr><td>Wisconsin     </td><td> 5686986</td><td> 151</td></tr>\n",
              "\t<tr><td>Kentucky      </td><td> 4339367</td><td> 180</td></tr>\n",
              "\t<tr><td>Oklahoma      </td><td> 3751351</td><td> 188</td></tr>\n",
              "\t<tr><td>Indiana       </td><td> 6483802</td><td> 198</td></tr>\n",
              "\t<tr><td>Alabama       </td><td> 4779736</td><td> 199</td></tr>\n",
              "\t<tr><td>Massachusetts </td><td> 6547629</td><td> 209</td></tr>\n",
              "\t<tr><td>Arizona       </td><td> 6392017</td><td> 352</td></tr>\n",
              "\t<tr><td>Tennessee     </td><td> 6346105</td><td> 356</td></tr>\n",
              "\t<tr><td>New Jersey    </td><td> 8791894</td><td> 363</td></tr>\n",
              "\t<tr><td>Virginia      </td><td> 8001024</td><td> 369</td></tr>\n",
              "\t<tr><td>Missouri      </td><td> 5988927</td><td> 419</td></tr>\n",
              "\t<tr><td>Maryland      </td><td> 5773552</td><td> 424</td></tr>\n",
              "\t<tr><td>Louisiana     </td><td> 4533372</td><td> 437</td></tr>\n",
              "\t<tr><td>North Carolina</td><td> 9535483</td><td> 445</td></tr>\n",
              "\t<tr><td>Illinois      </td><td>12830632</td><td> 453</td></tr>\n",
              "\t<tr><td>Ohio          </td><td>11536504</td><td> 460</td></tr>\n",
              "\t<tr><td>Georgia       </td><td> 9920000</td><td> 527</td></tr>\n",
              "\t<tr><td>Michigan      </td><td> 9883640</td><td> 558</td></tr>\n",
              "\t<tr><td>Pennsylvania  </td><td>12702379</td><td> 646</td></tr>\n",
              "\t<tr><td>New York      </td><td>19378102</td><td> 860</td></tr>\n",
              "\t<tr><td>Florida       </td><td>19687653</td><td> 987</td></tr>\n",
              "\t<tr><td>Texas         </td><td>25145561</td><td>1246</td></tr>\n",
              "\t<tr><td>California    </td><td>37253956</td><td>1811</td></tr>\n",
              "</tbody>\n",
              "</table>\n"
            ]
          },
          "metadata": {}
        }
      ]
    },
    {
      "cell_type": "code",
      "metadata": {
        "colab": {
          "base_uri": "https://localhost:8080/",
          "height": 882
        },
        "id": "4szsELn__JPD",
        "outputId": "a169c11e-fa35-429d-fb67-a33c2d2b14c9"
      },
      "source": [
        "mysubdata<-arrange(mydata,desc(murders))\n",
        "mysubdata"
      ],
      "execution_count": 30,
      "outputs": [
        {
          "output_type": "display_data",
          "data": {
            "text/plain": [
              "   state          abb region        population PopulationDensity murders\n",
              "1  California     CA  West          37253956    244.20           1811   \n",
              "2  Texas          TX  South         25145561     98.07           1246   \n",
              "3  Florida        FL  South         19687653    360.20            987   \n",
              "4  New York       NY  Northeast     19378102    415.30            860   \n",
              "5  Pennsylvania   PA  Northeast     12702379    285.30            646   \n",
              "6  Michigan       MI  North Central  9883640    174.80            558   \n",
              "7  Georgia        GA  South          9920000    172.50            527   \n",
              "8  Ohio           OH  North Central 11536504    282.50            460   \n",
              "9  Illinois       IL  North Central 12830632    231.90            453   \n",
              "10 North Carolina NC  South          9535483    200.60            445   \n",
              "11 Louisiana      LA  South          4533372    105.00            437   \n",
              "12 Maryland       MD  South          5773552    606.20            424   \n",
              "13 Missouri       MO  North Central  5988927     87.26            419   \n",
              "14 Virginia       VA  South          8001024    207.30            369   \n",
              "15 New Jersey     NJ  Northeast      8791894   1189.00            363   \n",
              "16 Tennessee      TN  South          6346105    156.60            356   \n",
              "17 Arizona        AZ  West           6392017     57.05            352   \n",
              "18 Massachusetts  MA  Northeast      6547629    852.10            209   \n",
              "19 Alabama        AL  South          4779736     94.65            199   \n",
              "20 Indiana        IN  North Central  6483802    182.50            198   \n",
              "21 Oklahoma       OK  South          3751351     55.22            188   \n",
              "22 Kentucky       KY  South          4339367    110.00            180   \n",
              "23 Wisconsin      WI  North Central  5686986    105.20            151   \n",
              "24 Connecticut    CT  Northeast      3574097    741.40            131   \n",
              "25 Colorado       CO  West           5029196     49.33            117   \n",
              "   gunmurders gunownership\n",
              "1  1257       0.213       \n",
              "2   805       0.359       \n",
              "3   669       0.245       \n",
              "4   517       0.180       \n",
              "5   457       0.347       \n",
              "6   413       0.384       \n",
              "7   376       0.403       \n",
              "8   310       0.324       \n",
              "9   364       0.202       \n",
              "10  286       0.413       \n",
              "11  351       0.441       \n",
              "12  293       0.213       \n",
              "13  321       0.417       \n",
              "14  250       0.351       \n",
              "15  246       0.123       \n",
              "16  219       0.439       \n",
              "17  232       0.311       \n",
              "18  118       0.126       \n",
              "19  135       0.517       \n",
              "20  142       0.391       \n",
              "21  111       0.429       \n",
              "22  116       0.477       \n",
              "23   97       0.444       \n",
              "24   97       0.167       \n",
              "25   65       0.347       "
            ],
            "text/latex": "A data.frame: 25 × 8\n\\begin{tabular}{llllllll}\n state & abb & region & population & PopulationDensity & murders & gunmurders & gunownership\\\\\n <chr> & <chr> & <chr> & <int> & <dbl> & <int> & <int> & <dbl>\\\\\n\\hline\n\t California     & CA & West          & 37253956 &  244.20 & 1811 & 1257 & 0.213\\\\\n\t Texas          & TX & South         & 25145561 &   98.07 & 1246 &  805 & 0.359\\\\\n\t Florida        & FL & South         & 19687653 &  360.20 &  987 &  669 & 0.245\\\\\n\t New York       & NY & Northeast     & 19378102 &  415.30 &  860 &  517 & 0.180\\\\\n\t Pennsylvania   & PA & Northeast     & 12702379 &  285.30 &  646 &  457 & 0.347\\\\\n\t Michigan       & MI & North Central &  9883640 &  174.80 &  558 &  413 & 0.384\\\\\n\t Georgia        & GA & South         &  9920000 &  172.50 &  527 &  376 & 0.403\\\\\n\t Ohio           & OH & North Central & 11536504 &  282.50 &  460 &  310 & 0.324\\\\\n\t Illinois       & IL & North Central & 12830632 &  231.90 &  453 &  364 & 0.202\\\\\n\t North Carolina & NC & South         &  9535483 &  200.60 &  445 &  286 & 0.413\\\\\n\t Louisiana      & LA & South         &  4533372 &  105.00 &  437 &  351 & 0.441\\\\\n\t Maryland       & MD & South         &  5773552 &  606.20 &  424 &  293 & 0.213\\\\\n\t Missouri       & MO & North Central &  5988927 &   87.26 &  419 &  321 & 0.417\\\\\n\t Virginia       & VA & South         &  8001024 &  207.30 &  369 &  250 & 0.351\\\\\n\t New Jersey     & NJ & Northeast     &  8791894 & 1189.00 &  363 &  246 & 0.123\\\\\n\t Tennessee      & TN & South         &  6346105 &  156.60 &  356 &  219 & 0.439\\\\\n\t Arizona        & AZ & West          &  6392017 &   57.05 &  352 &  232 & 0.311\\\\\n\t Massachusetts  & MA & Northeast     &  6547629 &  852.10 &  209 &  118 & 0.126\\\\\n\t Alabama        & AL & South         &  4779736 &   94.65 &  199 &  135 & 0.517\\\\\n\t Indiana        & IN & North Central &  6483802 &  182.50 &  198 &  142 & 0.391\\\\\n\t Oklahoma       & OK & South         &  3751351 &   55.22 &  188 &  111 & 0.429\\\\\n\t Kentucky       & KY & South         &  4339367 &  110.00 &  180 &  116 & 0.477\\\\\n\t Wisconsin      & WI & North Central &  5686986 &  105.20 &  151 &   97 & 0.444\\\\\n\t Connecticut    & CT & Northeast     &  3574097 &  741.40 &  131 &   97 & 0.167\\\\\n\t Colorado       & CO & West          &  5029196 &   49.33 &  117 &   65 & 0.347\\\\\n\\end{tabular}\n",
            "text/markdown": "\nA data.frame: 25 × 8\n\n| state &lt;chr&gt; | abb &lt;chr&gt; | region &lt;chr&gt; | population &lt;int&gt; | PopulationDensity &lt;dbl&gt; | murders &lt;int&gt; | gunmurders &lt;int&gt; | gunownership &lt;dbl&gt; |\n|---|---|---|---|---|---|---|---|\n| California     | CA | West          | 37253956 |  244.20 | 1811 | 1257 | 0.213 |\n| Texas          | TX | South         | 25145561 |   98.07 | 1246 |  805 | 0.359 |\n| Florida        | FL | South         | 19687653 |  360.20 |  987 |  669 | 0.245 |\n| New York       | NY | Northeast     | 19378102 |  415.30 |  860 |  517 | 0.180 |\n| Pennsylvania   | PA | Northeast     | 12702379 |  285.30 |  646 |  457 | 0.347 |\n| Michigan       | MI | North Central |  9883640 |  174.80 |  558 |  413 | 0.384 |\n| Georgia        | GA | South         |  9920000 |  172.50 |  527 |  376 | 0.403 |\n| Ohio           | OH | North Central | 11536504 |  282.50 |  460 |  310 | 0.324 |\n| Illinois       | IL | North Central | 12830632 |  231.90 |  453 |  364 | 0.202 |\n| North Carolina | NC | South         |  9535483 |  200.60 |  445 |  286 | 0.413 |\n| Louisiana      | LA | South         |  4533372 |  105.00 |  437 |  351 | 0.441 |\n| Maryland       | MD | South         |  5773552 |  606.20 |  424 |  293 | 0.213 |\n| Missouri       | MO | North Central |  5988927 |   87.26 |  419 |  321 | 0.417 |\n| Virginia       | VA | South         |  8001024 |  207.30 |  369 |  250 | 0.351 |\n| New Jersey     | NJ | Northeast     |  8791894 | 1189.00 |  363 |  246 | 0.123 |\n| Tennessee      | TN | South         |  6346105 |  156.60 |  356 |  219 | 0.439 |\n| Arizona        | AZ | West          |  6392017 |   57.05 |  352 |  232 | 0.311 |\n| Massachusetts  | MA | Northeast     |  6547629 |  852.10 |  209 |  118 | 0.126 |\n| Alabama        | AL | South         |  4779736 |   94.65 |  199 |  135 | 0.517 |\n| Indiana        | IN | North Central |  6483802 |  182.50 |  198 |  142 | 0.391 |\n| Oklahoma       | OK | South         |  3751351 |   55.22 |  188 |  111 | 0.429 |\n| Kentucky       | KY | South         |  4339367 |  110.00 |  180 |  116 | 0.477 |\n| Wisconsin      | WI | North Central |  5686986 |  105.20 |  151 |   97 | 0.444 |\n| Connecticut    | CT | Northeast     |  3574097 |  741.40 |  131 |   97 | 0.167 |\n| Colorado       | CO | West          |  5029196 |   49.33 |  117 |   65 | 0.347 |\n\n",
            "text/html": [
              "<table class=\"dataframe\">\n",
              "<caption>A data.frame: 25 × 8</caption>\n",
              "<thead>\n",
              "\t<tr><th scope=col>state</th><th scope=col>abb</th><th scope=col>region</th><th scope=col>population</th><th scope=col>PopulationDensity</th><th scope=col>murders</th><th scope=col>gunmurders</th><th scope=col>gunownership</th></tr>\n",
              "\t<tr><th scope=col>&lt;chr&gt;</th><th scope=col>&lt;chr&gt;</th><th scope=col>&lt;chr&gt;</th><th scope=col>&lt;int&gt;</th><th scope=col>&lt;dbl&gt;</th><th scope=col>&lt;int&gt;</th><th scope=col>&lt;int&gt;</th><th scope=col>&lt;dbl&gt;</th></tr>\n",
              "</thead>\n",
              "<tbody>\n",
              "\t<tr><td>California    </td><td>CA</td><td>West         </td><td>37253956</td><td> 244.20</td><td>1811</td><td>1257</td><td>0.213</td></tr>\n",
              "\t<tr><td>Texas         </td><td>TX</td><td>South        </td><td>25145561</td><td>  98.07</td><td>1246</td><td> 805</td><td>0.359</td></tr>\n",
              "\t<tr><td>Florida       </td><td>FL</td><td>South        </td><td>19687653</td><td> 360.20</td><td> 987</td><td> 669</td><td>0.245</td></tr>\n",
              "\t<tr><td>New York      </td><td>NY</td><td>Northeast    </td><td>19378102</td><td> 415.30</td><td> 860</td><td> 517</td><td>0.180</td></tr>\n",
              "\t<tr><td>Pennsylvania  </td><td>PA</td><td>Northeast    </td><td>12702379</td><td> 285.30</td><td> 646</td><td> 457</td><td>0.347</td></tr>\n",
              "\t<tr><td>Michigan      </td><td>MI</td><td>North Central</td><td> 9883640</td><td> 174.80</td><td> 558</td><td> 413</td><td>0.384</td></tr>\n",
              "\t<tr><td>Georgia       </td><td>GA</td><td>South        </td><td> 9920000</td><td> 172.50</td><td> 527</td><td> 376</td><td>0.403</td></tr>\n",
              "\t<tr><td>Ohio          </td><td>OH</td><td>North Central</td><td>11536504</td><td> 282.50</td><td> 460</td><td> 310</td><td>0.324</td></tr>\n",
              "\t<tr><td>Illinois      </td><td>IL</td><td>North Central</td><td>12830632</td><td> 231.90</td><td> 453</td><td> 364</td><td>0.202</td></tr>\n",
              "\t<tr><td>North Carolina</td><td>NC</td><td>South        </td><td> 9535483</td><td> 200.60</td><td> 445</td><td> 286</td><td>0.413</td></tr>\n",
              "\t<tr><td>Louisiana     </td><td>LA</td><td>South        </td><td> 4533372</td><td> 105.00</td><td> 437</td><td> 351</td><td>0.441</td></tr>\n",
              "\t<tr><td>Maryland      </td><td>MD</td><td>South        </td><td> 5773552</td><td> 606.20</td><td> 424</td><td> 293</td><td>0.213</td></tr>\n",
              "\t<tr><td>Missouri      </td><td>MO</td><td>North Central</td><td> 5988927</td><td>  87.26</td><td> 419</td><td> 321</td><td>0.417</td></tr>\n",
              "\t<tr><td>Virginia      </td><td>VA</td><td>South        </td><td> 8001024</td><td> 207.30</td><td> 369</td><td> 250</td><td>0.351</td></tr>\n",
              "\t<tr><td>New Jersey    </td><td>NJ</td><td>Northeast    </td><td> 8791894</td><td>1189.00</td><td> 363</td><td> 246</td><td>0.123</td></tr>\n",
              "\t<tr><td>Tennessee     </td><td>TN</td><td>South        </td><td> 6346105</td><td> 156.60</td><td> 356</td><td> 219</td><td>0.439</td></tr>\n",
              "\t<tr><td>Arizona       </td><td>AZ</td><td>West         </td><td> 6392017</td><td>  57.05</td><td> 352</td><td> 232</td><td>0.311</td></tr>\n",
              "\t<tr><td>Massachusetts </td><td>MA</td><td>Northeast    </td><td> 6547629</td><td> 852.10</td><td> 209</td><td> 118</td><td>0.126</td></tr>\n",
              "\t<tr><td>Alabama       </td><td>AL</td><td>South        </td><td> 4779736</td><td>  94.65</td><td> 199</td><td> 135</td><td>0.517</td></tr>\n",
              "\t<tr><td>Indiana       </td><td>IN</td><td>North Central</td><td> 6483802</td><td> 182.50</td><td> 198</td><td> 142</td><td>0.391</td></tr>\n",
              "\t<tr><td>Oklahoma      </td><td>OK</td><td>South        </td><td> 3751351</td><td>  55.22</td><td> 188</td><td> 111</td><td>0.429</td></tr>\n",
              "\t<tr><td>Kentucky      </td><td>KY</td><td>South        </td><td> 4339367</td><td> 110.00</td><td> 180</td><td> 116</td><td>0.477</td></tr>\n",
              "\t<tr><td>Wisconsin     </td><td>WI</td><td>North Central</td><td> 5686986</td><td> 105.20</td><td> 151</td><td>  97</td><td>0.444</td></tr>\n",
              "\t<tr><td>Connecticut   </td><td>CT</td><td>Northeast    </td><td> 3574097</td><td> 741.40</td><td> 131</td><td>  97</td><td>0.167</td></tr>\n",
              "\t<tr><td>Colorado      </td><td>CO</td><td>West         </td><td> 5029196</td><td>  49.33</td><td> 117</td><td>  65</td><td>0.347</td></tr>\n",
              "</tbody>\n",
              "</table>\n"
            ]
          },
          "metadata": {}
        }
      ]
    },
    {
      "cell_type": "markdown",
      "metadata": {
        "id": "OWLFXjJ6BR5R"
      },
      "source": [
        "**rename()**"
      ]
    },
    {
      "cell_type": "code",
      "metadata": {
        "colab": {
          "base_uri": "https://localhost:8080/",
          "height": 34
        },
        "id": "_DVc2E-gAgBr",
        "outputId": "32ac6ece-c2ae-4cca-bc03-6761c8dfbcb2"
      },
      "source": [
        "names(mydata)"
      ],
      "execution_count": 31,
      "outputs": [
        {
          "output_type": "display_data",
          "data": {
            "text/plain": [
              "[1] \"state\"             \"abb\"               \"region\"           \n",
              "[4] \"population\"        \"PopulationDensity\" \"murders\"          \n",
              "[7] \"gunmurders\"        \"gunownership\"     "
            ],
            "text/latex": "\\begin{enumerate*}\n\\item 'state'\n\\item 'abb'\n\\item 'region'\n\\item 'population'\n\\item 'PopulationDensity'\n\\item 'murders'\n\\item 'gunmurders'\n\\item 'gunownership'\n\\end{enumerate*}\n",
            "text/markdown": "1. 'state'\n2. 'abb'\n3. 'region'\n4. 'population'\n5. 'PopulationDensity'\n6. 'murders'\n7. 'gunmurders'\n8. 'gunownership'\n\n\n",
            "text/html": [
              "<style>\n",
              ".list-inline {list-style: none; margin:0; padding: 0}\n",
              ".list-inline>li {display: inline-block}\n",
              ".list-inline>li:not(:last-child)::after {content: \"\\00b7\"; padding: 0 .5ex}\n",
              "</style>\n",
              "<ol class=list-inline><li>'state'</li><li>'abb'</li><li>'region'</li><li>'population'</li><li>'PopulationDensity'</li><li>'murders'</li><li>'gunmurders'</li><li>'gunownership'</li></ol>\n"
            ]
          },
          "metadata": {}
        }
      ]
    },
    {
      "cell_type": "code",
      "metadata": {
        "colab": {
          "base_uri": "https://localhost:8080/",
          "height": 34
        },
        "id": "rMxbV06JAmcF",
        "outputId": "0dd860a0-501f-4099-dc03-dae4d69060ef"
      },
      "source": [
        "mysubdata<-rename(mydata,abbrivation=abb)\n",
        "names(mysubdata)"
      ],
      "execution_count": 32,
      "outputs": [
        {
          "output_type": "display_data",
          "data": {
            "text/plain": [
              "[1] \"state\"             \"abbrivation\"       \"region\"           \n",
              "[4] \"population\"        \"PopulationDensity\" \"murders\"          \n",
              "[7] \"gunmurders\"        \"gunownership\"     "
            ],
            "text/latex": "\\begin{enumerate*}\n\\item 'state'\n\\item 'abbrivation'\n\\item 'region'\n\\item 'population'\n\\item 'PopulationDensity'\n\\item 'murders'\n\\item 'gunmurders'\n\\item 'gunownership'\n\\end{enumerate*}\n",
            "text/markdown": "1. 'state'\n2. 'abbrivation'\n3. 'region'\n4. 'population'\n5. 'PopulationDensity'\n6. 'murders'\n7. 'gunmurders'\n8. 'gunownership'\n\n\n",
            "text/html": [
              "<style>\n",
              ".list-inline {list-style: none; margin:0; padding: 0}\n",
              ".list-inline>li {display: inline-block}\n",
              ".list-inline>li:not(:last-child)::after {content: \"\\00b7\"; padding: 0 .5ex}\n",
              "</style>\n",
              "<ol class=list-inline><li>'state'</li><li>'abbrivation'</li><li>'region'</li><li>'population'</li><li>'PopulationDensity'</li><li>'murders'</li><li>'gunmurders'</li><li>'gunownership'</li></ol>\n"
            ]
          },
          "metadata": {}
        }
      ]
    },
    {
      "cell_type": "markdown",
      "metadata": {
        "id": "f6qpadXBBob_"
      },
      "source": [
        "**mutate() function**"
      ]
    },
    {
      "cell_type": "code",
      "metadata": {
        "colab": {
          "base_uri": "https://localhost:8080/",
          "height": 286
        },
        "id": "mAUlgSDMB_Dx",
        "outputId": "a9e63571-19bb-42ec-b2aa-14911a371968"
      },
      "source": [
        "mysubdata<-mutate(mydata,ratio=murders/population)\n",
        "head(mysubdata)"
      ],
      "execution_count": 34,
      "outputs": [
        {
          "output_type": "display_data",
          "data": {
            "text/plain": [
              "  state       abb region    population PopulationDensity murders gunmurders\n",
              "1 Alabama     AL  South      4779736    94.65             199     135      \n",
              "2 Arizona     AZ  West       6392017    57.05             352     232      \n",
              "3 California  CA  West      37253956   244.20            1811    1257      \n",
              "4 Colorado    CO  West       5029196    49.33             117      65      \n",
              "5 Connecticut CT  Northeast  3574097   741.40             131      97      \n",
              "6 Florida     FL  South     19687653   360.20             987     669      \n",
              "  gunownership ratio       \n",
              "1 0.517        4.163410e-05\n",
              "2 0.311        5.506869e-05\n",
              "3 0.213        4.861229e-05\n",
              "4 0.347        2.326416e-05\n",
              "5 0.167        3.665261e-05\n",
              "6 0.245        5.013294e-05"
            ],
            "text/latex": "A data.frame: 6 × 9\n\\begin{tabular}{r|lllllllll}\n  & state & abb & region & population & PopulationDensity & murders & gunmurders & gunownership & ratio\\\\\n  & <chr> & <chr> & <chr> & <int> & <dbl> & <int> & <int> & <dbl> & <dbl>\\\\\n\\hline\n\t1 & Alabama     & AL & South     &  4779736 &  94.65 &  199 &  135 & 0.517 & 4.163410e-05\\\\\n\t2 & Arizona     & AZ & West      &  6392017 &  57.05 &  352 &  232 & 0.311 & 5.506869e-05\\\\\n\t3 & California  & CA & West      & 37253956 & 244.20 & 1811 & 1257 & 0.213 & 4.861229e-05\\\\\n\t4 & Colorado    & CO & West      &  5029196 &  49.33 &  117 &   65 & 0.347 & 2.326416e-05\\\\\n\t5 & Connecticut & CT & Northeast &  3574097 & 741.40 &  131 &   97 & 0.167 & 3.665261e-05\\\\\n\t6 & Florida     & FL & South     & 19687653 & 360.20 &  987 &  669 & 0.245 & 5.013294e-05\\\\\n\\end{tabular}\n",
            "text/markdown": "\nA data.frame: 6 × 9\n\n| <!--/--> | state &lt;chr&gt; | abb &lt;chr&gt; | region &lt;chr&gt; | population &lt;int&gt; | PopulationDensity &lt;dbl&gt; | murders &lt;int&gt; | gunmurders &lt;int&gt; | gunownership &lt;dbl&gt; | ratio &lt;dbl&gt; |\n|---|---|---|---|---|---|---|---|---|---|\n| 1 | Alabama     | AL | South     |  4779736 |  94.65 |  199 |  135 | 0.517 | 4.163410e-05 |\n| 2 | Arizona     | AZ | West      |  6392017 |  57.05 |  352 |  232 | 0.311 | 5.506869e-05 |\n| 3 | California  | CA | West      | 37253956 | 244.20 | 1811 | 1257 | 0.213 | 4.861229e-05 |\n| 4 | Colorado    | CO | West      |  5029196 |  49.33 |  117 |   65 | 0.347 | 2.326416e-05 |\n| 5 | Connecticut | CT | Northeast |  3574097 | 741.40 |  131 |   97 | 0.167 | 3.665261e-05 |\n| 6 | Florida     | FL | South     | 19687653 | 360.20 |  987 |  669 | 0.245 | 5.013294e-05 |\n\n",
            "text/html": [
              "<table class=\"dataframe\">\n",
              "<caption>A data.frame: 6 × 9</caption>\n",
              "<thead>\n",
              "\t<tr><th></th><th scope=col>state</th><th scope=col>abb</th><th scope=col>region</th><th scope=col>population</th><th scope=col>PopulationDensity</th><th scope=col>murders</th><th scope=col>gunmurders</th><th scope=col>gunownership</th><th scope=col>ratio</th></tr>\n",
              "\t<tr><th></th><th scope=col>&lt;chr&gt;</th><th scope=col>&lt;chr&gt;</th><th scope=col>&lt;chr&gt;</th><th scope=col>&lt;int&gt;</th><th scope=col>&lt;dbl&gt;</th><th scope=col>&lt;int&gt;</th><th scope=col>&lt;int&gt;</th><th scope=col>&lt;dbl&gt;</th><th scope=col>&lt;dbl&gt;</th></tr>\n",
              "</thead>\n",
              "<tbody>\n",
              "\t<tr><th scope=row>1</th><td>Alabama    </td><td>AL</td><td>South    </td><td> 4779736</td><td> 94.65</td><td> 199</td><td> 135</td><td>0.517</td><td>4.163410e-05</td></tr>\n",
              "\t<tr><th scope=row>2</th><td>Arizona    </td><td>AZ</td><td>West     </td><td> 6392017</td><td> 57.05</td><td> 352</td><td> 232</td><td>0.311</td><td>5.506869e-05</td></tr>\n",
              "\t<tr><th scope=row>3</th><td>California </td><td>CA</td><td>West     </td><td>37253956</td><td>244.20</td><td>1811</td><td>1257</td><td>0.213</td><td>4.861229e-05</td></tr>\n",
              "\t<tr><th scope=row>4</th><td>Colorado   </td><td>CO</td><td>West     </td><td> 5029196</td><td> 49.33</td><td> 117</td><td>  65</td><td>0.347</td><td>2.326416e-05</td></tr>\n",
              "\t<tr><th scope=row>5</th><td>Connecticut</td><td>CT</td><td>Northeast</td><td> 3574097</td><td>741.40</td><td> 131</td><td>  97</td><td>0.167</td><td>3.665261e-05</td></tr>\n",
              "\t<tr><th scope=row>6</th><td>Florida    </td><td>FL</td><td>South    </td><td>19687653</td><td>360.20</td><td> 987</td><td> 669</td><td>0.245</td><td>5.013294e-05</td></tr>\n",
              "</tbody>\n",
              "</table>\n"
            ]
          },
          "metadata": {}
        }
      ]
    },
    {
      "cell_type": "code",
      "metadata": {
        "colab": {
          "base_uri": "https://localhost:8080/",
          "height": 286
        },
        "id": "UlcM5LyUAoDa",
        "outputId": "c12bb920-0fdc-4591-b123-3ea9cc9150fd"
      },
      "source": [
        "mysubdata<-select(mysubdata,state,population,\tmurders,ratio)\n",
        "head(mysubdata)"
      ],
      "execution_count": 35,
      "outputs": [
        {
          "output_type": "display_data",
          "data": {
            "text/plain": [
              "  state       population murders ratio       \n",
              "1 Alabama      4779736    199    4.163410e-05\n",
              "2 Arizona      6392017    352    5.506869e-05\n",
              "3 California  37253956   1811    4.861229e-05\n",
              "4 Colorado     5029196    117    2.326416e-05\n",
              "5 Connecticut  3574097    131    3.665261e-05\n",
              "6 Florida     19687653    987    5.013294e-05"
            ],
            "text/latex": "A data.frame: 6 × 4\n\\begin{tabular}{r|llll}\n  & state & population & murders & ratio\\\\\n  & <chr> & <int> & <int> & <dbl>\\\\\n\\hline\n\t1 & Alabama     &  4779736 &  199 & 4.163410e-05\\\\\n\t2 & Arizona     &  6392017 &  352 & 5.506869e-05\\\\\n\t3 & California  & 37253956 & 1811 & 4.861229e-05\\\\\n\t4 & Colorado    &  5029196 &  117 & 2.326416e-05\\\\\n\t5 & Connecticut &  3574097 &  131 & 3.665261e-05\\\\\n\t6 & Florida     & 19687653 &  987 & 5.013294e-05\\\\\n\\end{tabular}\n",
            "text/markdown": "\nA data.frame: 6 × 4\n\n| <!--/--> | state &lt;chr&gt; | population &lt;int&gt; | murders &lt;int&gt; | ratio &lt;dbl&gt; |\n|---|---|---|---|---|\n| 1 | Alabama     |  4779736 |  199 | 4.163410e-05 |\n| 2 | Arizona     |  6392017 |  352 | 5.506869e-05 |\n| 3 | California  | 37253956 | 1811 | 4.861229e-05 |\n| 4 | Colorado    |  5029196 |  117 | 2.326416e-05 |\n| 5 | Connecticut |  3574097 |  131 | 3.665261e-05 |\n| 6 | Florida     | 19687653 |  987 | 5.013294e-05 |\n\n",
            "text/html": [
              "<table class=\"dataframe\">\n",
              "<caption>A data.frame: 6 × 4</caption>\n",
              "<thead>\n",
              "\t<tr><th></th><th scope=col>state</th><th scope=col>population</th><th scope=col>murders</th><th scope=col>ratio</th></tr>\n",
              "\t<tr><th></th><th scope=col>&lt;chr&gt;</th><th scope=col>&lt;int&gt;</th><th scope=col>&lt;int&gt;</th><th scope=col>&lt;dbl&gt;</th></tr>\n",
              "</thead>\n",
              "<tbody>\n",
              "\t<tr><th scope=row>1</th><td>Alabama    </td><td> 4779736</td><td> 199</td><td>4.163410e-05</td></tr>\n",
              "\t<tr><th scope=row>2</th><td>Arizona    </td><td> 6392017</td><td> 352</td><td>5.506869e-05</td></tr>\n",
              "\t<tr><th scope=row>3</th><td>California </td><td>37253956</td><td>1811</td><td>4.861229e-05</td></tr>\n",
              "\t<tr><th scope=row>4</th><td>Colorado   </td><td> 5029196</td><td> 117</td><td>2.326416e-05</td></tr>\n",
              "\t<tr><th scope=row>5</th><td>Connecticut</td><td> 3574097</td><td> 131</td><td>3.665261e-05</td></tr>\n",
              "\t<tr><th scope=row>6</th><td>Florida    </td><td>19687653</td><td> 987</td><td>5.013294e-05</td></tr>\n",
              "</tbody>\n",
              "</table>\n"
            ]
          },
          "metadata": {}
        }
      ]
    },
    {
      "cell_type": "markdown",
      "metadata": {
        "id": "QurUlvbNDJyi"
      },
      "source": [
        "**transmute()**"
      ]
    },
    {
      "cell_type": "code",
      "metadata": {
        "colab": {
          "base_uri": "https://localhost:8080/",
          "height": 286
        },
        "id": "5CW66ETNDNtj",
        "outputId": "866a769f-3b99-4621-ac09-bf09a553515e"
      },
      "source": [
        "mysubdata<-transmute(mydata,ratio=murders/population)\n",
        "head(mysubdata)"
      ],
      "execution_count": 36,
      "outputs": [
        {
          "output_type": "display_data",
          "data": {
            "text/plain": [
              "  ratio       \n",
              "1 4.163410e-05\n",
              "2 5.506869e-05\n",
              "3 4.861229e-05\n",
              "4 2.326416e-05\n",
              "5 3.665261e-05\n",
              "6 5.013294e-05"
            ],
            "text/latex": "A data.frame: 6 × 1\n\\begin{tabular}{r|l}\n  & ratio\\\\\n  & <dbl>\\\\\n\\hline\n\t1 & 4.163410e-05\\\\\n\t2 & 5.506869e-05\\\\\n\t3 & 4.861229e-05\\\\\n\t4 & 2.326416e-05\\\\\n\t5 & 3.665261e-05\\\\\n\t6 & 5.013294e-05\\\\\n\\end{tabular}\n",
            "text/markdown": "\nA data.frame: 6 × 1\n\n| <!--/--> | ratio &lt;dbl&gt; |\n|---|---|\n| 1 | 4.163410e-05 |\n| 2 | 5.506869e-05 |\n| 3 | 4.861229e-05 |\n| 4 | 2.326416e-05 |\n| 5 | 3.665261e-05 |\n| 6 | 5.013294e-05 |\n\n",
            "text/html": [
              "<table class=\"dataframe\">\n",
              "<caption>A data.frame: 6 × 1</caption>\n",
              "<thead>\n",
              "\t<tr><th></th><th scope=col>ratio</th></tr>\n",
              "\t<tr><th></th><th scope=col>&lt;dbl&gt;</th></tr>\n",
              "</thead>\n",
              "<tbody>\n",
              "\t<tr><th scope=row>1</th><td>4.163410e-05</td></tr>\n",
              "\t<tr><th scope=row>2</th><td>5.506869e-05</td></tr>\n",
              "\t<tr><th scope=row>3</th><td>4.861229e-05</td></tr>\n",
              "\t<tr><th scope=row>4</th><td>2.326416e-05</td></tr>\n",
              "\t<tr><th scope=row>5</th><td>3.665261e-05</td></tr>\n",
              "\t<tr><th scope=row>6</th><td>5.013294e-05</td></tr>\n",
              "</tbody>\n",
              "</table>\n"
            ]
          },
          "metadata": {}
        }
      ]
    },
    {
      "cell_type": "markdown",
      "metadata": {
        "id": "OUHE8N2XFUmB"
      },
      "source": [
        "**Groupby() function**"
      ]
    },
    {
      "cell_type": "code",
      "metadata": {
        "colab": {
          "base_uri": "https://localhost:8080/",
          "height": 34
        },
        "id": "-1jXvrFGFZOT",
        "outputId": "af2b6762-a42d-4e2a-f5c3-c9c4a3456ee7"
      },
      "source": [
        "names(mydata)"
      ],
      "execution_count": 37,
      "outputs": [
        {
          "output_type": "display_data",
          "data": {
            "text/plain": [
              "[1] \"state\"             \"abb\"               \"region\"           \n",
              "[4] \"population\"        \"PopulationDensity\" \"murders\"          \n",
              "[7] \"gunmurders\"        \"gunownership\"     "
            ],
            "text/latex": "\\begin{enumerate*}\n\\item 'state'\n\\item 'abb'\n\\item 'region'\n\\item 'population'\n\\item 'PopulationDensity'\n\\item 'murders'\n\\item 'gunmurders'\n\\item 'gunownership'\n\\end{enumerate*}\n",
            "text/markdown": "1. 'state'\n2. 'abb'\n3. 'region'\n4. 'population'\n5. 'PopulationDensity'\n6. 'murders'\n7. 'gunmurders'\n8. 'gunownership'\n\n\n",
            "text/html": [
              "<style>\n",
              ".list-inline {list-style: none; margin:0; padding: 0}\n",
              ".list-inline>li {display: inline-block}\n",
              ".list-inline>li:not(:last-child)::after {content: \"\\00b7\"; padding: 0 .5ex}\n",
              "</style>\n",
              "<ol class=list-inline><li>'state'</li><li>'abb'</li><li>'region'</li><li>'population'</li><li>'PopulationDensity'</li><li>'murders'</li><li>'gunmurders'</li><li>'gunownership'</li></ol>\n"
            ]
          },
          "metadata": {}
        }
      ]
    },
    {
      "cell_type": "code",
      "metadata": {
        "id": "aUBq7qeyFjKv"
      },
      "source": [
        "mysubdata<-group_by(mydata,region)"
      ],
      "execution_count": 40,
      "outputs": []
    },
    {
      "cell_type": "code",
      "metadata": {
        "colab": {
          "base_uri": "https://localhost:8080/",
          "height": 223
        },
        "id": "stIp8-RUGIoD",
        "outputId": "1c6f24d8-b4da-4d83-e9d0-9efc896468a3"
      },
      "source": [
        "summarise(mysubdata,sum(murders))"
      ],
      "execution_count": 43,
      "outputs": [
        {
          "output_type": "display_data",
          "data": {
            "text/plain": [
              "  region        sum(murders)\n",
              "1 North Central 2239        \n",
              "2 Northeast     2209        \n",
              "3 South         5358        \n",
              "4 West          2280        "
            ],
            "text/latex": "A tibble: 4 × 2\n\\begin{tabular}{ll}\n region & sum(murders)\\\\\n <chr> & <int>\\\\\n\\hline\n\t North Central & 2239\\\\\n\t Northeast     & 2209\\\\\n\t South         & 5358\\\\\n\t West          & 2280\\\\\n\\end{tabular}\n",
            "text/markdown": "\nA tibble: 4 × 2\n\n| region &lt;chr&gt; | sum(murders) &lt;int&gt; |\n|---|---|\n| North Central | 2239 |\n| Northeast     | 2209 |\n| South         | 5358 |\n| West          | 2280 |\n\n",
            "text/html": [
              "<table class=\"dataframe\">\n",
              "<caption>A tibble: 4 × 2</caption>\n",
              "<thead>\n",
              "\t<tr><th scope=col>region</th><th scope=col>sum(murders)</th></tr>\n",
              "\t<tr><th scope=col>&lt;chr&gt;</th><th scope=col>&lt;int&gt;</th></tr>\n",
              "</thead>\n",
              "<tbody>\n",
              "\t<tr><td>North Central</td><td>2239</td></tr>\n",
              "\t<tr><td>Northeast    </td><td>2209</td></tr>\n",
              "\t<tr><td>South        </td><td>5358</td></tr>\n",
              "\t<tr><td>West         </td><td>2280</td></tr>\n",
              "</tbody>\n",
              "</table>\n"
            ]
          },
          "metadata": {}
        }
      ]
    },
    {
      "cell_type": "code",
      "metadata": {
        "colab": {
          "base_uri": "https://localhost:8080/",
          "height": 223
        },
        "id": "PvvAClyaGvhP",
        "outputId": "70a51817-7356-492c-fab4-bb835ddf6c1c"
      },
      "source": [
        "summarise(mysubdata,mean(murders))"
      ],
      "execution_count": 44,
      "outputs": [
        {
          "output_type": "display_data",
          "data": {
            "text/plain": [
              "  region        mean(murders)\n",
              "1 North Central 373.1667     \n",
              "2 Northeast     441.8000     \n",
              "3 South         487.0909     \n",
              "4 West          760.0000     "
            ],
            "text/latex": "A tibble: 4 × 2\n\\begin{tabular}{ll}\n region & mean(murders)\\\\\n <chr> & <dbl>\\\\\n\\hline\n\t North Central & 373.1667\\\\\n\t Northeast     & 441.8000\\\\\n\t South         & 487.0909\\\\\n\t West          & 760.0000\\\\\n\\end{tabular}\n",
            "text/markdown": "\nA tibble: 4 × 2\n\n| region &lt;chr&gt; | mean(murders) &lt;dbl&gt; |\n|---|---|\n| North Central | 373.1667 |\n| Northeast     | 441.8000 |\n| South         | 487.0909 |\n| West          | 760.0000 |\n\n",
            "text/html": [
              "<table class=\"dataframe\">\n",
              "<caption>A tibble: 4 × 2</caption>\n",
              "<thead>\n",
              "\t<tr><th scope=col>region</th><th scope=col>mean(murders)</th></tr>\n",
              "\t<tr><th scope=col>&lt;chr&gt;</th><th scope=col>&lt;dbl&gt;</th></tr>\n",
              "</thead>\n",
              "<tbody>\n",
              "\t<tr><td>North Central</td><td>373.1667</td></tr>\n",
              "\t<tr><td>Northeast    </td><td>441.8000</td></tr>\n",
              "\t<tr><td>South        </td><td>487.0909</td></tr>\n",
              "\t<tr><td>West         </td><td>760.0000</td></tr>\n",
              "</tbody>\n",
              "</table>\n"
            ]
          },
          "metadata": {}
        }
      ]
    },
    {
      "cell_type": "markdown",
      "metadata": {
        "id": "Z6ESy3igH0Jt"
      },
      "source": [
        "# **pipe operator %>%**"
      ]
    },
    {
      "cell_type": "code",
      "metadata": {
        "colab": {
          "base_uri": "https://localhost:8080/",
          "height": 286
        },
        "id": "a0MqLVUrH5SF",
        "outputId": "8ed0dd6a-47e1-4871-9221-fa4d6ee198ec"
      },
      "source": [
        "mysubdata<-arrange(mydata,murders)\n",
        "head(mysubdata)"
      ],
      "execution_count": 7,
      "outputs": [
        {
          "output_type": "display_data",
          "data": {
            "text/plain": [
              "  state       abb region        population PopulationDensity murders gunmurders\n",
              "1 Colorado    CO  West          5029196     49.33            117      65       \n",
              "2 Connecticut CT  Northeast     3574097    741.40            131      97       \n",
              "3 Wisconsin   WI  North Central 5686986    105.20            151      97       \n",
              "4 Kentucky    KY  South         4339367    110.00            180     116       \n",
              "5 Oklahoma    OK  South         3751351     55.22            188     111       \n",
              "6 Indiana     IN  North Central 6483802    182.50            198     142       \n",
              "  gunownership\n",
              "1 0.347       \n",
              "2 0.167       \n",
              "3 0.444       \n",
              "4 0.477       \n",
              "5 0.429       \n",
              "6 0.391       "
            ],
            "text/latex": "A data.frame: 6 × 8\n\\begin{tabular}{r|llllllll}\n  & state & abb & region & population & PopulationDensity & murders & gunmurders & gunownership\\\\\n  & <chr> & <chr> & <chr> & <int> & <dbl> & <int> & <int> & <dbl>\\\\\n\\hline\n\t1 & Colorado    & CO & West          & 5029196 &  49.33 & 117 &  65 & 0.347\\\\\n\t2 & Connecticut & CT & Northeast     & 3574097 & 741.40 & 131 &  97 & 0.167\\\\\n\t3 & Wisconsin   & WI & North Central & 5686986 & 105.20 & 151 &  97 & 0.444\\\\\n\t4 & Kentucky    & KY & South         & 4339367 & 110.00 & 180 & 116 & 0.477\\\\\n\t5 & Oklahoma    & OK & South         & 3751351 &  55.22 & 188 & 111 & 0.429\\\\\n\t6 & Indiana     & IN & North Central & 6483802 & 182.50 & 198 & 142 & 0.391\\\\\n\\end{tabular}\n",
            "text/markdown": "\nA data.frame: 6 × 8\n\n| <!--/--> | state &lt;chr&gt; | abb &lt;chr&gt; | region &lt;chr&gt; | population &lt;int&gt; | PopulationDensity &lt;dbl&gt; | murders &lt;int&gt; | gunmurders &lt;int&gt; | gunownership &lt;dbl&gt; |\n|---|---|---|---|---|---|---|---|---|\n| 1 | Colorado    | CO | West          | 5029196 |  49.33 | 117 |  65 | 0.347 |\n| 2 | Connecticut | CT | Northeast     | 3574097 | 741.40 | 131 |  97 | 0.167 |\n| 3 | Wisconsin   | WI | North Central | 5686986 | 105.20 | 151 |  97 | 0.444 |\n| 4 | Kentucky    | KY | South         | 4339367 | 110.00 | 180 | 116 | 0.477 |\n| 5 | Oklahoma    | OK | South         | 3751351 |  55.22 | 188 | 111 | 0.429 |\n| 6 | Indiana     | IN | North Central | 6483802 | 182.50 | 198 | 142 | 0.391 |\n\n",
            "text/html": [
              "<table class=\"dataframe\">\n",
              "<caption>A data.frame: 6 × 8</caption>\n",
              "<thead>\n",
              "\t<tr><th></th><th scope=col>state</th><th scope=col>abb</th><th scope=col>region</th><th scope=col>population</th><th scope=col>PopulationDensity</th><th scope=col>murders</th><th scope=col>gunmurders</th><th scope=col>gunownership</th></tr>\n",
              "\t<tr><th></th><th scope=col>&lt;chr&gt;</th><th scope=col>&lt;chr&gt;</th><th scope=col>&lt;chr&gt;</th><th scope=col>&lt;int&gt;</th><th scope=col>&lt;dbl&gt;</th><th scope=col>&lt;int&gt;</th><th scope=col>&lt;int&gt;</th><th scope=col>&lt;dbl&gt;</th></tr>\n",
              "</thead>\n",
              "<tbody>\n",
              "\t<tr><th scope=row>1</th><td>Colorado   </td><td>CO</td><td>West         </td><td>5029196</td><td> 49.33</td><td>117</td><td> 65</td><td>0.347</td></tr>\n",
              "\t<tr><th scope=row>2</th><td>Connecticut</td><td>CT</td><td>Northeast    </td><td>3574097</td><td>741.40</td><td>131</td><td> 97</td><td>0.167</td></tr>\n",
              "\t<tr><th scope=row>3</th><td>Wisconsin  </td><td>WI</td><td>North Central</td><td>5686986</td><td>105.20</td><td>151</td><td> 97</td><td>0.444</td></tr>\n",
              "\t<tr><th scope=row>4</th><td>Kentucky   </td><td>KY</td><td>South        </td><td>4339367</td><td>110.00</td><td>180</td><td>116</td><td>0.477</td></tr>\n",
              "\t<tr><th scope=row>5</th><td>Oklahoma   </td><td>OK</td><td>South        </td><td>3751351</td><td> 55.22</td><td>188</td><td>111</td><td>0.429</td></tr>\n",
              "\t<tr><th scope=row>6</th><td>Indiana    </td><td>IN</td><td>North Central</td><td>6483802</td><td>182.50</td><td>198</td><td>142</td><td>0.391</td></tr>\n",
              "</tbody>\n",
              "</table>\n"
            ]
          },
          "metadata": {}
        }
      ]
    },
    {
      "cell_type": "code",
      "metadata": {
        "colab": {
          "base_uri": "https://localhost:8080/",
          "height": 286
        },
        "id": "ub6L5DytILL6",
        "outputId": "556fe520-cddf-4227-d391-27e81d2267af"
      },
      "source": [
        "mysubdata<-select(mysubdata,state,population,murders)\n",
        "head(mysubdata)"
      ],
      "execution_count": 8,
      "outputs": [
        {
          "output_type": "display_data",
          "data": {
            "text/plain": [
              "  state       population murders\n",
              "1 Colorado    5029196    117    \n",
              "2 Connecticut 3574097    131    \n",
              "3 Wisconsin   5686986    151    \n",
              "4 Kentucky    4339367    180    \n",
              "5 Oklahoma    3751351    188    \n",
              "6 Indiana     6483802    198    "
            ],
            "text/latex": "A data.frame: 6 × 3\n\\begin{tabular}{r|lll}\n  & state & population & murders\\\\\n  & <chr> & <int> & <int>\\\\\n\\hline\n\t1 & Colorado    & 5029196 & 117\\\\\n\t2 & Connecticut & 3574097 & 131\\\\\n\t3 & Wisconsin   & 5686986 & 151\\\\\n\t4 & Kentucky    & 4339367 & 180\\\\\n\t5 & Oklahoma    & 3751351 & 188\\\\\n\t6 & Indiana     & 6483802 & 198\\\\\n\\end{tabular}\n",
            "text/markdown": "\nA data.frame: 6 × 3\n\n| <!--/--> | state &lt;chr&gt; | population &lt;int&gt; | murders &lt;int&gt; |\n|---|---|---|---|\n| 1 | Colorado    | 5029196 | 117 |\n| 2 | Connecticut | 3574097 | 131 |\n| 3 | Wisconsin   | 5686986 | 151 |\n| 4 | Kentucky    | 4339367 | 180 |\n| 5 | Oklahoma    | 3751351 | 188 |\n| 6 | Indiana     | 6483802 | 198 |\n\n",
            "text/html": [
              "<table class=\"dataframe\">\n",
              "<caption>A data.frame: 6 × 3</caption>\n",
              "<thead>\n",
              "\t<tr><th></th><th scope=col>state</th><th scope=col>population</th><th scope=col>murders</th></tr>\n",
              "\t<tr><th></th><th scope=col>&lt;chr&gt;</th><th scope=col>&lt;int&gt;</th><th scope=col>&lt;int&gt;</th></tr>\n",
              "</thead>\n",
              "<tbody>\n",
              "\t<tr><th scope=row>1</th><td>Colorado   </td><td>5029196</td><td>117</td></tr>\n",
              "\t<tr><th scope=row>2</th><td>Connecticut</td><td>3574097</td><td>131</td></tr>\n",
              "\t<tr><th scope=row>3</th><td>Wisconsin  </td><td>5686986</td><td>151</td></tr>\n",
              "\t<tr><th scope=row>4</th><td>Kentucky   </td><td>4339367</td><td>180</td></tr>\n",
              "\t<tr><th scope=row>5</th><td>Oklahoma   </td><td>3751351</td><td>188</td></tr>\n",
              "\t<tr><th scope=row>6</th><td>Indiana    </td><td>6483802</td><td>198</td></tr>\n",
              "</tbody>\n",
              "</table>\n"
            ]
          },
          "metadata": {}
        }
      ]
    },
    {
      "cell_type": "code",
      "metadata": {
        "colab": {
          "base_uri": "https://localhost:8080/",
          "height": 882
        },
        "id": "zVcMO6yhIY6N",
        "outputId": "afcb08b5-584e-4fa5-ef79-72d479221d88"
      },
      "source": [
        "arrange(mydata,murders)%>% select(state,population,murders)"
      ],
      "execution_count": 50,
      "outputs": [
        {
          "output_type": "display_data",
          "data": {
            "text/plain": [
              "   state          population murders\n",
              "1  Colorado        5029196    117   \n",
              "2  Connecticut     3574097    131   \n",
              "3  Wisconsin       5686986    151   \n",
              "4  Kentucky        4339367    180   \n",
              "5  Oklahoma        3751351    188   \n",
              "6  Indiana         6483802    198   \n",
              "7  Alabama         4779736    199   \n",
              "8  Massachusetts   6547629    209   \n",
              "9  Arizona         6392017    352   \n",
              "10 Tennessee       6346105    356   \n",
              "11 New Jersey      8791894    363   \n",
              "12 Virginia        8001024    369   \n",
              "13 Missouri        5988927    419   \n",
              "14 Maryland        5773552    424   \n",
              "15 Louisiana       4533372    437   \n",
              "16 North Carolina  9535483    445   \n",
              "17 Illinois       12830632    453   \n",
              "18 Ohio           11536504    460   \n",
              "19 Georgia         9920000    527   \n",
              "20 Michigan        9883640    558   \n",
              "21 Pennsylvania   12702379    646   \n",
              "22 New York       19378102    860   \n",
              "23 Florida        19687653    987   \n",
              "24 Texas          25145561   1246   \n",
              "25 California     37253956   1811   "
            ],
            "text/latex": "A data.frame: 25 × 3\n\\begin{tabular}{lll}\n state & population & murders\\\\\n <chr> & <int> & <int>\\\\\n\\hline\n\t Colorado       &  5029196 &  117\\\\\n\t Connecticut    &  3574097 &  131\\\\\n\t Wisconsin      &  5686986 &  151\\\\\n\t Kentucky       &  4339367 &  180\\\\\n\t Oklahoma       &  3751351 &  188\\\\\n\t Indiana        &  6483802 &  198\\\\\n\t Alabama        &  4779736 &  199\\\\\n\t Massachusetts  &  6547629 &  209\\\\\n\t Arizona        &  6392017 &  352\\\\\n\t Tennessee      &  6346105 &  356\\\\\n\t New Jersey     &  8791894 &  363\\\\\n\t Virginia       &  8001024 &  369\\\\\n\t Missouri       &  5988927 &  419\\\\\n\t Maryland       &  5773552 &  424\\\\\n\t Louisiana      &  4533372 &  437\\\\\n\t North Carolina &  9535483 &  445\\\\\n\t Illinois       & 12830632 &  453\\\\\n\t Ohio           & 11536504 &  460\\\\\n\t Georgia        &  9920000 &  527\\\\\n\t Michigan       &  9883640 &  558\\\\\n\t Pennsylvania   & 12702379 &  646\\\\\n\t New York       & 19378102 &  860\\\\\n\t Florida        & 19687653 &  987\\\\\n\t Texas          & 25145561 & 1246\\\\\n\t California     & 37253956 & 1811\\\\\n\\end{tabular}\n",
            "text/markdown": "\nA data.frame: 25 × 3\n\n| state &lt;chr&gt; | population &lt;int&gt; | murders &lt;int&gt; |\n|---|---|---|\n| Colorado       |  5029196 |  117 |\n| Connecticut    |  3574097 |  131 |\n| Wisconsin      |  5686986 |  151 |\n| Kentucky       |  4339367 |  180 |\n| Oklahoma       |  3751351 |  188 |\n| Indiana        |  6483802 |  198 |\n| Alabama        |  4779736 |  199 |\n| Massachusetts  |  6547629 |  209 |\n| Arizona        |  6392017 |  352 |\n| Tennessee      |  6346105 |  356 |\n| New Jersey     |  8791894 |  363 |\n| Virginia       |  8001024 |  369 |\n| Missouri       |  5988927 |  419 |\n| Maryland       |  5773552 |  424 |\n| Louisiana      |  4533372 |  437 |\n| North Carolina |  9535483 |  445 |\n| Illinois       | 12830632 |  453 |\n| Ohio           | 11536504 |  460 |\n| Georgia        |  9920000 |  527 |\n| Michigan       |  9883640 |  558 |\n| Pennsylvania   | 12702379 |  646 |\n| New York       | 19378102 |  860 |\n| Florida        | 19687653 |  987 |\n| Texas          | 25145561 | 1246 |\n| California     | 37253956 | 1811 |\n\n",
            "text/html": [
              "<table class=\"dataframe\">\n",
              "<caption>A data.frame: 25 × 3</caption>\n",
              "<thead>\n",
              "\t<tr><th scope=col>state</th><th scope=col>population</th><th scope=col>murders</th></tr>\n",
              "\t<tr><th scope=col>&lt;chr&gt;</th><th scope=col>&lt;int&gt;</th><th scope=col>&lt;int&gt;</th></tr>\n",
              "</thead>\n",
              "<tbody>\n",
              "\t<tr><td>Colorado      </td><td> 5029196</td><td> 117</td></tr>\n",
              "\t<tr><td>Connecticut   </td><td> 3574097</td><td> 131</td></tr>\n",
              "\t<tr><td>Wisconsin     </td><td> 5686986</td><td> 151</td></tr>\n",
              "\t<tr><td>Kentucky      </td><td> 4339367</td><td> 180</td></tr>\n",
              "\t<tr><td>Oklahoma      </td><td> 3751351</td><td> 188</td></tr>\n",
              "\t<tr><td>Indiana       </td><td> 6483802</td><td> 198</td></tr>\n",
              "\t<tr><td>Alabama       </td><td> 4779736</td><td> 199</td></tr>\n",
              "\t<tr><td>Massachusetts </td><td> 6547629</td><td> 209</td></tr>\n",
              "\t<tr><td>Arizona       </td><td> 6392017</td><td> 352</td></tr>\n",
              "\t<tr><td>Tennessee     </td><td> 6346105</td><td> 356</td></tr>\n",
              "\t<tr><td>New Jersey    </td><td> 8791894</td><td> 363</td></tr>\n",
              "\t<tr><td>Virginia      </td><td> 8001024</td><td> 369</td></tr>\n",
              "\t<tr><td>Missouri      </td><td> 5988927</td><td> 419</td></tr>\n",
              "\t<tr><td>Maryland      </td><td> 5773552</td><td> 424</td></tr>\n",
              "\t<tr><td>Louisiana     </td><td> 4533372</td><td> 437</td></tr>\n",
              "\t<tr><td>North Carolina</td><td> 9535483</td><td> 445</td></tr>\n",
              "\t<tr><td>Illinois      </td><td>12830632</td><td> 453</td></tr>\n",
              "\t<tr><td>Ohio          </td><td>11536504</td><td> 460</td></tr>\n",
              "\t<tr><td>Georgia       </td><td> 9920000</td><td> 527</td></tr>\n",
              "\t<tr><td>Michigan      </td><td> 9883640</td><td> 558</td></tr>\n",
              "\t<tr><td>Pennsylvania  </td><td>12702379</td><td> 646</td></tr>\n",
              "\t<tr><td>New York      </td><td>19378102</td><td> 860</td></tr>\n",
              "\t<tr><td>Florida       </td><td>19687653</td><td> 987</td></tr>\n",
              "\t<tr><td>Texas         </td><td>25145561</td><td>1246</td></tr>\n",
              "\t<tr><td>California    </td><td>37253956</td><td>1811</td></tr>\n",
              "</tbody>\n",
              "</table>\n"
            ]
          },
          "metadata": {}
        }
      ]
    },
    {
      "cell_type": "code",
      "metadata": {
        "colab": {
          "base_uri": "https://localhost:8080/",
          "height": 192
        },
        "id": "h-N8k4zNI-Hg",
        "outputId": "0426aab0-02b7-4a75-8c5c-f5019739162c"
      },
      "source": [
        "arrange(mydata,desc(murders))%>% select(state,population,murders)%>%head(3)"
      ],
      "execution_count": 5,
      "outputs": [
        {
          "output_type": "display_data",
          "data": {
            "text/plain": [
              "  state      population murders\n",
              "1 California 37253956   1811   \n",
              "2 Texas      25145561   1246   \n",
              "3 Florida    19687653    987   "
            ],
            "text/latex": "A data.frame: 3 × 3\n\\begin{tabular}{r|lll}\n  & state & population & murders\\\\\n  & <chr> & <int> & <int>\\\\\n\\hline\n\t1 & California & 37253956 & 1811\\\\\n\t2 & Texas      & 25145561 & 1246\\\\\n\t3 & Florida    & 19687653 &  987\\\\\n\\end{tabular}\n",
            "text/markdown": "\nA data.frame: 3 × 3\n\n| <!--/--> | state &lt;chr&gt; | population &lt;int&gt; | murders &lt;int&gt; |\n|---|---|---|---|\n| 1 | California | 37253956 | 1811 |\n| 2 | Texas      | 25145561 | 1246 |\n| 3 | Florida    | 19687653 |  987 |\n\n",
            "text/html": [
              "<table class=\"dataframe\">\n",
              "<caption>A data.frame: 3 × 3</caption>\n",
              "<thead>\n",
              "\t<tr><th></th><th scope=col>state</th><th scope=col>population</th><th scope=col>murders</th></tr>\n",
              "\t<tr><th></th><th scope=col>&lt;chr&gt;</th><th scope=col>&lt;int&gt;</th><th scope=col>&lt;int&gt;</th></tr>\n",
              "</thead>\n",
              "<tbody>\n",
              "\t<tr><th scope=row>1</th><td>California</td><td>37253956</td><td>1811</td></tr>\n",
              "\t<tr><th scope=row>2</th><td>Texas     </td><td>25145561</td><td>1246</td></tr>\n",
              "\t<tr><th scope=row>3</th><td>Florida   </td><td>19687653</td><td> 987</td></tr>\n",
              "</tbody>\n",
              "</table>\n"
            ]
          },
          "metadata": {}
        }
      ]
    },
    {
      "cell_type": "markdown",
      "metadata": {
        "id": "_Si6fbWpJZU6"
      },
      "source": [
        "**Bar chart**"
      ]
    },
    {
      "cell_type": "code",
      "metadata": {
        "colab": {
          "base_uri": "https://localhost:8080/",
          "height": 286
        },
        "id": "8AnxSj-CJnaE",
        "outputId": "22156f07-e12d-44c9-998c-ea42cec7c015"
      },
      "source": [
        "mysubdata<-select(mydata,state,population,murders)\n",
        "head(mysubdata)"
      ],
      "execution_count": 9,
      "outputs": [
        {
          "output_type": "display_data",
          "data": {
            "text/plain": [
              "  state       population murders\n",
              "1 Alabama      4779736    199   \n",
              "2 Arizona      6392017    352   \n",
              "3 California  37253956   1811   \n",
              "4 Colorado     5029196    117   \n",
              "5 Connecticut  3574097    131   \n",
              "6 Florida     19687653    987   "
            ],
            "text/latex": "A data.frame: 6 × 3\n\\begin{tabular}{r|lll}\n  & state & population & murders\\\\\n  & <chr> & <int> & <int>\\\\\n\\hline\n\t1 & Alabama     &  4779736 &  199\\\\\n\t2 & Arizona     &  6392017 &  352\\\\\n\t3 & California  & 37253956 & 1811\\\\\n\t4 & Colorado    &  5029196 &  117\\\\\n\t5 & Connecticut &  3574097 &  131\\\\\n\t6 & Florida     & 19687653 &  987\\\\\n\\end{tabular}\n",
            "text/markdown": "\nA data.frame: 6 × 3\n\n| <!--/--> | state &lt;chr&gt; | population &lt;int&gt; | murders &lt;int&gt; |\n|---|---|---|---|\n| 1 | Alabama     |  4779736 |  199 |\n| 2 | Arizona     |  6392017 |  352 |\n| 3 | California  | 37253956 | 1811 |\n| 4 | Colorado    |  5029196 |  117 |\n| 5 | Connecticut |  3574097 |  131 |\n| 6 | Florida     | 19687653 |  987 |\n\n",
            "text/html": [
              "<table class=\"dataframe\">\n",
              "<caption>A data.frame: 6 × 3</caption>\n",
              "<thead>\n",
              "\t<tr><th></th><th scope=col>state</th><th scope=col>population</th><th scope=col>murders</th></tr>\n",
              "\t<tr><th></th><th scope=col>&lt;chr&gt;</th><th scope=col>&lt;int&gt;</th><th scope=col>&lt;int&gt;</th></tr>\n",
              "</thead>\n",
              "<tbody>\n",
              "\t<tr><th scope=row>1</th><td>Alabama    </td><td> 4779736</td><td> 199</td></tr>\n",
              "\t<tr><th scope=row>2</th><td>Arizona    </td><td> 6392017</td><td> 352</td></tr>\n",
              "\t<tr><th scope=row>3</th><td>California </td><td>37253956</td><td>1811</td></tr>\n",
              "\t<tr><th scope=row>4</th><td>Colorado   </td><td> 5029196</td><td> 117</td></tr>\n",
              "\t<tr><th scope=row>5</th><td>Connecticut</td><td> 3574097</td><td> 131</td></tr>\n",
              "\t<tr><th scope=row>6</th><td>Florida    </td><td>19687653</td><td> 987</td></tr>\n",
              "</tbody>\n",
              "</table>\n"
            ]
          },
          "metadata": {}
        }
      ]
    },
    {
      "cell_type": "code",
      "metadata": {
        "colab": {
          "base_uri": "https://localhost:8080/",
          "height": 437
        },
        "id": "i0CZs6jwJ19H",
        "outputId": "fe7697e6-e0eb-4138-b70f-bc6717bdad26"
      },
      "source": [
        "barplot(mysubdata$population)"
      ],
      "execution_count": 10,
      "outputs": [
        {
          "output_type": "display_data",
          "data": {
            "image/png": "[encoded data removed]",
            "text/plain": [
              "plot without title"
            ]
          },
          "metadata": {
            "image/png": {
              "width": 420,
              "height": 420
            }
          }
        }
      ]
    },
    {
      "cell_type": "code",
      "metadata": {
        "colab": {
          "base_uri": "https://localhost:8080/",
          "height": 437
        },
        "id": "6ftPtmgbKK5c",
        "outputId": "da9a738a-66c7-47c1-b5e9-5d987c6637cf"
      },
      "source": [
        "barplot(mysubdata$population,\n",
        "        xlab=\"state\",\n",
        "        ylab=\"population\",\n",
        "        main='state vs population',\n",
        "        names.arg=mysubdata$state,\n",
        "        col='blue')"
      ],
      "execution_count": 14,
      "outputs": [
        {
          "output_type": "display_data",
          "data": {
            "image/png": "[encoded data removed]",
            "text/plain": [
              "Plot with title “state vs population”"
            ]
          },
          "metadata": {
            "image/png": {
              "width": 420,
              "height": 420
            }
          }
        }
      ]
    },
    {
      "cell_type": "code",
      "metadata": {
        "id": "ds7pZ2xUMcNN"
      },
      "source": [
        "mysubdata<-arrange(mydata,desc(murders))\n",
        "mysubdata<-select(mysubdata,state,population,murders)\n",
        "myhifhdata<-head(mysubdata,5)"
      ],
      "execution_count": 15,
      "outputs": []
    },
    {
      "cell_type": "code",
      "metadata": {
        "colab": {
          "base_uri": "https://localhost:8080/",
          "height": 437
        },
        "id": "MONZBm_UNJpN",
        "outputId": "6ce2230f-9e9d-4e2f-b0a0-d8233f5a952e"
      },
      "source": [
        "barplot(myhifhdata$murders,\n",
        "        xlab=\"state\",\n",
        "        ylab=\"population\",\n",
        "        main='High Murder',\n",
        "        names.arg=myhifhdata$state,\n",
        "        col='blue')"
      ],
      "execution_count": 16,
      "outputs": [
        {
          "output_type": "display_data",
          "data": {
            "image/png": "[encoded data removed]",
            "text/plain": [
              "Plot with title “High Murder”"
            ]
          },
          "metadata": {
            "image/png": {
              "width": 420,
              "height": 420
            }
          }
        }
      ]
    },
    {
      "cell_type": "markdown",
      "metadata": {
        "id": "UVTMlhgpNhrD"
      },
      "source": [
        "Horizontal Barplot"
      ]
    },
    {
      "cell_type": "code",
      "metadata": {
        "colab": {
          "base_uri": "https://localhost:8080/",
          "height": 437
        },
        "id": "GgVHpDU6NqT4",
        "outputId": "f1a711d0-7a8b-418b-98d2-4f565b942386"
      },
      "source": [
        "barplot(mysubdata$population, horiz = TRUE)"
      ],
      "execution_count": 17,
      "outputs": [
        {
          "output_type": "display_data",
          "data": {
            "image/png": "[encoded data removed]",
            "text/plain": [
              "plot without title"
            ]
          },
          "metadata": {
            "image/png": {
              "width": 420,
              "height": 420
            }
          }
        }
      ]
    },
    {
      "cell_type": "code",
      "metadata": {
        "colab": {
          "base_uri": "https://localhost:8080/",
          "height": 437
        },
        "id": "HNEA_RgDN6rP",
        "outputId": "ca731156-9306-4f2f-94a8-232b2c167671"
      },
      "source": [
        "barplot(myhifhdata$murders,horiz = TRUE,\n",
        "        xlab=\"state\",\n",
        "        ylab=\"population\",\n",
        "        main='High Murder',\n",
        "        names.arg=myhifhdata$state,\n",
        "        col='blue')"
      ],
      "execution_count": 18,
      "outputs": [
        {
          "output_type": "display_data",
          "data": {
            "image/png": "[encoded data removed]",
            "text/plain": [
              "Plot with title “High Murder”"
            ]
          },
          "metadata": {
            "image/png": {
              "width": 420,
              "height": 420
            }
          }
        }
      ]
    },
    {
      "cell_type": "code",
      "metadata": {
        "colab": {
          "base_uri": "https://localhost:8080/",
          "height": 286
        },
        "id": "BCgho_6pPF_f",
        "outputId": "04965177-17af-48dc-a21f-9b3d1c71da1e"
      },
      "source": [
        "mydata<-read.table('https://raw.githubusercontent.com/rssmahesh1/PDS2021/main/basic%20R/GEStock.csv', sep=',',head= TRUE)\n",
        "head(mydata)"
      ],
      "execution_count": 26,
      "outputs": [
        {
          "output_type": "display_data",
          "data": {
            "text/plain": [
              "  Date   Price   \n",
              "1 1/1/70 74.25333\n",
              "2 2/1/70 69.97684\n",
              "3 3/1/70 72.15857\n",
              "4 4/1/70 74.25273\n",
              "5 5/1/70 66.66524\n",
              "6 6/1/70 67.59318"
            ],
            "text/latex": "A data.frame: 6 × 2\n\\begin{tabular}{r|ll}\n  & Date & Price\\\\\n  & <chr> & <dbl>\\\\\n\\hline\n\t1 & 1/1/70 & 74.25333\\\\\n\t2 & 2/1/70 & 69.97684\\\\\n\t3 & 3/1/70 & 72.15857\\\\\n\t4 & 4/1/70 & 74.25273\\\\\n\t5 & 5/1/70 & 66.66524\\\\\n\t6 & 6/1/70 & 67.59318\\\\\n\\end{tabular}\n",
            "text/markdown": "\nA data.frame: 6 × 2\n\n| <!--/--> | Date &lt;chr&gt; | Price &lt;dbl&gt; |\n|---|---|---|\n| 1 | 1/1/70 | 74.25333 |\n| 2 | 2/1/70 | 69.97684 |\n| 3 | 3/1/70 | 72.15857 |\n| 4 | 4/1/70 | 74.25273 |\n| 5 | 5/1/70 | 66.66524 |\n| 6 | 6/1/70 | 67.59318 |\n\n",
            "text/html": [
              "<table class=\"dataframe\">\n",
              "<caption>A data.frame: 6 × 2</caption>\n",
              "<thead>\n",
              "\t<tr><th></th><th scope=col>Date</th><th scope=col>Price</th></tr>\n",
              "\t<tr><th></th><th scope=col>&lt;chr&gt;</th><th scope=col>&lt;dbl&gt;</th></tr>\n",
              "</thead>\n",
              "<tbody>\n",
              "\t<tr><th scope=row>1</th><td>1/1/70</td><td>74.25333</td></tr>\n",
              "\t<tr><th scope=row>2</th><td>2/1/70</td><td>69.97684</td></tr>\n",
              "\t<tr><th scope=row>3</th><td>3/1/70</td><td>72.15857</td></tr>\n",
              "\t<tr><th scope=row>4</th><td>4/1/70</td><td>74.25273</td></tr>\n",
              "\t<tr><th scope=row>5</th><td>5/1/70</td><td>66.66524</td></tr>\n",
              "\t<tr><th scope=row>6</th><td>6/1/70</td><td>67.59318</td></tr>\n",
              "</tbody>\n",
              "</table>\n"
            ]
          },
          "metadata": {}
        }
      ]
    },
    {
      "cell_type": "code",
      "metadata": {
        "colab": {
          "base_uri": "https://localhost:8080/",
          "height": 437
        },
        "id": "v3xXErliPTmc",
        "outputId": "07e90b92-96fb-42e3-c73e-ce5ff776fd0e"
      },
      "source": [
        "hist(mydata$Price)"
      ],
      "execution_count": 27,
      "outputs": [
        {
          "output_type": "display_data",
          "data": {
            "image/png": "[encoded data removed]",
            "text/plain": [
              "Plot with title “Histogram of mydata$Price”"
            ]
          },
          "metadata": {
            "image/png": {
              "width": 420,
              "height": 420
            }
          }
        }
      ]
    },
    {
      "cell_type": "code",
      "metadata": {
        "colab": {
          "base_uri": "https://localhost:8080/",
          "height": 583
        },
        "id": "L9q56F0rPoLj",
        "outputId": "b05a07c2-2928-4312-ee4f-38ddaf32865d"
      },
      "source": [
        "hist(mydata$Price,\n",
        "        xlab=\"stock proce\",\n",
        "        main='Stocks data',\n",
        "        col='blue',\n",
        "        borders='red')"
      ],
      "execution_count": 28,
      "outputs": [
        {
          "output_type": "stream",
          "name": "stderr",
          "text": [
            "Warning message in plot.window(xlim, ylim, \"\", ...):\n",
            "“\"borders\" is not a graphical parameter”\n",
            "Warning message in title(main = main, sub = sub, xlab = xlab, ylab = ylab, ...):\n",
            "“\"borders\" is not a graphical parameter”\n",
            "Warning message in axis(1, ...):\n",
            "“\"borders\" is not a graphical parameter”\n",
            "Warning message in axis(2, ...):\n",
            "“\"borders\" is not a graphical parameter”\n"
          ]
        },
        {
          "output_type": "display_data",
          "data": {
            "image/png": "[encoded data removed]",
            "text/plain": [
              "Plot with title “Stocks data”"
            ]
          },
          "metadata": {
            "image/png": {
              "width": 420,
              "height": 420
            }
          }
        }
      ]
    },
    {
      "cell_type": "code",
      "metadata": {
        "colab": {
          "base_uri": "https://localhost:8080/",
          "height": 437
        },
        "id": "lWc-A9n2gmWH",
        "outputId": "7299a454-6505-4f50-e302-e78498672a39"
      },
      "source": [
        "hist(mydata$Price,\n",
        "        xlab=\"stock proce\",\n",
        "        main='Stocks data',\n",
        "        col='blue',\n",
        "        borders='red',\n",
        "        breaks=20)"
      ],
      "execution_count": 39,
      "outputs": [
        {
          "output_type": "display_data",
          "data": {
            "image/png": "[encoded data removed]",
            "text/plain": [
              "Plot with title “Stocks data”"
            ]
          },
          "metadata": {
            "image/png": {
              "width": 420,
              "height": 420
            }
          }
        }
      ]
    },
    {
      "cell_type": "markdown",
      "metadata": {
        "id": "Vegp4qgcg-V7"
      },
      "source": [
        ""
      ]
    },
    {
      "cell_type": "code",
      "metadata": {
        "id": "o1dLWGNXg_bA"
      },
      "source": [
        "mysubdata<-select(mydata,state,population,murders)"
      ],
      "execution_count": null,
      "outputs": []
    },
    {
      "cell_type": "code",
      "metadata": {
        "colab": {
          "base_uri": "https://localhost:8080/",
          "height": 437
        },
        "id": "2tWNqF3UhPTh",
        "outputId": "acd2e140-5cb8-4531-e0fd-f140b90d315f"
      },
      "source": [
        "plot(mysubdata$population,mysubdata$murders)"
      ],
      "execution_count": 24,
      "outputs": [
        {
          "output_type": "display_data",
          "data": {
            "image/png": "[encoded data removed]",
            "text/plain": [
              "plot without title"
            ]
          },
          "metadata": {
            "image/png": {
              "width": 420,
              "height": 420
            }
          }
        }
      ]
    },
    {
      "cell_type": "code",
      "metadata": {
        "id": "t72E4JAFjgcB"
      },
      "source": [
        "options(warn=-1)"
      ],
      "execution_count": 36,
      "outputs": []
    },
    {
      "cell_type": "code",
      "metadata": {
        "colab": {
          "base_uri": "https://localhost:8080/",
          "height": 437
        },
        "id": "Pfl4L71Ihfsj",
        "outputId": "dd2f4568-02be-4a58-ade9-3996adfb5571"
      },
      "source": [
        "plot(mysubdata$population,mysubdata$murders,\n",
        "        xlab='Population',\n",
        "        ylab='Murder',\n",
        "        main='Population vs Murder',\n",
        "        col='blue',\n",
        "        borders='red',\n",
        "        pch=11)"
      ],
      "execution_count": 48,
      "outputs": [
        {
          "output_type": "display_data",
          "data": {
            "image/png": "[encoded data removed]",
            "text/plain": [
              "Plot with title “Population vs Murder”"
            ]
          },
          "metadata": {
            "image/png": {
              "width": 420,
              "height": 420
            }
          }
        }
      ]
    },
    {
      "cell_type": "markdown",
      "metadata": {
        "id": "yASiU5BLlyhx"
      },
      "source": [
        "Line plot"
      ]
    },
    {
      "cell_type": "code",
      "metadata": {
        "colab": {
          "base_uri": "https://localhost:8080/",
          "height": 437
        },
        "id": "KPNWXFJul0D9",
        "outputId": "35bb4828-de83-4263-f14f-1ad6c7d6e917"
      },
      "source": [
        "plot(mysubdata$murders,type='l')"
      ],
      "execution_count": 55,
      "outputs": [
        {
          "output_type": "display_data",
          "data": {
            "image/png": "[encoded data removed]",
            "text/plain": [
              "plot without title"
            ]
          },
          "metadata": {
            "image/png": {
              "width": 420,
              "height": 420
            }
          }
        }
      ]
    },
    {
      "cell_type": "code",
      "metadata": {
        "colab": {
          "base_uri": "https://localhost:8080/",
          "height": 437
        },
        "id": "XJoyg4KzmV9J",
        "outputId": "8ca72f1f-8120-489c-a139-184dd4d3c30b"
      },
      "source": [
        "plot(mysubdata$murders,type='l',\n",
        "        xlab='States',\n",
        "        ylab='Murder',\n",
        "        main='States vs Murder',\n",
        "        col='blue')"
      ],
      "execution_count": 53,
      "outputs": [
        {
          "output_type": "display_data",
          "data": {
            "image/png": "[encoded data removed]",
            "text/plain": [
              "Plot with title “States vs Murder”"
            ]
          },
          "metadata": {
            "image/png": {
              "width": 420,
              "height": 420
            }
          }
        }
      ]
    },
    {
      "cell_type": "markdown",
      "metadata": {
        "id": "au8zqyM8mr75"
      },
      "source": [
        "**Boxplot**"
      ]
    },
    {
      "cell_type": "code",
      "metadata": {
        "id": "pgjUEpTRnGo4"
      },
      "source": [
        "mydata<-read.table('https://raw.githubusercontent.com/rssmahesh1/PDS2021/main/basic%20R/murders.csv', sep=',',head= TRUE)"
      ],
      "execution_count": 60,
      "outputs": []
    },
    {
      "cell_type": "code",
      "metadata": {
        "id": "fdPZ0k1GnNSn"
      },
      "source": [
        "mysubdata<-select(mydata,state,population,murders,region)"
      ],
      "execution_count": 61,
      "outputs": []
    },
    {
      "cell_type": "code",
      "metadata": {
        "colab": {
          "base_uri": "https://localhost:8080/",
          "height": 437
        },
        "id": "V7KTYbJOmuC-",
        "outputId": "4b787043-7291-43ab-eb64-5338de8d8500"
      },
      "source": [
        "boxplot(mysubdata$murders~mysubdata$region)"
      ],
      "execution_count": 62,
      "outputs": [
        {
          "output_type": "display_data",
          "data": {
            "image/png": "[encoded data removed]",
            "text/plain": [
              "plot without title"
            ]
          },
          "metadata": {
            "image/png": {
              "width": 420,
              "height": 420
            }
          }
        }
      ]
    },
    {
      "cell_type": "code",
      "metadata": {
        "colab": {
          "base_uri": "https://localhost:8080/",
          "height": 437
        },
        "id": "bQoG0viCnxZY",
        "outputId": "bb9342d6-8588-4ba4-d84a-f24d53916189"
      },
      "source": [
        "boxplot(mysubdata$murders~mysubdata$region,      \n",
        "        xlab='Region',\n",
        "        ylab='Murder',\n",
        "        main='Region vs Murder',\n",
        "        col='red',\n",
        "        borders='blue')"
      ],
      "execution_count": 63,
      "outputs": [
        {
          "output_type": "display_data",
          "data": {
            "image/png": "[encoded data removed]",
            "text/plain": [
              "Plot with title “Region vs Murder”"
            ]
          },
          "metadata": {
            "image/png": {
              "width": 420,
              "height": 420
            }
          }
        }
      ]
    }
  ]
}