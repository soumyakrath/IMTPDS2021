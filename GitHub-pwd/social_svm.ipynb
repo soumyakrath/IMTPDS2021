{
  "nbformat": 4,
  "nbformat_minor": 0,
  "metadata": {
    "colab": {
      "name": "social_svm.ipynb",
      "provenance": [],
      "authorship_tag": "ABX9TyP+RVLhM5D+2SL2EyIG7IlP",
      "include_colab_link": true
    },
    "kernelspec": {
      "name": "ir",
      "display_name": "R"
    },
    "language_info": {
      "name": "R"
    }
  },
  "cells": [
    {
      "cell_type": "markdown",
      "metadata": {
        "id": "view-in-github",
        "colab_type": "text"
      },
      "source": [
        "<a href=\"https://colab.research.google.com/github/soumyakrath/IMTPDS2021/blob/main/GitHub-pwd/social_svm.ipynb\" target=\"_parent\"><img src=\"https://colab.research.google.com/assets/colab-badge.svg\" alt=\"Open In Colab\"/></a>"
      ]
    },
    {
      "cell_type": "markdown",
      "metadata": {
        "id": "Lf2kH9I_1l2G"
      },
      "source": [
        ""
      ]
    },
    {
      "cell_type": "markdown",
      "metadata": {
        "id": "uSAX_4Oq1Ltk"
      },
      "source": [
        "#Classifying data using Support Vector Machines(SVM)"
      ]
    },
    {
      "cell_type": "markdown",
      "metadata": {
        "id": "wJ2Td6lu1FDL"
      },
      "source": [
        "A Support Vector Machine (SVM) is a discriminative classifier formally defined by a separating hyperplane. In other words, given labeled training data (supervised learning), the algorithm outputs an optimal hyperplane that categorizes new examples. In this algorithm, each data item is plotted as a point in n-dimensional space (where n is a number of features), with the value of each feature being the value of a particular coordinate. Then, classification is performed by finding the hyper-plane that best differentiates the two classes.\n",
        "The most important question that arises while using SVM is how to decide the right hyperplane.\n",
        "\n",
        "Here, we used a dataset of Social network aids from file Social.csv\n",
        "\n",
        "Various features like Gender, Age, EstimatedSalary used in classification whether the person engaged in\tPurchased or not.\n"
      ]
    },
    {
      "cell_type": "code",
      "metadata": {
        "id": "gJaW9-WGg7Wr"
      },
      "source": [
        "library(tidyverse)"
      ],
      "execution_count": 38,
      "outputs": []
    },
    {
      "cell_type": "code",
      "metadata": {
        "id": "R6fniFRmuZGx"
      },
      "source": [
        "dataset = read.csv('https://raw.githubusercontent.com/soumyakrath/IMTPDS2021/main/GitHub-pwd/social_network_svm.csv')"
      ],
      "execution_count": 39,
      "outputs": []
    },
    {
      "cell_type": "code",
      "metadata": {
        "colab": {
          "base_uri": "https://localhost:8080/",
          "height": 283
        },
        "id": "5leWydh5u0ge",
        "outputId": "8aa1b938-4ccb-4bfb-a792-6b518744ac78"
      },
      "source": [
        "head(dataset)"
      ],
      "execution_count": 40,
      "outputs": [
        {
          "output_type": "display_data",
          "data": {
            "text/plain": [
              "  User.ID  Gender Age EstimatedSalary Purchased\n",
              "1 15624510 Male   19  19000           0        \n",
              "2 15810944 Male   35  20000           0        \n",
              "3 15668575 Female 26  43000           0        \n",
              "4 15603246 Female 27  57000           0        \n",
              "5 15804002 Male   19  76000           0        \n",
              "6 15728773 Male   27  58000           0        "
            ],
            "text/latex": "A data.frame: 6 × 5\n\\begin{tabular}{r|lllll}\n  & User.ID & Gender & Age & EstimatedSalary & Purchased\\\\\n  & <int> & <chr> & <int> & <int> & <int>\\\\\n\\hline\n\t1 & 15624510 & Male   & 19 & 19000 & 0\\\\\n\t2 & 15810944 & Male   & 35 & 20000 & 0\\\\\n\t3 & 15668575 & Female & 26 & 43000 & 0\\\\\n\t4 & 15603246 & Female & 27 & 57000 & 0\\\\\n\t5 & 15804002 & Male   & 19 & 76000 & 0\\\\\n\t6 & 15728773 & Male   & 27 & 58000 & 0\\\\\n\\end{tabular}\n",
            "text/markdown": "\nA data.frame: 6 × 5\n\n| <!--/--> | User.ID &lt;int&gt; | Gender &lt;chr&gt; | Age &lt;int&gt; | EstimatedSalary &lt;int&gt; | Purchased &lt;int&gt; |\n|---|---|---|---|---|---|\n| 1 | 15624510 | Male   | 19 | 19000 | 0 |\n| 2 | 15810944 | Male   | 35 | 20000 | 0 |\n| 3 | 15668575 | Female | 26 | 43000 | 0 |\n| 4 | 15603246 | Female | 27 | 57000 | 0 |\n| 5 | 15804002 | Male   | 19 | 76000 | 0 |\n| 6 | 15728773 | Male   | 27 | 58000 | 0 |\n\n",
            "text/html": [
              "<table class=\"dataframe\">\n",
              "<caption>A data.frame: 6 × 5</caption>\n",
              "<thead>\n",
              "\t<tr><th></th><th scope=col>User.ID</th><th scope=col>Gender</th><th scope=col>Age</th><th scope=col>EstimatedSalary</th><th scope=col>Purchased</th></tr>\n",
              "\t<tr><th></th><th scope=col>&lt;int&gt;</th><th scope=col>&lt;chr&gt;</th><th scope=col>&lt;int&gt;</th><th scope=col>&lt;int&gt;</th><th scope=col>&lt;int&gt;</th></tr>\n",
              "</thead>\n",
              "<tbody>\n",
              "\t<tr><th scope=row>1</th><td>15624510</td><td>Male  </td><td>19</td><td>19000</td><td>0</td></tr>\n",
              "\t<tr><th scope=row>2</th><td>15810944</td><td>Male  </td><td>35</td><td>20000</td><td>0</td></tr>\n",
              "\t<tr><th scope=row>3</th><td>15668575</td><td>Female</td><td>26</td><td>43000</td><td>0</td></tr>\n",
              "\t<tr><th scope=row>4</th><td>15603246</td><td>Female</td><td>27</td><td>57000</td><td>0</td></tr>\n",
              "\t<tr><th scope=row>5</th><td>15804002</td><td>Male  </td><td>19</td><td>76000</td><td>0</td></tr>\n",
              "\t<tr><th scope=row>6</th><td>15728773</td><td>Male  </td><td>27</td><td>58000</td><td>0</td></tr>\n",
              "</tbody>\n",
              "</table>\n"
            ]
          },
          "metadata": {}
        }
      ]
    },
    {
      "cell_type": "code",
      "metadata": {
        "colab": {
          "base_uri": "https://localhost:8080/"
        },
        "id": "c79mEt-utZBS",
        "outputId": "21a12d23-f8a5-40c0-f3e0-ac5d2006dcda"
      },
      "source": [
        "install.packages('fastDummies')\n",
        "library('fastDummies')"
      ],
      "execution_count": 41,
      "outputs": [
        {
          "output_type": "stream",
          "name": "stderr",
          "text": [
            "Installing package into ‘/usr/local/lib/R/site-library’\n",
            "(as ‘lib’ is unspecified)\n",
            "\n"
          ]
        }
      ]
    },
    {
      "cell_type": "code",
      "metadata": {
        "id": "h42oUjRetfpe"
      },
      "source": [
        "dataset <- dummy_cols(dataset, select_columns = c('Gender'), remove_selected_columns = TRUE)"
      ],
      "execution_count": 42,
      "outputs": []
    },
    {
      "cell_type": "code",
      "metadata": {
        "colab": {
          "base_uri": "https://localhost:8080/",
          "height": 283
        },
        "id": "m5COU5rstweu",
        "outputId": "08eca220-f041-4fc8-b64c-5e011885616e"
      },
      "source": [
        "head(dataset)"
      ],
      "execution_count": 43,
      "outputs": [
        {
          "output_type": "display_data",
          "data": {
            "text/plain": [
              "  User.ID  Age EstimatedSalary Purchased Gender_Female Gender_Male\n",
              "1 15624510 19  19000           0         0             1          \n",
              "2 15810944 35  20000           0         0             1          \n",
              "3 15668575 26  43000           0         1             0          \n",
              "4 15603246 27  57000           0         1             0          \n",
              "5 15804002 19  76000           0         0             1          \n",
              "6 15728773 27  58000           0         0             1          "
            ],
            "text/latex": "A data.frame: 6 × 6\n\\begin{tabular}{r|llllll}\n  & User.ID & Age & EstimatedSalary & Purchased & Gender\\_Female & Gender\\_Male\\\\\n  & <int> & <int> & <int> & <int> & <int> & <int>\\\\\n\\hline\n\t1 & 15624510 & 19 & 19000 & 0 & 0 & 1\\\\\n\t2 & 15810944 & 35 & 20000 & 0 & 0 & 1\\\\\n\t3 & 15668575 & 26 & 43000 & 0 & 1 & 0\\\\\n\t4 & 15603246 & 27 & 57000 & 0 & 1 & 0\\\\\n\t5 & 15804002 & 19 & 76000 & 0 & 0 & 1\\\\\n\t6 & 15728773 & 27 & 58000 & 0 & 0 & 1\\\\\n\\end{tabular}\n",
            "text/markdown": "\nA data.frame: 6 × 6\n\n| <!--/--> | User.ID &lt;int&gt; | Age &lt;int&gt; | EstimatedSalary &lt;int&gt; | Purchased &lt;int&gt; | Gender_Female &lt;int&gt; | Gender_Male &lt;int&gt; |\n|---|---|---|---|---|---|---|\n| 1 | 15624510 | 19 | 19000 | 0 | 0 | 1 |\n| 2 | 15810944 | 35 | 20000 | 0 | 0 | 1 |\n| 3 | 15668575 | 26 | 43000 | 0 | 1 | 0 |\n| 4 | 15603246 | 27 | 57000 | 0 | 1 | 0 |\n| 5 | 15804002 | 19 | 76000 | 0 | 0 | 1 |\n| 6 | 15728773 | 27 | 58000 | 0 | 0 | 1 |\n\n",
            "text/html": [
              "<table class=\"dataframe\">\n",
              "<caption>A data.frame: 6 × 6</caption>\n",
              "<thead>\n",
              "\t<tr><th></th><th scope=col>User.ID</th><th scope=col>Age</th><th scope=col>EstimatedSalary</th><th scope=col>Purchased</th><th scope=col>Gender_Female</th><th scope=col>Gender_Male</th></tr>\n",
              "\t<tr><th></th><th scope=col>&lt;int&gt;</th><th scope=col>&lt;int&gt;</th><th scope=col>&lt;int&gt;</th><th scope=col>&lt;int&gt;</th><th scope=col>&lt;int&gt;</th><th scope=col>&lt;int&gt;</th></tr>\n",
              "</thead>\n",
              "<tbody>\n",
              "\t<tr><th scope=row>1</th><td>15624510</td><td>19</td><td>19000</td><td>0</td><td>0</td><td>1</td></tr>\n",
              "\t<tr><th scope=row>2</th><td>15810944</td><td>35</td><td>20000</td><td>0</td><td>0</td><td>1</td></tr>\n",
              "\t<tr><th scope=row>3</th><td>15668575</td><td>26</td><td>43000</td><td>0</td><td>1</td><td>0</td></tr>\n",
              "\t<tr><th scope=row>4</th><td>15603246</td><td>27</td><td>57000</td><td>0</td><td>1</td><td>0</td></tr>\n",
              "\t<tr><th scope=row>5</th><td>15804002</td><td>19</td><td>76000</td><td>0</td><td>0</td><td>1</td></tr>\n",
              "\t<tr><th scope=row>6</th><td>15728773</td><td>27</td><td>58000</td><td>0</td><td>0</td><td>1</td></tr>\n",
              "</tbody>\n",
              "</table>\n"
            ]
          },
          "metadata": {}
        }
      ]
    },
    {
      "cell_type": "code",
      "metadata": {
        "colab": {
          "base_uri": "https://localhost:8080/",
          "height": 283
        },
        "id": "QBV5AgPnvMWa",
        "outputId": "bed1ebb6-02af-4663-d9b2-2b61208235d7"
      },
      "source": [
        "dataset = dataset[,-1]\n",
        "head(dataset)"
      ],
      "execution_count": 44,
      "outputs": [
        {
          "output_type": "display_data",
          "data": {
            "text/plain": [
              "  Age EstimatedSalary Purchased Gender_Female Gender_Male\n",
              "1 19  19000           0         0             1          \n",
              "2 35  20000           0         0             1          \n",
              "3 26  43000           0         1             0          \n",
              "4 27  57000           0         1             0          \n",
              "5 19  76000           0         0             1          \n",
              "6 27  58000           0         0             1          "
            ],
            "text/latex": "A data.frame: 6 × 5\n\\begin{tabular}{r|lllll}\n  & Age & EstimatedSalary & Purchased & Gender\\_Female & Gender\\_Male\\\\\n  & <int> & <int> & <int> & <int> & <int>\\\\\n\\hline\n\t1 & 19 & 19000 & 0 & 0 & 1\\\\\n\t2 & 35 & 20000 & 0 & 0 & 1\\\\\n\t3 & 26 & 43000 & 0 & 1 & 0\\\\\n\t4 & 27 & 57000 & 0 & 1 & 0\\\\\n\t5 & 19 & 76000 & 0 & 0 & 1\\\\\n\t6 & 27 & 58000 & 0 & 0 & 1\\\\\n\\end{tabular}\n",
            "text/markdown": "\nA data.frame: 6 × 5\n\n| <!--/--> | Age &lt;int&gt; | EstimatedSalary &lt;int&gt; | Purchased &lt;int&gt; | Gender_Female &lt;int&gt; | Gender_Male &lt;int&gt; |\n|---|---|---|---|---|---|\n| 1 | 19 | 19000 | 0 | 0 | 1 |\n| 2 | 35 | 20000 | 0 | 0 | 1 |\n| 3 | 26 | 43000 | 0 | 1 | 0 |\n| 4 | 27 | 57000 | 0 | 1 | 0 |\n| 5 | 19 | 76000 | 0 | 0 | 1 |\n| 6 | 27 | 58000 | 0 | 0 | 1 |\n\n",
            "text/html": [
              "<table class=\"dataframe\">\n",
              "<caption>A data.frame: 6 × 5</caption>\n",
              "<thead>\n",
              "\t<tr><th></th><th scope=col>Age</th><th scope=col>EstimatedSalary</th><th scope=col>Purchased</th><th scope=col>Gender_Female</th><th scope=col>Gender_Male</th></tr>\n",
              "\t<tr><th></th><th scope=col>&lt;int&gt;</th><th scope=col>&lt;int&gt;</th><th scope=col>&lt;int&gt;</th><th scope=col>&lt;int&gt;</th><th scope=col>&lt;int&gt;</th></tr>\n",
              "</thead>\n",
              "<tbody>\n",
              "\t<tr><th scope=row>1</th><td>19</td><td>19000</td><td>0</td><td>0</td><td>1</td></tr>\n",
              "\t<tr><th scope=row>2</th><td>35</td><td>20000</td><td>0</td><td>0</td><td>1</td></tr>\n",
              "\t<tr><th scope=row>3</th><td>26</td><td>43000</td><td>0</td><td>1</td><td>0</td></tr>\n",
              "\t<tr><th scope=row>4</th><td>27</td><td>57000</td><td>0</td><td>1</td><td>0</td></tr>\n",
              "\t<tr><th scope=row>5</th><td>19</td><td>76000</td><td>0</td><td>0</td><td>1</td></tr>\n",
              "\t<tr><th scope=row>6</th><td>27</td><td>58000</td><td>0</td><td>0</td><td>1</td></tr>\n",
              "</tbody>\n",
              "</table>\n"
            ]
          },
          "metadata": {}
        }
      ]
    },
    {
      "cell_type": "code",
      "metadata": {
        "colab": {
          "base_uri": "https://localhost:8080/"
        },
        "id": "tEzxPZ9hcvfZ",
        "outputId": "f6f0e9ba-3f70-4686-8f9d-60c682069e34"
      },
      "source": [
        "str(dataset)"
      ],
      "execution_count": 45,
      "outputs": [
        {
          "output_type": "stream",
          "name": "stdout",
          "text": [
            "'data.frame':\t400 obs. of  5 variables:\n",
            " $ Age            : int  19 35 26 27 19 27 27 32 25 35 ...\n",
            " $ EstimatedSalary: int  19000 20000 43000 57000 76000 58000 84000 150000 33000 65000 ...\n",
            " $ Purchased      : int  0 0 0 0 0 0 0 1 0 0 ...\n",
            " $ Gender_Female  : int  0 0 1 1 0 0 1 1 0 1 ...\n",
            " $ Gender_Male    : int  1 1 0 0 1 1 0 0 1 0 ...\n"
          ]
        }
      ]
    },
    {
      "cell_type": "code",
      "metadata": {
        "colab": {
          "base_uri": "https://localhost:8080/",
          "height": 255
        },
        "id": "z8DGNa5lc2Qp",
        "outputId": "8dbf0942-9279-48e2-ff53-cc08e4f9f99a"
      },
      "source": [
        "summary(dataset)"
      ],
      "execution_count": 46,
      "outputs": [
        {
          "output_type": "display_data",
          "data": {
            "text/plain": [
              "      Age        EstimatedSalary    Purchased      Gender_Female \n",
              " Min.   :18.00   Min.   : 15000   Min.   :0.0000   Min.   :0.00  \n",
              " 1st Qu.:29.75   1st Qu.: 43000   1st Qu.:0.0000   1st Qu.:0.00  \n",
              " Median :37.00   Median : 70000   Median :0.0000   Median :1.00  \n",
              " Mean   :37.66   Mean   : 69742   Mean   :0.3575   Mean   :0.51  \n",
              " 3rd Qu.:46.00   3rd Qu.: 88000   3rd Qu.:1.0000   3rd Qu.:1.00  \n",
              " Max.   :60.00   Max.   :150000   Max.   :1.0000   Max.   :1.00  \n",
              "  Gender_Male  \n",
              " Min.   :0.00  \n",
              " 1st Qu.:0.00  \n",
              " Median :0.00  \n",
              " Mean   :0.49  \n",
              " 3rd Qu.:1.00  \n",
              " Max.   :1.00  "
            ]
          },
          "metadata": {}
        }
      ]
    },
    {
      "cell_type": "code",
      "metadata": {
        "id": "wctmVXuvcbzj"
      },
      "source": [
        "# Encoding the target feature as factor\n",
        "dataset$Purchased = factor(dataset$Purchased, levels = c(0, 1))\n"
      ],
      "execution_count": 47,
      "outputs": []
    },
    {
      "cell_type": "code",
      "metadata": {
        "colab": {
          "base_uri": "https://localhost:8080/"
        },
        "id": "WjK7nQhLc70a",
        "outputId": "c5ebcd70-6811-4b54-8272-202926443a59"
      },
      "source": [
        "str(dataset)"
      ],
      "execution_count": 48,
      "outputs": [
        {
          "output_type": "stream",
          "name": "stdout",
          "text": [
            "'data.frame':\t400 obs. of  5 variables:\n",
            " $ Age            : int  19 35 26 27 19 27 27 32 25 35 ...\n",
            " $ EstimatedSalary: int  19000 20000 43000 57000 76000 58000 84000 150000 33000 65000 ...\n",
            " $ Purchased      : Factor w/ 2 levels \"0\",\"1\": 1 1 1 1 1 1 1 2 1 1 ...\n",
            " $ Gender_Female  : int  0 0 1 1 0 0 1 1 0 1 ...\n",
            " $ Gender_Male    : int  1 1 0 0 1 1 0 0 1 0 ...\n"
          ]
        }
      ]
    },
    {
      "cell_type": "code",
      "metadata": {
        "colab": {
          "base_uri": "https://localhost:8080/",
          "height": 136
        },
        "id": "L9bTSiUhc-ec",
        "outputId": "41d1d7d9-74a4-4b9f-bb3c-a79c2ba55b0b"
      },
      "source": [
        "summary(dataset)"
      ],
      "execution_count": 49,
      "outputs": [
        {
          "output_type": "display_data",
          "data": {
            "text/plain": [
              "      Age        EstimatedSalary  Purchased Gender_Female   Gender_Male  \n",
              " Min.   :18.00   Min.   : 15000   0:257     Min.   :0.00   Min.   :0.00  \n",
              " 1st Qu.:29.75   1st Qu.: 43000   1:143     1st Qu.:0.00   1st Qu.:0.00  \n",
              " Median :37.00   Median : 70000             Median :1.00   Median :0.00  \n",
              " Mean   :37.66   Mean   : 69742             Mean   :0.51   Mean   :0.49  \n",
              " 3rd Qu.:46.00   3rd Qu.: 88000             3rd Qu.:1.00   3rd Qu.:1.00  \n",
              " Max.   :60.00   Max.   :150000             Max.   :1.00   Max.   :1.00  "
            ]
          },
          "metadata": {}
        }
      ]
    },
    {
      "cell_type": "code",
      "metadata": {
        "colab": {
          "base_uri": "https://localhost:8080/"
        },
        "id": "abPAeyLDeHfg",
        "outputId": "22a77c88-8886-4647-a114-ae29a62178d1"
      },
      "source": [
        "install.packages('caTools')\n",
        "library(caTools)"
      ],
      "execution_count": 50,
      "outputs": [
        {
          "output_type": "stream",
          "name": "stderr",
          "text": [
            "Installing package into ‘/usr/local/lib/R/site-library’\n",
            "(as ‘lib’ is unspecified)\n",
            "\n"
          ]
        }
      ]
    },
    {
      "cell_type": "code",
      "metadata": {
        "id": "Q75PyWhHdIzB"
      },
      "source": [
        "# Splitting the dataset into the Training and Test set\n",
        "\n",
        "set.seed(123)\n",
        "split = sample.split(dataset$Purchased, SplitRatio = 0.75)\n",
        "\n",
        "training_set = subset(dataset, split == TRUE)\n",
        "test_set = subset(dataset, split == FALSE)\n"
      ],
      "execution_count": 51,
      "outputs": []
    },
    {
      "cell_type": "code",
      "metadata": {
        "colab": {
          "base_uri": "https://localhost:8080/",
          "height": 51
        },
        "id": "y52_EASgdj2e",
        "outputId": "4cd01d2a-3ace-4fc0-ad26-8f9ce3cc7740"
      },
      "source": [
        "dim(training_set)\n",
        "dim(test_set)"
      ],
      "execution_count": 52,
      "outputs": [
        {
          "output_type": "display_data",
          "data": {
            "text/plain": [
              "[1] 300   5"
            ],
            "text/latex": "\\begin{enumerate*}\n\\item 300\n\\item 5\n\\end{enumerate*}\n",
            "text/markdown": "1. 300\n2. 5\n\n\n",
            "text/html": [
              "<style>\n",
              ".list-inline {list-style: none; margin:0; padding: 0}\n",
              ".list-inline>li {display: inline-block}\n",
              ".list-inline>li:not(:last-child)::after {content: \"\\00b7\"; padding: 0 .5ex}\n",
              "</style>\n",
              "<ol class=list-inline><li>300</li><li>5</li></ol>\n"
            ]
          },
          "metadata": {}
        },
        {
          "output_type": "display_data",
          "data": {
            "text/plain": [
              "[1] 100   5"
            ],
            "text/latex": "\\begin{enumerate*}\n\\item 100\n\\item 5\n\\end{enumerate*}\n",
            "text/markdown": "1. 100\n2. 5\n\n\n",
            "text/html": [
              "<style>\n",
              ".list-inline {list-style: none; margin:0; padding: 0}\n",
              ".list-inline>li {display: inline-block}\n",
              ".list-inline>li:not(:last-child)::after {content: \"\\00b7\"; padding: 0 .5ex}\n",
              "</style>\n",
              "<ol class=list-inline><li>100</li><li>5</li></ol>\n"
            ]
          },
          "metadata": {}
        }
      ]
    },
    {
      "cell_type": "code",
      "metadata": {
        "colab": {
          "base_uri": "https://localhost:8080/",
          "height": 306
        },
        "id": "A1wdcF_8eCw3",
        "outputId": "75057375-220f-4b81-bdfb-6d5d089600df"
      },
      "source": [
        "split"
      ],
      "execution_count": 53,
      "outputs": [
        {
          "output_type": "display_data",
          "data": {
            "text/plain": [
              "  [1]  TRUE FALSE  TRUE FALSE FALSE  TRUE  TRUE  TRUE FALSE  TRUE  TRUE FALSE\n",
              " [13]  TRUE  TRUE  TRUE  TRUE  TRUE FALSE FALSE FALSE  TRUE FALSE  TRUE  TRUE\n",
              " [25]  TRUE  TRUE  TRUE  TRUE FALSE  TRUE  TRUE FALSE  TRUE FALSE FALSE  TRUE\n",
              " [37]  TRUE FALSE  TRUE  TRUE  TRUE  TRUE  TRUE  TRUE FALSE FALSE  TRUE FALSE\n",
              " [49]  TRUE  TRUE  TRUE FALSE  TRUE  TRUE  TRUE  TRUE  TRUE  TRUE  TRUE  TRUE\n",
              " [61]  TRUE  TRUE  TRUE  TRUE  TRUE FALSE  TRUE  TRUE FALSE  TRUE  TRUE  TRUE\n",
              " [73]  TRUE FALSE FALSE  TRUE  TRUE  TRUE  TRUE  TRUE  TRUE FALSE  TRUE FALSE\n",
              " [85] FALSE FALSE FALSE  TRUE FALSE  TRUE  TRUE  TRUE  TRUE  TRUE  TRUE  TRUE\n",
              " [97]  TRUE  TRUE  TRUE  TRUE  TRUE  TRUE FALSE FALSE  TRUE  TRUE FALSE FALSE\n",
              "[109] FALSE  TRUE  TRUE  TRUE  TRUE  TRUE  TRUE  TRUE FALSE  TRUE  TRUE  TRUE\n",
              "[121]  TRUE  TRUE  TRUE FALSE  TRUE FALSE FALSE  TRUE  TRUE  TRUE FALSE  TRUE\n",
              "[133]  TRUE FALSE  TRUE  TRUE  TRUE  TRUE FALSE  TRUE  TRUE  TRUE  TRUE  TRUE\n",
              "[145]  TRUE  TRUE  TRUE FALSE  TRUE  TRUE  TRUE  TRUE  TRUE FALSE  TRUE FALSE\n",
              "[157]  TRUE  TRUE FALSE  TRUE  TRUE FALSE FALSE  TRUE  TRUE  TRUE  TRUE  TRUE\n",
              "[169]  TRUE FALSE  TRUE  TRUE  TRUE  TRUE FALSE FALSE  TRUE  TRUE  TRUE  TRUE\n",
              "[181]  TRUE  TRUE  TRUE  TRUE  TRUE  TRUE  TRUE  TRUE  TRUE  TRUE  TRUE  TRUE\n",
              "[193] FALSE  TRUE  TRUE  TRUE  TRUE  TRUE FALSE FALSE  TRUE  TRUE  TRUE  TRUE\n",
              "[205]  TRUE  TRUE  TRUE FALSE  TRUE  TRUE  TRUE  TRUE FALSE  TRUE  TRUE  TRUE\n",
              "[217]  TRUE  TRUE  TRUE  TRUE  TRUE  TRUE  TRUE FALSE  TRUE FALSE  TRUE FALSE\n",
              "[229] FALSE FALSE  TRUE  TRUE  TRUE FALSE  TRUE FALSE FALSE  TRUE FALSE  TRUE\n",
              "[241] FALSE  TRUE  TRUE  TRUE  TRUE  TRUE  TRUE  TRUE  TRUE  TRUE  TRUE  TRUE\n",
              "[253]  TRUE  TRUE FALSE  TRUE  TRUE  TRUE  TRUE  TRUE  TRUE  TRUE  TRUE FALSE\n",
              "[265] FALSE FALSE  TRUE  TRUE  TRUE  TRUE  TRUE  TRUE FALSE FALSE  TRUE  TRUE\n",
              "[277]  TRUE  TRUE  TRUE  TRUE FALSE  TRUE  TRUE  TRUE  TRUE FALSE  TRUE  TRUE\n",
              "[289]  TRUE  TRUE  TRUE FALSE  TRUE  TRUE  TRUE  TRUE  TRUE  TRUE FALSE  TRUE\n",
              "[301]  TRUE FALSE  TRUE  TRUE FALSE  TRUE FALSE  TRUE  TRUE FALSE  TRUE  TRUE\n",
              "[313]  TRUE  TRUE  TRUE FALSE  TRUE  TRUE  TRUE  TRUE  TRUE  TRUE  TRUE FALSE\n",
              "[325]  TRUE FALSE  TRUE  TRUE  TRUE  TRUE  TRUE FALSE  TRUE  TRUE  TRUE  TRUE\n",
              "[337]  TRUE  TRUE FALSE  TRUE FALSE  TRUE FALSE  TRUE  TRUE  TRUE FALSE  TRUE\n",
              "[349]  TRUE  TRUE  TRUE  TRUE FALSE  TRUE  TRUE  TRUE  TRUE  TRUE  TRUE  TRUE\n",
              "[361]  TRUE  TRUE FALSE FALSE  TRUE  TRUE FALSE FALSE FALSE  TRUE  TRUE FALSE\n",
              "[373] FALSE  TRUE  TRUE  TRUE  TRUE  TRUE  TRUE FALSE  TRUE  TRUE FALSE  TRUE\n",
              "[385]  TRUE  TRUE  TRUE  TRUE FALSE  TRUE  TRUE FALSE  TRUE  TRUE FALSE  TRUE\n",
              "[397]  TRUE  TRUE  TRUE FALSE"
            ],
            "text/latex": "\\begin{enumerate*}\n\\item TRUE\n\\item FALSE\n\\item TRUE\n\\item FALSE\n\\item FALSE\n\\item TRUE\n\\item TRUE\n\\item TRUE\n\\item FALSE\n\\item TRUE\n\\item TRUE\n\\item FALSE\n\\item TRUE\n\\item TRUE\n\\item TRUE\n\\item TRUE\n\\item TRUE\n\\item FALSE\n\\item FALSE\n\\item FALSE\n\\item TRUE\n\\item FALSE\n\\item TRUE\n\\item TRUE\n\\item TRUE\n\\item TRUE\n\\item TRUE\n\\item TRUE\n\\item FALSE\n\\item TRUE\n\\item TRUE\n\\item FALSE\n\\item TRUE\n\\item FALSE\n\\item FALSE\n\\item TRUE\n\\item TRUE\n\\item FALSE\n\\item TRUE\n\\item TRUE\n\\item TRUE\n\\item TRUE\n\\item TRUE\n\\item TRUE\n\\item FALSE\n\\item FALSE\n\\item TRUE\n\\item FALSE\n\\item TRUE\n\\item TRUE\n\\item TRUE\n\\item FALSE\n\\item TRUE\n\\item TRUE\n\\item TRUE\n\\item TRUE\n\\item TRUE\n\\item TRUE\n\\item TRUE\n\\item TRUE\n\\item TRUE\n\\item TRUE\n\\item TRUE\n\\item TRUE\n\\item TRUE\n\\item FALSE\n\\item TRUE\n\\item TRUE\n\\item FALSE\n\\item TRUE\n\\item TRUE\n\\item TRUE\n\\item TRUE\n\\item FALSE\n\\item FALSE\n\\item TRUE\n\\item TRUE\n\\item TRUE\n\\item TRUE\n\\item TRUE\n\\item TRUE\n\\item FALSE\n\\item TRUE\n\\item FALSE\n\\item FALSE\n\\item FALSE\n\\item FALSE\n\\item TRUE\n\\item FALSE\n\\item TRUE\n\\item TRUE\n\\item TRUE\n\\item TRUE\n\\item TRUE\n\\item TRUE\n\\item TRUE\n\\item TRUE\n\\item TRUE\n\\item TRUE\n\\item TRUE\n\\item TRUE\n\\item TRUE\n\\item FALSE\n\\item FALSE\n\\item TRUE\n\\item TRUE\n\\item FALSE\n\\item FALSE\n\\item FALSE\n\\item TRUE\n\\item TRUE\n\\item TRUE\n\\item TRUE\n\\item TRUE\n\\item TRUE\n\\item TRUE\n\\item FALSE\n\\item TRUE\n\\item TRUE\n\\item TRUE\n\\item TRUE\n\\item TRUE\n\\item TRUE\n\\item FALSE\n\\item TRUE\n\\item FALSE\n\\item FALSE\n\\item TRUE\n\\item TRUE\n\\item TRUE\n\\item FALSE\n\\item TRUE\n\\item TRUE\n\\item FALSE\n\\item TRUE\n\\item TRUE\n\\item TRUE\n\\item TRUE\n\\item FALSE\n\\item TRUE\n\\item TRUE\n\\item TRUE\n\\item TRUE\n\\item TRUE\n\\item TRUE\n\\item TRUE\n\\item TRUE\n\\item FALSE\n\\item TRUE\n\\item TRUE\n\\item TRUE\n\\item TRUE\n\\item TRUE\n\\item FALSE\n\\item TRUE\n\\item FALSE\n\\item TRUE\n\\item TRUE\n\\item FALSE\n\\item TRUE\n\\item TRUE\n\\item FALSE\n\\item FALSE\n\\item TRUE\n\\item TRUE\n\\item TRUE\n\\item TRUE\n\\item TRUE\n\\item TRUE\n\\item FALSE\n\\item TRUE\n\\item TRUE\n\\item TRUE\n\\item TRUE\n\\item FALSE\n\\item FALSE\n\\item TRUE\n\\item TRUE\n\\item TRUE\n\\item TRUE\n\\item TRUE\n\\item TRUE\n\\item TRUE\n\\item TRUE\n\\item TRUE\n\\item TRUE\n\\item TRUE\n\\item TRUE\n\\item TRUE\n\\item TRUE\n\\item TRUE\n\\item TRUE\n\\item FALSE\n\\item TRUE\n\\item TRUE\n\\item TRUE\n\\item TRUE\n\\item TRUE\n\\item FALSE\n\\item FALSE\n\\item TRUE\n\\item TRUE\n\\item TRUE\n\\item TRUE\n\\item TRUE\n\\item TRUE\n\\item TRUE\n\\item FALSE\n\\item TRUE\n\\item TRUE\n\\item TRUE\n\\item TRUE\n\\item FALSE\n\\item TRUE\n\\item TRUE\n\\item TRUE\n\\item TRUE\n\\item TRUE\n\\item TRUE\n\\item TRUE\n\\item TRUE\n\\item TRUE\n\\item TRUE\n\\item FALSE\n\\item TRUE\n\\item FALSE\n\\item TRUE\n\\item FALSE\n\\item FALSE\n\\item FALSE\n\\item TRUE\n\\item TRUE\n\\item TRUE\n\\item FALSE\n\\item TRUE\n\\item FALSE\n\\item FALSE\n\\item TRUE\n\\item FALSE\n\\item TRUE\n\\item FALSE\n\\item TRUE\n\\item TRUE\n\\item TRUE\n\\item TRUE\n\\item TRUE\n\\item TRUE\n\\item TRUE\n\\item TRUE\n\\item TRUE\n\\item TRUE\n\\item TRUE\n\\item TRUE\n\\item TRUE\n\\item FALSE\n\\item TRUE\n\\item TRUE\n\\item TRUE\n\\item TRUE\n\\item TRUE\n\\item TRUE\n\\item TRUE\n\\item TRUE\n\\item FALSE\n\\item FALSE\n\\item FALSE\n\\item TRUE\n\\item TRUE\n\\item TRUE\n\\item TRUE\n\\item TRUE\n\\item TRUE\n\\item FALSE\n\\item FALSE\n\\item TRUE\n\\item TRUE\n\\item TRUE\n\\item TRUE\n\\item TRUE\n\\item TRUE\n\\item FALSE\n\\item TRUE\n\\item TRUE\n\\item TRUE\n\\item TRUE\n\\item FALSE\n\\item TRUE\n\\item TRUE\n\\item TRUE\n\\item TRUE\n\\item TRUE\n\\item FALSE\n\\item TRUE\n\\item TRUE\n\\item TRUE\n\\item TRUE\n\\item TRUE\n\\item TRUE\n\\item FALSE\n\\item TRUE\n\\item TRUE\n\\item FALSE\n\\item TRUE\n\\item TRUE\n\\item FALSE\n\\item TRUE\n\\item FALSE\n\\item TRUE\n\\item TRUE\n\\item FALSE\n\\item TRUE\n\\item TRUE\n\\item TRUE\n\\item TRUE\n\\item TRUE\n\\item FALSE\n\\item TRUE\n\\item TRUE\n\\item TRUE\n\\item TRUE\n\\item TRUE\n\\item TRUE\n\\item TRUE\n\\item FALSE\n\\item TRUE\n\\item FALSE\n\\item TRUE\n\\item TRUE\n\\item TRUE\n\\item TRUE\n\\item TRUE\n\\item FALSE\n\\item TRUE\n\\item TRUE\n\\item TRUE\n\\item TRUE\n\\item TRUE\n\\item TRUE\n\\item FALSE\n\\item TRUE\n\\item FALSE\n\\item TRUE\n\\item FALSE\n\\item TRUE\n\\item TRUE\n\\item TRUE\n\\item FALSE\n\\item TRUE\n\\item TRUE\n\\item TRUE\n\\item TRUE\n\\item TRUE\n\\item FALSE\n\\item TRUE\n\\item TRUE\n\\item TRUE\n\\item TRUE\n\\item TRUE\n\\item TRUE\n\\item TRUE\n\\item TRUE\n\\item TRUE\n\\item FALSE\n\\item FALSE\n\\item TRUE\n\\item TRUE\n\\item FALSE\n\\item FALSE\n\\item FALSE\n\\item TRUE\n\\item TRUE\n\\item FALSE\n\\item FALSE\n\\item TRUE\n\\item TRUE\n\\item TRUE\n\\item TRUE\n\\item TRUE\n\\item TRUE\n\\item FALSE\n\\item TRUE\n\\item TRUE\n\\item FALSE\n\\item TRUE\n\\item TRUE\n\\item TRUE\n\\item TRUE\n\\item TRUE\n\\item FALSE\n\\item TRUE\n\\item TRUE\n\\item FALSE\n\\item TRUE\n\\item TRUE\n\\item FALSE\n\\item TRUE\n\\item TRUE\n\\item TRUE\n\\item TRUE\n\\item FALSE\n\\end{enumerate*}\n",
            "text/markdown": "1. TRUE\n2. FALSE\n3. TRUE\n4. FALSE\n5. FALSE\n6. TRUE\n7. TRUE\n8. TRUE\n9. FALSE\n10. TRUE\n11. TRUE\n12. FALSE\n13. TRUE\n14. TRUE\n15. TRUE\n16. TRUE\n17. TRUE\n18. FALSE\n19. FALSE\n20. FALSE\n21. TRUE\n22. FALSE\n23. TRUE\n24. TRUE\n25. TRUE\n26. TRUE\n27. TRUE\n28. TRUE\n29. FALSE\n30. TRUE\n31. TRUE\n32. FALSE\n33. TRUE\n34. FALSE\n35. FALSE\n36. TRUE\n37. TRUE\n38. FALSE\n39. TRUE\n40. TRUE\n41. TRUE\n42. TRUE\n43. TRUE\n44. TRUE\n45. FALSE\n46. FALSE\n47. TRUE\n48. FALSE\n49. TRUE\n50. TRUE\n51. TRUE\n52. FALSE\n53. TRUE\n54. TRUE\n55. TRUE\n56. TRUE\n57. TRUE\n58. TRUE\n59. TRUE\n60. TRUE\n61. TRUE\n62. TRUE\n63. TRUE\n64. TRUE\n65. TRUE\n66. FALSE\n67. TRUE\n68. TRUE\n69. FALSE\n70. TRUE\n71. TRUE\n72. TRUE\n73. TRUE\n74. FALSE\n75. FALSE\n76. TRUE\n77. TRUE\n78. TRUE\n79. TRUE\n80. TRUE\n81. TRUE\n82. FALSE\n83. TRUE\n84. FALSE\n85. FALSE\n86. FALSE\n87. FALSE\n88. TRUE\n89. FALSE\n90. TRUE\n91. TRUE\n92. TRUE\n93. TRUE\n94. TRUE\n95. TRUE\n96. TRUE\n97. TRUE\n98. TRUE\n99. TRUE\n100. TRUE\n101. TRUE\n102. TRUE\n103. FALSE\n104. FALSE\n105. TRUE\n106. TRUE\n107. FALSE\n108. FALSE\n109. FALSE\n110. TRUE\n111. TRUE\n112. TRUE\n113. TRUE\n114. TRUE\n115. TRUE\n116. TRUE\n117. FALSE\n118. TRUE\n119. TRUE\n120. TRUE\n121. TRUE\n122. TRUE\n123. TRUE\n124. FALSE\n125. TRUE\n126. FALSE\n127. FALSE\n128. TRUE\n129. TRUE\n130. TRUE\n131. FALSE\n132. TRUE\n133. TRUE\n134. FALSE\n135. TRUE\n136. TRUE\n137. TRUE\n138. TRUE\n139. FALSE\n140. TRUE\n141. TRUE\n142. TRUE\n143. TRUE\n144. TRUE\n145. TRUE\n146. TRUE\n147. TRUE\n148. FALSE\n149. TRUE\n150. TRUE\n151. TRUE\n152. TRUE\n153. TRUE\n154. FALSE\n155. TRUE\n156. FALSE\n157. TRUE\n158. TRUE\n159. FALSE\n160. TRUE\n161. TRUE\n162. FALSE\n163. FALSE\n164. TRUE\n165. TRUE\n166. TRUE\n167. TRUE\n168. TRUE\n169. TRUE\n170. FALSE\n171. TRUE\n172. TRUE\n173. TRUE\n174. TRUE\n175. FALSE\n176. FALSE\n177. TRUE\n178. TRUE\n179. TRUE\n180. TRUE\n181. TRUE\n182. TRUE\n183. TRUE\n184. TRUE\n185. TRUE\n186. TRUE\n187. TRUE\n188. TRUE\n189. TRUE\n190. TRUE\n191. TRUE\n192. TRUE\n193. FALSE\n194. TRUE\n195. TRUE\n196. TRUE\n197. TRUE\n198. TRUE\n199. FALSE\n200. FALSE\n201. TRUE\n202. TRUE\n203. TRUE\n204. TRUE\n205. TRUE\n206. TRUE\n207. TRUE\n208. FALSE\n209. TRUE\n210. TRUE\n211. TRUE\n212. TRUE\n213. FALSE\n214. TRUE\n215. TRUE\n216. TRUE\n217. TRUE\n218. TRUE\n219. TRUE\n220. TRUE\n221. TRUE\n222. TRUE\n223. TRUE\n224. FALSE\n225. TRUE\n226. FALSE\n227. TRUE\n228. FALSE\n229. FALSE\n230. FALSE\n231. TRUE\n232. TRUE\n233. TRUE\n234. FALSE\n235. TRUE\n236. FALSE\n237. FALSE\n238. TRUE\n239. FALSE\n240. TRUE\n241. FALSE\n242. TRUE\n243. TRUE\n244. TRUE\n245. TRUE\n246. TRUE\n247. TRUE\n248. TRUE\n249. TRUE\n250. TRUE\n251. TRUE\n252. TRUE\n253. TRUE\n254. TRUE\n255. FALSE\n256. TRUE\n257. TRUE\n258. TRUE\n259. TRUE\n260. TRUE\n261. TRUE\n262. TRUE\n263. TRUE\n264. FALSE\n265. FALSE\n266. FALSE\n267. TRUE\n268. TRUE\n269. TRUE\n270. TRUE\n271. TRUE\n272. TRUE\n273. FALSE\n274. FALSE\n275. TRUE\n276. TRUE\n277. TRUE\n278. TRUE\n279. TRUE\n280. TRUE\n281. FALSE\n282. TRUE\n283. TRUE\n284. TRUE\n285. TRUE\n286. FALSE\n287. TRUE\n288. TRUE\n289. TRUE\n290. TRUE\n291. TRUE\n292. FALSE\n293. TRUE\n294. TRUE\n295. TRUE\n296. TRUE\n297. TRUE\n298. TRUE\n299. FALSE\n300. TRUE\n301. TRUE\n302. FALSE\n303. TRUE\n304. TRUE\n305. FALSE\n306. TRUE\n307. FALSE\n308. TRUE\n309. TRUE\n310. FALSE\n311. TRUE\n312. TRUE\n313. TRUE\n314. TRUE\n315. TRUE\n316. FALSE\n317. TRUE\n318. TRUE\n319. TRUE\n320. TRUE\n321. TRUE\n322. TRUE\n323. TRUE\n324. FALSE\n325. TRUE\n326. FALSE\n327. TRUE\n328. TRUE\n329. TRUE\n330. TRUE\n331. TRUE\n332. FALSE\n333. TRUE\n334. TRUE\n335. TRUE\n336. TRUE\n337. TRUE\n338. TRUE\n339. FALSE\n340. TRUE\n341. FALSE\n342. TRUE\n343. FALSE\n344. TRUE\n345. TRUE\n346. TRUE\n347. FALSE\n348. TRUE\n349. TRUE\n350. TRUE\n351. TRUE\n352. TRUE\n353. FALSE\n354. TRUE\n355. TRUE\n356. TRUE\n357. TRUE\n358. TRUE\n359. TRUE\n360. TRUE\n361. TRUE\n362. TRUE\n363. FALSE\n364. FALSE\n365. TRUE\n366. TRUE\n367. FALSE\n368. FALSE\n369. FALSE\n370. TRUE\n371. TRUE\n372. FALSE\n373. FALSE\n374. TRUE\n375. TRUE\n376. TRUE\n377. TRUE\n378. TRUE\n379. TRUE\n380. FALSE\n381. TRUE\n382. TRUE\n383. FALSE\n384. TRUE\n385. TRUE\n386. TRUE\n387. TRUE\n388. TRUE\n389. FALSE\n390. TRUE\n391. TRUE\n392. FALSE\n393. TRUE\n394. TRUE\n395. FALSE\n396. TRUE\n397. TRUE\n398. TRUE\n399. TRUE\n400. FALSE\n\n\n",
            "text/html": [
              "<style>\n",
              ".list-inline {list-style: none; margin:0; padding: 0}\n",
              ".list-inline>li {display: inline-block}\n",
              ".list-inline>li:not(:last-child)::after {content: \"\\00b7\"; padding: 0 .5ex}\n",
              "</style>\n",
              "<ol class=list-inline><li>TRUE</li><li>FALSE</li><li>TRUE</li><li>FALSE</li><li>FALSE</li><li>TRUE</li><li>TRUE</li><li>TRUE</li><li>FALSE</li><li>TRUE</li><li>TRUE</li><li>FALSE</li><li>TRUE</li><li>TRUE</li><li>TRUE</li><li>TRUE</li><li>TRUE</li><li>FALSE</li><li>FALSE</li><li>FALSE</li><li>TRUE</li><li>FALSE</li><li>TRUE</li><li>TRUE</li><li>TRUE</li><li>TRUE</li><li>TRUE</li><li>TRUE</li><li>FALSE</li><li>TRUE</li><li>TRUE</li><li>FALSE</li><li>TRUE</li><li>FALSE</li><li>FALSE</li><li>TRUE</li><li>TRUE</li><li>FALSE</li><li>TRUE</li><li>TRUE</li><li>TRUE</li><li>TRUE</li><li>TRUE</li><li>TRUE</li><li>FALSE</li><li>FALSE</li><li>TRUE</li><li>FALSE</li><li>TRUE</li><li>TRUE</li><li>TRUE</li><li>FALSE</li><li>TRUE</li><li>TRUE</li><li>TRUE</li><li>TRUE</li><li>TRUE</li><li>TRUE</li><li>TRUE</li><li>TRUE</li><li>TRUE</li><li>TRUE</li><li>TRUE</li><li>TRUE</li><li>TRUE</li><li>FALSE</li><li>TRUE</li><li>TRUE</li><li>FALSE</li><li>TRUE</li><li>TRUE</li><li>TRUE</li><li>TRUE</li><li>FALSE</li><li>FALSE</li><li>TRUE</li><li>TRUE</li><li>TRUE</li><li>TRUE</li><li>TRUE</li><li>TRUE</li><li>FALSE</li><li>TRUE</li><li>FALSE</li><li>FALSE</li><li>FALSE</li><li>FALSE</li><li>TRUE</li><li>FALSE</li><li>TRUE</li><li>TRUE</li><li>TRUE</li><li>TRUE</li><li>TRUE</li><li>TRUE</li><li>TRUE</li><li>TRUE</li><li>TRUE</li><li>TRUE</li><li>TRUE</li><li>TRUE</li><li>TRUE</li><li>FALSE</li><li>FALSE</li><li>TRUE</li><li>TRUE</li><li>FALSE</li><li>FALSE</li><li>FALSE</li><li>TRUE</li><li>TRUE</li><li>TRUE</li><li>TRUE</li><li>TRUE</li><li>TRUE</li><li>TRUE</li><li>FALSE</li><li>TRUE</li><li>TRUE</li><li>TRUE</li><li>TRUE</li><li>TRUE</li><li>TRUE</li><li>FALSE</li><li>TRUE</li><li>FALSE</li><li>FALSE</li><li>TRUE</li><li>TRUE</li><li>TRUE</li><li>FALSE</li><li>TRUE</li><li>TRUE</li><li>FALSE</li><li>TRUE</li><li>TRUE</li><li>TRUE</li><li>TRUE</li><li>FALSE</li><li>TRUE</li><li>TRUE</li><li>TRUE</li><li>TRUE</li><li>TRUE</li><li>TRUE</li><li>TRUE</li><li>TRUE</li><li>FALSE</li><li>TRUE</li><li>TRUE</li><li>TRUE</li><li>TRUE</li><li>TRUE</li><li>FALSE</li><li>TRUE</li><li>FALSE</li><li>TRUE</li><li>TRUE</li><li>FALSE</li><li>TRUE</li><li>TRUE</li><li>FALSE</li><li>FALSE</li><li>TRUE</li><li>TRUE</li><li>TRUE</li><li>TRUE</li><li>TRUE</li><li>TRUE</li><li>FALSE</li><li>TRUE</li><li>TRUE</li><li>TRUE</li><li>TRUE</li><li>FALSE</li><li>FALSE</li><li>TRUE</li><li>TRUE</li><li>TRUE</li><li>TRUE</li><li>TRUE</li><li>TRUE</li><li>TRUE</li><li>TRUE</li><li>TRUE</li><li>TRUE</li><li>TRUE</li><li>TRUE</li><li>TRUE</li><li>TRUE</li><li>TRUE</li><li>TRUE</li><li>FALSE</li><li>TRUE</li><li>TRUE</li><li>TRUE</li><li>TRUE</li><li>TRUE</li><li>FALSE</li><li>FALSE</li><li>TRUE</li><li>TRUE</li><li>TRUE</li><li>TRUE</li><li>TRUE</li><li>TRUE</li><li>TRUE</li><li>FALSE</li><li>TRUE</li><li>TRUE</li><li>TRUE</li><li>TRUE</li><li>FALSE</li><li>TRUE</li><li>TRUE</li><li>TRUE</li><li>TRUE</li><li>TRUE</li><li>TRUE</li><li>TRUE</li><li>TRUE</li><li>TRUE</li><li>TRUE</li><li>FALSE</li><li>TRUE</li><li>FALSE</li><li>TRUE</li><li>FALSE</li><li>FALSE</li><li>FALSE</li><li>TRUE</li><li>TRUE</li><li>TRUE</li><li>FALSE</li><li>TRUE</li><li>FALSE</li><li>FALSE</li><li>TRUE</li><li>FALSE</li><li>TRUE</li><li>FALSE</li><li>TRUE</li><li>TRUE</li><li>TRUE</li><li>TRUE</li><li>TRUE</li><li>TRUE</li><li>TRUE</li><li>TRUE</li><li>TRUE</li><li>TRUE</li><li>TRUE</li><li>TRUE</li><li>TRUE</li><li>FALSE</li><li>TRUE</li><li>TRUE</li><li>TRUE</li><li>TRUE</li><li>TRUE</li><li>TRUE</li><li>TRUE</li><li>TRUE</li><li>FALSE</li><li>FALSE</li><li>FALSE</li><li>TRUE</li><li>TRUE</li><li>TRUE</li><li>TRUE</li><li>TRUE</li><li>TRUE</li><li>FALSE</li><li>FALSE</li><li>TRUE</li><li>TRUE</li><li>TRUE</li><li>TRUE</li><li>TRUE</li><li>TRUE</li><li>FALSE</li><li>TRUE</li><li>TRUE</li><li>TRUE</li><li>TRUE</li><li>FALSE</li><li>TRUE</li><li>TRUE</li><li>TRUE</li><li>TRUE</li><li>TRUE</li><li>FALSE</li><li>TRUE</li><li>TRUE</li><li>TRUE</li><li>TRUE</li><li>TRUE</li><li>TRUE</li><li>FALSE</li><li>TRUE</li><li>TRUE</li><li>FALSE</li><li>TRUE</li><li>TRUE</li><li>FALSE</li><li>TRUE</li><li>FALSE</li><li>TRUE</li><li>TRUE</li><li>FALSE</li><li>TRUE</li><li>TRUE</li><li>TRUE</li><li>TRUE</li><li>TRUE</li><li>FALSE</li><li>TRUE</li><li>TRUE</li><li>TRUE</li><li>TRUE</li><li>TRUE</li><li>TRUE</li><li>TRUE</li><li>FALSE</li><li>TRUE</li><li>FALSE</li><li>TRUE</li><li>TRUE</li><li>TRUE</li><li>TRUE</li><li>TRUE</li><li>FALSE</li><li>TRUE</li><li>TRUE</li><li>TRUE</li><li>TRUE</li><li>TRUE</li><li>TRUE</li><li>FALSE</li><li>TRUE</li><li>FALSE</li><li>TRUE</li><li>FALSE</li><li>TRUE</li><li>TRUE</li><li>TRUE</li><li>FALSE</li><li>TRUE</li><li>TRUE</li><li>TRUE</li><li>TRUE</li><li>TRUE</li><li>FALSE</li><li>TRUE</li><li>TRUE</li><li>TRUE</li><li>TRUE</li><li>TRUE</li><li>TRUE</li><li>TRUE</li><li>TRUE</li><li>TRUE</li><li>FALSE</li><li>FALSE</li><li>TRUE</li><li>TRUE</li><li>FALSE</li><li>FALSE</li><li>FALSE</li><li>TRUE</li><li>TRUE</li><li>FALSE</li><li>FALSE</li><li>TRUE</li><li>TRUE</li><li>TRUE</li><li>TRUE</li><li>TRUE</li><li>TRUE</li><li>FALSE</li><li>TRUE</li><li>TRUE</li><li>FALSE</li><li>TRUE</li><li>TRUE</li><li>TRUE</li><li>TRUE</li><li>TRUE</li><li>FALSE</li><li>TRUE</li><li>TRUE</li><li>FALSE</li><li>TRUE</li><li>TRUE</li><li>FALSE</li><li>TRUE</li><li>TRUE</li><li>TRUE</li><li>TRUE</li><li>FALSE</li></ol>\n"
            ]
          },
          "metadata": {}
        }
      ]
    },
    {
      "cell_type": "code",
      "metadata": {
        "colab": {
          "base_uri": "https://localhost:8080/",
          "height": 283
        },
        "id": "JObk674ceVzN",
        "outputId": "f3a8859b-7797-4e69-f73f-5429ddcb3044"
      },
      "source": [
        "head(training_set)"
      ],
      "execution_count": 54,
      "outputs": [
        {
          "output_type": "display_data",
          "data": {
            "text/plain": [
              "   Age EstimatedSalary Purchased Gender_Female Gender_Male\n",
              "1  19   19000          0         0             1          \n",
              "3  26   43000          0         1             0          \n",
              "6  27   58000          0         0             1          \n",
              "7  27   84000          0         1             0          \n",
              "8  32  150000          1         1             0          \n",
              "10 35   65000          0         1             0          "
            ],
            "text/latex": "A data.frame: 6 × 5\n\\begin{tabular}{r|lllll}\n  & Age & EstimatedSalary & Purchased & Gender\\_Female & Gender\\_Male\\\\\n  & <int> & <int> & <fct> & <int> & <int>\\\\\n\\hline\n\t1 & 19 &  19000 & 0 & 0 & 1\\\\\n\t3 & 26 &  43000 & 0 & 1 & 0\\\\\n\t6 & 27 &  58000 & 0 & 0 & 1\\\\\n\t7 & 27 &  84000 & 0 & 1 & 0\\\\\n\t8 & 32 & 150000 & 1 & 1 & 0\\\\\n\t10 & 35 &  65000 & 0 & 1 & 0\\\\\n\\end{tabular}\n",
            "text/markdown": "\nA data.frame: 6 × 5\n\n| <!--/--> | Age &lt;int&gt; | EstimatedSalary &lt;int&gt; | Purchased &lt;fct&gt; | Gender_Female &lt;int&gt; | Gender_Male &lt;int&gt; |\n|---|---|---|---|---|---|\n| 1 | 19 |  19000 | 0 | 0 | 1 |\n| 3 | 26 |  43000 | 0 | 1 | 0 |\n| 6 | 27 |  58000 | 0 | 0 | 1 |\n| 7 | 27 |  84000 | 0 | 1 | 0 |\n| 8 | 32 | 150000 | 1 | 1 | 0 |\n| 10 | 35 |  65000 | 0 | 1 | 0 |\n\n",
            "text/html": [
              "<table class=\"dataframe\">\n",
              "<caption>A data.frame: 6 × 5</caption>\n",
              "<thead>\n",
              "\t<tr><th></th><th scope=col>Age</th><th scope=col>EstimatedSalary</th><th scope=col>Purchased</th><th scope=col>Gender_Female</th><th scope=col>Gender_Male</th></tr>\n",
              "\t<tr><th></th><th scope=col>&lt;int&gt;</th><th scope=col>&lt;int&gt;</th><th scope=col>&lt;fct&gt;</th><th scope=col>&lt;int&gt;</th><th scope=col>&lt;int&gt;</th></tr>\n",
              "</thead>\n",
              "<tbody>\n",
              "\t<tr><th scope=row>1</th><td>19</td><td> 19000</td><td>0</td><td>0</td><td>1</td></tr>\n",
              "\t<tr><th scope=row>3</th><td>26</td><td> 43000</td><td>0</td><td>1</td><td>0</td></tr>\n",
              "\t<tr><th scope=row>6</th><td>27</td><td> 58000</td><td>0</td><td>0</td><td>1</td></tr>\n",
              "\t<tr><th scope=row>7</th><td>27</td><td> 84000</td><td>0</td><td>1</td><td>0</td></tr>\n",
              "\t<tr><th scope=row>8</th><td>32</td><td>150000</td><td>1</td><td>1</td><td>0</td></tr>\n",
              "\t<tr><th scope=row>10</th><td>35</td><td> 65000</td><td>0</td><td>1</td><td>0</td></tr>\n",
              "</tbody>\n",
              "</table>\n"
            ]
          },
          "metadata": {}
        }
      ]
    },
    {
      "cell_type": "code",
      "metadata": {
        "colab": {
          "base_uri": "https://localhost:8080/",
          "height": 283
        },
        "id": "gfnjdArbeY4D",
        "outputId": "e80f6524-cb4f-4d11-8caf-18a2630ccaa8"
      },
      "source": [
        "head(test_set)"
      ],
      "execution_count": 55,
      "outputs": [
        {
          "output_type": "display_data",
          "data": {
            "text/plain": [
              "   Age EstimatedSalary Purchased Gender_Female Gender_Male\n",
              "2  35  20000           0         0             1          \n",
              "4  27  57000           0         1             0          \n",
              "5  19  76000           0         0             1          \n",
              "9  25  33000           0         0             1          \n",
              "12 26  52000           0         1             0          \n",
              "18 45  26000           1         0             1          "
            ],
            "text/latex": "A data.frame: 6 × 5\n\\begin{tabular}{r|lllll}\n  & Age & EstimatedSalary & Purchased & Gender\\_Female & Gender\\_Male\\\\\n  & <int> & <int> & <fct> & <int> & <int>\\\\\n\\hline\n\t2 & 35 & 20000 & 0 & 0 & 1\\\\\n\t4 & 27 & 57000 & 0 & 1 & 0\\\\\n\t5 & 19 & 76000 & 0 & 0 & 1\\\\\n\t9 & 25 & 33000 & 0 & 0 & 1\\\\\n\t12 & 26 & 52000 & 0 & 1 & 0\\\\\n\t18 & 45 & 26000 & 1 & 0 & 1\\\\\n\\end{tabular}\n",
            "text/markdown": "\nA data.frame: 6 × 5\n\n| <!--/--> | Age &lt;int&gt; | EstimatedSalary &lt;int&gt; | Purchased &lt;fct&gt; | Gender_Female &lt;int&gt; | Gender_Male &lt;int&gt; |\n|---|---|---|---|---|---|\n| 2 | 35 | 20000 | 0 | 0 | 1 |\n| 4 | 27 | 57000 | 0 | 1 | 0 |\n| 5 | 19 | 76000 | 0 | 0 | 1 |\n| 9 | 25 | 33000 | 0 | 0 | 1 |\n| 12 | 26 | 52000 | 0 | 1 | 0 |\n| 18 | 45 | 26000 | 1 | 0 | 1 |\n\n",
            "text/html": [
              "<table class=\"dataframe\">\n",
              "<caption>A data.frame: 6 × 5</caption>\n",
              "<thead>\n",
              "\t<tr><th></th><th scope=col>Age</th><th scope=col>EstimatedSalary</th><th scope=col>Purchased</th><th scope=col>Gender_Female</th><th scope=col>Gender_Male</th></tr>\n",
              "\t<tr><th></th><th scope=col>&lt;int&gt;</th><th scope=col>&lt;int&gt;</th><th scope=col>&lt;fct&gt;</th><th scope=col>&lt;int&gt;</th><th scope=col>&lt;int&gt;</th></tr>\n",
              "</thead>\n",
              "<tbody>\n",
              "\t<tr><th scope=row>2</th><td>35</td><td>20000</td><td>0</td><td>0</td><td>1</td></tr>\n",
              "\t<tr><th scope=row>4</th><td>27</td><td>57000</td><td>0</td><td>1</td><td>0</td></tr>\n",
              "\t<tr><th scope=row>5</th><td>19</td><td>76000</td><td>0</td><td>0</td><td>1</td></tr>\n",
              "\t<tr><th scope=row>9</th><td>25</td><td>33000</td><td>0</td><td>0</td><td>1</td></tr>\n",
              "\t<tr><th scope=row>12</th><td>26</td><td>52000</td><td>0</td><td>1</td><td>0</td></tr>\n",
              "\t<tr><th scope=row>18</th><td>45</td><td>26000</td><td>1</td><td>0</td><td>1</td></tr>\n",
              "</tbody>\n",
              "</table>\n"
            ]
          },
          "metadata": {}
        }
      ]
    },
    {
      "cell_type": "code",
      "metadata": {
        "id": "o92KwXr1ego5"
      },
      "source": [
        "# Feature Scaling\n",
        "\n",
        "training_set[-3] = scale(training_set[-3])\n",
        "test_set[-3] = scale(test_set[-3])\n"
      ],
      "execution_count": 56,
      "outputs": []
    },
    {
      "cell_type": "code",
      "metadata": {
        "colab": {
          "base_uri": "https://localhost:8080/",
          "height": 283
        },
        "id": "pRRMMMyxepj_",
        "outputId": "5a5ac35b-f710-4850-a653-7c333e42cd6a"
      },
      "source": [
        "head(training_set)"
      ],
      "execution_count": 57,
      "outputs": [
        {
          "output_type": "display_data",
          "data": {
            "text/plain": [
              "   Age        EstimatedSalary Purchased Gender_Female Gender_Male\n",
              "1  -1.7655475 -1.4733414      0         -0.9916984     0.9916984 \n",
              "3  -1.0962966 -0.7883761      0          1.0050098    -1.0050098 \n",
              "6  -1.0006894 -0.3602727      0         -0.9916984     0.9916984 \n",
              "7  -1.0006894  0.3817730      0          1.0050098    -1.0050098 \n",
              "8  -0.5226531  2.2654277      1          1.0050098    -1.0050098 \n",
              "10 -0.2358313 -0.1604912      0          1.0050098    -1.0050098 "
            ],
            "text/latex": "A data.frame: 6 × 5\n\\begin{tabular}{r|lllll}\n  & Age & EstimatedSalary & Purchased & Gender\\_Female & Gender\\_Male\\\\\n  & <dbl> & <dbl> & <fct> & <dbl> & <dbl>\\\\\n\\hline\n\t1 & -1.7655475 & -1.4733414 & 0 & -0.9916984 &  0.9916984\\\\\n\t3 & -1.0962966 & -0.7883761 & 0 &  1.0050098 & -1.0050098\\\\\n\t6 & -1.0006894 & -0.3602727 & 0 & -0.9916984 &  0.9916984\\\\\n\t7 & -1.0006894 &  0.3817730 & 0 &  1.0050098 & -1.0050098\\\\\n\t8 & -0.5226531 &  2.2654277 & 1 &  1.0050098 & -1.0050098\\\\\n\t10 & -0.2358313 & -0.1604912 & 0 &  1.0050098 & -1.0050098\\\\\n\\end{tabular}\n",
            "text/markdown": "\nA data.frame: 6 × 5\n\n| <!--/--> | Age &lt;dbl&gt; | EstimatedSalary &lt;dbl&gt; | Purchased &lt;fct&gt; | Gender_Female &lt;dbl&gt; | Gender_Male &lt;dbl&gt; |\n|---|---|---|---|---|---|\n| 1 | -1.7655475 | -1.4733414 | 0 | -0.9916984 |  0.9916984 |\n| 3 | -1.0962966 | -0.7883761 | 0 |  1.0050098 | -1.0050098 |\n| 6 | -1.0006894 | -0.3602727 | 0 | -0.9916984 |  0.9916984 |\n| 7 | -1.0006894 |  0.3817730 | 0 |  1.0050098 | -1.0050098 |\n| 8 | -0.5226531 |  2.2654277 | 1 |  1.0050098 | -1.0050098 |\n| 10 | -0.2358313 | -0.1604912 | 0 |  1.0050098 | -1.0050098 |\n\n",
            "text/html": [
              "<table class=\"dataframe\">\n",
              "<caption>A data.frame: 6 × 5</caption>\n",
              "<thead>\n",
              "\t<tr><th></th><th scope=col>Age</th><th scope=col>EstimatedSalary</th><th scope=col>Purchased</th><th scope=col>Gender_Female</th><th scope=col>Gender_Male</th></tr>\n",
              "\t<tr><th></th><th scope=col>&lt;dbl&gt;</th><th scope=col>&lt;dbl&gt;</th><th scope=col>&lt;fct&gt;</th><th scope=col>&lt;dbl&gt;</th><th scope=col>&lt;dbl&gt;</th></tr>\n",
              "</thead>\n",
              "<tbody>\n",
              "\t<tr><th scope=row>1</th><td>-1.7655475</td><td>-1.4733414</td><td>0</td><td>-0.9916984</td><td> 0.9916984</td></tr>\n",
              "\t<tr><th scope=row>3</th><td>-1.0962966</td><td>-0.7883761</td><td>0</td><td> 1.0050098</td><td>-1.0050098</td></tr>\n",
              "\t<tr><th scope=row>6</th><td>-1.0006894</td><td>-0.3602727</td><td>0</td><td>-0.9916984</td><td> 0.9916984</td></tr>\n",
              "\t<tr><th scope=row>7</th><td>-1.0006894</td><td> 0.3817730</td><td>0</td><td> 1.0050098</td><td>-1.0050098</td></tr>\n",
              "\t<tr><th scope=row>8</th><td>-0.5226531</td><td> 2.2654277</td><td>1</td><td> 1.0050098</td><td>-1.0050098</td></tr>\n",
              "\t<tr><th scope=row>10</th><td>-0.2358313</td><td>-0.1604912</td><td>0</td><td> 1.0050098</td><td>-1.0050098</td></tr>\n",
              "</tbody>\n",
              "</table>\n"
            ]
          },
          "metadata": {}
        }
      ]
    },
    {
      "cell_type": "code",
      "metadata": {
        "colab": {
          "base_uri": "https://localhost:8080/",
          "height": 283
        },
        "id": "LbvBcLj6eulo",
        "outputId": "2a057a0c-0179-4851-c887-79478ff7e574"
      },
      "source": [
        "head(test_set)"
      ],
      "execution_count": 58,
      "outputs": [
        {
          "output_type": "display_data",
          "data": {
            "text/plain": [
              "   Age        EstimatedSalary Purchased Gender_Female Gender_Male\n",
              "2  -0.3041906 -1.5135434      0         -1.1           1.1       \n",
              "4  -1.0599437 -0.3245603      0          0.9          -0.9       \n",
              "5  -1.8156969  0.2859986      0         -1.1           1.1       \n",
              "9  -1.2488820 -1.0957926      0         -1.1           1.1       \n",
              "12 -1.1544129 -0.4852337      0          0.9          -0.9       \n",
              "18  0.6405008 -1.3207353      1         -1.1           1.1       "
            ],
            "text/latex": "A data.frame: 6 × 5\n\\begin{tabular}{r|lllll}\n  & Age & EstimatedSalary & Purchased & Gender\\_Female & Gender\\_Male\\\\\n  & <dbl> & <dbl> & <fct> & <dbl> & <dbl>\\\\\n\\hline\n\t2 & -0.3041906 & -1.5135434 & 0 & -1.1 &  1.1\\\\\n\t4 & -1.0599437 & -0.3245603 & 0 &  0.9 & -0.9\\\\\n\t5 & -1.8156969 &  0.2859986 & 0 & -1.1 &  1.1\\\\\n\t9 & -1.2488820 & -1.0957926 & 0 & -1.1 &  1.1\\\\\n\t12 & -1.1544129 & -0.4852337 & 0 &  0.9 & -0.9\\\\\n\t18 &  0.6405008 & -1.3207353 & 1 & -1.1 &  1.1\\\\\n\\end{tabular}\n",
            "text/markdown": "\nA data.frame: 6 × 5\n\n| <!--/--> | Age &lt;dbl&gt; | EstimatedSalary &lt;dbl&gt; | Purchased &lt;fct&gt; | Gender_Female &lt;dbl&gt; | Gender_Male &lt;dbl&gt; |\n|---|---|---|---|---|---|\n| 2 | -0.3041906 | -1.5135434 | 0 | -1.1 |  1.1 |\n| 4 | -1.0599437 | -0.3245603 | 0 |  0.9 | -0.9 |\n| 5 | -1.8156969 |  0.2859986 | 0 | -1.1 |  1.1 |\n| 9 | -1.2488820 | -1.0957926 | 0 | -1.1 |  1.1 |\n| 12 | -1.1544129 | -0.4852337 | 0 |  0.9 | -0.9 |\n| 18 |  0.6405008 | -1.3207353 | 1 | -1.1 |  1.1 |\n\n",
            "text/html": [
              "<table class=\"dataframe\">\n",
              "<caption>A data.frame: 6 × 5</caption>\n",
              "<thead>\n",
              "\t<tr><th></th><th scope=col>Age</th><th scope=col>EstimatedSalary</th><th scope=col>Purchased</th><th scope=col>Gender_Female</th><th scope=col>Gender_Male</th></tr>\n",
              "\t<tr><th></th><th scope=col>&lt;dbl&gt;</th><th scope=col>&lt;dbl&gt;</th><th scope=col>&lt;fct&gt;</th><th scope=col>&lt;dbl&gt;</th><th scope=col>&lt;dbl&gt;</th></tr>\n",
              "</thead>\n",
              "<tbody>\n",
              "\t<tr><th scope=row>2</th><td>-0.3041906</td><td>-1.5135434</td><td>0</td><td>-1.1</td><td> 1.1</td></tr>\n",
              "\t<tr><th scope=row>4</th><td>-1.0599437</td><td>-0.3245603</td><td>0</td><td> 0.9</td><td>-0.9</td></tr>\n",
              "\t<tr><th scope=row>5</th><td>-1.8156969</td><td> 0.2859986</td><td>0</td><td>-1.1</td><td> 1.1</td></tr>\n",
              "\t<tr><th scope=row>9</th><td>-1.2488820</td><td>-1.0957926</td><td>0</td><td>-1.1</td><td> 1.1</td></tr>\n",
              "\t<tr><th scope=row>12</th><td>-1.1544129</td><td>-0.4852337</td><td>0</td><td> 0.9</td><td>-0.9</td></tr>\n",
              "\t<tr><th scope=row>18</th><td> 0.6405008</td><td>-1.3207353</td><td>1</td><td>-1.1</td><td> 1.1</td></tr>\n",
              "</tbody>\n",
              "</table>\n"
            ]
          },
          "metadata": {}
        }
      ]
    },
    {
      "cell_type": "code",
      "metadata": {
        "colab": {
          "base_uri": "https://localhost:8080/"
        },
        "id": "ZqIYrn-6fCmw",
        "outputId": "4cccb0ce-820f-4947-ea6d-0726dea3a53c"
      },
      "source": [
        "install.packages('e1071')\n",
        "library(e1071)"
      ],
      "execution_count": 59,
      "outputs": [
        {
          "output_type": "stream",
          "name": "stderr",
          "text": [
            "Installing package into ‘/usr/local/lib/R/site-library’\n",
            "(as ‘lib’ is unspecified)\n",
            "\n"
          ]
        }
      ]
    },
    {
      "cell_type": "code",
      "metadata": {
        "id": "z2Jl8M6dez1l"
      },
      "source": [
        "# Fitting SVM to the Training set\n",
        "\n",
        "classifier = svm(Purchased ~ .,\n",
        "\t\t\t\tdata = training_set,\n",
        "\t\t\t\ttype = 'C-classification',\n",
        "\t\t\t\tkernel = 'linear')\n"
      ],
      "execution_count": 60,
      "outputs": []
    },
    {
      "cell_type": "code",
      "metadata": {
        "colab": {
          "base_uri": "https://localhost:8080/",
          "height": 391
        },
        "id": "JGZxergcpHwt",
        "outputId": "ee394a61-a2e2-4222-ffab-a4ee4098ff28"
      },
      "source": [
        "summary(classifier)"
      ],
      "execution_count": 61,
      "outputs": [
        {
          "output_type": "display_data",
          "data": {
            "text/plain": [
              "\n",
              "Call:\n",
              "svm(formula = Purchased ~ ., data = training_set, type = \"C-classification\", \n",
              "    kernel = \"linear\")\n",
              "\n",
              "\n",
              "Parameters:\n",
              "   SVM-Type:  C-classification \n",
              " SVM-Kernel:  linear \n",
              "       cost:  1 \n",
              "\n",
              "Number of Support Vectors:  116\n",
              "\n",
              " ( 58 58 )\n",
              "\n",
              "\n",
              "Number of Classes:  2 \n",
              "\n",
              "Levels: \n",
              " 0 1\n",
              "\n",
              "\n"
            ]
          },
          "metadata": {}
        }
      ]
    },
    {
      "cell_type": "code",
      "metadata": {
        "id": "dnEHSP7pfeSp"
      },
      "source": [
        "# Predicting the Test set results\n",
        "\n",
        "y_pred = predict(classifier, newdata = test_set[-3], type=\"class\")\n"
      ],
      "execution_count": 62,
      "outputs": []
    },
    {
      "cell_type": "code",
      "metadata": {
        "colab": {
          "base_uri": "https://localhost:8080/",
          "height": 153
        },
        "id": "S9Kj2m0hfoaA",
        "outputId": "0b844926-8d49-4b0d-edf9-e13efb624716"
      },
      "source": [
        "y_pred"
      ],
      "execution_count": 63,
      "outputs": [
        {
          "output_type": "display_data",
          "data": {
            "text/plain": [
              "  2   4   5   9  12  18  19  20  22  29  32  34  35  38  45  46  48  52  66  69 \n",
              "  0   0   0   0   0   0   0   0   0   0   0   0   0   0   0   0   0   0   0   0 \n",
              " 74  75  82  84  85  86  87  89 103 104 107 108 109 117 124 126 127 131 134 139 \n",
              "  0   0   0   0   0   0   0   0   0   1   0   0   0   0   0   0   0   0   0   0 \n",
              "148 154 156 159 162 163 170 175 176 193 199 200 208 213 224 226 228 229 230 234 \n",
              "  0   0   0   0   0   0   0   0   0   0   0   0   1   1   1   0   1   0   0   1 \n",
              "236 237 239 241 255 264 265 266 273 274 281 286 292 299 302 305 307 310 316 324 \n",
              "  1   0   1   1   1   0   1   1   1   1   1   0   1   1   1   0   1   0   0   0 \n",
              "326 332 339 341 343 347 353 363 364 367 368 369 372 373 380 383 389 392 395 400 \n",
              "  0   1   0   1   0   1   1   0   0   1   1   0   1   0   1   1   0   0   0   0 \n",
              "Levels: 0 1"
            ],
            "text/latex": "\\begin{description*}\n\\item[2] 0\n\\item[4] 0\n\\item[5] 0\n\\item[9] 0\n\\item[12] 0\n\\item[18] 0\n\\item[19] 0\n\\item[20] 0\n\\item[22] 0\n\\item[29] 0\n\\item[32] 0\n\\item[34] 0\n\\item[35] 0\n\\item[38] 0\n\\item[45] 0\n\\item[46] 0\n\\item[48] 0\n\\item[52] 0\n\\item[66] 0\n\\item[69] 0\n\\item[74] 0\n\\item[75] 0\n\\item[82] 0\n\\item[84] 0\n\\item[85] 0\n\\item[86] 0\n\\item[87] 0\n\\item[89] 0\n\\item[103] 0\n\\item[104] 1\n\\item[107] 0\n\\item[108] 0\n\\item[109] 0\n\\item[117] 0\n\\item[124] 0\n\\item[126] 0\n\\item[127] 0\n\\item[131] 0\n\\item[134] 0\n\\item[139] 0\n\\item[148] 0\n\\item[154] 0\n\\item[156] 0\n\\item[159] 0\n\\item[162] 0\n\\item[163] 0\n\\item[170] 0\n\\item[175] 0\n\\item[176] 0\n\\item[193] 0\n\\item[199] 0\n\\item[200] 0\n\\item[208] 1\n\\item[213] 1\n\\item[224] 1\n\\item[226] 0\n\\item[228] 1\n\\item[229] 0\n\\item[230] 0\n\\item[234] 1\n\\item[236] 1\n\\item[237] 0\n\\item[239] 1\n\\item[241] 1\n\\item[255] 1\n\\item[264] 0\n\\item[265] 1\n\\item[266] 1\n\\item[273] 1\n\\item[274] 1\n\\item[281] 1\n\\item[286] 0\n\\item[292] 1\n\\item[299] 1\n\\item[302] 1\n\\item[305] 0\n\\item[307] 1\n\\item[310] 0\n\\item[316] 0\n\\item[324] 0\n\\item[326] 0\n\\item[332] 1\n\\item[339] 0\n\\item[341] 1\n\\item[343] 0\n\\item[347] 1\n\\item[353] 1\n\\item[363] 0\n\\item[364] 0\n\\item[367] 1\n\\item[368] 1\n\\item[369] 0\n\\item[372] 1\n\\item[373] 0\n\\item[380] 1\n\\item[383] 1\n\\item[389] 0\n\\item[392] 0\n\\item[395] 0\n\\item[400] 0\n\\end{description*}\n\n\\emph{Levels}: \\begin{enumerate*}\n\\item '0'\n\\item '1'\n\\end{enumerate*}\n",
            "text/markdown": "2\n:   04\n:   05\n:   09\n:   012\n:   018\n:   019\n:   020\n:   022\n:   029\n:   032\n:   034\n:   035\n:   038\n:   045\n:   046\n:   048\n:   052\n:   066\n:   069\n:   074\n:   075\n:   082\n:   084\n:   085\n:   086\n:   087\n:   089\n:   0103\n:   0104\n:   1107\n:   0108\n:   0109\n:   0117\n:   0124\n:   0126\n:   0127\n:   0131\n:   0134\n:   0139\n:   0148\n:   0154\n:   0156\n:   0159\n:   0162\n:   0163\n:   0170\n:   0175\n:   0176\n:   0193\n:   0199\n:   0200\n:   0208\n:   1213\n:   1224\n:   1226\n:   0228\n:   1229\n:   0230\n:   0234\n:   1236\n:   1237\n:   0239\n:   1241\n:   1255\n:   1264\n:   0265\n:   1266\n:   1273\n:   1274\n:   1281\n:   1286\n:   0292\n:   1299\n:   1302\n:   1305\n:   0307\n:   1310\n:   0316\n:   0324\n:   0326\n:   0332\n:   1339\n:   0341\n:   1343\n:   0347\n:   1353\n:   1363\n:   0364\n:   0367\n:   1368\n:   1369\n:   0372\n:   1373\n:   0380\n:   1383\n:   1389\n:   0392\n:   0395\n:   0400\n:   0\n\n\n**Levels**: 1. '0'\n2. '1'\n\n\n",
            "text/html": [
              "<style>\n",
              ".dl-inline {width: auto; margin:0; padding: 0}\n",
              ".dl-inline>dt, .dl-inline>dd {float: none; width: auto; display: inline-block}\n",
              ".dl-inline>dt::after {content: \":\\0020\"; padding-right: .5ex}\n",
              ".dl-inline>dt:not(:first-of-type) {padding-left: .5ex}\n",
              "</style><dl class=dl-inline><dt>2</dt><dd>0</dd><dt>4</dt><dd>0</dd><dt>5</dt><dd>0</dd><dt>9</dt><dd>0</dd><dt>12</dt><dd>0</dd><dt>18</dt><dd>0</dd><dt>19</dt><dd>0</dd><dt>20</dt><dd>0</dd><dt>22</dt><dd>0</dd><dt>29</dt><dd>0</dd><dt>32</dt><dd>0</dd><dt>34</dt><dd>0</dd><dt>35</dt><dd>0</dd><dt>38</dt><dd>0</dd><dt>45</dt><dd>0</dd><dt>46</dt><dd>0</dd><dt>48</dt><dd>0</dd><dt>52</dt><dd>0</dd><dt>66</dt><dd>0</dd><dt>69</dt><dd>0</dd><dt>74</dt><dd>0</dd><dt>75</dt><dd>0</dd><dt>82</dt><dd>0</dd><dt>84</dt><dd>0</dd><dt>85</dt><dd>0</dd><dt>86</dt><dd>0</dd><dt>87</dt><dd>0</dd><dt>89</dt><dd>0</dd><dt>103</dt><dd>0</dd><dt>104</dt><dd>1</dd><dt>107</dt><dd>0</dd><dt>108</dt><dd>0</dd><dt>109</dt><dd>0</dd><dt>117</dt><dd>0</dd><dt>124</dt><dd>0</dd><dt>126</dt><dd>0</dd><dt>127</dt><dd>0</dd><dt>131</dt><dd>0</dd><dt>134</dt><dd>0</dd><dt>139</dt><dd>0</dd><dt>148</dt><dd>0</dd><dt>154</dt><dd>0</dd><dt>156</dt><dd>0</dd><dt>159</dt><dd>0</dd><dt>162</dt><dd>0</dd><dt>163</dt><dd>0</dd><dt>170</dt><dd>0</dd><dt>175</dt><dd>0</dd><dt>176</dt><dd>0</dd><dt>193</dt><dd>0</dd><dt>199</dt><dd>0</dd><dt>200</dt><dd>0</dd><dt>208</dt><dd>1</dd><dt>213</dt><dd>1</dd><dt>224</dt><dd>1</dd><dt>226</dt><dd>0</dd><dt>228</dt><dd>1</dd><dt>229</dt><dd>0</dd><dt>230</dt><dd>0</dd><dt>234</dt><dd>1</dd><dt>236</dt><dd>1</dd><dt>237</dt><dd>0</dd><dt>239</dt><dd>1</dd><dt>241</dt><dd>1</dd><dt>255</dt><dd>1</dd><dt>264</dt><dd>0</dd><dt>265</dt><dd>1</dd><dt>266</dt><dd>1</dd><dt>273</dt><dd>1</dd><dt>274</dt><dd>1</dd><dt>281</dt><dd>1</dd><dt>286</dt><dd>0</dd><dt>292</dt><dd>1</dd><dt>299</dt><dd>1</dd><dt>302</dt><dd>1</dd><dt>305</dt><dd>0</dd><dt>307</dt><dd>1</dd><dt>310</dt><dd>0</dd><dt>316</dt><dd>0</dd><dt>324</dt><dd>0</dd><dt>326</dt><dd>0</dd><dt>332</dt><dd>1</dd><dt>339</dt><dd>0</dd><dt>341</dt><dd>1</dd><dt>343</dt><dd>0</dd><dt>347</dt><dd>1</dd><dt>353</dt><dd>1</dd><dt>363</dt><dd>0</dd><dt>364</dt><dd>0</dd><dt>367</dt><dd>1</dd><dt>368</dt><dd>1</dd><dt>369</dt><dd>0</dd><dt>372</dt><dd>1</dd><dt>373</dt><dd>0</dd><dt>380</dt><dd>1</dd><dt>383</dt><dd>1</dd><dt>389</dt><dd>0</dd><dt>392</dt><dd>0</dd><dt>395</dt><dd>0</dd><dt>400</dt><dd>0</dd></dl>\n",
              "\n",
              "<details>\n",
              "\t<summary style=display:list-item;cursor:pointer>\n",
              "\t\t<strong>Levels</strong>:\n",
              "\t</summary>\n",
              "\t<style>\n",
              "\t.list-inline {list-style: none; margin:0; padding: 0}\n",
              "\t.list-inline>li {display: inline-block}\n",
              "\t.list-inline>li:not(:last-child)::after {content: \"\\00b7\"; padding: 0 .5ex}\n",
              "\t</style>\n",
              "\t<ol class=list-inline><li>'0'</li><li>'1'</li></ol>\n",
              "</details>"
            ]
          },
          "metadata": {}
        }
      ]
    },
    {
      "cell_type": "code",
      "metadata": {
        "colab": {
          "base_uri": "https://localhost:8080/",
          "height": 85
        },
        "id": "g6V1AICIf4RY",
        "outputId": "4441a64b-d6df-4cc5-cee0-74401702bc91"
      },
      "source": [
        "# Making the Confusion Matrix\n",
        "cm = table(test_set[, 3], y_pred, dnn=c(\"Actual\",\"Predicted\"))\n",
        "cm\n"
      ],
      "execution_count": 64,
      "outputs": [
        {
          "output_type": "display_data",
          "data": {
            "text/plain": [
              "      Predicted\n",
              "Actual  0  1\n",
              "     0 58  6\n",
              "     1 14 22"
            ]
          },
          "metadata": {}
        }
      ]
    },
    {
      "cell_type": "markdown",
      "metadata": {
        "id": "4AETUb-A2wDQ"
      },
      "source": [
        "#####The accuracy turns out to be 80%"
      ]
    },
    {
      "cell_type": "markdown",
      "metadata": {
        "id": "L5lcWvHT2uGM"
      },
      "source": [
        ""
      ]
    },
    {
      "cell_type": "code",
      "metadata": {
        "colab": {
          "base_uri": "https://localhost:8080/"
        },
        "id": "eGevUrZBqEWP",
        "outputId": "ed630f24-08de-44f1-f025-3c41b5dd546e"
      },
      "source": [
        "#Now let's tune the SVM parameters to get a better accuracy on the training dataset\n",
        "svm_tune <- tune(svm, train.x=training_set[,-3], train.y=training_set$Purchased, \n",
        "            kernel=\"radial\", ranges=list(cost=10^(-1:2), gamma=c(.5,1,2)))\n",
        "print(svm_tune)"
      ],
      "execution_count": 65,
      "outputs": [
        {
          "output_type": "stream",
          "name": "stdout",
          "text": [
            "\n",
            "Parameter tuning of ‘svm’:\n",
            "\n",
            "- sampling method: 10-fold cross validation \n",
            "\n",
            "- best parameters:\n",
            " cost gamma\n",
            "    1     2\n",
            "\n",
            "- best performance: 0.08333333 \n",
            "\n"
          ]
        }
      ]
    },
    {
      "cell_type": "code",
      "metadata": {
        "colab": {
          "base_uri": "https://localhost:8080/",
          "height": 391
        },
        "id": "B0AxrnkorMo8",
        "outputId": "cea7b643-9403-45fb-8a11-e5e185dd72b4"
      },
      "source": [
        "#Gives an optimal cost to be 10 and a gamma value of 0.5\n",
        "\n",
        "svm_model_after_tune <- svm(Purchased ~ ., data=training_set, type='C-classification',kernel=\"radial\", cost=10, gamma=0.5)\n",
        "summary(svm_model_after_tune)"
      ],
      "execution_count": 66,
      "outputs": [
        {
          "output_type": "display_data",
          "data": {
            "text/plain": [
              "\n",
              "Call:\n",
              "svm(formula = Purchased ~ ., data = training_set, type = \"C-classification\", \n",
              "    kernel = \"radial\", cost = 10, gamma = 0.5)\n",
              "\n",
              "\n",
              "Parameters:\n",
              "   SVM-Type:  C-classification \n",
              " SVM-Kernel:  radial \n",
              "       cost:  10 \n",
              "\n",
              "Number of Support Vectors:  72\n",
              "\n",
              " ( 37 35 )\n",
              "\n",
              "\n",
              "Number of Classes:  2 \n",
              "\n",
              "Levels: \n",
              " 0 1\n",
              "\n",
              "\n"
            ]
          },
          "metadata": {}
        }
      ]
    },
    {
      "cell_type": "code",
      "metadata": {
        "id": "OMA5OCn5rn2B"
      },
      "source": [
        "pred <- predict(svm_model_after_tune, newdata = test_set[-3])"
      ],
      "execution_count": 67,
      "outputs": []
    },
    {
      "cell_type": "code",
      "metadata": {
        "colab": {
          "base_uri": "https://localhost:8080/",
          "height": 85
        },
        "id": "z92MIFqusQM2",
        "outputId": "982f0444-0ce4-4881-af48-4d692bd9d9b8"
      },
      "source": [
        "table(test_set[, 3], pred, dnn=c(\"Actual\",\"Predicted\"))"
      ],
      "execution_count": 68,
      "outputs": [
        {
          "output_type": "display_data",
          "data": {
            "text/plain": [
              "      Predicted\n",
              "Actual  0  1\n",
              "     0 57  7\n",
              "     1  4 32"
            ]
          },
          "metadata": {}
        }
      ]
    },
    {
      "cell_type": "markdown",
      "metadata": {
        "id": "I41FqSpi2cQN"
      },
      "source": [
        "#####The results show us that there is an improved accuracy of about 89%, results are obtained in the form of a confusion matrix\n",
        "#####False positive(FP) count is reduced"
      ]
    }
  ]
}